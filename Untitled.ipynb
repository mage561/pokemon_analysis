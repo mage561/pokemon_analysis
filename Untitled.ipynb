{
 "cells": [
  {
   "cell_type": "code",
   "execution_count": 59,
   "id": "5cd8f438",
   "metadata": {},
   "outputs": [],
   "source": [
    "import yaml\n",
    "import numpy as np\n",
    "import pandas as pd\n",
    "import plotly.express as px\n",
    "import plotly.graph_objects as go"
   ]
  },
  {
   "cell_type": "code",
   "execution_count": 152,
   "id": "c93ce909",
   "metadata": {},
   "outputs": [
    {
     "data": {
      "text/plain": [
       "Index(['pokemonid', 'formid', 'formname', 'gen', 'release', 'type1', 'type2',\n",
       "       'stats', 'species', 'height', 'weight', 'gender', 'catch-rate',\n",
       "       'base-exp', 'egg-cycles', 'friendship', 'growth-rate', 'ev-yield'],\n",
       "      dtype='object')"
      ]
     },
     "execution_count": 152,
     "metadata": {},
     "output_type": "execute_result"
    }
   ],
   "source": [
    "with open(\"./data/pokemon-forms.yaml\", 'r') as file:\n",
    "    data = yaml.safe_load(file)\n",
    "data_list = [value for value in data.values()]\n",
    "df = pd.DataFrame(data_list)\n",
    "df.columns"
   ]
  },
  {
   "cell_type": "code",
   "execution_count": 158,
   "id": "4ce6a2f8",
   "metadata": {},
   "outputs": [],
   "source": [
    "colors = {\n",
    "    \"normal\": \"#A8A77A\",\n",
    "    \"fighting\": \"#C22E28\",\n",
    "    \"flying\": \"#A98FF3\",\n",
    "    \"poison\": \"#A33EA1\",\n",
    "    \"ground\": \"#E2BF65\",\n",
    "    \"rock\": \"#B6A136\",\n",
    "    \"bug\": \"#A6B91A\",\n",
    "    \"ghost\": \"#735797\",\n",
    "    \"steel\": \"#B7B7CE\",\n",
    "    \"fire\": \"#EE8130\",\n",
    "    \"water\": \"#6390F0\",\n",
    "    \"grass\": \"#7AC74C\",\n",
    "    \"electric\": \"#F7D02C\",\n",
    "    \"psychic\": \"#F95587\",\n",
    "    \"ice\": \"#96D9D6\",\n",
    "    \"dragon\": \"#6F35FC\",\n",
    "    \"dark\": \"#705746\",\n",
    "    \"fairy\": \"#D685AD\"\n",
    "}"
   ]
  },
  {
   "cell_type": "code",
   "execution_count": 194,
   "id": "b8f443dc",
   "metadata": {},
   "outputs": [
    {
     "data": {
      "application/vnd.plotly.v1+json": {
       "config": {
        "plotlyServerURL": "https://plot.ly"
       },
       "data": [
        {
         "fill": "toself",
         "fillcolor": "#7AC74C",
         "line": {
          "color": "#A33EA1"
         },
         "name": "bulbasaur",
         "opacity": 0.5,
         "r": [
          60,
          62,
          63,
          80,
          80,
          60
         ],
         "theta": [
          "hp",
          "attack",
          "defense",
          "spatk",
          "spdef",
          "speed"
         ],
         "type": "scatterpolar"
        }
       ],
       "layout": {
        "annotations": [
         {
          "showarrow": false,
          "text": "Name: ivysaur",
          "x": 0,
          "y": 0.8
         },
         {
          "showarrow": false,
          "text": "Types: grass - poison",
          "x": 0,
          "y": 0.7
         },
         {
          "showarrow": false,
          "text": "Catch-rate: 45.0",
          "x": 0,
          "y": 0.56
         }
        ],
        "template": {
         "data": {
          "bar": [
           {
            "error_x": {
             "color": "#2a3f5f"
            },
            "error_y": {
             "color": "#2a3f5f"
            },
            "marker": {
             "line": {
              "color": "#E5ECF6",
              "width": 0.5
             },
             "pattern": {
              "fillmode": "overlay",
              "size": 10,
              "solidity": 0.2
             }
            },
            "type": "bar"
           }
          ],
          "barpolar": [
           {
            "marker": {
             "line": {
              "color": "#E5ECF6",
              "width": 0.5
             },
             "pattern": {
              "fillmode": "overlay",
              "size": 10,
              "solidity": 0.2
             }
            },
            "type": "barpolar"
           }
          ],
          "carpet": [
           {
            "aaxis": {
             "endlinecolor": "#2a3f5f",
             "gridcolor": "white",
             "linecolor": "white",
             "minorgridcolor": "white",
             "startlinecolor": "#2a3f5f"
            },
            "baxis": {
             "endlinecolor": "#2a3f5f",
             "gridcolor": "white",
             "linecolor": "white",
             "minorgridcolor": "white",
             "startlinecolor": "#2a3f5f"
            },
            "type": "carpet"
           }
          ],
          "choropleth": [
           {
            "colorbar": {
             "outlinewidth": 0,
             "ticks": ""
            },
            "type": "choropleth"
           }
          ],
          "contour": [
           {
            "colorbar": {
             "outlinewidth": 0,
             "ticks": ""
            },
            "colorscale": [
             [
              0,
              "#0d0887"
             ],
             [
              0.1111111111111111,
              "#46039f"
             ],
             [
              0.2222222222222222,
              "#7201a8"
             ],
             [
              0.3333333333333333,
              "#9c179e"
             ],
             [
              0.4444444444444444,
              "#bd3786"
             ],
             [
              0.5555555555555556,
              "#d8576b"
             ],
             [
              0.6666666666666666,
              "#ed7953"
             ],
             [
              0.7777777777777778,
              "#fb9f3a"
             ],
             [
              0.8888888888888888,
              "#fdca26"
             ],
             [
              1,
              "#f0f921"
             ]
            ],
            "type": "contour"
           }
          ],
          "contourcarpet": [
           {
            "colorbar": {
             "outlinewidth": 0,
             "ticks": ""
            },
            "type": "contourcarpet"
           }
          ],
          "heatmap": [
           {
            "colorbar": {
             "outlinewidth": 0,
             "ticks": ""
            },
            "colorscale": [
             [
              0,
              "#0d0887"
             ],
             [
              0.1111111111111111,
              "#46039f"
             ],
             [
              0.2222222222222222,
              "#7201a8"
             ],
             [
              0.3333333333333333,
              "#9c179e"
             ],
             [
              0.4444444444444444,
              "#bd3786"
             ],
             [
              0.5555555555555556,
              "#d8576b"
             ],
             [
              0.6666666666666666,
              "#ed7953"
             ],
             [
              0.7777777777777778,
              "#fb9f3a"
             ],
             [
              0.8888888888888888,
              "#fdca26"
             ],
             [
              1,
              "#f0f921"
             ]
            ],
            "type": "heatmap"
           }
          ],
          "heatmapgl": [
           {
            "colorbar": {
             "outlinewidth": 0,
             "ticks": ""
            },
            "colorscale": [
             [
              0,
              "#0d0887"
             ],
             [
              0.1111111111111111,
              "#46039f"
             ],
             [
              0.2222222222222222,
              "#7201a8"
             ],
             [
              0.3333333333333333,
              "#9c179e"
             ],
             [
              0.4444444444444444,
              "#bd3786"
             ],
             [
              0.5555555555555556,
              "#d8576b"
             ],
             [
              0.6666666666666666,
              "#ed7953"
             ],
             [
              0.7777777777777778,
              "#fb9f3a"
             ],
             [
              0.8888888888888888,
              "#fdca26"
             ],
             [
              1,
              "#f0f921"
             ]
            ],
            "type": "heatmapgl"
           }
          ],
          "histogram": [
           {
            "marker": {
             "pattern": {
              "fillmode": "overlay",
              "size": 10,
              "solidity": 0.2
             }
            },
            "type": "histogram"
           }
          ],
          "histogram2d": [
           {
            "colorbar": {
             "outlinewidth": 0,
             "ticks": ""
            },
            "colorscale": [
             [
              0,
              "#0d0887"
             ],
             [
              0.1111111111111111,
              "#46039f"
             ],
             [
              0.2222222222222222,
              "#7201a8"
             ],
             [
              0.3333333333333333,
              "#9c179e"
             ],
             [
              0.4444444444444444,
              "#bd3786"
             ],
             [
              0.5555555555555556,
              "#d8576b"
             ],
             [
              0.6666666666666666,
              "#ed7953"
             ],
             [
              0.7777777777777778,
              "#fb9f3a"
             ],
             [
              0.8888888888888888,
              "#fdca26"
             ],
             [
              1,
              "#f0f921"
             ]
            ],
            "type": "histogram2d"
           }
          ],
          "histogram2dcontour": [
           {
            "colorbar": {
             "outlinewidth": 0,
             "ticks": ""
            },
            "colorscale": [
             [
              0,
              "#0d0887"
             ],
             [
              0.1111111111111111,
              "#46039f"
             ],
             [
              0.2222222222222222,
              "#7201a8"
             ],
             [
              0.3333333333333333,
              "#9c179e"
             ],
             [
              0.4444444444444444,
              "#bd3786"
             ],
             [
              0.5555555555555556,
              "#d8576b"
             ],
             [
              0.6666666666666666,
              "#ed7953"
             ],
             [
              0.7777777777777778,
              "#fb9f3a"
             ],
             [
              0.8888888888888888,
              "#fdca26"
             ],
             [
              1,
              "#f0f921"
             ]
            ],
            "type": "histogram2dcontour"
           }
          ],
          "mesh3d": [
           {
            "colorbar": {
             "outlinewidth": 0,
             "ticks": ""
            },
            "type": "mesh3d"
           }
          ],
          "parcoords": [
           {
            "line": {
             "colorbar": {
              "outlinewidth": 0,
              "ticks": ""
             }
            },
            "type": "parcoords"
           }
          ],
          "pie": [
           {
            "automargin": true,
            "type": "pie"
           }
          ],
          "scatter": [
           {
            "fillpattern": {
             "fillmode": "overlay",
             "size": 10,
             "solidity": 0.2
            },
            "type": "scatter"
           }
          ],
          "scatter3d": [
           {
            "line": {
             "colorbar": {
              "outlinewidth": 0,
              "ticks": ""
             }
            },
            "marker": {
             "colorbar": {
              "outlinewidth": 0,
              "ticks": ""
             }
            },
            "type": "scatter3d"
           }
          ],
          "scattercarpet": [
           {
            "marker": {
             "colorbar": {
              "outlinewidth": 0,
              "ticks": ""
             }
            },
            "type": "scattercarpet"
           }
          ],
          "scattergeo": [
           {
            "marker": {
             "colorbar": {
              "outlinewidth": 0,
              "ticks": ""
             }
            },
            "type": "scattergeo"
           }
          ],
          "scattergl": [
           {
            "marker": {
             "colorbar": {
              "outlinewidth": 0,
              "ticks": ""
             }
            },
            "type": "scattergl"
           }
          ],
          "scattermapbox": [
           {
            "marker": {
             "colorbar": {
              "outlinewidth": 0,
              "ticks": ""
             }
            },
            "type": "scattermapbox"
           }
          ],
          "scatterpolar": [
           {
            "marker": {
             "colorbar": {
              "outlinewidth": 0,
              "ticks": ""
             }
            },
            "type": "scatterpolar"
           }
          ],
          "scatterpolargl": [
           {
            "marker": {
             "colorbar": {
              "outlinewidth": 0,
              "ticks": ""
             }
            },
            "type": "scatterpolargl"
           }
          ],
          "scatterternary": [
           {
            "marker": {
             "colorbar": {
              "outlinewidth": 0,
              "ticks": ""
             }
            },
            "type": "scatterternary"
           }
          ],
          "surface": [
           {
            "colorbar": {
             "outlinewidth": 0,
             "ticks": ""
            },
            "colorscale": [
             [
              0,
              "#0d0887"
             ],
             [
              0.1111111111111111,
              "#46039f"
             ],
             [
              0.2222222222222222,
              "#7201a8"
             ],
             [
              0.3333333333333333,
              "#9c179e"
             ],
             [
              0.4444444444444444,
              "#bd3786"
             ],
             [
              0.5555555555555556,
              "#d8576b"
             ],
             [
              0.6666666666666666,
              "#ed7953"
             ],
             [
              0.7777777777777778,
              "#fb9f3a"
             ],
             [
              0.8888888888888888,
              "#fdca26"
             ],
             [
              1,
              "#f0f921"
             ]
            ],
            "type": "surface"
           }
          ],
          "table": [
           {
            "cells": {
             "fill": {
              "color": "#EBF0F8"
             },
             "line": {
              "color": "white"
             }
            },
            "header": {
             "fill": {
              "color": "#C8D4E3"
             },
             "line": {
              "color": "white"
             }
            },
            "type": "table"
           }
          ]
         },
         "layout": {
          "annotationdefaults": {
           "arrowcolor": "#2a3f5f",
           "arrowhead": 0,
           "arrowwidth": 1
          },
          "autotypenumbers": "strict",
          "coloraxis": {
           "colorbar": {
            "outlinewidth": 0,
            "ticks": ""
           }
          },
          "colorscale": {
           "diverging": [
            [
             0,
             "#8e0152"
            ],
            [
             0.1,
             "#c51b7d"
            ],
            [
             0.2,
             "#de77ae"
            ],
            [
             0.3,
             "#f1b6da"
            ],
            [
             0.4,
             "#fde0ef"
            ],
            [
             0.5,
             "#f7f7f7"
            ],
            [
             0.6,
             "#e6f5d0"
            ],
            [
             0.7,
             "#b8e186"
            ],
            [
             0.8,
             "#7fbc41"
            ],
            [
             0.9,
             "#4d9221"
            ],
            [
             1,
             "#276419"
            ]
           ],
           "sequential": [
            [
             0,
             "#0d0887"
            ],
            [
             0.1111111111111111,
             "#46039f"
            ],
            [
             0.2222222222222222,
             "#7201a8"
            ],
            [
             0.3333333333333333,
             "#9c179e"
            ],
            [
             0.4444444444444444,
             "#bd3786"
            ],
            [
             0.5555555555555556,
             "#d8576b"
            ],
            [
             0.6666666666666666,
             "#ed7953"
            ],
            [
             0.7777777777777778,
             "#fb9f3a"
            ],
            [
             0.8888888888888888,
             "#fdca26"
            ],
            [
             1,
             "#f0f921"
            ]
           ],
           "sequentialminus": [
            [
             0,
             "#0d0887"
            ],
            [
             0.1111111111111111,
             "#46039f"
            ],
            [
             0.2222222222222222,
             "#7201a8"
            ],
            [
             0.3333333333333333,
             "#9c179e"
            ],
            [
             0.4444444444444444,
             "#bd3786"
            ],
            [
             0.5555555555555556,
             "#d8576b"
            ],
            [
             0.6666666666666666,
             "#ed7953"
            ],
            [
             0.7777777777777778,
             "#fb9f3a"
            ],
            [
             0.8888888888888888,
             "#fdca26"
            ],
            [
             1,
             "#f0f921"
            ]
           ]
          },
          "colorway": [
           "#636efa",
           "#EF553B",
           "#00cc96",
           "#ab63fa",
           "#FFA15A",
           "#19d3f3",
           "#FF6692",
           "#B6E880",
           "#FF97FF",
           "#FECB52"
          ],
          "font": {
           "color": "#2a3f5f"
          },
          "geo": {
           "bgcolor": "white",
           "lakecolor": "white",
           "landcolor": "#E5ECF6",
           "showlakes": true,
           "showland": true,
           "subunitcolor": "white"
          },
          "hoverlabel": {
           "align": "left"
          },
          "hovermode": "closest",
          "mapbox": {
           "style": "light"
          },
          "paper_bgcolor": "white",
          "plot_bgcolor": "#E5ECF6",
          "polar": {
           "angularaxis": {
            "gridcolor": "white",
            "linecolor": "white",
            "ticks": ""
           },
           "bgcolor": "#E5ECF6",
           "radialaxis": {
            "gridcolor": "white",
            "linecolor": "white",
            "ticks": ""
           }
          },
          "scene": {
           "xaxis": {
            "backgroundcolor": "#E5ECF6",
            "gridcolor": "white",
            "gridwidth": 2,
            "linecolor": "white",
            "showbackground": true,
            "ticks": "",
            "zerolinecolor": "white"
           },
           "yaxis": {
            "backgroundcolor": "#E5ECF6",
            "gridcolor": "white",
            "gridwidth": 2,
            "linecolor": "white",
            "showbackground": true,
            "ticks": "",
            "zerolinecolor": "white"
           },
           "zaxis": {
            "backgroundcolor": "#E5ECF6",
            "gridcolor": "white",
            "gridwidth": 2,
            "linecolor": "white",
            "showbackground": true,
            "ticks": "",
            "zerolinecolor": "white"
           }
          },
          "shapedefaults": {
           "line": {
            "color": "#2a3f5f"
           }
          },
          "ternary": {
           "aaxis": {
            "gridcolor": "white",
            "linecolor": "white",
            "ticks": ""
           },
           "baxis": {
            "gridcolor": "white",
            "linecolor": "white",
            "ticks": ""
           },
           "bgcolor": "#E5ECF6",
           "caxis": {
            "gridcolor": "white",
            "linecolor": "white",
            "ticks": ""
           }
          },
          "title": {
           "x": 0.05
          },
          "xaxis": {
           "automargin": true,
           "gridcolor": "white",
           "linecolor": "white",
           "ticks": "",
           "title": {
            "standoff": 15
           },
           "zerolinecolor": "white",
           "zerolinewidth": 2
          },
          "yaxis": {
           "automargin": true,
           "gridcolor": "white",
           "linecolor": "white",
           "ticks": "",
           "title": {
            "standoff": 15
           },
           "zerolinecolor": "white",
           "zerolinewidth": 2
          }
         }
        }
       }
      },
      "text/html": [
       "<div>                            <div id=\"727d4474-f0a0-4324-9a94-ba61224db072\" class=\"plotly-graph-div\" style=\"height:525px; width:100%;\"></div>            <script type=\"text/javascript\">                require([\"plotly\"], function(Plotly) {                    window.PLOTLYENV=window.PLOTLYENV || {};                                    if (document.getElementById(\"727d4474-f0a0-4324-9a94-ba61224db072\")) {                    Plotly.newPlot(                        \"727d4474-f0a0-4324-9a94-ba61224db072\",                        [{\"fill\":\"toself\",\"fillcolor\":\"#7AC74C\",\"line\":{\"color\":\"#A33EA1\"},\"name\":\"bulbasaur\",\"opacity\":0.5,\"r\":[60,62,63,80,80,60],\"theta\":[\"hp\",\"attack\",\"defense\",\"spatk\",\"spdef\",\"speed\"],\"type\":\"scatterpolar\"}],                        {\"template\":{\"data\":{\"histogram2dcontour\":[{\"type\":\"histogram2dcontour\",\"colorbar\":{\"outlinewidth\":0,\"ticks\":\"\"},\"colorscale\":[[0.0,\"#0d0887\"],[0.1111111111111111,\"#46039f\"],[0.2222222222222222,\"#7201a8\"],[0.3333333333333333,\"#9c179e\"],[0.4444444444444444,\"#bd3786\"],[0.5555555555555556,\"#d8576b\"],[0.6666666666666666,\"#ed7953\"],[0.7777777777777778,\"#fb9f3a\"],[0.8888888888888888,\"#fdca26\"],[1.0,\"#f0f921\"]]}],\"choropleth\":[{\"type\":\"choropleth\",\"colorbar\":{\"outlinewidth\":0,\"ticks\":\"\"}}],\"histogram2d\":[{\"type\":\"histogram2d\",\"colorbar\":{\"outlinewidth\":0,\"ticks\":\"\"},\"colorscale\":[[0.0,\"#0d0887\"],[0.1111111111111111,\"#46039f\"],[0.2222222222222222,\"#7201a8\"],[0.3333333333333333,\"#9c179e\"],[0.4444444444444444,\"#bd3786\"],[0.5555555555555556,\"#d8576b\"],[0.6666666666666666,\"#ed7953\"],[0.7777777777777778,\"#fb9f3a\"],[0.8888888888888888,\"#fdca26\"],[1.0,\"#f0f921\"]]}],\"heatmap\":[{\"type\":\"heatmap\",\"colorbar\":{\"outlinewidth\":0,\"ticks\":\"\"},\"colorscale\":[[0.0,\"#0d0887\"],[0.1111111111111111,\"#46039f\"],[0.2222222222222222,\"#7201a8\"],[0.3333333333333333,\"#9c179e\"],[0.4444444444444444,\"#bd3786\"],[0.5555555555555556,\"#d8576b\"],[0.6666666666666666,\"#ed7953\"],[0.7777777777777778,\"#fb9f3a\"],[0.8888888888888888,\"#fdca26\"],[1.0,\"#f0f921\"]]}],\"heatmapgl\":[{\"type\":\"heatmapgl\",\"colorbar\":{\"outlinewidth\":0,\"ticks\":\"\"},\"colorscale\":[[0.0,\"#0d0887\"],[0.1111111111111111,\"#46039f\"],[0.2222222222222222,\"#7201a8\"],[0.3333333333333333,\"#9c179e\"],[0.4444444444444444,\"#bd3786\"],[0.5555555555555556,\"#d8576b\"],[0.6666666666666666,\"#ed7953\"],[0.7777777777777778,\"#fb9f3a\"],[0.8888888888888888,\"#fdca26\"],[1.0,\"#f0f921\"]]}],\"contourcarpet\":[{\"type\":\"contourcarpet\",\"colorbar\":{\"outlinewidth\":0,\"ticks\":\"\"}}],\"contour\":[{\"type\":\"contour\",\"colorbar\":{\"outlinewidth\":0,\"ticks\":\"\"},\"colorscale\":[[0.0,\"#0d0887\"],[0.1111111111111111,\"#46039f\"],[0.2222222222222222,\"#7201a8\"],[0.3333333333333333,\"#9c179e\"],[0.4444444444444444,\"#bd3786\"],[0.5555555555555556,\"#d8576b\"],[0.6666666666666666,\"#ed7953\"],[0.7777777777777778,\"#fb9f3a\"],[0.8888888888888888,\"#fdca26\"],[1.0,\"#f0f921\"]]}],\"surface\":[{\"type\":\"surface\",\"colorbar\":{\"outlinewidth\":0,\"ticks\":\"\"},\"colorscale\":[[0.0,\"#0d0887\"],[0.1111111111111111,\"#46039f\"],[0.2222222222222222,\"#7201a8\"],[0.3333333333333333,\"#9c179e\"],[0.4444444444444444,\"#bd3786\"],[0.5555555555555556,\"#d8576b\"],[0.6666666666666666,\"#ed7953\"],[0.7777777777777778,\"#fb9f3a\"],[0.8888888888888888,\"#fdca26\"],[1.0,\"#f0f921\"]]}],\"mesh3d\":[{\"type\":\"mesh3d\",\"colorbar\":{\"outlinewidth\":0,\"ticks\":\"\"}}],\"scatter\":[{\"fillpattern\":{\"fillmode\":\"overlay\",\"size\":10,\"solidity\":0.2},\"type\":\"scatter\"}],\"parcoords\":[{\"type\":\"parcoords\",\"line\":{\"colorbar\":{\"outlinewidth\":0,\"ticks\":\"\"}}}],\"scatterpolargl\":[{\"type\":\"scatterpolargl\",\"marker\":{\"colorbar\":{\"outlinewidth\":0,\"ticks\":\"\"}}}],\"bar\":[{\"error_x\":{\"color\":\"#2a3f5f\"},\"error_y\":{\"color\":\"#2a3f5f\"},\"marker\":{\"line\":{\"color\":\"#E5ECF6\",\"width\":0.5},\"pattern\":{\"fillmode\":\"overlay\",\"size\":10,\"solidity\":0.2}},\"type\":\"bar\"}],\"scattergeo\":[{\"type\":\"scattergeo\",\"marker\":{\"colorbar\":{\"outlinewidth\":0,\"ticks\":\"\"}}}],\"scatterpolar\":[{\"type\":\"scatterpolar\",\"marker\":{\"colorbar\":{\"outlinewidth\":0,\"ticks\":\"\"}}}],\"histogram\":[{\"marker\":{\"pattern\":{\"fillmode\":\"overlay\",\"size\":10,\"solidity\":0.2}},\"type\":\"histogram\"}],\"scattergl\":[{\"type\":\"scattergl\",\"marker\":{\"colorbar\":{\"outlinewidth\":0,\"ticks\":\"\"}}}],\"scatter3d\":[{\"type\":\"scatter3d\",\"line\":{\"colorbar\":{\"outlinewidth\":0,\"ticks\":\"\"}},\"marker\":{\"colorbar\":{\"outlinewidth\":0,\"ticks\":\"\"}}}],\"scattermapbox\":[{\"type\":\"scattermapbox\",\"marker\":{\"colorbar\":{\"outlinewidth\":0,\"ticks\":\"\"}}}],\"scatterternary\":[{\"type\":\"scatterternary\",\"marker\":{\"colorbar\":{\"outlinewidth\":0,\"ticks\":\"\"}}}],\"scattercarpet\":[{\"type\":\"scattercarpet\",\"marker\":{\"colorbar\":{\"outlinewidth\":0,\"ticks\":\"\"}}}],\"carpet\":[{\"aaxis\":{\"endlinecolor\":\"#2a3f5f\",\"gridcolor\":\"white\",\"linecolor\":\"white\",\"minorgridcolor\":\"white\",\"startlinecolor\":\"#2a3f5f\"},\"baxis\":{\"endlinecolor\":\"#2a3f5f\",\"gridcolor\":\"white\",\"linecolor\":\"white\",\"minorgridcolor\":\"white\",\"startlinecolor\":\"#2a3f5f\"},\"type\":\"carpet\"}],\"table\":[{\"cells\":{\"fill\":{\"color\":\"#EBF0F8\"},\"line\":{\"color\":\"white\"}},\"header\":{\"fill\":{\"color\":\"#C8D4E3\"},\"line\":{\"color\":\"white\"}},\"type\":\"table\"}],\"barpolar\":[{\"marker\":{\"line\":{\"color\":\"#E5ECF6\",\"width\":0.5},\"pattern\":{\"fillmode\":\"overlay\",\"size\":10,\"solidity\":0.2}},\"type\":\"barpolar\"}],\"pie\":[{\"automargin\":true,\"type\":\"pie\"}]},\"layout\":{\"autotypenumbers\":\"strict\",\"colorway\":[\"#636efa\",\"#EF553B\",\"#00cc96\",\"#ab63fa\",\"#FFA15A\",\"#19d3f3\",\"#FF6692\",\"#B6E880\",\"#FF97FF\",\"#FECB52\"],\"font\":{\"color\":\"#2a3f5f\"},\"hovermode\":\"closest\",\"hoverlabel\":{\"align\":\"left\"},\"paper_bgcolor\":\"white\",\"plot_bgcolor\":\"#E5ECF6\",\"polar\":{\"bgcolor\":\"#E5ECF6\",\"angularaxis\":{\"gridcolor\":\"white\",\"linecolor\":\"white\",\"ticks\":\"\"},\"radialaxis\":{\"gridcolor\":\"white\",\"linecolor\":\"white\",\"ticks\":\"\"}},\"ternary\":{\"bgcolor\":\"#E5ECF6\",\"aaxis\":{\"gridcolor\":\"white\",\"linecolor\":\"white\",\"ticks\":\"\"},\"baxis\":{\"gridcolor\":\"white\",\"linecolor\":\"white\",\"ticks\":\"\"},\"caxis\":{\"gridcolor\":\"white\",\"linecolor\":\"white\",\"ticks\":\"\"}},\"coloraxis\":{\"colorbar\":{\"outlinewidth\":0,\"ticks\":\"\"}},\"colorscale\":{\"sequential\":[[0.0,\"#0d0887\"],[0.1111111111111111,\"#46039f\"],[0.2222222222222222,\"#7201a8\"],[0.3333333333333333,\"#9c179e\"],[0.4444444444444444,\"#bd3786\"],[0.5555555555555556,\"#d8576b\"],[0.6666666666666666,\"#ed7953\"],[0.7777777777777778,\"#fb9f3a\"],[0.8888888888888888,\"#fdca26\"],[1.0,\"#f0f921\"]],\"sequentialminus\":[[0.0,\"#0d0887\"],[0.1111111111111111,\"#46039f\"],[0.2222222222222222,\"#7201a8\"],[0.3333333333333333,\"#9c179e\"],[0.4444444444444444,\"#bd3786\"],[0.5555555555555556,\"#d8576b\"],[0.6666666666666666,\"#ed7953\"],[0.7777777777777778,\"#fb9f3a\"],[0.8888888888888888,\"#fdca26\"],[1.0,\"#f0f921\"]],\"diverging\":[[0,\"#8e0152\"],[0.1,\"#c51b7d\"],[0.2,\"#de77ae\"],[0.3,\"#f1b6da\"],[0.4,\"#fde0ef\"],[0.5,\"#f7f7f7\"],[0.6,\"#e6f5d0\"],[0.7,\"#b8e186\"],[0.8,\"#7fbc41\"],[0.9,\"#4d9221\"],[1,\"#276419\"]]},\"xaxis\":{\"gridcolor\":\"white\",\"linecolor\":\"white\",\"ticks\":\"\",\"title\":{\"standoff\":15},\"zerolinecolor\":\"white\",\"automargin\":true,\"zerolinewidth\":2},\"yaxis\":{\"gridcolor\":\"white\",\"linecolor\":\"white\",\"ticks\":\"\",\"title\":{\"standoff\":15},\"zerolinecolor\":\"white\",\"automargin\":true,\"zerolinewidth\":2},\"scene\":{\"xaxis\":{\"backgroundcolor\":\"#E5ECF6\",\"gridcolor\":\"white\",\"linecolor\":\"white\",\"showbackground\":true,\"ticks\":\"\",\"zerolinecolor\":\"white\",\"gridwidth\":2},\"yaxis\":{\"backgroundcolor\":\"#E5ECF6\",\"gridcolor\":\"white\",\"linecolor\":\"white\",\"showbackground\":true,\"ticks\":\"\",\"zerolinecolor\":\"white\",\"gridwidth\":2},\"zaxis\":{\"backgroundcolor\":\"#E5ECF6\",\"gridcolor\":\"white\",\"linecolor\":\"white\",\"showbackground\":true,\"ticks\":\"\",\"zerolinecolor\":\"white\",\"gridwidth\":2}},\"shapedefaults\":{\"line\":{\"color\":\"#2a3f5f\"}},\"annotationdefaults\":{\"arrowcolor\":\"#2a3f5f\",\"arrowhead\":0,\"arrowwidth\":1},\"geo\":{\"bgcolor\":\"white\",\"landcolor\":\"#E5ECF6\",\"subunitcolor\":\"white\",\"showland\":true,\"showlakes\":true,\"lakecolor\":\"white\"},\"title\":{\"x\":0.05},\"mapbox\":{\"style\":\"light\"}}},\"annotations\":[{\"showarrow\":false,\"text\":\"Name: ivysaur\",\"x\":0,\"y\":0.8},{\"showarrow\":false,\"text\":\"Types: grass - poison\",\"x\":0,\"y\":0.7},{\"showarrow\":false,\"text\":\"Catch-rate: 45.0\",\"x\":0,\"y\":0.56}]},                        {\"responsive\": true}                    ).then(function(){\n",
       "                            \n",
       "var gd = document.getElementById('727d4474-f0a0-4324-9a94-ba61224db072');\n",
       "var x = new MutationObserver(function (mutations, observer) {{\n",
       "        var display = window.getComputedStyle(gd).display;\n",
       "        if (!display || display === 'none') {{\n",
       "            console.log([gd, 'removed!']);\n",
       "            Plotly.purge(gd);\n",
       "            observer.disconnect();\n",
       "        }}\n",
       "}});\n",
       "\n",
       "// Listen for the removal of the full notebook cells\n",
       "var notebookContainer = gd.closest('#notebook-container');\n",
       "if (notebookContainer) {{\n",
       "    x.observe(notebookContainer, {childList: true});\n",
       "}}\n",
       "\n",
       "// Listen for the clearing of the current output cell\n",
       "var outputEl = gd.closest('.output');\n",
       "if (outputEl) {{\n",
       "    x.observe(outputEl, {childList: true});\n",
       "}}\n",
       "\n",
       "                        })                };                });            </script>        </div>"
      ]
     },
     "metadata": {},
     "output_type": "display_data"
    }
   ],
   "source": [
    "pokemon = df.iloc[1]\n",
    "fig = go.Figure()\n",
    "\n",
    "fig.add_trace(go.Scatterpolar(\n",
    "    r=list(pokemon['stats'].values()),\n",
    "    theta=list(pokemon['stats'].keys()),\n",
    "    fill='toself',\n",
    "    name='bulbasaur',\n",
    "    line=dict(color=colors[pokemon['type2']] if pokemon['type2'] else 'rgba(0,0,0,0.2)'),\n",
    "    fillcolor=colors[pokemon['type1']],\n",
    "    opacity=0.5\n",
    "))\n",
    "\n",
    "fig.add_annotation(\n",
    "    x=0, y=0.8,\n",
    "    text=f\"Name: {pokemon['pokemonid']}\",\n",
    "    showarrow=False,\n",
    ")\n",
    "fig.add_annotation(\n",
    "    x=0, y=0.7,\n",
    "    text=f\"Types: {pokemon['type1']} - {pokemon['type2']}\",\n",
    "    showarrow=False,\n",
    ")"
   ]
  },
  {
   "cell_type": "code",
   "execution_count": null,
   "id": "ee1eb9ff",
   "metadata": {
    "scrolled": true
   },
   "outputs": [],
   "source": []
  },
  {
   "cell_type": "code",
   "execution_count": 103,
   "id": "b4e1b230",
   "metadata": {},
   "outputs": [
    {
     "name": "stdout",
     "output_type": "stream",
     "text": [
      "{'hp': 45, 'attack': 49, 'defense': 49, 'spatk': 65, 'spdef': 65, 'speed': 45}\n",
      "{'hp': 60, 'attack': 62, 'defense': 63, 'spatk': 80, 'spdef': 80, 'speed': 60}\n",
      "{'hp': 80, 'attack': 82, 'defense': 83, 'spatk': 100, 'spdef': 100, 'speed': 80}\n",
      "{'hp': 80, 'attack': 100, 'defense': 123, 'spatk': 122, 'spdef': 120, 'speed': 80}\n",
      "{'hp': 39, 'attack': 52, 'defense': 43, 'spatk': 60, 'spdef': 50, 'speed': 65}\n",
      "{'hp': 58, 'attack': 64, 'defense': 58, 'spatk': 80, 'spdef': 65, 'speed': 80}\n",
      "{'hp': 78, 'attack': 84, 'defense': 78, 'spatk': 109, 'spdef': 85, 'speed': 100}\n",
      "{'hp': 78, 'attack': 130, 'defense': 111, 'spatk': 130, 'spdef': 85, 'speed': 100}\n",
      "{'hp': 78, 'attack': 104, 'defense': 78, 'spatk': 159, 'spdef': 115, 'speed': 100}\n",
      "{'hp': 44, 'attack': 48, 'defense': 65, 'spatk': 50, 'spdef': 64, 'speed': 43}\n",
      "{'hp': 59, 'attack': 63, 'defense': 80, 'spatk': 65, 'spdef': 80, 'speed': 58}\n",
      "{'hp': 79, 'attack': 83, 'defense': 100, 'spatk': 85, 'spdef': 105, 'speed': 78}\n",
      "{'hp': 79, 'attack': 103, 'defense': 120, 'spatk': 135, 'spdef': 115, 'speed': 78}\n",
      "{'hp': 45, 'attack': 30, 'defense': 35, 'spatk': 20, 'spdef': 20, 'speed': 45}\n",
      "{'hp': 50, 'attack': 20, 'defense': 55, 'spatk': 25, 'spdef': 25, 'speed': 30}\n",
      "{'hp': 60, 'attack': 45, 'defense': 50, 'spatk': 90, 'spdef': 80, 'speed': 70}\n",
      "{'hp': 40, 'attack': 35, 'defense': 30, 'spatk': 20, 'spdef': 20, 'speed': 50}\n",
      "{'hp': 45, 'attack': 25, 'defense': 50, 'spatk': 25, 'spdef': 25, 'speed': 35}\n",
      "{'hp': 65, 'attack': 90, 'defense': 40, 'spatk': 45, 'spdef': 80, 'speed': 75}\n",
      "{'hp': 65, 'attack': 150, 'defense': 40, 'spatk': 15, 'spdef': 80, 'speed': 145}\n",
      "{'hp': 40, 'attack': 45, 'defense': 40, 'spatk': 35, 'spdef': 35, 'speed': 56}\n",
      "{'hp': 63, 'attack': 60, 'defense': 55, 'spatk': 50, 'spdef': 50, 'speed': 71}\n",
      "{'hp': 83, 'attack': 80, 'defense': 75, 'spatk': 70, 'spdef': 70, 'speed': 101}\n",
      "{'hp': 83, 'attack': 80, 'defense': 80, 'spatk': 135, 'spdef': 80, 'speed': 121}\n",
      "{'hp': 30, 'attack': 56, 'defense': 35, 'spatk': 25, 'spdef': 35, 'speed': 72}\n",
      "{'hp': 30, 'attack': 56, 'defense': 35, 'spatk': 25, 'spdef': 35, 'speed': 72}\n",
      "{'hp': 55, 'attack': 81, 'defense': 60, 'spatk': 50, 'spdef': 70, 'speed': 97}\n",
      "{'hp': 75, 'attack': 71, 'defense': 70, 'spatk': 40, 'spdef': 80, 'speed': 77}\n",
      "{'hp': 40, 'attack': 60, 'defense': 30, 'spatk': 31, 'spdef': 31, 'speed': 70}\n",
      "{'hp': 65, 'attack': 90, 'defense': 65, 'spatk': 61, 'spdef': 61, 'speed': 100}\n",
      "{'hp': 35, 'attack': 60, 'defense': 44, 'spatk': 40, 'spdef': 54, 'speed': 55}\n",
      "{'hp': 60, 'attack': 95, 'defense': 69, 'spatk': 65, 'spdef': 79, 'speed': 80}\n",
      "{'hp': 35, 'attack': 55, 'defense': 40, 'spatk': 50, 'spdef': 50, 'speed': 90}\n",
      "{'hp': 45, 'attack': 80, 'defense': 50, 'spatk': 75, 'spdef': 60, 'speed': 120}\n",
      "{'hp': 60, 'attack': 90, 'defense': 55, 'spatk': 90, 'spdef': 80, 'speed': 110}\n",
      "{'hp': 60, 'attack': 85, 'defense': 50, 'spatk': 95, 'spdef': 85, 'speed': 110}\n",
      "{'hp': 50, 'attack': 75, 'defense': 85, 'spatk': 20, 'spdef': 30, 'speed': 40}\n",
      "{'hp': 50, 'attack': 75, 'defense': 90, 'spatk': 10, 'spdef': 35, 'speed': 40}\n",
      "{'hp': 75, 'attack': 100, 'defense': 110, 'spatk': 45, 'spdef': 55, 'speed': 65}\n",
      "{'hp': 75, 'attack': 100, 'defense': 120, 'spatk': 25, 'spdef': 65, 'speed': 65}\n",
      "{'hp': 55, 'attack': 47, 'defense': 52, 'spatk': 40, 'spdef': 40, 'speed': 41}\n",
      "{'hp': 70, 'attack': 62, 'defense': 67, 'spatk': 55, 'spdef': 55, 'speed': 56}\n",
      "{'hp': 90, 'attack': 92, 'defense': 87, 'spatk': 75, 'spdef': 85, 'speed': 76}\n",
      "{'hp': 46, 'attack': 57, 'defense': 40, 'spatk': 40, 'spdef': 40, 'speed': 50}\n",
      "{'hp': 61, 'attack': 72, 'defense': 57, 'spatk': 55, 'spdef': 55, 'speed': 65}\n",
      "{'hp': 81, 'attack': 102, 'defense': 77, 'spatk': 85, 'spdef': 75, 'speed': 85}\n",
      "{'hp': 70, 'attack': 45, 'defense': 48, 'spatk': 60, 'spdef': 65, 'speed': 35}\n",
      "{'hp': 95, 'attack': 70, 'defense': 73, 'spatk': 95, 'spdef': 90, 'speed': 60}\n",
      "{'hp': 38, 'attack': 41, 'defense': 40, 'spatk': 50, 'spdef': 65, 'speed': 65}\n",
      "{'hp': 38, 'attack': 41, 'defense': 40, 'spatk': 50, 'spdef': 65, 'speed': 65}\n",
      "{'hp': 73, 'attack': 76, 'defense': 75, 'spatk': 81, 'spdef': 100, 'speed': 100}\n",
      "{'hp': 73, 'attack': 67, 'defense': 75, 'spatk': 81, 'spdef': 100, 'speed': 109}\n",
      "{'hp': 115, 'attack': 45, 'defense': 20, 'spatk': 45, 'spdef': 25, 'speed': 20}\n",
      "{'hp': 140, 'attack': 70, 'defense': 45, 'spatk': 85, 'spdef': 50, 'speed': 45}\n",
      "{'hp': 40, 'attack': 45, 'defense': 35, 'spatk': 30, 'spdef': 40, 'speed': 55}\n",
      "{'hp': 75, 'attack': 80, 'defense': 70, 'spatk': 65, 'spdef': 75, 'speed': 90}\n",
      "{'hp': 45, 'attack': 50, 'defense': 55, 'spatk': 75, 'spdef': 65, 'speed': 30}\n",
      "{'hp': 60, 'attack': 65, 'defense': 70, 'spatk': 85, 'spdef': 75, 'speed': 40}\n",
      "{'hp': 75, 'attack': 80, 'defense': 85, 'spatk': 110, 'spdef': 90, 'speed': 50}\n",
      "{'hp': 35, 'attack': 70, 'defense': 55, 'spatk': 45, 'spdef': 55, 'speed': 25}\n",
      "{'hp': 60, 'attack': 95, 'defense': 80, 'spatk': 60, 'spdef': 80, 'speed': 30}\n",
      "{'hp': 60, 'attack': 55, 'defense': 50, 'spatk': 40, 'spdef': 55, 'speed': 45}\n",
      "{'hp': 70, 'attack': 65, 'defense': 60, 'spatk': 90, 'spdef': 75, 'speed': 90}\n",
      "{'hp': 10, 'attack': 55, 'defense': 25, 'spatk': 35, 'spdef': 45, 'speed': 95}\n",
      "{'hp': 10, 'attack': 55, 'defense': 30, 'spatk': 35, 'spdef': 45, 'speed': 90}\n",
      "{'hp': 35, 'attack': 100, 'defense': 50, 'spatk': 50, 'spdef': 70, 'speed': 120}\n",
      "{'hp': 35, 'attack': 100, 'defense': 60, 'spatk': 50, 'spdef': 70, 'speed': 110}\n",
      "{'hp': 40, 'attack': 45, 'defense': 35, 'spatk': 40, 'spdef': 40, 'speed': 90}\n",
      "{'hp': 40, 'attack': 35, 'defense': 35, 'spatk': 50, 'spdef': 40, 'speed': 90}\n",
      "{'hp': 50, 'attack': 65, 'defense': 55, 'spatk': 40, 'spdef': 40, 'speed': 40}\n",
      "{'hp': 65, 'attack': 70, 'defense': 60, 'spatk': 65, 'spdef': 65, 'speed': 115}\n",
      "{'hp': 65, 'attack': 60, 'defense': 60, 'spatk': 75, 'spdef': 65, 'speed': 115}\n",
      "{'hp': 50, 'attack': 52, 'defense': 48, 'spatk': 65, 'spdef': 50, 'speed': 55}\n",
      "{'hp': 80, 'attack': 82, 'defense': 78, 'spatk': 95, 'spdef': 80, 'speed': 85}\n",
      "{'hp': 40, 'attack': 80, 'defense': 35, 'spatk': 35, 'spdef': 45, 'speed': 70}\n",
      "{'hp': 65, 'attack': 105, 'defense': 60, 'spatk': 60, 'spdef': 70, 'speed': 95}\n",
      "{'hp': 55, 'attack': 70, 'defense': 45, 'spatk': 70, 'spdef': 50, 'speed': 60}\n",
      "{'hp': 60, 'attack': 75, 'defense': 45, 'spatk': 65, 'spdef': 50, 'speed': 55}\n",
      "{'hp': 90, 'attack': 110, 'defense': 80, 'spatk': 100, 'spdef': 80, 'speed': 95}\n",
      "{'hp': 95, 'attack': 115, 'defense': 80, 'spatk': 95, 'spdef': 80, 'speed': 90}\n",
      "{'hp': 40, 'attack': 50, 'defense': 40, 'spatk': 40, 'spdef': 40, 'speed': 90}\n",
      "{'hp': 65, 'attack': 65, 'defense': 65, 'spatk': 50, 'spdef': 50, 'speed': 90}\n",
      "{'hp': 90, 'attack': 95, 'defense': 95, 'spatk': 70, 'spdef': 90, 'speed': 70}\n",
      "{'hp': 25, 'attack': 20, 'defense': 15, 'spatk': 105, 'spdef': 55, 'speed': 90}\n",
      "{'hp': 40, 'attack': 35, 'defense': 30, 'spatk': 120, 'spdef': 70, 'speed': 105}\n",
      "{'hp': 55, 'attack': 50, 'defense': 45, 'spatk': 135, 'spdef': 95, 'speed': 120}\n",
      "{'hp': 55, 'attack': 50, 'defense': 65, 'spatk': 175, 'spdef': 105, 'speed': 150}\n",
      "{'hp': 70, 'attack': 80, 'defense': 50, 'spatk': 35, 'spdef': 35, 'speed': 35}\n",
      "{'hp': 80, 'attack': 100, 'defense': 70, 'spatk': 50, 'spdef': 60, 'speed': 45}\n",
      "{'hp': 90, 'attack': 130, 'defense': 80, 'spatk': 65, 'spdef': 85, 'speed': 55}\n",
      "{'hp': 50, 'attack': 75, 'defense': 35, 'spatk': 70, 'spdef': 30, 'speed': 40}\n",
      "{'hp': 65, 'attack': 90, 'defense': 50, 'spatk': 85, 'spdef': 45, 'speed': 55}\n",
      "{'hp': 80, 'attack': 105, 'defense': 65, 'spatk': 100, 'spdef': 70, 'speed': 70}\n",
      "{'hp': 40, 'attack': 40, 'defense': 35, 'spatk': 50, 'spdef': 100, 'speed': 70}\n",
      "{'hp': 80, 'attack': 70, 'defense': 65, 'spatk': 80, 'spdef': 120, 'speed': 100}\n",
      "{'hp': 40, 'attack': 80, 'defense': 100, 'spatk': 30, 'spdef': 30, 'speed': 20}\n",
      "{'hp': 40, 'attack': 80, 'defense': 100, 'spatk': 30, 'spdef': 30, 'speed': 20}\n",
      "{'hp': 55, 'attack': 95, 'defense': 115, 'spatk': 45, 'spdef': 45, 'speed': 35}\n",
      "{'hp': 55, 'attack': 95, 'defense': 115, 'spatk': 45, 'spdef': 45, 'speed': 35}\n",
      "{'hp': 80, 'attack': 120, 'defense': 130, 'spatk': 55, 'spdef': 65, 'speed': 45}\n",
      "{'hp': 80, 'attack': 120, 'defense': 130, 'spatk': 55, 'spdef': 65, 'speed': 45}\n",
      "{'hp': 50, 'attack': 85, 'defense': 55, 'spatk': 65, 'spdef': 65, 'speed': 90}\n",
      "{'hp': 50, 'attack': 85, 'defense': 55, 'spatk': 65, 'spdef': 65, 'speed': 90}\n",
      "{'hp': 65, 'attack': 100, 'defense': 70, 'spatk': 80, 'spdef': 80, 'speed': 105}\n",
      "{'hp': 65, 'attack': 100, 'defense': 70, 'spatk': 80, 'spdef': 80, 'speed': 105}\n",
      "{'hp': 90, 'attack': 65, 'defense': 65, 'spatk': 40, 'spdef': 40, 'speed': 15}\n",
      "{'hp': 90, 'attack': 65, 'defense': 65, 'spatk': 40, 'spdef': 40, 'speed': 15}\n",
      "{'hp': 95, 'attack': 75, 'defense': 110, 'spatk': 100, 'spdef': 80, 'speed': 30}\n",
      "{'hp': 95, 'attack': 75, 'defense': 180, 'spatk': 130, 'spdef': 80, 'speed': 30}\n",
      "{'hp': 95, 'attack': 100, 'defense': 95, 'spatk': 100, 'spdef': 70, 'speed': 30}\n",
      "{'hp': 25, 'attack': 35, 'defense': 70, 'spatk': 95, 'spdef': 55, 'speed': 45}\n",
      "{'hp': 50, 'attack': 60, 'defense': 95, 'spatk': 120, 'spdef': 70, 'speed': 70}\n",
      "{'hp': 52, 'attack': 90, 'defense': 55, 'spatk': 58, 'spdef': 62, 'speed': 60}\n",
      "{'hp': 52, 'attack': 95, 'defense': 55, 'spatk': 58, 'spdef': 62, 'speed': 55}\n",
      "{'hp': 35, 'attack': 85, 'defense': 45, 'spatk': 35, 'spdef': 35, 'speed': 75}\n",
      "{'hp': 60, 'attack': 110, 'defense': 70, 'spatk': 60, 'spdef': 60, 'speed': 110}\n",
      "{'hp': 65, 'attack': 45, 'defense': 55, 'spatk': 45, 'spdef': 70, 'speed': 45}\n",
      "{'hp': 90, 'attack': 70, 'defense': 80, 'spatk': 70, 'spdef': 95, 'speed': 70}\n",
      "{'hp': 80, 'attack': 80, 'defense': 50, 'spatk': 40, 'spdef': 50, 'speed': 25}\n",
      "{'hp': 80, 'attack': 80, 'defense': 50, 'spatk': 40, 'spdef': 50, 'speed': 25}\n",
      "{'hp': 105, 'attack': 105, 'defense': 75, 'spatk': 65, 'spdef': 100, 'speed': 50}\n",
      "{'hp': 105, 'attack': 105, 'defense': 75, 'spatk': 65, 'spdef': 100, 'speed': 50}\n",
      "{'hp': 30, 'attack': 65, 'defense': 100, 'spatk': 45, 'spdef': 25, 'speed': 40}\n",
      "{'hp': 50, 'attack': 95, 'defense': 180, 'spatk': 85, 'spdef': 45, 'speed': 70}\n",
      "{'hp': 30, 'attack': 35, 'defense': 30, 'spatk': 100, 'spdef': 35, 'speed': 80}\n",
      "{'hp': 45, 'attack': 50, 'defense': 45, 'spatk': 115, 'spdef': 55, 'speed': 95}\n",
      "{'hp': 60, 'attack': 65, 'defense': 60, 'spatk': 130, 'spdef': 75, 'speed': 110}\n",
      "{'hp': 60, 'attack': 65, 'defense': 80, 'spatk': 170, 'spdef': 95, 'speed': 130}\n",
      "{'hp': 35, 'attack': 45, 'defense': 160, 'spatk': 30, 'spdef': 45, 'speed': 70}\n",
      "{'hp': 60, 'attack': 48, 'defense': 45, 'spatk': 43, 'spdef': 90, 'speed': 42}\n",
      "{'hp': 85, 'attack': 73, 'defense': 70, 'spatk': 73, 'spdef': 115, 'speed': 67}\n",
      "{'hp': 30, 'attack': 105, 'defense': 90, 'spatk': 25, 'spdef': 25, 'speed': 50}\n",
      "{'hp': 55, 'attack': 130, 'defense': 115, 'spatk': 50, 'spdef': 50, 'speed': 75}\n",
      "{'hp': 40, 'attack': 30, 'defense': 50, 'spatk': 55, 'spdef': 55, 'speed': 100}\n",
      "{'hp': 40, 'attack': 30, 'defense': 50, 'spatk': 55, 'spdef': 55, 'speed': 100}\n",
      "{'hp': 60, 'attack': 50, 'defense': 70, 'spatk': 80, 'spdef': 80, 'speed': 150}\n",
      "{'hp': 60, 'attack': 50, 'defense': 70, 'spatk': 80, 'spdef': 80, 'speed': 150}\n",
      "{'hp': 60, 'attack': 40, 'defense': 80, 'spatk': 60, 'spdef': 45, 'speed': 40}\n",
      "{'hp': 95, 'attack': 95, 'defense': 85, 'spatk': 125, 'spdef': 75, 'speed': 55}\n",
      "{'hp': 95, 'attack': 105, 'defense': 85, 'spatk': 125, 'spdef': 75, 'speed': 45}\n",
      "{'hp': 50, 'attack': 50, 'defense': 95, 'spatk': 40, 'spdef': 50, 'speed': 35}\n",
      "{'hp': 60, 'attack': 80, 'defense': 110, 'spatk': 50, 'spdef': 80, 'speed': 45}\n",
      "{'hp': 60, 'attack': 80, 'defense': 110, 'spatk': 50, 'spdef': 80, 'speed': 45}\n",
      "{'hp': 50, 'attack': 120, 'defense': 53, 'spatk': 35, 'spdef': 110, 'speed': 87}\n",
      "{'hp': 50, 'attack': 105, 'defense': 79, 'spatk': 35, 'spdef': 110, 'speed': 76}\n",
      "{'hp': 90, 'attack': 55, 'defense': 75, 'spatk': 60, 'spdef': 75, 'speed': 30}\n",
      "{'hp': 40, 'attack': 65, 'defense': 95, 'spatk': 60, 'spdef': 45, 'speed': 35}\n",
      "{'hp': 65, 'attack': 90, 'defense': 120, 'spatk': 85, 'spdef': 70, 'speed': 60}\n",
      "{'hp': 65, 'attack': 90, 'defense': 120, 'spatk': 85, 'spdef': 70, 'speed': 60}\n",
      "{'hp': 80, 'attack': 85, 'defense': 95, 'spatk': 30, 'spdef': 30, 'speed': 25}\n",
      "{'hp': 105, 'attack': 130, 'defense': 120, 'spatk': 45, 'spdef': 45, 'speed': 40}\n",
      "{'hp': 250, 'attack': 5, 'defense': 5, 'spatk': 35, 'spdef': 105, 'speed': 50}\n",
      "{'hp': 65, 'attack': 55, 'defense': 115, 'spatk': 100, 'spdef': 40, 'speed': 60}\n",
      "{'hp': 105, 'attack': 95, 'defense': 80, 'spatk': 40, 'spdef': 80, 'speed': 90}\n",
      "{'hp': 105, 'attack': 125, 'defense': 100, 'spatk': 60, 'spdef': 100, 'speed': 100}\n",
      "{'hp': 30, 'attack': 40, 'defense': 70, 'spatk': 70, 'spdef': 25, 'speed': 60}\n",
      "{'hp': 55, 'attack': 65, 'defense': 95, 'spatk': 95, 'spdef': 45, 'speed': 85}\n",
      "{'hp': 45, 'attack': 67, 'defense': 60, 'spatk': 35, 'spdef': 50, 'speed': 63}\n",
      "{'hp': 80, 'attack': 92, 'defense': 65, 'spatk': 65, 'spdef': 80, 'speed': 68}\n",
      "{'hp': 30, 'attack': 45, 'defense': 55, 'spatk': 70, 'spdef': 55, 'speed': 85}\n",
      "{'hp': 60, 'attack': 75, 'defense': 85, 'spatk': 100, 'spdef': 85, 'speed': 115}\n",
      "{'hp': 40, 'attack': 45, 'defense': 65, 'spatk': 100, 'spdef': 120, 'speed': 90}\n",
      "{'hp': 50, 'attack': 65, 'defense': 65, 'spatk': 90, 'spdef': 90, 'speed': 100}\n",
      "{'hp': 70, 'attack': 110, 'defense': 80, 'spatk': 55, 'spdef': 80, 'speed': 105}\n",
      "{'hp': 65, 'attack': 50, 'defense': 35, 'spatk': 115, 'spdef': 95, 'speed': 95}\n",
      "{'hp': 65, 'attack': 83, 'defense': 57, 'spatk': 95, 'spdef': 85, 'speed': 105}\n",
      "{'hp': 65, 'attack': 95, 'defense': 57, 'spatk': 100, 'spdef': 85, 'speed': 93}\n",
      "{'hp': 65, 'attack': 125, 'defense': 100, 'spatk': 55, 'spdef': 70, 'speed': 85}\n",
      "{'hp': 65, 'attack': 155, 'defense': 120, 'spatk': 65, 'spdef': 90, 'speed': 105}\n",
      "{'hp': 75, 'attack': 100, 'defense': 95, 'spatk': 40, 'spdef': 70, 'speed': 110}\n",
      "{'hp': 75, 'attack': 110, 'defense': 105, 'spatk': 30, 'spdef': 70, 'speed': 100}\n",
      "{'hp': 75, 'attack': 110, 'defense': 105, 'spatk': 30, 'spdef': 70, 'speed': 100}\n",
      "{'hp': 75, 'attack': 110, 'defense': 105, 'spatk': 30, 'spdef': 70, 'speed': 100}\n",
      "{'hp': 20, 'attack': 10, 'defense': 55, 'spatk': 15, 'spdef': 20, 'speed': 80}\n",
      "{'hp': 95, 'attack': 125, 'defense': 79, 'spatk': 60, 'spdef': 100, 'speed': 81}\n",
      "{'hp': 95, 'attack': 155, 'defense': 109, 'spatk': 70, 'spdef': 130, 'speed': 81}\n",
      "{'hp': 130, 'attack': 85, 'defense': 80, 'spatk': 85, 'spdef': 95, 'speed': 60}\n",
      "{'hp': 48, 'attack': 48, 'defense': 48, 'spatk': 48, 'spdef': 48, 'speed': 48}\n",
      "{'hp': 55, 'attack': 55, 'defense': 50, 'spatk': 45, 'spdef': 65, 'speed': 55}\n",
      "{'hp': 65, 'attack': 75, 'defense': 70, 'spatk': 65, 'spdef': 85, 'speed': 75}\n",
      "{'hp': 130, 'attack': 65, 'defense': 60, 'spatk': 110, 'spdef': 95, 'speed': 65}\n",
      "{'hp': 65, 'attack': 65, 'defense': 60, 'spatk': 110, 'spdef': 95, 'speed': 130}\n",
      "{'hp': 65, 'attack': 130, 'defense': 60, 'spatk': 95, 'spdef': 110, 'speed': 65}\n",
      "{'hp': 65, 'attack': 60, 'defense': 70, 'spatk': 85, 'spdef': 75, 'speed': 40}\n",
      "{'hp': 35, 'attack': 40, 'defense': 100, 'spatk': 90, 'spdef': 55, 'speed': 35}\n",
      "{'hp': 70, 'attack': 60, 'defense': 125, 'spatk': 115, 'spdef': 70, 'speed': 55}\n",
      "{'hp': 30, 'attack': 80, 'defense': 90, 'spatk': 55, 'spdef': 45, 'speed': 55}\n",
      "{'hp': 60, 'attack': 115, 'defense': 105, 'spatk': 65, 'spdef': 70, 'speed': 80}\n",
      "{'hp': 80, 'attack': 105, 'defense': 65, 'spatk': 60, 'spdef': 75, 'speed': 130}\n",
      "{'hp': 80, 'attack': 135, 'defense': 85, 'spatk': 70, 'spdef': 95, 'speed': 150}\n",
      "{'hp': 160, 'attack': 110, 'defense': 65, 'spatk': 65, 'spdef': 110, 'speed': 30}\n",
      "{'hp': 90, 'attack': 85, 'defense': 100, 'spatk': 95, 'spdef': 125, 'speed': 85}\n",
      "{'hp': 90, 'attack': 85, 'defense': 85, 'spatk': 125, 'spdef': 100, 'speed': 95}\n",
      "{'hp': 90, 'attack': 90, 'defense': 85, 'spatk': 125, 'spdef': 90, 'speed': 100}\n",
      "{'hp': 90, 'attack': 125, 'defense': 90, 'spatk': 85, 'spdef': 90, 'speed': 100}\n",
      "{'hp': 90, 'attack': 100, 'defense': 90, 'spatk': 125, 'spdef': 85, 'speed': 90}\n",
      "{'hp': 90, 'attack': 85, 'defense': 90, 'spatk': 100, 'spdef': 125, 'speed': 90}\n",
      "{'hp': 41, 'attack': 64, 'defense': 45, 'spatk': 50, 'spdef': 50, 'speed': 50}\n",
      "{'hp': 61, 'attack': 84, 'defense': 65, 'spatk': 70, 'spdef': 70, 'speed': 70}\n",
      "{'hp': 91, 'attack': 134, 'defense': 95, 'spatk': 100, 'spdef': 100, 'speed': 80}\n",
      "{'hp': 106, 'attack': 110, 'defense': 90, 'spatk': 154, 'spdef': 90, 'speed': 130}\n",
      "{'hp': 106, 'attack': 190, 'defense': 100, 'spatk': 154, 'spdef': 100, 'speed': 130}\n",
      "{'hp': 106, 'attack': 150, 'defense': 70, 'spatk': 194, 'spdef': 120, 'speed': 140}\n",
      "{'hp': 100, 'attack': 100, 'defense': 100, 'spatk': 100, 'spdef': 100, 'speed': 100}\n",
      "{'hp': 45, 'attack': 49, 'defense': 65, 'spatk': 49, 'spdef': 65, 'speed': 45}\n",
      "{'hp': 60, 'attack': 62, 'defense': 80, 'spatk': 63, 'spdef': 80, 'speed': 60}\n",
      "{'hp': 80, 'attack': 82, 'defense': 100, 'spatk': 83, 'spdef': 100, 'speed': 80}\n",
      "{'hp': 39, 'attack': 52, 'defense': 43, 'spatk': 60, 'spdef': 50, 'speed': 65}\n",
      "{'hp': 58, 'attack': 64, 'defense': 58, 'spatk': 80, 'spdef': 65, 'speed': 80}\n",
      "{'hp': 78, 'attack': 84, 'defense': 78, 'spatk': 109, 'spdef': 85, 'speed': 100}\n",
      "{'hp': 73, 'attack': 84, 'defense': 78, 'spatk': 119, 'spdef': 85, 'speed': 95}\n",
      "{'hp': 50, 'attack': 65, 'defense': 64, 'spatk': 44, 'spdef': 48, 'speed': 43}\n",
      "{'hp': 65, 'attack': 80, 'defense': 80, 'spatk': 59, 'spdef': 63, 'speed': 58}\n",
      "{'hp': 85, 'attack': 105, 'defense': 100, 'spatk': 79, 'spdef': 83, 'speed': 78}\n",
      "{'hp': 35, 'attack': 46, 'defense': 34, 'spatk': 35, 'spdef': 45, 'speed': 20}\n",
      "{'hp': 85, 'attack': 76, 'defense': 64, 'spatk': 45, 'spdef': 55, 'speed': 90}\n",
      "{'hp': 60, 'attack': 30, 'defense': 30, 'spatk': 36, 'spdef': 56, 'speed': 50}\n",
      "{'hp': 100, 'attack': 50, 'defense': 50, 'spatk': 86, 'spdef': 96, 'speed': 70}\n",
      "{'hp': 40, 'attack': 20, 'defense': 30, 'spatk': 40, 'spdef': 80, 'speed': 55}\n",
      "{'hp': 55, 'attack': 35, 'defense': 50, 'spatk': 55, 'spdef': 110, 'speed': 85}\n",
      "{'hp': 40, 'attack': 60, 'defense': 40, 'spatk': 40, 'spdef': 40, 'speed': 30}\n",
      "{'hp': 70, 'attack': 90, 'defense': 70, 'spatk': 60, 'spdef': 70, 'speed': 40}\n",
      "{'hp': 85, 'attack': 90, 'defense': 80, 'spatk': 70, 'spdef': 80, 'speed': 130}\n",
      "{'hp': 75, 'attack': 38, 'defense': 38, 'spatk': 56, 'spdef': 56, 'speed': 67}\n",
      "{'hp': 125, 'attack': 58, 'defense': 58, 'spatk': 76, 'spdef': 76, 'speed': 67}\n",
      "{'hp': 20, 'attack': 40, 'defense': 15, 'spatk': 35, 'spdef': 35, 'speed': 60}\n",
      "{'hp': 50, 'attack': 25, 'defense': 28, 'spatk': 45, 'spdef': 55, 'speed': 15}\n",
      "{'hp': 90, 'attack': 30, 'defense': 15, 'spatk': 40, 'spdef': 20, 'speed': 15}\n",
      "{'hp': 35, 'attack': 20, 'defense': 65, 'spatk': 40, 'spdef': 65, 'speed': 20}\n",
      "{'hp': 55, 'attack': 40, 'defense': 85, 'spatk': 80, 'spdef': 105, 'speed': 40}\n",
      "{'hp': 40, 'attack': 50, 'defense': 45, 'spatk': 70, 'spdef': 45, 'speed': 70}\n",
      "{'hp': 65, 'attack': 75, 'defense': 70, 'spatk': 95, 'spdef': 70, 'speed': 95}\n",
      "{'hp': 55, 'attack': 40, 'defense': 40, 'spatk': 65, 'spdef': 45, 'speed': 35}\n",
      "{'hp': 70, 'attack': 55, 'defense': 55, 'spatk': 80, 'spdef': 60, 'speed': 45}\n",
      "{'hp': 90, 'attack': 75, 'defense': 85, 'spatk': 115, 'spdef': 90, 'speed': 55}\n",
      "{'hp': 90, 'attack': 95, 'defense': 105, 'spatk': 165, 'spdef': 110, 'speed': 45}\n",
      "{'hp': 75, 'attack': 80, 'defense': 95, 'spatk': 90, 'spdef': 100, 'speed': 50}\n",
      "{'hp': 70, 'attack': 20, 'defense': 50, 'spatk': 20, 'spdef': 50, 'speed': 40}\n",
      "{'hp': 100, 'attack': 50, 'defense': 80, 'spatk': 60, 'spdef': 80, 'speed': 50}\n",
      "{'hp': 70, 'attack': 100, 'defense': 115, 'spatk': 30, 'spdef': 65, 'speed': 30}\n",
      "{'hp': 90, 'attack': 75, 'defense': 75, 'spatk': 90, 'spdef': 100, 'speed': 70}\n",
      "{'hp': 35, 'attack': 35, 'defense': 40, 'spatk': 35, 'spdef': 55, 'speed': 50}\n",
      "{'hp': 55, 'attack': 45, 'defense': 50, 'spatk': 45, 'spdef': 65, 'speed': 80}\n",
      "{'hp': 75, 'attack': 55, 'defense': 70, 'spatk': 55, 'spdef': 95, 'speed': 110}\n",
      "{'hp': 55, 'attack': 70, 'defense': 55, 'spatk': 40, 'spdef': 55, 'speed': 85}\n",
      "{'hp': 30, 'attack': 30, 'defense': 30, 'spatk': 30, 'spdef': 30, 'speed': 30}\n",
      "{'hp': 75, 'attack': 75, 'defense': 55, 'spatk': 105, 'spdef': 85, 'speed': 30}\n",
      "{'hp': 65, 'attack': 65, 'defense': 45, 'spatk': 75, 'spdef': 45, 'speed': 95}\n",
      "{'hp': 55, 'attack': 45, 'defense': 45, 'spatk': 25, 'spdef': 25, 'speed': 15}\n",
      "{'hp': 55, 'attack': 45, 'defense': 45, 'spatk': 25, 'spdef': 25, 'speed': 15}\n",
      "{'hp': 95, 'attack': 85, 'defense': 85, 'spatk': 65, 'spdef': 65, 'speed': 35}\n",
      "{'hp': 65, 'attack': 65, 'defense': 60, 'spatk': 130, 'spdef': 95, 'speed': 110}\n",
      "{'hp': 95, 'attack': 65, 'defense': 110, 'spatk': 60, 'spdef': 130, 'speed': 65}\n",
      "{'hp': 60, 'attack': 85, 'defense': 42, 'spatk': 85, 'spdef': 42, 'speed': 91}\n",
      "{'hp': 95, 'attack': 75, 'defense': 80, 'spatk': 100, 'spdef': 110, 'speed': 30}\n",
      "{'hp': 95, 'attack': 65, 'defense': 80, 'spatk': 110, 'spdef': 110, 'speed': 30}\n",
      "{'hp': 60, 'attack': 60, 'defense': 60, 'spatk': 85, 'spdef': 85, 'speed': 85}\n",
      "{'hp': 48, 'attack': 72, 'defense': 48, 'spatk': 72, 'spdef': 48, 'speed': 48}\n",
      "{'hp': 190, 'attack': 33, 'defense': 58, 'spatk': 33, 'spdef': 58, 'speed': 33}\n",
      "{'hp': 70, 'attack': 80, 'defense': 65, 'spatk': 90, 'spdef': 65, 'speed': 85}\n",
      "{'hp': 50, 'attack': 65, 'defense': 90, 'spatk': 35, 'spdef': 35, 'speed': 15}\n",
      "{'hp': 75, 'attack': 90, 'defense': 140, 'spatk': 60, 'spdef': 60, 'speed': 40}\n",
      "{'hp': 100, 'attack': 70, 'defense': 70, 'spatk': 65, 'spdef': 65, 'speed': 45}\n",
      "{'hp': 65, 'attack': 75, 'defense': 105, 'spatk': 35, 'spdef': 65, 'speed': 85}\n",
      "{'hp': 75, 'attack': 85, 'defense': 200, 'spatk': 55, 'spdef': 65, 'speed': 30}\n",
      "{'hp': 75, 'attack': 125, 'defense': 230, 'spatk': 55, 'spdef': 95, 'speed': 30}\n",
      "{'hp': 60, 'attack': 80, 'defense': 50, 'spatk': 40, 'spdef': 40, 'speed': 30}\n",
      "{'hp': 90, 'attack': 120, 'defense': 75, 'spatk': 60, 'spdef': 60, 'speed': 45}\n",
      "{'hp': 65, 'attack': 95, 'defense': 85, 'spatk': 55, 'spdef': 55, 'speed': 85}\n",
      "{'hp': 65, 'attack': 95, 'defense': 85, 'spatk': 55, 'spdef': 55, 'speed': 85}\n",
      "{'hp': 70, 'attack': 130, 'defense': 100, 'spatk': 55, 'spdef': 80, 'speed': 65}\n",
      "{'hp': 70, 'attack': 150, 'defense': 140, 'spatk': 65, 'spdef': 100, 'speed': 75}\n",
      "{'hp': 20, 'attack': 10, 'defense': 230, 'spatk': 10, 'spdef': 230, 'speed': 5}\n",
      "{'hp': 80, 'attack': 125, 'defense': 75, 'spatk': 40, 'spdef': 95, 'speed': 85}\n",
      "{'hp': 80, 'attack': 185, 'defense': 115, 'spatk': 40, 'spdef': 105, 'speed': 75}\n",
      "{'hp': 55, 'attack': 95, 'defense': 55, 'spatk': 35, 'spdef': 75, 'speed': 115}\n",
      "{'hp': 55, 'attack': 95, 'defense': 55, 'spatk': 35, 'spdef': 75, 'speed': 115}\n",
      "{'hp': 60, 'attack': 80, 'defense': 50, 'spatk': 50, 'spdef': 50, 'speed': 40}\n",
      "{'hp': 90, 'attack': 130, 'defense': 75, 'spatk': 75, 'spdef': 75, 'speed': 55}\n",
      "{'hp': 40, 'attack': 40, 'defense': 40, 'spatk': 70, 'spdef': 40, 'speed': 20}\n",
      "{'hp': 60, 'attack': 50, 'defense': 120, 'spatk': 90, 'spdef': 80, 'speed': 30}\n",
      "{'hp': 50, 'attack': 50, 'defense': 40, 'spatk': 30, 'spdef': 30, 'speed': 50}\n",
      "{'hp': 100, 'attack': 100, 'defense': 80, 'spatk': 60, 'spdef': 60, 'speed': 50}\n",
      "{'hp': 65, 'attack': 55, 'defense': 95, 'spatk': 65, 'spdef': 95, 'speed': 35}\n",
      "{'hp': 60, 'attack': 55, 'defense': 100, 'spatk': 65, 'spdef': 100, 'speed': 30}\n",
      "{'hp': 35, 'attack': 65, 'defense': 35, 'spatk': 65, 'spdef': 35, 'speed': 65}\n",
      "{'hp': 75, 'attack': 105, 'defense': 75, 'spatk': 105, 'spdef': 75, 'speed': 45}\n",
      "{'hp': 45, 'attack': 55, 'defense': 45, 'spatk': 65, 'spdef': 45, 'speed': 75}\n",
      "{'hp': 85, 'attack': 40, 'defense': 70, 'spatk': 80, 'spdef': 140, 'speed': 70}\n",
      "{'hp': 65, 'attack': 80, 'defense': 140, 'spatk': 40, 'spdef': 70, 'speed': 70}\n",
      "{'hp': 45, 'attack': 60, 'defense': 30, 'spatk': 80, 'spdef': 50, 'speed': 65}\n",
      "{'hp': 75, 'attack': 90, 'defense': 50, 'spatk': 110, 'spdef': 80, 'speed': 95}\n",
      "{'hp': 75, 'attack': 90, 'defense': 90, 'spatk': 140, 'spdef': 90, 'speed': 115}\n",
      "{'hp': 75, 'attack': 95, 'defense': 95, 'spatk': 95, 'spdef': 95, 'speed': 85}\n",
      "{'hp': 90, 'attack': 60, 'defense': 60, 'spatk': 40, 'spdef': 40, 'speed': 40}\n",
      "{'hp': 90, 'attack': 120, 'defense': 120, 'spatk': 60, 'spdef': 60, 'speed': 50}\n",
      "{'hp': 85, 'attack': 80, 'defense': 90, 'spatk': 105, 'spdef': 95, 'speed': 60}\n",
      "{'hp': 73, 'attack': 95, 'defense': 62, 'spatk': 85, 'spdef': 65, 'speed': 85}\n",
      "{'hp': 55, 'attack': 20, 'defense': 35, 'spatk': 20, 'spdef': 45, 'speed': 75}\n",
      "{'hp': 35, 'attack': 35, 'defense': 35, 'spatk': 35, 'spdef': 35, 'speed': 35}\n",
      "{'hp': 50, 'attack': 95, 'defense': 95, 'spatk': 35, 'spdef': 110, 'speed': 70}\n",
      "{'hp': 45, 'attack': 30, 'defense': 15, 'spatk': 85, 'spdef': 65, 'speed': 65}\n",
      "{'hp': 45, 'attack': 63, 'defense': 37, 'spatk': 65, 'spdef': 55, 'speed': 95}\n",
      "{'hp': 45, 'attack': 75, 'defense': 37, 'spatk': 70, 'spdef': 55, 'speed': 83}\n",
      "{'hp': 95, 'attack': 80, 'defense': 105, 'spatk': 40, 'spdef': 70, 'speed': 100}\n",
      "{'hp': 255, 'attack': 10, 'defense': 10, 'spatk': 75, 'spdef': 135, 'speed': 55}\n",
      "{'hp': 90, 'attack': 85, 'defense': 75, 'spatk': 115, 'spdef': 100, 'speed': 115}\n",
      "{'hp': 115, 'attack': 115, 'defense': 85, 'spatk': 90, 'spdef': 75, 'speed': 100}\n",
      "{'hp': 100, 'attack': 75, 'defense': 115, 'spatk': 90, 'spdef': 115, 'speed': 85}\n",
      "{'hp': 50, 'attack': 64, 'defense': 50, 'spatk': 45, 'spdef': 50, 'speed': 41}\n",
      "{'hp': 70, 'attack': 84, 'defense': 70, 'spatk': 65, 'spdef': 70, 'speed': 51}\n",
      "{'hp': 100, 'attack': 134, 'defense': 110, 'spatk': 95, 'spdef': 100, 'speed': 61}\n",
      "{'hp': 100, 'attack': 164, 'defense': 150, 'spatk': 95, 'spdef': 120, 'speed': 71}\n",
      "{'hp': 106, 'attack': 90, 'defense': 130, 'spatk': 90, 'spdef': 154, 'speed': 110}\n",
      "{'hp': 106, 'attack': 130, 'defense': 90, 'spatk': 110, 'spdef': 154, 'speed': 90}\n",
      "{'hp': 100, 'attack': 100, 'defense': 100, 'spatk': 100, 'spdef': 100, 'speed': 100}\n",
      "{'hp': 40, 'attack': 45, 'defense': 35, 'spatk': 65, 'spdef': 55, 'speed': 70}\n",
      "{'hp': 50, 'attack': 65, 'defense': 45, 'spatk': 85, 'spdef': 65, 'speed': 95}\n",
      "{'hp': 70, 'attack': 85, 'defense': 65, 'spatk': 105, 'spdef': 85, 'speed': 120}\n",
      "{'hp': 70, 'attack': 110, 'defense': 75, 'spatk': 145, 'spdef': 85, 'speed': 145}\n",
      "{'hp': 45, 'attack': 60, 'defense': 40, 'spatk': 70, 'spdef': 50, 'speed': 45}\n",
      "{'hp': 60, 'attack': 85, 'defense': 60, 'spatk': 85, 'spdef': 60, 'speed': 55}\n",
      "{'hp': 80, 'attack': 120, 'defense': 70, 'spatk': 110, 'spdef': 70, 'speed': 80}\n",
      "{'hp': 80, 'attack': 160, 'defense': 80, 'spatk': 130, 'spdef': 80, 'speed': 100}\n",
      "{'hp': 50, 'attack': 70, 'defense': 50, 'spatk': 50, 'spdef': 50, 'speed': 40}\n",
      "{'hp': 70, 'attack': 85, 'defense': 70, 'spatk': 60, 'spdef': 70, 'speed': 50}\n",
      "{'hp': 100, 'attack': 110, 'defense': 90, 'spatk': 85, 'spdef': 90, 'speed': 60}\n",
      "{'hp': 100, 'attack': 150, 'defense': 110, 'spatk': 95, 'spdef': 110, 'speed': 70}\n",
      "{'hp': 35, 'attack': 55, 'defense': 35, 'spatk': 30, 'spdef': 30, 'speed': 35}\n",
      "{'hp': 70, 'attack': 90, 'defense': 70, 'spatk': 60, 'spdef': 60, 'speed': 70}\n",
      "{'hp': 38, 'attack': 30, 'defense': 41, 'spatk': 30, 'spdef': 41, 'speed': 60}\n",
      "{'hp': 38, 'attack': 30, 'defense': 41, 'spatk': 30, 'spdef': 41, 'speed': 60}\n",
      "{'hp': 78, 'attack': 70, 'defense': 61, 'spatk': 50, 'spdef': 61, 'speed': 100}\n",
      "{'hp': 78, 'attack': 70, 'defense': 61, 'spatk': 50, 'spdef': 61, 'speed': 100}\n",
      "{'hp': 45, 'attack': 45, 'defense': 35, 'spatk': 20, 'spdef': 30, 'speed': 20}\n",
      "{'hp': 50, 'attack': 35, 'defense': 55, 'spatk': 25, 'spdef': 25, 'speed': 15}\n",
      "{'hp': 60, 'attack': 70, 'defense': 50, 'spatk': 100, 'spdef': 50, 'speed': 65}\n",
      "{'hp': 50, 'attack': 35, 'defense': 55, 'spatk': 25, 'spdef': 25, 'speed': 15}\n",
      "{'hp': 60, 'attack': 50, 'defense': 70, 'spatk': 50, 'spdef': 90, 'speed': 65}\n",
      "{'hp': 40, 'attack': 30, 'defense': 30, 'spatk': 40, 'spdef': 50, 'speed': 30}\n",
      "{'hp': 60, 'attack': 50, 'defense': 50, 'spatk': 60, 'spdef': 70, 'speed': 50}\n",
      "{'hp': 80, 'attack': 70, 'defense': 70, 'spatk': 90, 'spdef': 100, 'speed': 70}\n",
      "{'hp': 40, 'attack': 40, 'defense': 50, 'spatk': 30, 'spdef': 30, 'speed': 30}\n",
      "{'hp': 70, 'attack': 70, 'defense': 40, 'spatk': 60, 'spdef': 40, 'speed': 60}\n",
      "{'hp': 90, 'attack': 100, 'defense': 60, 'spatk': 90, 'spdef': 60, 'speed': 80}\n",
      "{'hp': 40, 'attack': 55, 'defense': 30, 'spatk': 30, 'spdef': 30, 'speed': 85}\n",
      "{'hp': 60, 'attack': 85, 'defense': 60, 'spatk': 75, 'spdef': 50, 'speed': 125}\n",
      "{'hp': 40, 'attack': 30, 'defense': 30, 'spatk': 55, 'spdef': 30, 'speed': 85}\n",
      "{'hp': 60, 'attack': 50, 'defense': 100, 'spatk': 95, 'spdef': 70, 'speed': 65}\n",
      "{'hp': 28, 'attack': 25, 'defense': 25, 'spatk': 45, 'spdef': 35, 'speed': 40}\n",
      "{'hp': 38, 'attack': 35, 'defense': 35, 'spatk': 65, 'spdef': 55, 'speed': 50}\n",
      "{'hp': 68, 'attack': 65, 'defense': 65, 'spatk': 125, 'spdef': 115, 'speed': 80}\n",
      "{'hp': 68, 'attack': 85, 'defense': 65, 'spatk': 165, 'spdef': 135, 'speed': 100}\n",
      "{'hp': 40, 'attack': 30, 'defense': 32, 'spatk': 50, 'spdef': 52, 'speed': 65}\n",
      "{'hp': 70, 'attack': 60, 'defense': 62, 'spatk': 100, 'spdef': 82, 'speed': 80}\n",
      "{'hp': 60, 'attack': 40, 'defense': 60, 'spatk': 40, 'spdef': 60, 'speed': 35}\n",
      "{'hp': 60, 'attack': 130, 'defense': 80, 'spatk': 60, 'spdef': 60, 'speed': 70}\n",
      "{'hp': 60, 'attack': 60, 'defense': 60, 'spatk': 35, 'spdef': 35, 'speed': 30}\n",
      "{'hp': 80, 'attack': 80, 'defense': 80, 'spatk': 55, 'spdef': 55, 'speed': 90}\n",
      "{'hp': 150, 'attack': 160, 'defense': 100, 'spatk': 95, 'spdef': 65, 'speed': 100}\n",
      "{'hp': 31, 'attack': 45, 'defense': 90, 'spatk': 30, 'spdef': 30, 'speed': 40}\n",
      "{'hp': 61, 'attack': 90, 'defense': 45, 'spatk': 50, 'spdef': 50, 'speed': 160}\n",
      "{'hp': 1, 'attack': 90, 'defense': 45, 'spatk': 30, 'spdef': 30, 'speed': 40}\n",
      "{'hp': 64, 'attack': 51, 'defense': 23, 'spatk': 51, 'spdef': 23, 'speed': 28}\n",
      "{'hp': 84, 'attack': 71, 'defense': 43, 'spatk': 71, 'spdef': 43, 'speed': 48}\n",
      "{'hp': 104, 'attack': 91, 'defense': 63, 'spatk': 91, 'spdef': 73, 'speed': 68}\n",
      "{'hp': 72, 'attack': 60, 'defense': 30, 'spatk': 20, 'spdef': 30, 'speed': 25}\n",
      "{'hp': 144, 'attack': 120, 'defense': 60, 'spatk': 40, 'spdef': 60, 'speed': 50}\n",
      "{'hp': 50, 'attack': 20, 'defense': 40, 'spatk': 20, 'spdef': 40, 'speed': 20}\n",
      "{'hp': 30, 'attack': 45, 'defense': 135, 'spatk': 45, 'spdef': 90, 'speed': 30}\n",
      "{'hp': 50, 'attack': 45, 'defense': 45, 'spatk': 35, 'spdef': 35, 'speed': 50}\n",
      "{'hp': 70, 'attack': 65, 'defense': 65, 'spatk': 55, 'spdef': 55, 'speed': 90}\n",
      "{'hp': 50, 'attack': 75, 'defense': 75, 'spatk': 65, 'spdef': 65, 'speed': 50}\n",
      "{'hp': 50, 'attack': 85, 'defense': 125, 'spatk': 85, 'spdef': 115, 'speed': 20}\n",
      "{'hp': 50, 'attack': 85, 'defense': 85, 'spatk': 55, 'spdef': 55, 'speed': 50}\n",
      "{'hp': 50, 'attack': 105, 'defense': 125, 'spatk': 55, 'spdef': 95, 'speed': 50}\n",
      "{'hp': 50, 'attack': 70, 'defense': 100, 'spatk': 40, 'spdef': 40, 'speed': 30}\n",
      "{'hp': 60, 'attack': 90, 'defense': 140, 'spatk': 50, 'spdef': 50, 'speed': 40}\n",
      "{'hp': 70, 'attack': 110, 'defense': 180, 'spatk': 60, 'spdef': 60, 'speed': 50}\n",
      "{'hp': 70, 'attack': 140, 'defense': 230, 'spatk': 60, 'spdef': 80, 'speed': 50}\n",
      "{'hp': 30, 'attack': 40, 'defense': 55, 'spatk': 40, 'spdef': 55, 'speed': 60}\n",
      "{'hp': 60, 'attack': 60, 'defense': 75, 'spatk': 60, 'spdef': 75, 'speed': 80}\n",
      "{'hp': 60, 'attack': 100, 'defense': 85, 'spatk': 80, 'spdef': 85, 'speed': 100}\n",
      "{'hp': 40, 'attack': 45, 'defense': 40, 'spatk': 65, 'spdef': 40, 'speed': 65}\n",
      "{'hp': 70, 'attack': 75, 'defense': 60, 'spatk': 105, 'spdef': 60, 'speed': 105}\n",
      "{'hp': 70, 'attack': 75, 'defense': 80, 'spatk': 135, 'spdef': 80, 'speed': 135}\n",
      "{'hp': 60, 'attack': 50, 'defense': 40, 'spatk': 85, 'spdef': 75, 'speed': 95}\n",
      "{'hp': 60, 'attack': 40, 'defense': 50, 'spatk': 75, 'spdef': 85, 'speed': 95}\n",
      "{'hp': 65, 'attack': 73, 'defense': 75, 'spatk': 47, 'spdef': 85, 'speed': 85}\n",
      "{'hp': 65, 'attack': 47, 'defense': 75, 'spatk': 73, 'spdef': 85, 'speed': 85}\n",
      "{'hp': 50, 'attack': 60, 'defense': 45, 'spatk': 100, 'spdef': 80, 'speed': 65}\n",
      "{'hp': 70, 'attack': 43, 'defense': 53, 'spatk': 43, 'spdef': 53, 'speed': 40}\n",
      "{'hp': 100, 'attack': 73, 'defense': 83, 'spatk': 73, 'spdef': 83, 'speed': 55}\n",
      "{'hp': 45, 'attack': 90, 'defense': 20, 'spatk': 65, 'spdef': 20, 'speed': 65}\n",
      "{'hp': 70, 'attack': 120, 'defense': 40, 'spatk': 95, 'spdef': 40, 'speed': 95}\n",
      "{'hp': 70, 'attack': 140, 'defense': 70, 'spatk': 110, 'spdef': 65, 'speed': 105}\n",
      "{'hp': 130, 'attack': 70, 'defense': 35, 'spatk': 70, 'spdef': 35, 'speed': 60}\n",
      "{'hp': 170, 'attack': 90, 'defense': 45, 'spatk': 90, 'spdef': 45, 'speed': 60}\n",
      "{'hp': 60, 'attack': 60, 'defense': 40, 'spatk': 65, 'spdef': 45, 'speed': 35}\n",
      "{'hp': 70, 'attack': 100, 'defense': 70, 'spatk': 105, 'spdef': 75, 'speed': 40}\n",
      "{'hp': 70, 'attack': 120, 'defense': 100, 'spatk': 145, 'spdef': 105, 'speed': 20}\n",
      "{'hp': 70, 'attack': 85, 'defense': 140, 'spatk': 85, 'spdef': 70, 'speed': 20}\n",
      "{'hp': 60, 'attack': 25, 'defense': 35, 'spatk': 70, 'spdef': 80, 'speed': 60}\n",
      "{'hp': 80, 'attack': 45, 'defense': 65, 'spatk': 90, 'spdef': 110, 'speed': 80}\n",
      "{'hp': 60, 'attack': 60, 'defense': 60, 'spatk': 60, 'spdef': 60, 'speed': 60}\n",
      "{'hp': 45, 'attack': 100, 'defense': 45, 'spatk': 45, 'spdef': 45, 'speed': 10}\n",
      "{'hp': 50, 'attack': 70, 'defense': 50, 'spatk': 50, 'spdef': 50, 'speed': 70}\n",
      "{'hp': 80, 'attack': 100, 'defense': 80, 'spatk': 80, 'spdef': 80, 'speed': 100}\n",
      "{'hp': 50, 'attack': 85, 'defense': 40, 'spatk': 85, 'spdef': 40, 'speed': 35}\n",
      "{'hp': 70, 'attack': 115, 'defense': 60, 'spatk': 115, 'spdef': 60, 'speed': 55}\n",
      "{'hp': 45, 'attack': 40, 'defense': 60, 'spatk': 40, 'spdef': 75, 'speed': 50}\n",
      "{'hp': 75, 'attack': 70, 'defense': 90, 'spatk': 70, 'spdef': 105, 'speed': 80}\n",
      "{'hp': 75, 'attack': 110, 'defense': 110, 'spatk': 110, 'spdef': 105, 'speed': 80}\n",
      "{'hp': 73, 'attack': 115, 'defense': 60, 'spatk': 60, 'spdef': 60, 'speed': 90}\n",
      "{'hp': 73, 'attack': 100, 'defense': 60, 'spatk': 100, 'spdef': 60, 'speed': 65}\n",
      "{'hp': 90, 'attack': 55, 'defense': 65, 'spatk': 95, 'spdef': 85, 'speed': 70}\n",
      "{'hp': 90, 'attack': 95, 'defense': 85, 'spatk': 55, 'spdef': 65, 'speed': 70}\n",
      "{'hp': 50, 'attack': 48, 'defense': 43, 'spatk': 46, 'spdef': 41, 'speed': 60}\n",
      "{'hp': 110, 'attack': 78, 'defense': 73, 'spatk': 76, 'spdef': 71, 'speed': 60}\n",
      "{'hp': 43, 'attack': 80, 'defense': 65, 'spatk': 50, 'spdef': 35, 'speed': 35}\n",
      "{'hp': 63, 'attack': 120, 'defense': 85, 'spatk': 90, 'spdef': 55, 'speed': 55}\n",
      "{'hp': 40, 'attack': 40, 'defense': 55, 'spatk': 40, 'spdef': 70, 'speed': 55}\n",
      "{'hp': 60, 'attack': 70, 'defense': 105, 'spatk': 70, 'spdef': 120, 'speed': 75}\n",
      "{'hp': 66, 'attack': 41, 'defense': 77, 'spatk': 61, 'spdef': 87, 'speed': 23}\n",
      "{'hp': 86, 'attack': 81, 'defense': 97, 'spatk': 81, 'spdef': 107, 'speed': 43}\n",
      "{'hp': 45, 'attack': 95, 'defense': 50, 'spatk': 40, 'spdef': 50, 'speed': 75}\n",
      "{'hp': 75, 'attack': 125, 'defense': 100, 'spatk': 70, 'spdef': 80, 'speed': 45}\n",
      "{'hp': 20, 'attack': 15, 'defense': 20, 'spatk': 10, 'spdef': 55, 'speed': 80}\n",
      "{'hp': 95, 'attack': 60, 'defense': 79, 'spatk': 100, 'spdef': 125, 'speed': 81}\n",
      "{'hp': 70, 'attack': 70, 'defense': 70, 'spatk': 70, 'spdef': 70, 'speed': 70}\n",
      "{'hp': 70, 'attack': 70, 'defense': 70, 'spatk': 70, 'spdef': 70, 'speed': 70}\n",
      "{'hp': 70, 'attack': 70, 'defense': 70, 'spatk': 70, 'spdef': 70, 'speed': 70}\n",
      "{'hp': 70, 'attack': 70, 'defense': 70, 'spatk': 70, 'spdef': 70, 'speed': 70}\n",
      "{'hp': 60, 'attack': 90, 'defense': 70, 'spatk': 60, 'spdef': 120, 'speed': 40}\n",
      "{'hp': 44, 'attack': 75, 'defense': 35, 'spatk': 63, 'spdef': 33, 'speed': 45}\n",
      "{'hp': 64, 'attack': 115, 'defense': 65, 'spatk': 83, 'spdef': 63, 'speed': 65}\n",
      "{'hp': 64, 'attack': 165, 'defense': 75, 'spatk': 93, 'spdef': 83, 'speed': 75}\n",
      "{'hp': 20, 'attack': 40, 'defense': 90, 'spatk': 30, 'spdef': 90, 'speed': 25}\n",
      "{'hp': 40, 'attack': 70, 'defense': 130, 'spatk': 60, 'spdef': 130, 'speed': 25}\n",
      "{'hp': 99, 'attack': 68, 'defense': 83, 'spatk': 72, 'spdef': 87, 'speed': 51}\n",
      "{'hp': 75, 'attack': 50, 'defense': 80, 'spatk': 95, 'spdef': 90, 'speed': 65}\n",
      "{'hp': 65, 'attack': 130, 'defense': 60, 'spatk': 75, 'spdef': 60, 'speed': 75}\n",
      "{'hp': 65, 'attack': 150, 'defense': 60, 'spatk': 115, 'spdef': 60, 'speed': 115}\n",
      "{'hp': 95, 'attack': 23, 'defense': 48, 'spatk': 23, 'spdef': 48, 'speed': 23}\n",
      "{'hp': 50, 'attack': 50, 'defense': 50, 'spatk': 50, 'spdef': 50, 'speed': 50}\n",
      "{'hp': 80, 'attack': 80, 'defense': 80, 'spatk': 80, 'spdef': 80, 'speed': 80}\n",
      "{'hp': 80, 'attack': 120, 'defense': 80, 'spatk': 120, 'spdef': 80, 'speed': 100}\n",
      "{'hp': 70, 'attack': 40, 'defense': 50, 'spatk': 55, 'spdef': 50, 'speed': 25}\n",
      "{'hp': 90, 'attack': 60, 'defense': 70, 'spatk': 75, 'spdef': 70, 'speed': 45}\n",
      "{'hp': 110, 'attack': 80, 'defense': 90, 'spatk': 95, 'spdef': 90, 'speed': 65}\n",
      "{'hp': 35, 'attack': 64, 'defense': 85, 'spatk': 74, 'spdef': 55, 'speed': 32}\n",
      "{'hp': 55, 'attack': 104, 'defense': 105, 'spatk': 94, 'spdef': 75, 'speed': 52}\n",
      "{'hp': 55, 'attack': 84, 'defense': 105, 'spatk': 114, 'spdef': 75, 'speed': 52}\n",
      "{'hp': 100, 'attack': 90, 'defense': 130, 'spatk': 45, 'spdef': 65, 'speed': 55}\n",
      "{'hp': 43, 'attack': 30, 'defense': 55, 'spatk': 40, 'spdef': 65, 'speed': 97}\n",
      "{'hp': 45, 'attack': 75, 'defense': 60, 'spatk': 40, 'spdef': 30, 'speed': 50}\n",
      "{'hp': 65, 'attack': 95, 'defense': 100, 'spatk': 60, 'spdef': 50, 'speed': 50}\n",
      "{'hp': 95, 'attack': 135, 'defense': 80, 'spatk': 110, 'spdef': 80, 'speed': 100}\n",
      "{'hp': 95, 'attack': 145, 'defense': 130, 'spatk': 120, 'spdef': 90, 'speed': 120}\n",
      "{'hp': 40, 'attack': 55, 'defense': 80, 'spatk': 35, 'spdef': 60, 'speed': 30}\n",
      "{'hp': 60, 'attack': 75, 'defense': 100, 'spatk': 55, 'spdef': 80, 'speed': 50}\n",
      "{'hp': 80, 'attack': 135, 'defense': 130, 'spatk': 95, 'spdef': 90, 'speed': 70}\n",
      "{'hp': 80, 'attack': 145, 'defense': 150, 'spatk': 105, 'spdef': 110, 'speed': 110}\n",
      "{'hp': 80, 'attack': 100, 'defense': 200, 'spatk': 50, 'spdef': 100, 'speed': 50}\n",
      "{'hp': 80, 'attack': 50, 'defense': 100, 'spatk': 100, 'spdef': 200, 'speed': 50}\n",
      "{'hp': 80, 'attack': 75, 'defense': 150, 'spatk': 75, 'spdef': 150, 'speed': 50}\n",
      "{'hp': 80, 'attack': 80, 'defense': 90, 'spatk': 110, 'spdef': 130, 'speed': 110}\n",
      "{'hp': 80, 'attack': 100, 'defense': 120, 'spatk': 140, 'spdef': 150, 'speed': 110}\n",
      "{'hp': 80, 'attack': 90, 'defense': 80, 'spatk': 130, 'spdef': 110, 'speed': 110}\n",
      "{'hp': 80, 'attack': 130, 'defense': 100, 'spatk': 160, 'spdef': 120, 'speed': 110}\n",
      "{'hp': 100, 'attack': 100, 'defense': 90, 'spatk': 150, 'spdef': 140, 'speed': 90}\n",
      "{'hp': 100, 'attack': 150, 'defense': 90, 'spatk': 180, 'spdef': 160, 'speed': 90}\n",
      "{'hp': 100, 'attack': 150, 'defense': 140, 'spatk': 100, 'spdef': 90, 'speed': 90}\n",
      "{'hp': 100, 'attack': 180, 'defense': 160, 'spatk': 150, 'spdef': 90, 'speed': 90}\n",
      "{'hp': 105, 'attack': 150, 'defense': 90, 'spatk': 150, 'spdef': 90, 'speed': 95}\n",
      "{'hp': 105, 'attack': 180, 'defense': 100, 'spatk': 180, 'spdef': 100, 'speed': 115}\n",
      "{'hp': 100, 'attack': 100, 'defense': 100, 'spatk': 100, 'spdef': 100, 'speed': 100}\n",
      "{'hp': 50, 'attack': 150, 'defense': 50, 'spatk': 150, 'spdef': 50, 'speed': 150}\n",
      "{'hp': 50, 'attack': 180, 'defense': 20, 'spatk': 180, 'spdef': 20, 'speed': 150}\n",
      "{'hp': 50, 'attack': 70, 'defense': 160, 'spatk': 70, 'spdef': 160, 'speed': 90}\n",
      "{'hp': 50, 'attack': 95, 'defense': 90, 'spatk': 95, 'spdef': 90, 'speed': 180}\n",
      "{'hp': 55, 'attack': 68, 'defense': 64, 'spatk': 45, 'spdef': 55, 'speed': 31}\n",
      "{'hp': 75, 'attack': 89, 'defense': 85, 'spatk': 55, 'spdef': 65, 'speed': 36}\n",
      "{'hp': 95, 'attack': 109, 'defense': 105, 'spatk': 75, 'spdef': 85, 'speed': 56}\n",
      "{'hp': 44, 'attack': 58, 'defense': 44, 'spatk': 58, 'spdef': 44, 'speed': 61}\n",
      "{'hp': 64, 'attack': 78, 'defense': 52, 'spatk': 78, 'spdef': 52, 'speed': 81}\n",
      "{'hp': 76, 'attack': 104, 'defense': 71, 'spatk': 104, 'spdef': 71, 'speed': 108}\n",
      "{'hp': 53, 'attack': 51, 'defense': 53, 'spatk': 61, 'spdef': 56, 'speed': 40}\n",
      "{'hp': 64, 'attack': 66, 'defense': 68, 'spatk': 81, 'spdef': 76, 'speed': 50}\n",
      "{'hp': 84, 'attack': 86, 'defense': 88, 'spatk': 111, 'spdef': 101, 'speed': 60}\n",
      "{'hp': 40, 'attack': 55, 'defense': 30, 'spatk': 30, 'spdef': 30, 'speed': 60}\n",
      "{'hp': 55, 'attack': 75, 'defense': 50, 'spatk': 40, 'spdef': 40, 'speed': 80}\n",
      "{'hp': 85, 'attack': 120, 'defense': 70, 'spatk': 50, 'spdef': 60, 'speed': 100}\n",
      "{'hp': 59, 'attack': 45, 'defense': 40, 'spatk': 35, 'spdef': 40, 'speed': 31}\n",
      "{'hp': 79, 'attack': 85, 'defense': 60, 'spatk': 55, 'spdef': 60, 'speed': 71}\n",
      "{'hp': 37, 'attack': 25, 'defense': 41, 'spatk': 25, 'spdef': 41, 'speed': 25}\n",
      "{'hp': 77, 'attack': 85, 'defense': 51, 'spatk': 55, 'spdef': 51, 'speed': 65}\n",
      "{'hp': 45, 'attack': 65, 'defense': 34, 'spatk': 40, 'spdef': 34, 'speed': 45}\n",
      "{'hp': 60, 'attack': 85, 'defense': 49, 'spatk': 60, 'spdef': 49, 'speed': 60}\n",
      "{'hp': 80, 'attack': 120, 'defense': 79, 'spatk': 95, 'spdef': 79, 'speed': 70}\n",
      "{'hp': 40, 'attack': 30, 'defense': 35, 'spatk': 50, 'spdef': 70, 'speed': 55}\n",
      "{'hp': 60, 'attack': 70, 'defense': 65, 'spatk': 125, 'spdef': 105, 'speed': 90}\n",
      "{'hp': 67, 'attack': 125, 'defense': 40, 'spatk': 30, 'spdef': 30, 'speed': 58}\n",
      "{'hp': 97, 'attack': 165, 'defense': 60, 'spatk': 65, 'spdef': 50, 'speed': 58}\n",
      "{'hp': 30, 'attack': 42, 'defense': 118, 'spatk': 42, 'spdef': 88, 'speed': 30}\n",
      "{'hp': 60, 'attack': 52, 'defense': 168, 'spatk': 47, 'spdef': 138, 'speed': 30}\n",
      "{'hp': 40, 'attack': 29, 'defense': 45, 'spatk': 29, 'spdef': 45, 'speed': 36}\n",
      "{'hp': 40, 'attack': 29, 'defense': 45, 'spatk': 29, 'spdef': 45, 'speed': 36}\n",
      "{'hp': 40, 'attack': 29, 'defense': 45, 'spatk': 29, 'spdef': 45, 'speed': 36}\n",
      "{'hp': 60, 'attack': 59, 'defense': 85, 'spatk': 79, 'spdef': 105, 'speed': 36}\n",
      "{'hp': 60, 'attack': 79, 'defense': 105, 'spatk': 59, 'spdef': 85, 'speed': 36}\n",
      "{'hp': 60, 'attack': 69, 'defense': 95, 'spatk': 69, 'spdef': 95, 'speed': 36}\n",
      "{'hp': 70, 'attack': 94, 'defense': 50, 'spatk': 94, 'spdef': 50, 'speed': 66}\n",
      "{'hp': 30, 'attack': 30, 'defense': 42, 'spatk': 30, 'spdef': 42, 'speed': 70}\n",
      "{'hp': 70, 'attack': 80, 'defense': 102, 'spatk': 80, 'spdef': 102, 'speed': 40}\n",
      "{'hp': 60, 'attack': 45, 'defense': 70, 'spatk': 45, 'spdef': 90, 'speed': 95}\n",
      "{'hp': 55, 'attack': 65, 'defense': 35, 'spatk': 60, 'spdef': 30, 'speed': 85}\n",
      "{'hp': 85, 'attack': 105, 'defense': 55, 'spatk': 85, 'spdef': 50, 'speed': 115}\n",
      "{'hp': 45, 'attack': 35, 'defense': 45, 'spatk': 62, 'spdef': 53, 'speed': 35}\n",
      "{'hp': 70, 'attack': 60, 'defense': 70, 'spatk': 87, 'spdef': 78, 'speed': 85}\n",
      "{'hp': 76, 'attack': 48, 'defense': 48, 'spatk': 57, 'spdef': 62, 'speed': 34}\n",
      "{'hp': 111, 'attack': 83, 'defense': 68, 'spatk': 92, 'spdef': 82, 'speed': 39}\n",
      "{'hp': 75, 'attack': 100, 'defense': 66, 'spatk': 60, 'spdef': 66, 'speed': 115}\n",
      "{'hp': 90, 'attack': 50, 'defense': 34, 'spatk': 60, 'spdef': 44, 'speed': 70}\n",
      "{'hp': 150, 'attack': 80, 'defense': 44, 'spatk': 90, 'spdef': 54, 'speed': 80}\n",
      "{'hp': 55, 'attack': 66, 'defense': 44, 'spatk': 44, 'spdef': 56, 'speed': 85}\n",
      "{'hp': 65, 'attack': 76, 'defense': 84, 'spatk': 54, 'spdef': 96, 'speed': 105}\n",
      "{'hp': 65, 'attack': 136, 'defense': 94, 'spatk': 54, 'spdef': 96, 'speed': 135}\n",
      "{'hp': 60, 'attack': 60, 'defense': 60, 'spatk': 105, 'spdef': 105, 'speed': 105}\n",
      "{'hp': 100, 'attack': 125, 'defense': 52, 'spatk': 105, 'spdef': 52, 'speed': 71}\n",
      "{'hp': 49, 'attack': 55, 'defense': 42, 'spatk': 42, 'spdef': 37, 'speed': 85}\n",
      "{'hp': 71, 'attack': 82, 'defense': 64, 'spatk': 64, 'spdef': 59, 'speed': 112}\n",
      "{'hp': 45, 'attack': 30, 'defense': 50, 'spatk': 65, 'spdef': 50, 'speed': 45}\n",
      "{'hp': 63, 'attack': 63, 'defense': 47, 'spatk': 41, 'spdef': 41, 'speed': 74}\n",
      "{'hp': 103, 'attack': 93, 'defense': 67, 'spatk': 71, 'spdef': 61, 'speed': 84}\n",
      "{'hp': 57, 'attack': 24, 'defense': 86, 'spatk': 24, 'spdef': 86, 'speed': 23}\n",
      "{'hp': 67, 'attack': 89, 'defense': 116, 'spatk': 79, 'spdef': 116, 'speed': 33}\n",
      "{'hp': 50, 'attack': 80, 'defense': 95, 'spatk': 10, 'spdef': 45, 'speed': 10}\n",
      "{'hp': 20, 'attack': 25, 'defense': 45, 'spatk': 70, 'spdef': 90, 'speed': 60}\n",
      "{'hp': 100, 'attack': 5, 'defense': 5, 'spatk': 15, 'spdef': 65, 'speed': 30}\n",
      "{'hp': 76, 'attack': 65, 'defense': 45, 'spatk': 92, 'spdef': 42, 'speed': 91}\n",
      "{'hp': 50, 'attack': 92, 'defense': 108, 'spatk': 92, 'spdef': 108, 'speed': 35}\n",
      "{'hp': 58, 'attack': 70, 'defense': 45, 'spatk': 40, 'spdef': 45, 'speed': 42}\n",
      "{'hp': 68, 'attack': 90, 'defense': 65, 'spatk': 50, 'spdef': 55, 'speed': 82}\n",
      "{'hp': 108, 'attack': 130, 'defense': 95, 'spatk': 80, 'spdef': 85, 'speed': 102}\n",
      "{'hp': 108, 'attack': 170, 'defense': 115, 'spatk': 120, 'spdef': 95, 'speed': 92}\n",
      "{'hp': 135, 'attack': 85, 'defense': 40, 'spatk': 40, 'spdef': 85, 'speed': 5}\n",
      "{'hp': 40, 'attack': 70, 'defense': 40, 'spatk': 35, 'spdef': 40, 'speed': 60}\n",
      "{'hp': 70, 'attack': 110, 'defense': 70, 'spatk': 115, 'spdef': 70, 'speed': 90}\n",
      "{'hp': 70, 'attack': 145, 'defense': 88, 'spatk': 140, 'spdef': 70, 'speed': 112}\n",
      "{'hp': 68, 'attack': 72, 'defense': 78, 'spatk': 38, 'spdef': 42, 'speed': 32}\n",
      "{'hp': 108, 'attack': 112, 'defense': 118, 'spatk': 68, 'spdef': 72, 'speed': 47}\n",
      "{'hp': 40, 'attack': 50, 'defense': 90, 'spatk': 30, 'spdef': 55, 'speed': 65}\n",
      "{'hp': 70, 'attack': 90, 'defense': 110, 'spatk': 60, 'spdef': 75, 'speed': 95}\n",
      "{'hp': 48, 'attack': 61, 'defense': 40, 'spatk': 61, 'spdef': 40, 'speed': 50}\n",
      "{'hp': 83, 'attack': 106, 'defense': 65, 'spatk': 86, 'spdef': 65, 'speed': 85}\n",
      "{'hp': 74, 'attack': 100, 'defense': 72, 'spatk': 90, 'spdef': 72, 'speed': 46}\n",
      "{'hp': 49, 'attack': 49, 'defense': 56, 'spatk': 49, 'spdef': 61, 'speed': 66}\n",
      "{'hp': 69, 'attack': 69, 'defense': 76, 'spatk': 69, 'spdef': 86, 'speed': 91}\n",
      "{'hp': 45, 'attack': 20, 'defense': 50, 'spatk': 60, 'spdef': 120, 'speed': 50}\n",
      "{'hp': 60, 'attack': 62, 'defense': 50, 'spatk': 62, 'spdef': 60, 'speed': 40}\n",
      "{'hp': 90, 'attack': 92, 'defense': 75, 'spatk': 92, 'spdef': 85, 'speed': 60}\n",
      "{'hp': 90, 'attack': 132, 'defense': 105, 'spatk': 132, 'spdef': 105, 'speed': 30}\n",
      "{'hp': 70, 'attack': 120, 'defense': 65, 'spatk': 45, 'spdef': 85, 'speed': 125}\n",
      "{'hp': 70, 'attack': 70, 'defense': 115, 'spatk': 130, 'spdef': 90, 'speed': 60}\n",
      "{'hp': 110, 'attack': 85, 'defense': 95, 'spatk': 80, 'spdef': 95, 'speed': 50}\n",
      "{'hp': 115, 'attack': 140, 'defense': 130, 'spatk': 55, 'spdef': 55, 'speed': 40}\n",
      "{'hp': 100, 'attack': 100, 'defense': 125, 'spatk': 110, 'spdef': 50, 'speed': 50}\n",
      "{'hp': 75, 'attack': 123, 'defense': 67, 'spatk': 95, 'spdef': 85, 'speed': 95}\n",
      "{'hp': 75, 'attack': 95, 'defense': 67, 'spatk': 125, 'spdef': 95, 'speed': 83}\n",
      "{'hp': 85, 'attack': 50, 'defense': 95, 'spatk': 120, 'spdef': 115, 'speed': 80}\n",
      "{'hp': 86, 'attack': 76, 'defense': 86, 'spatk': 116, 'spdef': 56, 'speed': 95}\n",
      "{'hp': 65, 'attack': 110, 'defense': 130, 'spatk': 60, 'spdef': 65, 'speed': 95}\n",
      "{'hp': 65, 'attack': 60, 'defense': 110, 'spatk': 130, 'spdef': 95, 'speed': 65}\n",
      "{'hp': 75, 'attack': 95, 'defense': 125, 'spatk': 45, 'spdef': 75, 'speed': 95}\n",
      "{'hp': 110, 'attack': 130, 'defense': 80, 'spatk': 70, 'spdef': 60, 'speed': 80}\n",
      "{'hp': 85, 'attack': 80, 'defense': 70, 'spatk': 135, 'spdef': 75, 'speed': 90}\n",
      "{'hp': 68, 'attack': 125, 'defense': 65, 'spatk': 65, 'spdef': 115, 'speed': 80}\n",
      "{'hp': 68, 'attack': 165, 'defense': 95, 'spatk': 65, 'spdef': 115, 'speed': 110}\n",
      "{'hp': 60, 'attack': 55, 'defense': 145, 'spatk': 75, 'spdef': 150, 'speed': 40}\n",
      "{'hp': 45, 'attack': 100, 'defense': 135, 'spatk': 65, 'spdef': 135, 'speed': 45}\n",
      "{'hp': 70, 'attack': 80, 'defense': 70, 'spatk': 80, 'spdef': 70, 'speed': 110}\n",
      "{'hp': 50, 'attack': 50, 'defense': 77, 'spatk': 95, 'spdef': 77, 'speed': 91}\n",
      "{'hp': 50, 'attack': 65, 'defense': 107, 'spatk': 105, 'spdef': 107, 'speed': 86}\n",
      "{'hp': 50, 'attack': 65, 'defense': 107, 'spatk': 105, 'spdef': 107, 'speed': 86}\n",
      "{'hp': 50, 'attack': 65, 'defense': 107, 'spatk': 105, 'spdef': 107, 'speed': 86}\n",
      "{'hp': 50, 'attack': 65, 'defense': 107, 'spatk': 105, 'spdef': 107, 'speed': 86}\n",
      "{'hp': 50, 'attack': 65, 'defense': 107, 'spatk': 105, 'spdef': 107, 'speed': 86}\n",
      "{'hp': 75, 'attack': 75, 'defense': 130, 'spatk': 75, 'spdef': 130, 'speed': 95}\n",
      "{'hp': 80, 'attack': 105, 'defense': 105, 'spatk': 105, 'spdef': 105, 'speed': 80}\n",
      "{'hp': 75, 'attack': 125, 'defense': 70, 'spatk': 125, 'spdef': 70, 'speed': 115}\n",
      "{'hp': 100, 'attack': 120, 'defense': 120, 'spatk': 150, 'spdef': 100, 'speed': 90}\n",
      "{'hp': 100, 'attack': 100, 'defense': 120, 'spatk': 150, 'spdef': 120, 'speed': 90}\n",
      "{'hp': 90, 'attack': 120, 'defense': 100, 'spatk': 150, 'spdef': 120, 'speed': 100}\n",
      "{'hp': 90, 'attack': 100, 'defense': 100, 'spatk': 150, 'spdef': 120, 'speed': 120}\n",
      "{'hp': 91, 'attack': 90, 'defense': 106, 'spatk': 130, 'spdef': 106, 'speed': 77}\n",
      "{'hp': 110, 'attack': 160, 'defense': 110, 'spatk': 80, 'spdef': 110, 'speed': 100}\n",
      "{'hp': 150, 'attack': 100, 'defense': 120, 'spatk': 100, 'spdef': 120, 'speed': 90}\n",
      "{'hp': 150, 'attack': 120, 'defense': 100, 'spatk': 120, 'spdef': 100, 'speed': 90}\n",
      "{'hp': 120, 'attack': 70, 'defense': 110, 'spatk': 75, 'spdef': 120, 'speed': 85}\n",
      "{'hp': 80, 'attack': 80, 'defense': 80, 'spatk': 80, 'spdef': 80, 'speed': 80}\n",
      "{'hp': 100, 'attack': 100, 'defense': 100, 'spatk': 100, 'spdef': 100, 'speed': 100}\n",
      "{'hp': 70, 'attack': 90, 'defense': 90, 'spatk': 135, 'spdef': 90, 'speed': 125}\n",
      "{'hp': 100, 'attack': 100, 'defense': 100, 'spatk': 100, 'spdef': 100, 'speed': 100}\n",
      "{'hp': 100, 'attack': 103, 'defense': 75, 'spatk': 120, 'spdef': 75, 'speed': 127}\n",
      "{'hp': 120, 'attack': 120, 'defense': 120, 'spatk': 120, 'spdef': 120, 'speed': 120}\n",
      "{'hp': 100, 'attack': 100, 'defense': 100, 'spatk': 100, 'spdef': 100, 'speed': 100}\n",
      "{'hp': 45, 'attack': 45, 'defense': 55, 'spatk': 45, 'spdef': 55, 'speed': 63}\n",
      "{'hp': 60, 'attack': 60, 'defense': 75, 'spatk': 60, 'spdef': 75, 'speed': 83}\n",
      "{'hp': 75, 'attack': 75, 'defense': 95, 'spatk': 75, 'spdef': 95, 'speed': 113}\n",
      "{'hp': 65, 'attack': 63, 'defense': 45, 'spatk': 45, 'spdef': 45, 'speed': 45}\n",
      "{'hp': 90, 'attack': 93, 'defense': 55, 'spatk': 70, 'spdef': 55, 'speed': 55}\n",
      "{'hp': 110, 'attack': 123, 'defense': 65, 'spatk': 100, 'spdef': 65, 'speed': 65}\n",
      "{'hp': 55, 'attack': 55, 'defense': 45, 'spatk': 63, 'spdef': 45, 'speed': 45}\n",
      "{'hp': 75, 'attack': 75, 'defense': 60, 'spatk': 83, 'spdef': 60, 'speed': 60}\n",
      "{'hp': 95, 'attack': 100, 'defense': 85, 'spatk': 108, 'spdef': 70, 'speed': 70}\n",
      "{'hp': 90, 'attack': 108, 'defense': 80, 'spatk': 100, 'spdef': 65, 'speed': 85}\n",
      "{'hp': 45, 'attack': 55, 'defense': 39, 'spatk': 35, 'spdef': 39, 'speed': 42}\n",
      "{'hp': 60, 'attack': 85, 'defense': 69, 'spatk': 60, 'spdef': 69, 'speed': 77}\n",
      "{'hp': 45, 'attack': 60, 'defense': 45, 'spatk': 25, 'spdef': 45, 'speed': 55}\n",
      "{'hp': 65, 'attack': 80, 'defense': 65, 'spatk': 35, 'spdef': 65, 'speed': 60}\n",
      "{'hp': 85, 'attack': 110, 'defense': 90, 'spatk': 45, 'spdef': 90, 'speed': 80}\n",
      "{'hp': 41, 'attack': 50, 'defense': 37, 'spatk': 50, 'spdef': 37, 'speed': 66}\n",
      "{'hp': 64, 'attack': 88, 'defense': 50, 'spatk': 88, 'spdef': 50, 'speed': 106}\n",
      "{'hp': 50, 'attack': 53, 'defense': 48, 'spatk': 53, 'spdef': 48, 'speed': 64}\n",
      "{'hp': 75, 'attack': 98, 'defense': 63, 'spatk': 98, 'spdef': 63, 'speed': 101}\n",
      "{'hp': 50, 'attack': 53, 'defense': 48, 'spatk': 53, 'spdef': 48, 'speed': 64}\n",
      "{'hp': 75, 'attack': 98, 'defense': 63, 'spatk': 98, 'spdef': 63, 'speed': 101}\n",
      "{'hp': 50, 'attack': 53, 'defense': 48, 'spatk': 53, 'spdef': 48, 'speed': 64}\n",
      "{'hp': 75, 'attack': 98, 'defense': 63, 'spatk': 98, 'spdef': 63, 'speed': 101}\n",
      "{'hp': 76, 'attack': 25, 'defense': 45, 'spatk': 67, 'spdef': 55, 'speed': 24}\n",
      "{'hp': 116, 'attack': 55, 'defense': 85, 'spatk': 107, 'spdef': 95, 'speed': 29}\n",
      "{'hp': 50, 'attack': 55, 'defense': 50, 'spatk': 36, 'spdef': 30, 'speed': 43}\n",
      "{'hp': 62, 'attack': 77, 'defense': 62, 'spatk': 50, 'spdef': 42, 'speed': 65}\n",
      "{'hp': 80, 'attack': 115, 'defense': 80, 'spatk': 65, 'spdef': 55, 'speed': 93}\n",
      "{'hp': 45, 'attack': 60, 'defense': 32, 'spatk': 50, 'spdef': 32, 'speed': 76}\n",
      "{'hp': 75, 'attack': 100, 'defense': 63, 'spatk': 80, 'spdef': 63, 'speed': 116}\n",
      "{'hp': 55, 'attack': 75, 'defense': 85, 'spatk': 25, 'spdef': 25, 'speed': 15}\n",
      "{'hp': 70, 'attack': 105, 'defense': 105, 'spatk': 50, 'spdef': 40, 'speed': 20}\n",
      "{'hp': 85, 'attack': 135, 'defense': 130, 'spatk': 60, 'spdef': 80, 'speed': 25}\n",
      "{'hp': 65, 'attack': 45, 'defense': 43, 'spatk': 55, 'spdef': 43, 'speed': 72}\n",
      "{'hp': 67, 'attack': 57, 'defense': 55, 'spatk': 77, 'spdef': 55, 'speed': 114}\n",
      "{'hp': 60, 'attack': 85, 'defense': 40, 'spatk': 30, 'spdef': 45, 'speed': 68}\n",
      "{'hp': 110, 'attack': 135, 'defense': 60, 'spatk': 50, 'spdef': 65, 'speed': 88}\n",
      "{'hp': 103, 'attack': 60, 'defense': 86, 'spatk': 60, 'spdef': 86, 'speed': 50}\n",
      "{'hp': 103, 'attack': 60, 'defense': 126, 'spatk': 80, 'spdef': 126, 'speed': 50}\n",
      "{'hp': 75, 'attack': 80, 'defense': 55, 'spatk': 25, 'spdef': 35, 'speed': 35}\n",
      "{'hp': 85, 'attack': 105, 'defense': 85, 'spatk': 40, 'spdef': 50, 'speed': 40}\n",
      "{'hp': 105, 'attack': 140, 'defense': 95, 'spatk': 55, 'spdef': 65, 'speed': 45}\n",
      "{'hp': 50, 'attack': 50, 'defense': 40, 'spatk': 50, 'spdef': 40, 'speed': 64}\n",
      "{'hp': 75, 'attack': 65, 'defense': 55, 'spatk': 65, 'spdef': 55, 'speed': 69}\n",
      "{'hp': 105, 'attack': 95, 'defense': 75, 'spatk': 85, 'spdef': 75, 'speed': 74}\n",
      "{'hp': 120, 'attack': 100, 'defense': 85, 'spatk': 30, 'spdef': 85, 'speed': 45}\n",
      "{'hp': 75, 'attack': 125, 'defense': 75, 'spatk': 30, 'spdef': 75, 'speed': 85}\n",
      "{'hp': 45, 'attack': 53, 'defense': 70, 'spatk': 40, 'spdef': 60, 'speed': 42}\n",
      "{'hp': 55, 'attack': 63, 'defense': 90, 'spatk': 50, 'spdef': 80, 'speed': 42}\n",
      "{'hp': 75, 'attack': 103, 'defense': 80, 'spatk': 70, 'spdef': 80, 'speed': 92}\n",
      "{'hp': 30, 'attack': 45, 'defense': 59, 'spatk': 30, 'spdef': 39, 'speed': 57}\n",
      "{'hp': 40, 'attack': 55, 'defense': 99, 'spatk': 40, 'spdef': 79, 'speed': 47}\n",
      "{'hp': 60, 'attack': 100, 'defense': 89, 'spatk': 55, 'spdef': 69, 'speed': 112}\n",
      "{'hp': 40, 'attack': 27, 'defense': 60, 'spatk': 37, 'spdef': 50, 'speed': 66}\n",
      "{'hp': 60, 'attack': 67, 'defense': 85, 'spatk': 77, 'spdef': 75, 'speed': 116}\n",
      "{'hp': 45, 'attack': 35, 'defense': 50, 'spatk': 70, 'spdef': 50, 'speed': 30}\n",
      "{'hp': 70, 'attack': 60, 'defense': 75, 'spatk': 110, 'spdef': 75, 'speed': 90}\n",
      "{'hp': 70, 'attack': 105, 'defense': 75, 'spatk': 50, 'spdef': 75, 'speed': 105}\n",
      "{'hp': 70, 'attack': 92, 'defense': 65, 'spatk': 80, 'spdef': 55, 'speed': 98}\n",
      "{'hp': 70, 'attack': 92, 'defense': 65, 'spatk': 80, 'spdef': 55, 'speed': 98}\n",
      "{'hp': 70, 'attack': 92, 'defense': 65, 'spatk': 80, 'spdef': 55, 'speed': 98}\n",
      "{'hp': 50, 'attack': 72, 'defense': 35, 'spatk': 35, 'spdef': 35, 'speed': 65}\n",
      "{'hp': 60, 'attack': 82, 'defense': 45, 'spatk': 45, 'spdef': 45, 'speed': 74}\n",
      "{'hp': 95, 'attack': 117, 'defense': 80, 'spatk': 65, 'spdef': 70, 'speed': 92}\n",
      "{'hp': 70, 'attack': 90, 'defense': 45, 'spatk': 15, 'spdef': 45, 'speed': 50}\n",
      "{'hp': 70, 'attack': 90, 'defense': 45, 'spatk': 15, 'spdef': 45, 'speed': 50}\n",
      "{'hp': 105, 'attack': 140, 'defense': 55, 'spatk': 30, 'spdef': 55, 'speed': 95}\n",
      "{'hp': 105, 'attack': 30, 'defense': 105, 'spatk': 140, 'spdef': 105, 'speed': 55}\n",
      "{'hp': 105, 'attack': 140, 'defense': 55, 'spatk': 30, 'spdef': 55, 'speed': 95}\n",
      "{'hp': 105, 'attack': 160, 'defense': 55, 'spatk': 30, 'spdef': 55, 'speed': 135}\n",
      "{'hp': 75, 'attack': 86, 'defense': 67, 'spatk': 106, 'spdef': 67, 'speed': 60}\n",
      "{'hp': 50, 'attack': 65, 'defense': 85, 'spatk': 35, 'spdef': 35, 'speed': 55}\n",
      "{'hp': 70, 'attack': 105, 'defense': 125, 'spatk': 65, 'spdef': 75, 'speed': 45}\n",
      "{'hp': 50, 'attack': 75, 'defense': 70, 'spatk': 35, 'spdef': 70, 'speed': 48}\n",
      "{'hp': 65, 'attack': 90, 'defense': 115, 'spatk': 45, 'spdef': 115, 'speed': 58}\n",
      "{'hp': 72, 'attack': 58, 'defense': 80, 'spatk': 103, 'spdef': 80, 'speed': 97}\n",
      "{'hp': 38, 'attack': 30, 'defense': 85, 'spatk': 55, 'spdef': 65, 'speed': 30}\n",
      "{'hp': 38, 'attack': 55, 'defense': 85, 'spatk': 30, 'spdef': 65, 'speed': 30}\n",
      "{'hp': 58, 'attack': 50, 'defense': 145, 'spatk': 95, 'spdef': 105, 'speed': 30}\n",
      "{'hp': 54, 'attack': 78, 'defense': 103, 'spatk': 53, 'spdef': 45, 'speed': 22}\n",
      "{'hp': 74, 'attack': 108, 'defense': 133, 'spatk': 83, 'spdef': 65, 'speed': 32}\n",
      "{'hp': 55, 'attack': 112, 'defense': 45, 'spatk': 74, 'spdef': 45, 'speed': 70}\n",
      "{'hp': 75, 'attack': 140, 'defense': 65, 'spatk': 112, 'spdef': 65, 'speed': 110}\n",
      "{'hp': 50, 'attack': 50, 'defense': 62, 'spatk': 40, 'spdef': 62, 'speed': 65}\n",
      "{'hp': 80, 'attack': 95, 'defense': 82, 'spatk': 60, 'spdef': 82, 'speed': 75}\n",
      "{'hp': 40, 'attack': 65, 'defense': 40, 'spatk': 80, 'spdef': 40, 'speed': 65}\n",
      "{'hp': 35, 'attack': 60, 'defense': 40, 'spatk': 85, 'spdef': 40, 'speed': 70}\n",
      "{'hp': 60, 'attack': 105, 'defense': 60, 'spatk': 120, 'spdef': 60, 'speed': 105}\n",
      "{'hp': 55, 'attack': 100, 'defense': 60, 'spatk': 125, 'spdef': 60, 'speed': 110}\n",
      "{'hp': 55, 'attack': 50, 'defense': 40, 'spatk': 40, 'spdef': 40, 'speed': 75}\n",
      "{'hp': 75, 'attack': 95, 'defense': 60, 'spatk': 65, 'spdef': 60, 'speed': 115}\n",
      "{'hp': 45, 'attack': 30, 'defense': 50, 'spatk': 55, 'spdef': 65, 'speed': 45}\n",
      "{'hp': 60, 'attack': 45, 'defense': 70, 'spatk': 75, 'spdef': 85, 'speed': 55}\n",
      "{'hp': 70, 'attack': 55, 'defense': 95, 'spatk': 95, 'spdef': 110, 'speed': 65}\n",
      "{'hp': 45, 'attack': 30, 'defense': 40, 'spatk': 105, 'spdef': 50, 'speed': 20}\n",
      "{'hp': 65, 'attack': 40, 'defense': 50, 'spatk': 125, 'spdef': 60, 'speed': 30}\n",
      "{'hp': 110, 'attack': 65, 'defense': 75, 'spatk': 125, 'spdef': 85, 'speed': 30}\n",
      "{'hp': 62, 'attack': 44, 'defense': 50, 'spatk': 44, 'spdef': 50, 'speed': 55}\n",
      "{'hp': 75, 'attack': 87, 'defense': 63, 'spatk': 87, 'spdef': 63, 'speed': 98}\n",
      "{'hp': 36, 'attack': 50, 'defense': 50, 'spatk': 65, 'spdef': 60, 'speed': 44}\n",
      "{'hp': 51, 'attack': 65, 'defense': 65, 'spatk': 80, 'spdef': 75, 'speed': 59}\n",
      "{'hp': 71, 'attack': 95, 'defense': 85, 'spatk': 110, 'spdef': 95, 'speed': 79}\n",
      "{'hp': 60, 'attack': 60, 'defense': 50, 'spatk': 40, 'spdef': 50, 'speed': 75}\n",
      "{'hp': 80, 'attack': 100, 'defense': 70, 'spatk': 60, 'spdef': 70, 'speed': 95}\n",
      "{'hp': 55, 'attack': 75, 'defense': 60, 'spatk': 75, 'spdef': 60, 'speed': 103}\n",
      "{'hp': 50, 'attack': 75, 'defense': 45, 'spatk': 40, 'spdef': 45, 'speed': 60}\n",
      "{'hp': 70, 'attack': 135, 'defense': 105, 'spatk': 60, 'spdef': 105, 'speed': 20}\n",
      "{'hp': 69, 'attack': 55, 'defense': 45, 'spatk': 55, 'spdef': 55, 'speed': 15}\n",
      "{'hp': 114, 'attack': 85, 'defense': 70, 'spatk': 85, 'spdef': 80, 'speed': 30}\n",
      "{'hp': 55, 'attack': 40, 'defense': 50, 'spatk': 65, 'spdef': 85, 'speed': 40}\n",
      "{'hp': 100, 'attack': 60, 'defense': 70, 'spatk': 85, 'spdef': 105, 'speed': 60}\n",
      "{'hp': 165, 'attack': 75, 'defense': 80, 'spatk': 40, 'spdef': 45, 'speed': 65}\n",
      "{'hp': 50, 'attack': 47, 'defense': 50, 'spatk': 57, 'spdef': 50, 'speed': 65}\n",
      "{'hp': 70, 'attack': 77, 'defense': 60, 'spatk': 97, 'spdef': 60, 'speed': 108}\n",
      "{'hp': 44, 'attack': 50, 'defense': 91, 'spatk': 24, 'spdef': 86, 'speed': 10}\n",
      "{'hp': 74, 'attack': 94, 'defense': 131, 'spatk': 54, 'spdef': 116, 'speed': 20}\n",
      "{'hp': 40, 'attack': 55, 'defense': 70, 'spatk': 45, 'spdef': 60, 'speed': 30}\n",
      "{'hp': 60, 'attack': 80, 'defense': 95, 'spatk': 70, 'spdef': 85, 'speed': 50}\n",
      "{'hp': 60, 'attack': 100, 'defense': 115, 'spatk': 70, 'spdef': 85, 'speed': 90}\n",
      "{'hp': 35, 'attack': 55, 'defense': 40, 'spatk': 45, 'spdef': 40, 'speed': 60}\n",
      "{'hp': 65, 'attack': 85, 'defense': 70, 'spatk': 75, 'spdef': 70, 'speed': 40}\n",
      "{'hp': 85, 'attack': 115, 'defense': 80, 'spatk': 105, 'spdef': 80, 'speed': 50}\n",
      "{'hp': 55, 'attack': 55, 'defense': 55, 'spatk': 85, 'spdef': 55, 'speed': 30}\n",
      "{'hp': 75, 'attack': 75, 'defense': 75, 'spatk': 125, 'spdef': 95, 'speed': 40}\n",
      "{'hp': 50, 'attack': 30, 'defense': 55, 'spatk': 65, 'spdef': 55, 'speed': 20}\n",
      "{'hp': 60, 'attack': 40, 'defense': 60, 'spatk': 95, 'spdef': 60, 'speed': 55}\n",
      "{'hp': 60, 'attack': 55, 'defense': 90, 'spatk': 145, 'spdef': 90, 'speed': 80}\n",
      "{'hp': 46, 'attack': 87, 'defense': 60, 'spatk': 30, 'spdef': 40, 'speed': 57}\n",
      "{'hp': 66, 'attack': 117, 'defense': 70, 'spatk': 40, 'spdef': 50, 'speed': 67}\n",
      "{'hp': 76, 'attack': 147, 'defense': 90, 'spatk': 60, 'spdef': 70, 'speed': 97}\n",
      "{'hp': 55, 'attack': 70, 'defense': 40, 'spatk': 60, 'spdef': 40, 'speed': 40}\n",
      "{'hp': 95, 'attack': 130, 'defense': 80, 'spatk': 70, 'spdef': 80, 'speed': 50}\n",
      "{'hp': 80, 'attack': 50, 'defense': 50, 'spatk': 95, 'spdef': 135, 'speed': 105}\n",
      "{'hp': 50, 'attack': 40, 'defense': 85, 'spatk': 40, 'spdef': 65, 'speed': 25}\n",
      "{'hp': 80, 'attack': 70, 'defense': 40, 'spatk': 100, 'spdef': 60, 'speed': 145}\n",
      "{'hp': 109, 'attack': 66, 'defense': 84, 'spatk': 81, 'spdef': 99, 'speed': 32}\n",
      "{'hp': 109, 'attack': 81, 'defense': 99, 'spatk': 66, 'spdef': 84, 'speed': 32}\n",
      "{'hp': 45, 'attack': 85, 'defense': 50, 'spatk': 55, 'spdef': 50, 'speed': 65}\n",
      "{'hp': 65, 'attack': 125, 'defense': 60, 'spatk': 95, 'spdef': 60, 'speed': 105}\n",
      "{'hp': 77, 'attack': 120, 'defense': 90, 'spatk': 60, 'spdef': 90, 'speed': 48}\n",
      "{'hp': 59, 'attack': 74, 'defense': 50, 'spatk': 35, 'spdef': 50, 'speed': 35}\n",
      "{'hp': 89, 'attack': 124, 'defense': 80, 'spatk': 55, 'spdef': 80, 'speed': 55}\n",
      "{'hp': 45, 'attack': 85, 'defense': 70, 'spatk': 40, 'spdef': 40, 'speed': 60}\n",
      "{'hp': 65, 'attack': 125, 'defense': 100, 'spatk': 60, 'spdef': 70, 'speed': 70}\n",
      "{'hp': 95, 'attack': 110, 'defense': 95, 'spatk': 40, 'spdef': 95, 'speed': 55}\n",
      "{'hp': 70, 'attack': 83, 'defense': 50, 'spatk': 37, 'spdef': 50, 'speed': 60}\n",
      "{'hp': 100, 'attack': 123, 'defense': 75, 'spatk': 57, 'spdef': 75, 'speed': 80}\n",
      "{'hp': 110, 'attack': 83, 'defense': 70, 'spatk': 112, 'spdef': 70, 'speed': 65}\n",
      "{'hp': 70, 'attack': 55, 'defense': 75, 'spatk': 45, 'spdef': 65, 'speed': 60}\n",
      "{'hp': 110, 'attack': 65, 'defense': 105, 'spatk': 55, 'spdef': 95, 'speed': 80}\n",
      "{'hp': 85, 'attack': 97, 'defense': 66, 'spatk': 105, 'spdef': 66, 'speed': 65}\n",
      "{'hp': 58, 'attack': 109, 'defense': 112, 'spatk': 48, 'spdef': 48, 'speed': 109}\n",
      "{'hp': 52, 'attack': 65, 'defense': 50, 'spatk': 45, 'spdef': 50, 'speed': 38}\n",
      "{'hp': 72, 'attack': 85, 'defense': 70, 'spatk': 65, 'spdef': 70, 'speed': 58}\n",
      "{'hp': 92, 'attack': 105, 'defense': 90, 'spatk': 125, 'spdef': 90, 'speed': 98}\n",
      "{'hp': 55, 'attack': 85, 'defense': 55, 'spatk': 50, 'spdef': 55, 'speed': 60}\n",
      "{'hp': 85, 'attack': 60, 'defense': 65, 'spatk': 135, 'spdef': 105, 'speed': 100}\n",
      "{'hp': 91, 'attack': 90, 'defense': 129, 'spatk': 90, 'spdef': 72, 'speed': 108}\n",
      "{'hp': 91, 'attack': 129, 'defense': 90, 'spatk': 72, 'spdef': 90, 'speed': 108}\n",
      "{'hp': 91, 'attack': 90, 'defense': 72, 'spatk': 90, 'spdef': 129, 'speed': 108}\n",
      "{'hp': 79, 'attack': 115, 'defense': 70, 'spatk': 125, 'spdef': 80, 'speed': 111}\n",
      "{'hp': 79, 'attack': 100, 'defense': 80, 'spatk': 110, 'spdef': 90, 'speed': 121}\n",
      "{'hp': 79, 'attack': 115, 'defense': 70, 'spatk': 125, 'spdef': 80, 'speed': 111}\n",
      "{'hp': 79, 'attack': 105, 'defense': 70, 'spatk': 145, 'spdef': 80, 'speed': 101}\n",
      "{'hp': 100, 'attack': 120, 'defense': 100, 'spatk': 150, 'spdef': 120, 'speed': 90}\n",
      "{'hp': 100, 'attack': 150, 'defense': 120, 'spatk': 120, 'spdef': 100, 'speed': 90}\n",
      "{'hp': 89, 'attack': 125, 'defense': 90, 'spatk': 115, 'spdef': 80, 'speed': 101}\n",
      "{'hp': 89, 'attack': 145, 'defense': 90, 'spatk': 105, 'spdef': 80, 'speed': 91}\n",
      "{'hp': 125, 'attack': 130, 'defense': 90, 'spatk': 130, 'spdef': 90, 'speed': 95}\n",
      "{'hp': 125, 'attack': 120, 'defense': 90, 'spatk': 170, 'spdef': 100, 'speed': 95}\n",
      "{'hp': 125, 'attack': 170, 'defense': 100, 'spatk': 120, 'spdef': 90, 'speed': 95}\n",
      "{'hp': 91, 'attack': 72, 'defense': 90, 'spatk': 129, 'spdef': 90, 'speed': 108}\n",
      "{'hp': 91, 'attack': 72, 'defense': 90, 'spatk': 129, 'spdef': 90, 'speed': 108}\n",
      "{'hp': 100, 'attack': 77, 'defense': 77, 'spatk': 128, 'spdef': 128, 'speed': 90}\n",
      "{'hp': 100, 'attack': 128, 'defense': 90, 'spatk': 77, 'spdef': 77, 'speed': 128}\n",
      "{'hp': 71, 'attack': 120, 'defense': 95, 'spatk': 120, 'spdef': 95, 'speed': 99}\n",
      "{'hp': 56, 'attack': 61, 'defense': 65, 'spatk': 48, 'spdef': 45, 'speed': 38}\n",
      "{'hp': 61, 'attack': 78, 'defense': 95, 'spatk': 56, 'spdef': 58, 'speed': 57}\n",
      "{'hp': 88, 'attack': 107, 'defense': 122, 'spatk': 74, 'spdef': 75, 'speed': 64}\n",
      "{'hp': 40, 'attack': 45, 'defense': 40, 'spatk': 62, 'spdef': 60, 'speed': 60}\n",
      "{'hp': 59, 'attack': 59, 'defense': 58, 'spatk': 90, 'spdef': 70, 'speed': 73}\n",
      "{'hp': 75, 'attack': 69, 'defense': 72, 'spatk': 114, 'spdef': 100, 'speed': 104}\n",
      "{'hp': 41, 'attack': 56, 'defense': 40, 'spatk': 62, 'spdef': 44, 'speed': 71}\n",
      "{'hp': 54, 'attack': 63, 'defense': 52, 'spatk': 83, 'spdef': 56, 'speed': 97}\n",
      "{'hp': 72, 'attack': 95, 'defense': 67, 'spatk': 103, 'spdef': 71, 'speed': 122}\n",
      "{'hp': 72, 'attack': 145, 'defense': 67, 'spatk': 153, 'spdef': 71, 'speed': 132}\n",
      "{'hp': 38, 'attack': 36, 'defense': 38, 'spatk': 32, 'spdef': 36, 'speed': 57}\n",
      "{'hp': 85, 'attack': 56, 'defense': 77, 'spatk': 50, 'spdef': 77, 'speed': 78}\n",
      "{'hp': 45, 'attack': 50, 'defense': 43, 'spatk': 40, 'spdef': 38, 'speed': 62}\n",
      "{'hp': 62, 'attack': 73, 'defense': 55, 'spatk': 56, 'spdef': 52, 'speed': 84}\n",
      "{'hp': 78, 'attack': 81, 'defense': 71, 'spatk': 74, 'spdef': 69, 'speed': 126}\n",
      "{'hp': 38, 'attack': 35, 'defense': 40, 'spatk': 27, 'spdef': 25, 'speed': 35}\n",
      "{'hp': 45, 'attack': 22, 'defense': 60, 'spatk': 27, 'spdef': 30, 'speed': 29}\n",
      "{'hp': 80, 'attack': 52, 'defense': 50, 'spatk': 90, 'spdef': 50, 'speed': 89}\n",
      "{'hp': 62, 'attack': 50, 'defense': 58, 'spatk': 73, 'spdef': 54, 'speed': 72}\n",
      "{'hp': 86, 'attack': 68, 'defense': 72, 'spatk': 109, 'spdef': 66, 'speed': 106}\n",
      "{'hp': 44, 'attack': 38, 'defense': 39, 'spatk': 61, 'spdef': 79, 'speed': 42}\n",
      "{'hp': 54, 'attack': 45, 'defense': 47, 'spatk': 75, 'spdef': 98, 'speed': 52}\n",
      "{'hp': 78, 'attack': 65, 'defense': 68, 'spatk': 112, 'spdef': 154, 'speed': 75}\n",
      "{'hp': 66, 'attack': 65, 'defense': 48, 'spatk': 62, 'spdef': 57, 'speed': 52}\n",
      "{'hp': 123, 'attack': 100, 'defense': 62, 'spatk': 97, 'spdef': 81, 'speed': 68}\n",
      "{'hp': 67, 'attack': 82, 'defense': 62, 'spatk': 46, 'spdef': 48, 'speed': 43}\n",
      "{'hp': 95, 'attack': 124, 'defense': 78, 'spatk': 69, 'spdef': 71, 'speed': 58}\n",
      "{'hp': 75, 'attack': 80, 'defense': 60, 'spatk': 65, 'spdef': 90, 'speed': 102}\n",
      "{'hp': 62, 'attack': 48, 'defense': 54, 'spatk': 63, 'spdef': 60, 'speed': 68}\n",
      "{'hp': 74, 'attack': 48, 'defense': 76, 'spatk': 83, 'spdef': 81, 'speed': 104}\n",
      "{'hp': 74, 'attack': 48, 'defense': 76, 'spatk': 83, 'spdef': 81, 'speed': 104}\n",
      "{'hp': 45, 'attack': 80, 'defense': 100, 'spatk': 35, 'spdef': 37, 'speed': 28}\n",
      "{'hp': 59, 'attack': 110, 'defense': 150, 'spatk': 45, 'spdef': 49, 'speed': 35}\n",
      "{'hp': 60, 'attack': 50, 'defense': 140, 'spatk': 50, 'spdef': 140, 'speed': 60}\n",
      "{'hp': 60, 'attack': 140, 'defense': 50, 'spatk': 140, 'spdef': 50, 'speed': 60}\n",
      "{'hp': 78, 'attack': 52, 'defense': 60, 'spatk': 63, 'spdef': 65, 'speed': 23}\n",
      "{'hp': 101, 'attack': 72, 'defense': 72, 'spatk': 99, 'spdef': 89, 'speed': 29}\n",
      "{'hp': 62, 'attack': 48, 'defense': 66, 'spatk': 59, 'spdef': 57, 'speed': 49}\n",
      "{'hp': 82, 'attack': 80, 'defense': 86, 'spatk': 85, 'spdef': 75, 'speed': 72}\n",
      "{'hp': 53, 'attack': 54, 'defense': 53, 'spatk': 37, 'spdef': 46, 'speed': 45}\n",
      "{'hp': 86, 'attack': 92, 'defense': 88, 'spatk': 68, 'spdef': 75, 'speed': 73}\n",
      "{'hp': 42, 'attack': 52, 'defense': 67, 'spatk': 39, 'spdef': 56, 'speed': 50}\n",
      "{'hp': 72, 'attack': 105, 'defense': 115, 'spatk': 54, 'spdef': 86, 'speed': 68}\n",
      "{'hp': 50, 'attack': 60, 'defense': 60, 'spatk': 60, 'spdef': 60, 'speed': 30}\n",
      "{'hp': 65, 'attack': 75, 'defense': 90, 'spatk': 97, 'spdef': 123, 'speed': 44}\n",
      "{'hp': 50, 'attack': 53, 'defense': 62, 'spatk': 58, 'spdef': 63, 'speed': 44}\n",
      "{'hp': 71, 'attack': 73, 'defense': 88, 'spatk': 120, 'spdef': 89, 'speed': 59}\n",
      "{'hp': 44, 'attack': 38, 'defense': 33, 'spatk': 61, 'spdef': 43, 'speed': 70}\n",
      "{'hp': 62, 'attack': 55, 'defense': 52, 'spatk': 109, 'spdef': 94, 'speed': 109}\n",
      "{'hp': 58, 'attack': 89, 'defense': 77, 'spatk': 45, 'spdef': 45, 'speed': 48}\n",
      "{'hp': 82, 'attack': 121, 'defense': 119, 'spatk': 69, 'spdef': 59, 'speed': 71}\n",
      "{'hp': 77, 'attack': 59, 'defense': 50, 'spatk': 67, 'spdef': 63, 'speed': 46}\n",
      "{'hp': 123, 'attack': 77, 'defense': 72, 'spatk': 99, 'spdef': 92, 'speed': 58}\n",
      "{'hp': 95, 'attack': 65, 'defense': 65, 'spatk': 110, 'spdef': 130, 'speed': 60}\n",
      "{'hp': 78, 'attack': 92, 'defense': 75, 'spatk': 74, 'spdef': 63, 'speed': 118}\n",
      "{'hp': 67, 'attack': 58, 'defense': 57, 'spatk': 81, 'spdef': 67, 'speed': 101}\n",
      "{'hp': 50, 'attack': 50, 'defense': 150, 'spatk': 50, 'spdef': 150, 'speed': 50}\n",
      "{'hp': 45, 'attack': 50, 'defense': 35, 'spatk': 55, 'spdef': 75, 'speed': 40}\n",
      "{'hp': 68, 'attack': 75, 'defense': 53, 'spatk': 83, 'spdef': 113, 'speed': 60}\n",
      "{'hp': 58, 'attack': 75, 'defense': 83, 'spatk': 83, 'spdef': 113, 'speed': 40}\n",
      "{'hp': 90, 'attack': 100, 'defense': 70, 'spatk': 110, 'spdef': 150, 'speed': 80}\n",
      "{'hp': 80, 'attack': 100, 'defense': 100, 'spatk': 110, 'spdef': 150, 'speed': 60}\n",
      "{'hp': 57, 'attack': 80, 'defense': 91, 'spatk': 80, 'spdef': 87, 'speed': 75}\n",
      "{'hp': 43, 'attack': 70, 'defense': 48, 'spatk': 50, 'spdef': 60, 'speed': 38}\n",
      "{'hp': 85, 'attack': 110, 'defense': 76, 'spatk': 65, 'spdef': 82, 'speed': 56}\n",
      "{'hp': 49, 'attack': 66, 'defense': 70, 'spatk': 44, 'spdef': 55, 'speed': 51}\n",
      "{'hp': 44, 'attack': 66, 'defense': 70, 'spatk': 44, 'spdef': 55, 'speed': 56}\n",
      "{'hp': 54, 'attack': 66, 'defense': 70, 'spatk': 44, 'spdef': 55, 'speed': 46}\n",
      "{'hp': 59, 'attack': 66, 'defense': 70, 'spatk': 44, 'spdef': 55, 'speed': 41}\n",
      "{'hp': 65, 'attack': 90, 'defense': 122, 'spatk': 58, 'spdef': 75, 'speed': 84}\n",
      "{'hp': 55, 'attack': 85, 'defense': 122, 'spatk': 58, 'spdef': 75, 'speed': 99}\n",
      "{'hp': 75, 'attack': 95, 'defense': 122, 'spatk': 58, 'spdef': 75, 'speed': 69}\n",
      "{'hp': 85, 'attack': 100, 'defense': 122, 'spatk': 58, 'spdef': 75, 'speed': 54}\n",
      "{'hp': 55, 'attack': 69, 'defense': 85, 'spatk': 32, 'spdef': 35, 'speed': 28}\n",
      "{'hp': 95, 'attack': 117, 'defense': 184, 'spatk': 44, 'spdef': 46, 'speed': 28}\n",
      "{'hp': 95, 'attack': 127, 'defense': 184, 'spatk': 34, 'spdef': 36, 'speed': 38}\n",
      "{'hp': 40, 'attack': 30, 'defense': 35, 'spatk': 45, 'spdef': 40, 'speed': 55}\n",
      "{'hp': 85, 'attack': 70, 'defense': 80, 'spatk': 97, 'spdef': 80, 'speed': 123}\n",
      "{'hp': 126, 'attack': 131, 'defense': 95, 'spatk': 131, 'spdef': 98, 'speed': 99}\n",
      "{'hp': 126, 'attack': 131, 'defense': 95, 'spatk': 131, 'spdef': 98, 'speed': 99}\n",
      "{'hp': 108, 'attack': 100, 'defense': 121, 'spatk': 81, 'spdef': 95, 'speed': 95}\n",
      "{'hp': 54, 'attack': 100, 'defense': 71, 'spatk': 61, 'spdef': 85, 'speed': 115}\n",
      "{'hp': 216, 'attack': 100, 'defense': 121, 'spatk': 91, 'spdef': 95, 'speed': 85}\n",
      "{'hp': 50, 'attack': 100, 'defense': 150, 'spatk': 100, 'spdef': 150, 'speed': 50}\n",
      "{'hp': 50, 'attack': 160, 'defense': 110, 'spatk': 160, 'spdef': 110, 'speed': 110}\n",
      "{'hp': 80, 'attack': 110, 'defense': 60, 'spatk': 150, 'spdef': 130, 'speed': 70}\n",
      "{'hp': 80, 'attack': 160, 'defense': 60, 'spatk': 170, 'spdef': 130, 'speed': 80}\n",
      "{'hp': 80, 'attack': 110, 'defense': 120, 'spatk': 130, 'spdef': 90, 'speed': 70}\n",
      "{'hp': 68, 'attack': 55, 'defense': 55, 'spatk': 50, 'spdef': 50, 'speed': 42}\n",
      "{'hp': 78, 'attack': 75, 'defense': 75, 'spatk': 70, 'spdef': 70, 'speed': 52}\n",
      "{'hp': 78, 'attack': 107, 'defense': 75, 'spatk': 100, 'spdef': 100, 'speed': 70}\n",
      "{'hp': 88, 'attack': 112, 'defense': 80, 'spatk': 95, 'spdef': 95, 'speed': 60}\n",
      "{'hp': 45, 'attack': 65, 'defense': 40, 'spatk': 60, 'spdef': 40, 'speed': 70}\n",
      "{'hp': 65, 'attack': 85, 'defense': 50, 'spatk': 80, 'spdef': 50, 'speed': 90}\n",
      "{'hp': 95, 'attack': 115, 'defense': 90, 'spatk': 80, 'spdef': 90, 'speed': 60}\n",
      "{'hp': 50, 'attack': 54, 'defense': 54, 'spatk': 66, 'spdef': 56, 'speed': 40}\n",
      "{'hp': 60, 'attack': 69, 'defense': 69, 'spatk': 91, 'spdef': 81, 'speed': 50}\n",
      "{'hp': 80, 'attack': 74, 'defense': 74, 'spatk': 126, 'spdef': 116, 'speed': 60}\n",
      "{'hp': 35, 'attack': 75, 'defense': 30, 'spatk': 30, 'spdef': 30, 'speed': 65}\n",
      "{'hp': 55, 'attack': 85, 'defense': 50, 'spatk': 40, 'spdef': 50, 'speed': 75}\n",
      "{'hp': 80, 'attack': 120, 'defense': 75, 'spatk': 75, 'spdef': 75, 'speed': 60}\n",
      "{'hp': 48, 'attack': 70, 'defense': 30, 'spatk': 30, 'spdef': 30, 'speed': 45}\n",
      "{'hp': 88, 'attack': 110, 'defense': 60, 'spatk': 55, 'spdef': 60, 'speed': 45}\n",
      "{'hp': 47, 'attack': 62, 'defense': 45, 'spatk': 55, 'spdef': 45, 'speed': 46}\n",
      "{'hp': 57, 'attack': 82, 'defense': 95, 'spatk': 55, 'spdef': 75, 'speed': 36}\n",
      "{'hp': 77, 'attack': 70, 'defense': 90, 'spatk': 145, 'spdef': 75, 'speed': 43}\n",
      "{'hp': 47, 'attack': 82, 'defense': 57, 'spatk': 42, 'spdef': 47, 'speed': 63}\n",
      "{'hp': 97, 'attack': 132, 'defense': 77, 'spatk': 62, 'spdef': 67, 'speed': 43}\n",
      "{'hp': 75, 'attack': 70, 'defense': 70, 'spatk': 98, 'spdef': 70, 'speed': 93}\n",
      "{'hp': 75, 'attack': 70, 'defense': 70, 'spatk': 98, 'spdef': 70, 'speed': 93}\n",
      "{'hp': 75, 'attack': 70, 'defense': 70, 'spatk': 98, 'spdef': 70, 'speed': 93}\n",
      "{'hp': 75, 'attack': 70, 'defense': 70, 'spatk': 98, 'spdef': 70, 'speed': 93}\n",
      "{'hp': 40, 'attack': 45, 'defense': 40, 'spatk': 55, 'spdef': 40, 'speed': 84}\n",
      "{'hp': 60, 'attack': 55, 'defense': 60, 'spatk': 95, 'spdef': 70, 'speed': 124}\n",
      "{'hp': 45, 'attack': 65, 'defense': 40, 'spatk': 30, 'spdef': 40, 'speed': 60}\n",
      "{'hp': 45, 'attack': 65, 'defense': 40, 'spatk': 30, 'spdef': 40, 'speed': 60}\n",
      "{'hp': 75, 'attack': 115, 'defense': 65, 'spatk': 55, 'spdef': 65, 'speed': 112}\n",
      "{'hp': 85, 'attack': 115, 'defense': 75, 'spatk': 55, 'spdef': 75, 'speed': 82}\n",
      "{'hp': 75, 'attack': 117, 'defense': 65, 'spatk': 55, 'spdef': 65, 'speed': 110}\n",
      "{'hp': 45, 'attack': 20, 'defense': 20, 'spatk': 25, 'spdef': 25, 'speed': 40}\n",
      "{'hp': 45, 'attack': 140, 'defense': 130, 'spatk': 140, 'spdef': 135, 'speed': 30}\n",
      "{'hp': 50, 'attack': 53, 'defense': 62, 'spatk': 43, 'spdef': 52, 'speed': 45}\n",
      "{'hp': 50, 'attack': 63, 'defense': 152, 'spatk': 53, 'spdef': 142, 'speed': 35}\n",
      "{'hp': 70, 'attack': 100, 'defense': 70, 'spatk': 45, 'spdef': 55, 'speed': 45}\n",
      "{'hp': 100, 'attack': 125, 'defense': 100, 'spatk': 55, 'spdef': 85, 'speed': 35}\n",
      "{'hp': 38, 'attack': 40, 'defense': 52, 'spatk': 40, 'spdef': 72, 'speed': 27}\n",
      "{'hp': 68, 'attack': 70, 'defense': 92, 'spatk': 50, 'spdef': 132, 'speed': 42}\n",
      "{'hp': 40, 'attack': 55, 'defense': 35, 'spatk': 50, 'spdef': 35, 'speed': 35}\n",
      "{'hp': 70, 'attack': 105, 'defense': 90, 'spatk': 80, 'spdef': 90, 'speed': 45}\n",
      "{'hp': 40, 'attack': 35, 'defense': 55, 'spatk': 65, 'spdef': 75, 'speed': 15}\n",
      "{'hp': 60, 'attack': 45, 'defense': 80, 'spatk': 90, 'spdef': 100, 'speed': 30}\n",
      "{'hp': 48, 'attack': 44, 'defense': 40, 'spatk': 71, 'spdef': 40, 'speed': 77}\n",
      "{'hp': 68, 'attack': 64, 'defense': 60, 'spatk': 111, 'spdef': 60, 'speed': 117}\n",
      "{'hp': 70, 'attack': 75, 'defense': 50, 'spatk': 45, 'spdef': 50, 'speed': 50}\n",
      "{'hp': 120, 'attack': 125, 'defense': 80, 'spatk': 55, 'spdef': 60, 'speed': 60}\n",
      "{'hp': 42, 'attack': 30, 'defense': 38, 'spatk': 30, 'spdef': 38, 'speed': 32}\n",
      "{'hp': 52, 'attack': 40, 'defense': 48, 'spatk': 40, 'spdef': 48, 'speed': 62}\n",
      "{'hp': 72, 'attack': 120, 'defense': 98, 'spatk': 50, 'spdef': 98, 'speed': 72}\n",
      "{'hp': 51, 'attack': 52, 'defense': 90, 'spatk': 82, 'spdef': 110, 'speed': 100}\n",
      "{'hp': 90, 'attack': 60, 'defense': 80, 'spatk': 90, 'spdef': 110, 'speed': 60}\n",
      "{'hp': 100, 'attack': 120, 'defense': 90, 'spatk': 40, 'spdef': 60, 'speed': 80}\n",
      "{'hp': 25, 'attack': 35, 'defense': 40, 'spatk': 20, 'spdef': 30, 'speed': 80}\n",
      "{'hp': 75, 'attack': 125, 'defense': 140, 'spatk': 60, 'spdef': 90, 'speed': 40}\n",
      "{'hp': 55, 'attack': 55, 'defense': 80, 'spatk': 70, 'spdef': 45, 'speed': 15}\n",
      "{'hp': 85, 'attack': 75, 'defense': 110, 'spatk': 100, 'spdef': 75, 'speed': 35}\n",
      "{'hp': 55, 'attack': 60, 'defense': 130, 'spatk': 30, 'spdef': 130, 'speed': 5}\n",
      "{'hp': 95, 'attack': 95, 'defense': 95, 'spatk': 95, 'spdef': 95, 'speed': 59}\n",
      "{'hp': 95, 'attack': 95, 'defense': 95, 'spatk': 95, 'spdef': 95, 'speed': 95}\n",
      "{'hp': 60, 'attack': 60, 'defense': 100, 'spatk': 60, 'spdef': 100, 'speed': 60}\n",
      "{'hp': 60, 'attack': 100, 'defense': 60, 'spatk': 100, 'spdef': 60, 'speed': 120}\n",
      "{'hp': 65, 'attack': 115, 'defense': 65, 'spatk': 75, 'spdef': 95, 'speed': 65}\n",
      "{'hp': 60, 'attack': 78, 'defense': 135, 'spatk': 91, 'spdef': 85, 'speed': 36}\n",
      "{'hp': 65, 'attack': 98, 'defense': 63, 'spatk': 40, 'spdef': 73, 'speed': 96}\n",
      "{'hp': 55, 'attack': 90, 'defense': 80, 'spatk': 50, 'spdef': 105, 'speed': 96}\n",
      "{'hp': 68, 'attack': 105, 'defense': 70, 'spatk': 70, 'spdef': 70, 'speed': 92}\n",
      "{'hp': 78, 'attack': 60, 'defense': 85, 'spatk': 135, 'spdef': 91, 'speed': 36}\n",
      "{'hp': 70, 'attack': 131, 'defense': 100, 'spatk': 86, 'spdef': 90, 'speed': 40}\n",
      "{'hp': 45, 'attack': 55, 'defense': 65, 'spatk': 45, 'spdef': 45, 'speed': 45}\n",
      "{'hp': 55, 'attack': 75, 'defense': 90, 'spatk': 65, 'spdef': 70, 'speed': 65}\n",
      "{'hp': 75, 'attack': 110, 'defense': 125, 'spatk': 100, 'spdef': 105, 'speed': 85}\n",
      "{'hp': 70, 'attack': 115, 'defense': 85, 'spatk': 95, 'spdef': 75, 'speed': 130}\n",
      "{'hp': 70, 'attack': 85, 'defense': 75, 'spatk': 130, 'spdef': 115, 'speed': 95}\n",
      "{'hp': 70, 'attack': 130, 'defense': 115, 'spatk': 85, 'spdef': 95, 'speed': 75}\n",
      "{'hp': 70, 'attack': 75, 'defense': 115, 'spatk': 95, 'spdef': 130, 'speed': 85}\n",
      "{'hp': 43, 'attack': 29, 'defense': 31, 'spatk': 29, 'spdef': 31, 'speed': 37}\n",
      "{'hp': 43, 'attack': 29, 'defense': 131, 'spatk': 29, 'spdef': 131, 'speed': 37}\n",
      "{'hp': 137, 'attack': 137, 'defense': 107, 'spatk': 113, 'spdef': 89, 'speed': 97}\n",
      "{'hp': 137, 'attack': 113, 'defense': 89, 'spatk': 137, 'spdef': 107, 'speed': 97}\n",
      "{'hp': 109, 'attack': 53, 'defense': 47, 'spatk': 127, 'spdef': 131, 'speed': 103}\n",
      "{'hp': 107, 'attack': 139, 'defense': 139, 'spatk': 53, 'spdef': 53, 'speed': 79}\n",
      "{'hp': 71, 'attack': 137, 'defense': 37, 'spatk': 137, 'spdef': 37, 'speed': 151}\n",
      "{'hp': 83, 'attack': 89, 'defense': 71, 'spatk': 173, 'spdef': 71, 'speed': 83}\n",
      "{'hp': 97, 'attack': 101, 'defense': 103, 'spatk': 107, 'spdef': 101, 'speed': 61}\n",
      "{'hp': 59, 'attack': 181, 'defense': 131, 'spatk': 59, 'spdef': 31, 'speed': 109}\n",
      "{'hp': 223, 'attack': 101, 'defense': 53, 'spatk': 97, 'spdef': 53, 'speed': 43}\n",
      "{'hp': 97, 'attack': 107, 'defense': 101, 'spatk': 127, 'spdef': 89, 'speed': 79}\n",
      "{'hp': 97, 'attack': 157, 'defense': 127, 'spatk': 113, 'spdef': 109, 'speed': 77}\n",
      "{'hp': 97, 'attack': 113, 'defense': 109, 'spatk': 157, 'spdef': 127, 'speed': 77}\n",
      "{'hp': 97, 'attack': 167, 'defense': 97, 'spatk': 167, 'spdef': 97, 'speed': 129}\n",
      "{'hp': 80, 'attack': 95, 'defense': 115, 'spatk': 130, 'spdef': 115, 'speed': 65}\n",
      "{'hp': 90, 'attack': 125, 'defense': 80, 'spatk': 90, 'spdef': 90, 'speed': 125}\n",
      "{'hp': 67, 'attack': 73, 'defense': 67, 'spatk': 73, 'spdef': 67, 'speed': 73}\n",
      "{'hp': 73, 'attack': 73, 'defense': 73, 'spatk': 127, 'spdef': 73, 'speed': 121}\n",
      "{'hp': 61, 'attack': 131, 'defense': 211, 'spatk': 53, 'spdef': 101, 'speed': 13}\n",
      "{'hp': 53, 'attack': 127, 'defense': 53, 'spatk': 151, 'spdef': 79, 'speed': 107}\n",
      "{'hp': 88, 'attack': 112, 'defense': 75, 'spatk': 102, 'spdef': 80, 'speed': 143}\n",
      "{'hp': 46, 'attack': 65, 'defense': 65, 'spatk': 55, 'spdef': 35, 'speed': 34}\n",
      "{'hp': 135, 'attack': 143, 'defense': 143, 'spatk': 80, 'spdef': 65, 'speed': 34}\n",
      "{'hp': 50, 'attack': 65, 'defense': 50, 'spatk': 40, 'spdef': 40, 'speed': 65}\n",
      "{'hp': 70, 'attack': 85, 'defense': 70, 'spatk': 55, 'spdef': 60, 'speed': 80}\n",
      "{'hp': 100, 'attack': 125, 'defense': 90, 'spatk': 60, 'spdef': 70, 'speed': 85}\n",
      "{'hp': 50, 'attack': 71, 'defense': 40, 'spatk': 40, 'spdef': 40, 'speed': 69}\n",
      "{'hp': 65, 'attack': 86, 'defense': 60, 'spatk': 55, 'spdef': 60, 'speed': 94}\n",
      "{'hp': 80, 'attack': 116, 'defense': 75, 'spatk': 65, 'spdef': 75, 'speed': 119}\n",
      "{'hp': 50, 'attack': 40, 'defense': 40, 'spatk': 70, 'spdef': 40, 'speed': 70}\n",
      "{'hp': 65, 'attack': 60, 'defense': 55, 'spatk': 95, 'spdef': 55, 'speed': 90}\n",
      "{'hp': 70, 'attack': 85, 'defense': 65, 'spatk': 125, 'spdef': 65, 'speed': 120}\n",
      "{'hp': 70, 'attack': 55, 'defense': 55, 'spatk': 35, 'spdef': 35, 'speed': 25}\n",
      "{'hp': 120, 'attack': 95, 'defense': 95, 'spatk': 55, 'spdef': 75, 'speed': 20}\n",
      "{'hp': 38, 'attack': 47, 'defense': 35, 'spatk': 33, 'spdef': 35, 'speed': 57}\n",
      "{'hp': 68, 'attack': 67, 'defense': 55, 'spatk': 43, 'spdef': 55, 'speed': 77}\n",
      "{'hp': 98, 'attack': 87, 'defense': 105, 'spatk': 53, 'spdef': 85, 'speed': 67}\n",
      "{'hp': 25, 'attack': 20, 'defense': 20, 'spatk': 25, 'spdef': 45, 'speed': 45}\n",
      "{'hp': 50, 'attack': 35, 'defense': 80, 'spatk': 50, 'spdef': 90, 'speed': 30}\n",
      "{'hp': 60, 'attack': 45, 'defense': 110, 'spatk': 80, 'spdef': 120, 'speed': 90}\n",
      "{'hp': 40, 'attack': 28, 'defense': 28, 'spatk': 47, 'spdef': 52, 'speed': 50}\n",
      "{'hp': 70, 'attack': 58, 'defense': 58, 'spatk': 87, 'spdef': 92, 'speed': 90}\n",
      "{'hp': 40, 'attack': 40, 'defense': 60, 'spatk': 40, 'spdef': 60, 'speed': 10}\n",
      "{'hp': 60, 'attack': 50, 'defense': 90, 'spatk': 80, 'spdef': 120, 'speed': 60}\n",
      "{'hp': 42, 'attack': 40, 'defense': 55, 'spatk': 40, 'spdef': 45, 'speed': 48}\n",
      "{'hp': 72, 'attack': 80, 'defense': 100, 'spatk': 60, 'spdef': 90, 'speed': 88}\n",
      "{'hp': 50, 'attack': 64, 'defense': 50, 'spatk': 38, 'spdef': 38, 'speed': 44}\n",
      "{'hp': 90, 'attack': 115, 'defense': 90, 'spatk': 48, 'spdef': 68, 'speed': 74}\n",
      "{'hp': 59, 'attack': 45, 'defense': 50, 'spatk': 40, 'spdef': 50, 'speed': 26}\n",
      "{'hp': 69, 'attack': 90, 'defense': 60, 'spatk': 90, 'spdef': 60, 'speed': 121}\n",
      "{'hp': 30, 'attack': 40, 'defense': 50, 'spatk': 40, 'spdef': 50, 'speed': 30}\n",
      "{'hp': 80, 'attack': 60, 'defense': 90, 'spatk': 60, 'spdef': 70, 'speed': 50}\n",
      "{'hp': 110, 'attack': 80, 'defense': 120, 'spatk': 80, 'spdef': 90, 'speed': 30}\n",
      "{'hp': 40, 'attack': 40, 'defense': 80, 'spatk': 40, 'spdef': 40, 'speed': 20}\n",
      "{'hp': 70, 'attack': 110, 'defense': 80, 'spatk': 95, 'spdef': 60, 'speed': 70}\n",
      "{'hp': 110, 'attack': 85, 'defense': 80, 'spatk': 100, 'spdef': 80, 'speed': 30}\n",
      "{'hp': 52, 'attack': 57, 'defense': 75, 'spatk': 35, 'spdef': 50, 'speed': 46}\n",
      "{'hp': 72, 'attack': 107, 'defense': 125, 'spatk': 65, 'spdef': 70, 'speed': 71}\n",
      "{'hp': 70, 'attack': 85, 'defense': 55, 'spatk': 85, 'spdef': 95, 'speed': 85}\n",
      "{'hp': 41, 'attack': 63, 'defense': 40, 'spatk': 40, 'spdef': 30, 'speed': 66}\n",
      "{'hp': 61, 'attack': 123, 'defense': 60, 'spatk': 60, 'spdef': 50, 'speed': 136}\n",
      "{'hp': 40, 'attack': 38, 'defense': 35, 'spatk': 54, 'spdef': 35, 'speed': 40}\n",
      "{'hp': 75, 'attack': 98, 'defense': 70, 'spatk': 114, 'spdef': 70, 'speed': 75}\n",
      "{'hp': 75, 'attack': 98, 'defense': 70, 'spatk': 114, 'spdef': 70, 'speed': 75}\n",
      "{'hp': 50, 'attack': 65, 'defense': 45, 'spatk': 50, 'spdef': 50, 'speed': 45}\n",
      "{'hp': 100, 'attack': 115, 'defense': 65, 'spatk': 90, 'spdef': 90, 'speed': 65}\n",
      "{'hp': 50, 'attack': 68, 'defense': 60, 'spatk': 50, 'spdef': 50, 'speed': 32}\n",
      "{'hp': 80, 'attack': 118, 'defense': 90, 'spatk': 70, 'spdef': 80, 'speed': 42}\n",
      "{'hp': 40, 'attack': 45, 'defense': 45, 'spatk': 74, 'spdef': 54, 'speed': 50}\n",
      "{'hp': 60, 'attack': 65, 'defense': 65, 'spatk': 134, 'spdef': 114, 'speed': 70}\n",
      "{'hp': 42, 'attack': 30, 'defense': 45, 'spatk': 56, 'spdef': 53, 'speed': 39}\n",
      "{'hp': 57, 'attack': 40, 'defense': 65, 'spatk': 86, 'spdef': 73, 'speed': 49}\n",
      "{'hp': 57, 'attack': 90, 'defense': 95, 'spatk': 136, 'spdef': 103, 'speed': 29}\n",
      "{'hp': 45, 'attack': 45, 'defense': 30, 'spatk': 55, 'spdef': 40, 'speed': 50}\n",
      "{'hp': 65, 'attack': 60, 'defense': 45, 'spatk': 75, 'spdef': 55, 'speed': 70}\n",
      "{'hp': 95, 'attack': 120, 'defense': 65, 'spatk': 95, 'spdef': 75, 'speed': 60}\n",
      "{'hp': 93, 'attack': 90, 'defense': 101, 'spatk': 60, 'spdef': 81, 'speed': 95}\n",
      "{'hp': 70, 'attack': 110, 'defense': 100, 'spatk': 50, 'spdef': 60, 'speed': 50}\n",
      "{'hp': 60, 'attack': 95, 'defense': 50, 'spatk': 145, 'spdef': 130, 'speed': 30}\n",
      "{'hp': 62, 'attack': 135, 'defense': 95, 'spatk': 68, 'spdef': 82, 'speed': 65}\n",
      "{'hp': 80, 'attack': 85, 'defense': 75, 'spatk': 110, 'spdef': 100, 'speed': 70}\n",
      "{'hp': 58, 'attack': 95, 'defense': 145, 'spatk': 50, 'spdef': 105, 'speed': 30}\n",
      "{'hp': 45, 'attack': 40, 'defense': 40, 'spatk': 50, 'spdef': 61, 'speed': 34}\n",
      "{'hp': 65, 'attack': 60, 'defense': 75, 'spatk': 110, 'spdef': 121, 'speed': 64}\n",
      "{'hp': 65, 'attack': 100, 'defense': 100, 'spatk': 70, 'spdef': 60, 'speed': 75}\n",
      "{'hp': 48, 'attack': 101, 'defense': 95, 'spatk': 91, 'spdef': 85, 'speed': 15}\n",
      "{'hp': 30, 'attack': 25, 'defense': 35, 'spatk': 45, 'spdef': 30, 'speed': 20}\n",
      "{'hp': 70, 'attack': 65, 'defense': 60, 'spatk': 125, 'spdef': 90, 'speed': 65}\n",
      "{'hp': 100, 'attack': 125, 'defense': 135, 'spatk': 20, 'spdef': 20, 'speed': 70}\n",
      "{'hp': 75, 'attack': 80, 'defense': 110, 'spatk': 65, 'spdef': 90, 'speed': 50}\n",
      "{'hp': 75, 'attack': 80, 'defense': 70, 'spatk': 65, 'spdef': 50, 'speed': 130}\n",
      "{'hp': 60, 'attack': 65, 'defense': 55, 'spatk': 105, 'spdef': 95, 'speed': 95}\n",
      "{'hp': 70, 'attack': 55, 'defense': 65, 'spatk': 95, 'spdef': 105, 'speed': 85}\n",
      "{'hp': 58, 'attack': 95, 'defense': 58, 'spatk': 70, 'spdef': 58, 'speed': 97}\n",
      "{'hp': 58, 'attack': 95, 'defense': 58, 'spatk': 70, 'spdef': 58, 'speed': 97}\n",
      "{'hp': 72, 'attack': 80, 'defense': 49, 'spatk': 40, 'spdef': 49, 'speed': 40}\n",
      "{'hp': 122, 'attack': 130, 'defense': 69, 'spatk': 80, 'spdef': 69, 'speed': 30}\n",
      "{'hp': 90, 'attack': 100, 'defense': 90, 'spatk': 80, 'spdef': 70, 'speed': 75}\n",
      "{'hp': 90, 'attack': 100, 'defense': 90, 'spatk': 90, 'spdef': 80, 'speed': 55}\n",
      "{'hp': 90, 'attack': 90, 'defense': 100, 'spatk': 70, 'spdef': 80, 'speed': 75}\n",
      "{'hp': 90, 'attack': 90, 'defense': 100, 'spatk': 80, 'spdef': 90, 'speed': 55}\n",
      "{'hp': 70, 'attack': 95, 'defense': 115, 'spatk': 120, 'spdef': 50, 'speed': 85}\n",
      "{'hp': 28, 'attack': 60, 'defense': 30, 'spatk': 40, 'spdef': 30, 'speed': 82}\n",
      "{'hp': 68, 'attack': 80, 'defense': 50, 'spatk': 60, 'spdef': 50, 'speed': 102}\n",
      "{'hp': 88, 'attack': 120, 'defense': 75, 'spatk': 100, 'spdef': 75, 'speed': 142}\n",
      "{'hp': 92, 'attack': 120, 'defense': 115, 'spatk': 80, 'spdef': 115, 'speed': 138}\n",
      "{'hp': 92, 'attack': 150, 'defense': 115, 'spatk': 80, 'spdef': 115, 'speed': 148}\n",
      "{'hp': 92, 'attack': 120, 'defense': 115, 'spatk': 80, 'spdef': 115, 'speed': 138}\n",
      "{'hp': 92, 'attack': 120, 'defense': 140, 'spatk': 80, 'spdef': 140, 'speed': 128}\n",
      "{'hp': 140, 'attack': 85, 'defense': 95, 'spatk': 145, 'spdef': 95, 'speed': 130}\n",
      "{'hp': 255, 'attack': 115, 'defense': 250, 'spatk': 125, 'spdef': 250, 'speed': 130}\n",
      "{'hp': 60, 'attack': 90, 'defense': 60, 'spatk': 53, 'spdef': 50, 'speed': 72}\n",
      "{'hp': 100, 'attack': 130, 'defense': 100, 'spatk': 63, 'spdef': 60, 'speed': 97}\n",
      "{'hp': 100, 'attack': 130, 'defense': 100, 'spatk': 63, 'spdef': 60, 'speed': 97}\n",
      "{'hp': 105, 'attack': 120, 'defense': 105, 'spatk': 70, 'spdef': 95, 'speed': 105}\n",
      "{'hp': 80, 'attack': 100, 'defense': 50, 'spatk': 100, 'spdef': 50, 'speed': 200}\n",
      "{'hp': 200, 'attack': 100, 'defense': 50, 'spatk': 100, 'spdef': 50, 'speed': 80}\n",
      "{'hp': 100, 'attack': 145, 'defense': 130, 'spatk': 65, 'spdef': 110, 'speed': 30}\n",
      "{'hp': 100, 'attack': 65, 'defense': 60, 'spatk': 145, 'spdef': 80, 'speed': 130}\n",
      "{'hp': 100, 'attack': 80, 'defense': 80, 'spatk': 80, 'spdef': 80, 'speed': 80}\n",
      "{'hp': 100, 'attack': 165, 'defense': 150, 'spatk': 85, 'spdef': 130, 'speed': 50}\n",
      "{'hp': 100, 'attack': 85, 'defense': 80, 'spatk': 165, 'spdef': 100, 'speed': 150}\n",
      "{'hp': 103, 'attack': 105, 'defense': 72, 'spatk': 105, 'spdef': 75, 'speed': 65}\n",
      "{'hp': 70, 'attack': 135, 'defense': 95, 'spatk': 45, 'spdef': 70, 'speed': 85}\n",
      "{'hp': 130, 'attack': 140, 'defense': 105, 'spatk': 45, 'spdef': 80, 'speed': 50}\n",
      "{'hp': 113, 'attack': 70, 'defense': 120, 'spatk': 135, 'spdef': 65, 'speed': 52}\n",
      "{'hp': 120, 'attack': 112, 'defense': 65, 'spatk': 80, 'spdef': 75, 'speed': 78}\n",
      "{'hp': 120, 'attack': 92, 'defense': 65, 'spatk': 100, 'spdef': 75, 'speed': 78}\n",
      "{'hp': 80, 'attack': 130, 'defense': 60, 'spatk': 40, 'spdef': 80, 'speed': 120}\n",
      "{'hp': 85, 'attack': 115, 'defense': 95, 'spatk': 65, 'spdef': 65, 'speed': 85}\n",
      "{'hp': 74, 'attack': 115, 'defense': 70, 'spatk': 135, 'spdef': 80, 'speed': 106}\n",
      "{'hp': 74, 'attack': 115, 'defense': 110, 'spatk': 135, 'spdef': 100, 'speed': 46}\n",
      "{'hp': 40, 'attack': 61, 'defense': 54, 'spatk': 45, 'spdef': 45, 'speed': 65}\n",
      "{'hp': 61, 'attack': 80, 'defense': 63, 'spatk': 60, 'spdef': 63, 'speed': 83}\n",
      "{'hp': 76, 'attack': 110, 'defense': 70, 'spatk': 81, 'spdef': 70, 'speed': 123}\n",
      "{'hp': 67, 'attack': 45, 'defense': 59, 'spatk': 63, 'spdef': 40, 'speed': 36}\n",
      "{'hp': 81, 'attack': 55, 'defense': 78, 'spatk': 90, 'spdef': 58, 'speed': 49}\n",
      "{'hp': 104, 'attack': 75, 'defense': 100, 'spatk': 110, 'spdef': 75, 'speed': 66}\n",
      "{'hp': 55, 'attack': 65, 'defense': 45, 'spatk': 50, 'spdef': 45, 'speed': 50}\n",
      "{'hp': 70, 'attack': 85, 'defense': 65, 'spatk': 65, 'spdef': 60, 'speed': 65}\n",
      "{'hp': 85, 'attack': 120, 'defense': 80, 'spatk': 85, 'spdef': 75, 'speed': 85}\n",
      "{'hp': 54, 'attack': 45, 'defense': 40, 'spatk': 35, 'spdef': 45, 'speed': 35}\n",
      "{'hp': 110, 'attack': 100, 'defense': 75, 'spatk': 59, 'spdef': 80, 'speed': 65}\n",
      "{'hp': 115, 'attack': 90, 'defense': 70, 'spatk': 59, 'spdef': 90, 'speed': 65}\n",
      "{'hp': 35, 'attack': 41, 'defense': 45, 'spatk': 29, 'spdef': 40, 'speed': 20}\n",
      "{'hp': 60, 'attack': 79, 'defense': 92, 'spatk': 52, 'spdef': 86, 'speed': 35}\n",
      "{'hp': 33, 'attack': 46, 'defense': 40, 'spatk': 21, 'spdef': 25, 'speed': 45}\n",
      "{'hp': 71, 'attack': 102, 'defense': 78, 'spatk': 52, 'spdef': 55, 'speed': 92}\n",
      "{'hp': 45, 'attack': 50, 'defense': 20, 'spatk': 40, 'spdef': 25, 'speed': 60}\n",
      "{'hp': 60, 'attack': 75, 'defense': 40, 'spatk': 50, 'spdef': 40, 'speed': 85}\n",
      "{'hp': 70, 'attack': 115, 'defense': 70, 'spatk': 70, 'spdef': 60, 'speed': 105}\n",
      "{'hp': 50, 'attack': 50, 'defense': 45, 'spatk': 40, 'spdef': 45, 'speed': 75}\n",
      "{'hp': 74, 'attack': 75, 'defense': 70, 'spatk': 65, 'spdef': 75, 'speed': 111}\n",
      "{'hp': 74, 'attack': 75, 'defense': 70, 'spatk': 65, 'spdef': 75, 'speed': 111}\n",
      "{'hp': 37, 'attack': 55, 'defense': 70, 'spatk': 30, 'spdef': 55, 'speed': 65}\n",
      "{'hp': 57, 'attack': 80, 'defense': 115, 'spatk': 50, 'spdef': 80, 'speed': 95}\n",
      "{'hp': 41, 'attack': 35, 'defense': 45, 'spatk': 58, 'spdef': 51, 'speed': 30}\n",
      "{'hp': 52, 'attack': 53, 'defense': 60, 'spatk': 78, 'spdef': 78, 'speed': 33}\n",
      "{'hp': 78, 'attack': 69, 'defense': 90, 'spatk': 125, 'spdef': 109, 'speed': 39}\n",
      "{'hp': 82, 'attack': 96, 'defense': 51, 'spatk': 45, 'spdef': 51, 'speed': 92}\n",
      "{'hp': 82, 'attack': 96, 'defense': 51, 'spatk': 45, 'spdef': 51, 'speed': 92}\n",
      "{'hp': 82, 'attack': 96, 'defense': 51, 'spatk': 45, 'spdef': 51, 'speed': 92}\n",
      "{'hp': 82, 'attack': 96, 'defense': 51, 'spatk': 45, 'spdef': 51, 'speed': 92}\n",
      "{'hp': 55, 'attack': 55, 'defense': 75, 'spatk': 35, 'spdef': 35, 'speed': 25}\n",
      "{'hp': 60, 'attack': 60, 'defense': 100, 'spatk': 35, 'spdef': 65, 'speed': 35}\n",
      "{'hp': 100, 'attack': 100, 'defense': 130, 'spatk': 45, 'spdef': 90, 'speed': 35}\n",
      "{'hp': 40, 'attack': 50, 'defense': 40, 'spatk': 50, 'spdef': 40, 'speed': 35}\n",
      "{'hp': 85, 'attack': 60, 'defense': 100, 'spatk': 125, 'spdef': 80, 'speed': 75}\n",
      "{'hp': 75, 'attack': 125, 'defense': 80, 'spatk': 60, 'spdef': 100, 'speed': 85}\n",
      "{'hp': 61, 'attack': 31, 'defense': 41, 'spatk': 59, 'spdef': 35, 'speed': 45}\n",
      "{'hp': 109, 'attack': 64, 'defense': 91, 'spatk': 103, 'spdef': 83, 'speed': 45}\n",
      "{'hp': 40, 'attack': 40, 'defense': 35, 'spatk': 55, 'spdef': 40, 'speed': 70}\n",
      "{'hp': 70, 'attack': 70, 'defense': 60, 'spatk': 105, 'spdef': 60, 'speed': 125}\n",
      "{'hp': 60, 'attack': 78, 'defense': 60, 'spatk': 40, 'spdef': 51, 'speed': 51}\n",
      "{'hp': 80, 'attack': 120, 'defense': 90, 'spatk': 60, 'spdef': 70, 'speed': 85}\n",
      "{'hp': 40, 'attack': 65, 'defense': 35, 'spatk': 40, 'spdef': 35, 'speed': 75}\n",
      "{'hp': 63, 'attack': 95, 'defense': 65, 'spatk': 80, 'spdef': 72, 'speed': 110}\n",
      "{'hp': 40, 'attack': 65, 'defense': 30, 'spatk': 45, 'spdef': 35, 'speed': 60}\n",
      "{'hp': 55, 'attack': 115, 'defense': 70, 'spatk': 80, 'spdef': 70, 'speed': 90}\n",
      "{'hp': 40, 'attack': 40, 'defense': 35, 'spatk': 50, 'spdef': 100, 'speed': 70}\n",
      "{'hp': 80, 'attack': 70, 'defense': 65, 'spatk': 80, 'spdef': 120, 'speed': 100}\n",
      "{'hp': 70, 'attack': 100, 'defense': 115, 'spatk': 35, 'spdef': 55, 'speed': 75}\n",
      "{'hp': 50, 'attack': 62, 'defense': 40, 'spatk': 62, 'spdef': 40, 'speed': 50}\n",
      "{'hp': 65, 'attack': 108, 'defense': 65, 'spatk': 108, 'spdef': 65, 'speed': 75}\n",
      "{'hp': 41, 'attack': 50, 'defense': 60, 'spatk': 31, 'spdef': 58, 'speed': 30}\n",
      "{'hp': 75, 'attack': 50, 'defense': 85, 'spatk': 115, 'spdef': 100, 'speed': 45}\n",
      "{'hp': 30, 'attack': 35, 'defense': 30, 'spatk': 55, 'spdef': 30, 'speed': 75}\n",
      "{'hp': 95, 'attack': 60, 'defense': 60, 'spatk': 101, 'spdef': 60, 'speed': 105}\n",
      "{'hp': 50, 'attack': 45, 'defense': 45, 'spatk': 35, 'spdef': 64, 'speed': 58}\n",
      "{'hp': 65, 'attack': 55, 'defense': 55, 'spatk': 45, 'spdef': 82, 'speed': 78}\n",
      "{'hp': 85, 'attack': 75, 'defense': 77, 'spatk': 70, 'spdef': 105, 'speed': 94}\n",
      "{'hp': 10, 'attack': 55, 'defense': 25, 'spatk': 35, 'spdef': 25, 'speed': 95}\n",
      "{'hp': 35, 'attack': 100, 'defense': 50, 'spatk': 50, 'spdef': 70, 'speed': 120}\n",
      "{'hp': 70, 'attack': 103, 'defense': 85, 'spatk': 60, 'spdef': 85, 'speed': 82}\n",
      "{'hp': 70, 'attack': 45, 'defense': 40, 'spatk': 45, 'spdef': 40, 'speed': 75}\n",
      "{'hp': 100, 'attack': 70, 'defense': 72, 'spatk': 53, 'spdef': 62, 'speed': 100}\n",
      "{'hp': 100, 'attack': 160, 'defense': 97, 'spatk': 106, 'spdef': 87, 'speed': 100}\n",
      "{'hp': 45, 'attack': 70, 'defense': 63, 'spatk': 30, 'spdef': 45, 'speed': 47}\n",
      "{'hp': 80, 'attack': 119, 'defense': 90, 'spatk': 54, 'spdef': 67, 'speed': 90}\n",
      "{'hp': 70, 'attack': 95, 'defense': 65, 'spatk': 85, 'spdef': 65, 'speed': 121}\n",
      "{'hp': 70, 'attack': 85, 'defense': 145, 'spatk': 60, 'spdef': 55, 'speed': 65}\n",
      "{'hp': 48, 'attack': 35, 'defense': 42, 'spatk': 105, 'spdef': 60, 'speed': 60}\n",
      "{'hp': 83, 'attack': 55, 'defense': 90, 'spatk': 130, 'spdef': 81, 'speed': 86}\n",
      "{'hp': 50, 'attack': 61, 'defense': 60, 'spatk': 30, 'spdef': 55, 'speed': 34}\n",
      "{'hp': 72, 'attack': 101, 'defense': 100, 'spatk': 50, 'spdef': 97, 'speed': 68}\n",
      "{'hp': 82, 'attack': 115, 'defense': 74, 'spatk': 75, 'spdef': 64, 'speed': 90}\n",
      "{'hp': 108, 'attack': 68, 'defense': 45, 'spatk': 30, 'spdef': 40, 'speed': 43}\n",
      "{'hp': 170, 'attack': 113, 'defense': 65, 'spatk': 45, 'spdef': 55, 'speed': 73}\n",
      "{'hp': 90, 'attack': 102, 'defense': 73, 'spatk': 78, 'spdef': 65, 'speed': 70}\n",
      "{'hp': 150, 'attack': 100, 'defense': 115, 'spatk': 65, 'spdef': 65, 'speed': 35}\n",
      "{'hp': 68, 'attack': 50, 'defense': 60, 'spatk': 120, 'spdef': 95, 'speed': 82}\n",
      "{'hp': 68, 'attack': 50, 'defense': 60, 'spatk': 120, 'spdef': 95, 'speed': 82}\n",
      "{'hp': 68, 'attack': 50, 'defense': 60, 'spatk': 120, 'spdef': 95, 'speed': 82}\n",
      "{'hp': 110, 'attack': 115, 'defense': 80, 'spatk': 50, 'spdef': 90, 'speed': 90}\n",
      "{'hp': 130, 'attack': 75, 'defense': 60, 'spatk': 45, 'spdef': 100, 'speed': 20}\n",
      "{'hp': 120, 'attack': 90, 'defense': 70, 'spatk': 110, 'spdef': 70, 'speed': 60}\n",
      "{'hp': 125, 'attack': 100, 'defense': 80, 'spatk': 85, 'spdef': 75, 'speed': 55}\n",
      "{'hp': 125, 'attack': 100, 'defense': 80, 'spatk': 85, 'spdef': 75, 'speed': 55}\n",
      "{'hp': 100, 'attack': 135, 'defense': 120, 'spatk': 60, 'spdef': 85, 'speed': 50}\n",
      "{'hp': 115, 'attack': 131, 'defense': 131, 'spatk': 53, 'spdef': 53, 'speed': 87}\n",
      "{'hp': 115, 'attack': 65, 'defense': 99, 'spatk': 65, 'spdef': 115, 'speed': 111}\n",
      "{'hp': 111, 'attack': 127, 'defense': 99, 'spatk': 79, 'spdef': 99, 'speed': 55}\n",
      "{'hp': 55, 'attack': 55, 'defense': 55, 'spatk': 135, 'spdef': 135, 'speed': 135}\n",
      "{'hp': 85, 'attack': 135, 'defense': 79, 'spatk': 85, 'spdef': 105, 'speed': 81}\n",
      "{'hp': 85, 'attack': 81, 'defense': 97, 'spatk': 121, 'spdef': 85, 'speed': 101}\n",
      "{'hp': 90, 'attack': 112, 'defense': 120, 'spatk': 72, 'spdef': 70, 'speed': 106}\n",
      "{'hp': 56, 'attack': 80, 'defense': 114, 'spatk': 124, 'spdef': 60, 'speed': 136}\n",
      "{'hp': 154, 'attack': 140, 'defense': 108, 'spatk': 50, 'spdef': 68, 'speed': 50}\n",
      "{'hp': 94, 'attack': 80, 'defense': 86, 'spatk': 122, 'spdef': 80, 'speed': 108}\n",
      "{'hp': 80, 'attack': 70, 'defense': 60, 'spatk': 140, 'spdef': 110, 'speed': 110}\n",
      "{'hp': 100, 'attack': 134, 'defense': 110, 'spatk': 70, 'spdef': 84, 'speed': 72}\n",
      "{'hp': 65, 'attack': 75, 'defense': 45, 'spatk': 35, 'spdef': 45, 'speed': 55}\n",
      "{'hp': 90, 'attack': 95, 'defense': 66, 'spatk': 45, 'spdef': 65, 'speed': 62}\n",
      "{'hp': 115, 'attack': 145, 'defense': 92, 'spatk': 75, 'spdef': 86, 'speed': 87}\n",
      "{'hp': 45, 'attack': 30, 'defense': 70, 'spatk': 75, 'spdef': 70, 'speed': 10}\n",
      "{'hp': 45, 'attack': 30, 'defense': 25, 'spatk': 75, 'spdef': 45, 'speed': 80}\n",
      "{'hp': 87, 'attack': 60, 'defense': 95, 'spatk': 133, 'spdef': 91, 'speed': 84}\n",
      "{'hp': 85, 'attack': 85, 'defense': 100, 'spatk': 95, 'spdef': 135, 'speed': 70}\n",
      "{'hp': 80, 'attack': 120, 'defense': 80, 'spatk': 90, 'spdef': 65, 'speed': 135}\n",
      "{'hp': 155, 'attack': 110, 'defense': 125, 'spatk': 55, 'spdef': 80, 'speed': 45}\n",
      "{'hp': 55, 'attack': 80, 'defense': 80, 'spatk': 135, 'spdef': 120, 'speed': 100}\n",
      "{'hp': 105, 'attack': 139, 'defense': 71, 'spatk': 55, 'spdef': 101, 'speed': 119}\n",
      "{'hp': 74, 'attack': 130, 'defense': 90, 'spatk': 120, 'spdef': 60, 'speed': 116}\n",
      "{'hp': 100, 'attack': 135, 'defense': 115, 'spatk': 85, 'spdef': 100, 'speed': 135}\n",
      "{'hp': 100, 'attack': 85, 'defense': 100, 'spatk': 135, 'spdef': 115, 'speed': 135}\n",
      "{'hp': 99, 'attack': 83, 'defense': 91, 'spatk': 125, 'spdef': 83, 'speed': 109}\n",
      "{'hp': 90, 'attack': 130, 'defense': 88, 'spatk': 70, 'spdef': 108, 'speed': 104}\n",
      "{'hp': 80, 'attack': 80, 'defense': 110, 'spatk': 95, 'spdef': 80, 'speed': 40}\n",
      "{'hp': 40, 'attack': 45, 'defense': 45, 'spatk': 74, 'spdef': 54, 'speed': 50}\n",
      "{'hp': 71, 'attack': 60, 'defense': 106, 'spatk': 121, 'spdef': 80, 'speed': 70}\n",
      "{'hp': 88, 'attack': 128, 'defense': 115, 'spatk': 58, 'spdef': 86, 'speed': 80}\n",
      "{'hp': 88, 'attack': 75, 'defense': 66, 'spatk': 130, 'spdef': 90, 'speed': 106}\n",
      "{'hp': 88, 'attack': 91, 'defense': 82, 'spatk': 70, 'spdef': 125, 'speed': 99}\n",
      "{'hp': 80, 'attack': 120, 'defense': 84, 'spatk': 60, 'spdef': 96, 'speed': 110}\n",
      "{'hp': 80, 'attack': 120, 'defense': 84, 'spatk': 60, 'spdef': 96, 'speed': 110}\n",
      "{'hp': 80, 'attack': 120, 'defense': 84, 'spatk': 60, 'spdef': 96, 'speed': 110}\n",
      "{'hp': 80, 'attack': 120, 'defense': 84, 'spatk': 60, 'spdef': 96, 'speed': 110}\n",
      "{'hp': 90, 'attack': 105, 'defense': 130, 'spatk': 125, 'spdef': 65, 'speed': 85}\n",
      "{'hp': 106, 'attack': 80, 'defense': 110, 'spatk': 120, 'spdef': 80, 'speed': 44}\n",
      "{'hp': 105, 'attack': 115, 'defense': 121, 'spatk': 65, 'spdef': 93, 'speed': 91}\n",
      "{'hp': 125, 'attack': 73, 'defense': 91, 'spatk': 137, 'spdef': 89, 'speed': 75}\n",
      "{'hp': 90, 'attack': 120, 'defense': 80, 'spatk': 68, 'spdef': 108, 'speed': 124}\n",
      "{'hp': 90, 'attack': 72, 'defense': 100, 'spatk': 122, 'spdef': 108, 'speed': 98}\n",
      "{'hp': 90, 'attack': 65, 'defense': 85, 'spatk': 65, 'spdef': 85, 'speed': 60}\n",
      "{'hp': 95, 'attack': 95, 'defense': 110, 'spatk': 105, 'spdef': 110, 'speed': 85}\n",
      "{'hp': 160, 'attack': 105, 'defense': 110, 'spatk': 130, 'spdef': 110, 'speed': 85}\n",
      "{'hp': 88, 'attack': 88, 'defense': 160, 'spatk': 88, 'spdef': 88, 'speed': 88}\n"
     ]
    }
   ],
   "source": [
    "for elem in df['stats']:\n",
    "    print(elem)"
   ]
  },
  {
   "cell_type": "code",
   "execution_count": 214,
   "id": "13517ad0",
   "metadata": {},
   "outputs": [
    {
     "data": {
      "text/plain": [
       "pokemonid                                               venusaur\n",
       "formid                                                      mega\n",
       "formname                                           Mega Venusaur\n",
       "gen                                                            6\n",
       "release                                                      x-y\n",
       "type1                                                      grass\n",
       "type2                                                     poison\n",
       "stats          {'hp': 80, 'attack': 100, 'defense': 123, 'spa...\n",
       "species                                                     Seed\n",
       "height                                                       2.4\n",
       "weight                                                     155.5\n",
       "gender                                                       1:7\n",
       "catch-rate                                                  45.0\n",
       "base-exp                                                   281.0\n",
       "egg-cycles                                                  20.0\n",
       "friendship                                                  50.0\n",
       "growth-rate                                          medium slow\n",
       "ev-yield                                {'spatk': 2, 'spdef': 1}\n",
       "Name: 3, dtype: object"
      ]
     },
     "execution_count": 214,
     "metadata": {},
     "output_type": "execute_result"
    }
   ],
   "source": [
    "df.iloc[3]"
   ]
  }
 ],
 "metadata": {
  "kernelspec": {
   "display_name": "Python 3 (ipykernel)",
   "language": "python",
   "name": "python3"
  },
  "language_info": {
   "codemirror_mode": {
    "name": "ipython",
    "version": 3
   },
   "file_extension": ".py",
   "mimetype": "text/x-python",
   "name": "python",
   "nbconvert_exporter": "python",
   "pygments_lexer": "ipython3",
   "version": "3.9.12"
  }
 },
 "nbformat": 4,
 "nbformat_minor": 5
}
