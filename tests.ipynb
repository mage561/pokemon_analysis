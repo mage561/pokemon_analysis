{
 "cells": [
  {
   "cell_type": "code",
   "execution_count": 1,
   "metadata": {},
   "outputs": [],
   "source": [
    "from plots_gen import hist_by_type, pokemon_tsne\n",
    "from load_dataset import (pokemon_dataset, preprocessed_dataset, \n",
    "                          load_file, poke_stats, to_numeric)\n",
    "import plotly.express as px\n",
    "import pandas as pd\n"
   ]
  },
  {
   "cell_type": "code",
   "execution_count": 2,
   "metadata": {},
   "outputs": [],
   "source": [
    "df_raw = pokemon_dataset()\n",
    "df_final = preprocessed_dataset()\n"
   ]
  },
  {
   "cell_type": "code",
   "execution_count": 3,
   "metadata": {},
   "outputs": [
    {
     "data": {
      "text/html": [
       "<div>\n",
       "<style scoped>\n",
       "    .dataframe tbody tr th:only-of-type {\n",
       "        vertical-align: middle;\n",
       "    }\n",
       "\n",
       "    .dataframe tbody tr th {\n",
       "        vertical-align: top;\n",
       "    }\n",
       "\n",
       "    .dataframe thead th {\n",
       "        text-align: right;\n",
       "    }\n",
       "</style>\n",
       "<table border=\"1\" class=\"dataframe\">\n",
       "  <thead>\n",
       "    <tr style=\"text-align: right;\">\n",
       "      <th></th>\n",
       "      <th>hp</th>\n",
       "      <th>attack</th>\n",
       "      <th>defense</th>\n",
       "      <th>spatk</th>\n",
       "      <th>spdef</th>\n",
       "      <th>speed</th>\n",
       "    </tr>\n",
       "  </thead>\n",
       "  <tbody>\n",
       "    <tr>\n",
       "      <th>bulbasaur</th>\n",
       "      <td>45</td>\n",
       "      <td>49</td>\n",
       "      <td>49</td>\n",
       "      <td>65</td>\n",
       "      <td>65</td>\n",
       "      <td>45</td>\n",
       "    </tr>\n",
       "    <tr>\n",
       "      <th>ivysaur</th>\n",
       "      <td>60</td>\n",
       "      <td>62</td>\n",
       "      <td>63</td>\n",
       "      <td>80</td>\n",
       "      <td>80</td>\n",
       "      <td>60</td>\n",
       "    </tr>\n",
       "    <tr>\n",
       "      <th>venusaur</th>\n",
       "      <td>80</td>\n",
       "      <td>82</td>\n",
       "      <td>83</td>\n",
       "      <td>100</td>\n",
       "      <td>100</td>\n",
       "      <td>80</td>\n",
       "    </tr>\n",
       "    <tr>\n",
       "      <th>venusaur-mega</th>\n",
       "      <td>80</td>\n",
       "      <td>100</td>\n",
       "      <td>123</td>\n",
       "      <td>122</td>\n",
       "      <td>120</td>\n",
       "      <td>80</td>\n",
       "    </tr>\n",
       "    <tr>\n",
       "      <th>charmander</th>\n",
       "      <td>39</td>\n",
       "      <td>52</td>\n",
       "      <td>43</td>\n",
       "      <td>60</td>\n",
       "      <td>50</td>\n",
       "      <td>65</td>\n",
       "    </tr>\n",
       "    <tr>\n",
       "      <th>...</th>\n",
       "      <td>...</td>\n",
       "      <td>...</td>\n",
       "      <td>...</td>\n",
       "      <td>...</td>\n",
       "      <td>...</td>\n",
       "      <td>...</td>\n",
       "    </tr>\n",
       "    <tr>\n",
       "      <th>iron-crown</th>\n",
       "      <td>90</td>\n",
       "      <td>72</td>\n",
       "      <td>100</td>\n",
       "      <td>122</td>\n",
       "      <td>108</td>\n",
       "      <td>98</td>\n",
       "    </tr>\n",
       "    <tr>\n",
       "      <th>terapagos-normal</th>\n",
       "      <td>90</td>\n",
       "      <td>65</td>\n",
       "      <td>85</td>\n",
       "      <td>65</td>\n",
       "      <td>85</td>\n",
       "      <td>60</td>\n",
       "    </tr>\n",
       "    <tr>\n",
       "      <th>terapagos-terastal</th>\n",
       "      <td>95</td>\n",
       "      <td>95</td>\n",
       "      <td>110</td>\n",
       "      <td>105</td>\n",
       "      <td>110</td>\n",
       "      <td>85</td>\n",
       "    </tr>\n",
       "    <tr>\n",
       "      <th>terapagos-stellar</th>\n",
       "      <td>160</td>\n",
       "      <td>105</td>\n",
       "      <td>110</td>\n",
       "      <td>130</td>\n",
       "      <td>110</td>\n",
       "      <td>85</td>\n",
       "    </tr>\n",
       "    <tr>\n",
       "      <th>pecharunt</th>\n",
       "      <td>88</td>\n",
       "      <td>88</td>\n",
       "      <td>160</td>\n",
       "      <td>88</td>\n",
       "      <td>88</td>\n",
       "      <td>88</td>\n",
       "    </tr>\n",
       "  </tbody>\n",
       "</table>\n",
       "<p>1215 rows × 6 columns</p>\n",
       "</div>"
      ],
      "text/plain": [
       "                     hp  attack  defense  spatk  spdef  speed\n",
       "bulbasaur            45      49       49     65     65     45\n",
       "ivysaur              60      62       63     80     80     60\n",
       "venusaur             80      82       83    100    100     80\n",
       "venusaur-mega        80     100      123    122    120     80\n",
       "charmander           39      52       43     60     50     65\n",
       "...                 ...     ...      ...    ...    ...    ...\n",
       "iron-crown           90      72      100    122    108     98\n",
       "terapagos-normal     90      65       85     65     85     60\n",
       "terapagos-terastal   95      95      110    105    110     85\n",
       "terapagos-stellar   160     105      110    130    110     85\n",
       "pecharunt            88      88      160     88     88     88\n",
       "\n",
       "[1215 rows x 6 columns]"
      ]
     },
     "execution_count": 3,
     "metadata": {},
     "output_type": "execute_result"
    }
   ],
   "source": [
    "stats = poke_stats()\n",
    "stats"
   ]
  },
  {
   "cell_type": "code",
   "execution_count": 5,
   "metadata": {},
   "outputs": [
    {
     "data": {
      "text/html": [
       "<div>\n",
       "<style scoped>\n",
       "    .dataframe tbody tr th:only-of-type {\n",
       "        vertical-align: middle;\n",
       "    }\n",
       "\n",
       "    .dataframe tbody tr th {\n",
       "        vertical-align: top;\n",
       "    }\n",
       "\n",
       "    .dataframe thead th {\n",
       "        text-align: right;\n",
       "    }\n",
       "</style>\n",
       "<table border=\"1\" class=\"dataframe\">\n",
       "  <thead>\n",
       "    <tr style=\"text-align: right;\">\n",
       "      <th></th>\n",
       "      <th>pokemonid</th>\n",
       "      <th>formid</th>\n",
       "      <th>formname</th>\n",
       "      <th>gen</th>\n",
       "      <th>release</th>\n",
       "      <th>type1</th>\n",
       "      <th>type2</th>\n",
       "      <th>species</th>\n",
       "      <th>height</th>\n",
       "      <th>weight</th>\n",
       "      <th>...</th>\n",
       "      <th>egg-cycles</th>\n",
       "      <th>friendship</th>\n",
       "      <th>growth-rate</th>\n",
       "      <th>ev-yield</th>\n",
       "      <th>hp</th>\n",
       "      <th>attack</th>\n",
       "      <th>defense</th>\n",
       "      <th>spatk</th>\n",
       "      <th>spdef</th>\n",
       "      <th>speed</th>\n",
       "    </tr>\n",
       "  </thead>\n",
       "  <tbody>\n",
       "    <tr>\n",
       "      <th>bulbasaur</th>\n",
       "      <td>bulbasaur</td>\n",
       "      <td>None</td>\n",
       "      <td>None</td>\n",
       "      <td>1</td>\n",
       "      <td>red-blue</td>\n",
       "      <td>grass</td>\n",
       "      <td>poison</td>\n",
       "      <td>Seed</td>\n",
       "      <td>0.7</td>\n",
       "      <td>6.9</td>\n",
       "      <td>...</td>\n",
       "      <td>20.0</td>\n",
       "      <td>50.0</td>\n",
       "      <td>medium slow</td>\n",
       "      <td>{'spatk': 1}</td>\n",
       "      <td>45</td>\n",
       "      <td>49</td>\n",
       "      <td>49</td>\n",
       "      <td>65</td>\n",
       "      <td>65</td>\n",
       "      <td>45</td>\n",
       "    </tr>\n",
       "    <tr>\n",
       "      <th>ivysaur</th>\n",
       "      <td>ivysaur</td>\n",
       "      <td>None</td>\n",
       "      <td>None</td>\n",
       "      <td>1</td>\n",
       "      <td>red-blue</td>\n",
       "      <td>grass</td>\n",
       "      <td>poison</td>\n",
       "      <td>Seed</td>\n",
       "      <td>1.0</td>\n",
       "      <td>13.0</td>\n",
       "      <td>...</td>\n",
       "      <td>20.0</td>\n",
       "      <td>50.0</td>\n",
       "      <td>medium slow</td>\n",
       "      <td>{'spatk': 1, 'spdef': 1}</td>\n",
       "      <td>60</td>\n",
       "      <td>62</td>\n",
       "      <td>63</td>\n",
       "      <td>80</td>\n",
       "      <td>80</td>\n",
       "      <td>60</td>\n",
       "    </tr>\n",
       "    <tr>\n",
       "      <th>venusaur</th>\n",
       "      <td>venusaur</td>\n",
       "      <td>None</td>\n",
       "      <td>None</td>\n",
       "      <td>1</td>\n",
       "      <td>red-blue</td>\n",
       "      <td>grass</td>\n",
       "      <td>poison</td>\n",
       "      <td>Seed</td>\n",
       "      <td>2.0</td>\n",
       "      <td>100.0</td>\n",
       "      <td>...</td>\n",
       "      <td>20.0</td>\n",
       "      <td>50.0</td>\n",
       "      <td>medium slow</td>\n",
       "      <td>{'spatk': 2, 'spdef': 1}</td>\n",
       "      <td>80</td>\n",
       "      <td>82</td>\n",
       "      <td>83</td>\n",
       "      <td>100</td>\n",
       "      <td>100</td>\n",
       "      <td>80</td>\n",
       "    </tr>\n",
       "    <tr>\n",
       "      <th>venusaur-mega</th>\n",
       "      <td>venusaur</td>\n",
       "      <td>mega</td>\n",
       "      <td>Mega Venusaur</td>\n",
       "      <td>6</td>\n",
       "      <td>x-y</td>\n",
       "      <td>grass</td>\n",
       "      <td>poison</td>\n",
       "      <td>Seed</td>\n",
       "      <td>2.4</td>\n",
       "      <td>155.5</td>\n",
       "      <td>...</td>\n",
       "      <td>20.0</td>\n",
       "      <td>50.0</td>\n",
       "      <td>medium slow</td>\n",
       "      <td>{'spatk': 2, 'spdef': 1}</td>\n",
       "      <td>80</td>\n",
       "      <td>100</td>\n",
       "      <td>123</td>\n",
       "      <td>122</td>\n",
       "      <td>120</td>\n",
       "      <td>80</td>\n",
       "    </tr>\n",
       "    <tr>\n",
       "      <th>charmander</th>\n",
       "      <td>charmander</td>\n",
       "      <td>None</td>\n",
       "      <td>None</td>\n",
       "      <td>1</td>\n",
       "      <td>red-blue</td>\n",
       "      <td>fire</td>\n",
       "      <td>None</td>\n",
       "      <td>Lizard</td>\n",
       "      <td>0.6</td>\n",
       "      <td>8.5</td>\n",
       "      <td>...</td>\n",
       "      <td>20.0</td>\n",
       "      <td>50.0</td>\n",
       "      <td>medium slow</td>\n",
       "      <td>{'speed': 1}</td>\n",
       "      <td>39</td>\n",
       "      <td>52</td>\n",
       "      <td>43</td>\n",
       "      <td>60</td>\n",
       "      <td>50</td>\n",
       "      <td>65</td>\n",
       "    </tr>\n",
       "    <tr>\n",
       "      <th>...</th>\n",
       "      <td>...</td>\n",
       "      <td>...</td>\n",
       "      <td>...</td>\n",
       "      <td>...</td>\n",
       "      <td>...</td>\n",
       "      <td>...</td>\n",
       "      <td>...</td>\n",
       "      <td>...</td>\n",
       "      <td>...</td>\n",
       "      <td>...</td>\n",
       "      <td>...</td>\n",
       "      <td>...</td>\n",
       "      <td>...</td>\n",
       "      <td>...</td>\n",
       "      <td>...</td>\n",
       "      <td>...</td>\n",
       "      <td>...</td>\n",
       "      <td>...</td>\n",
       "      <td>...</td>\n",
       "      <td>...</td>\n",
       "      <td>...</td>\n",
       "    </tr>\n",
       "    <tr>\n",
       "      <th>iron-crown</th>\n",
       "      <td>iron-crown</td>\n",
       "      <td>None</td>\n",
       "      <td>None</td>\n",
       "      <td>9</td>\n",
       "      <td>scarlet-violet</td>\n",
       "      <td>steel</td>\n",
       "      <td>psychic</td>\n",
       "      <td>Paradox</td>\n",
       "      <td>1.6</td>\n",
       "      <td>156.0</td>\n",
       "      <td>...</td>\n",
       "      <td>NaN</td>\n",
       "      <td>NaN</td>\n",
       "      <td>slow</td>\n",
       "      <td>{'spatk': 3}</td>\n",
       "      <td>90</td>\n",
       "      <td>72</td>\n",
       "      <td>100</td>\n",
       "      <td>122</td>\n",
       "      <td>108</td>\n",
       "      <td>98</td>\n",
       "    </tr>\n",
       "    <tr>\n",
       "      <th>terapagos-normal</th>\n",
       "      <td>terapagos</td>\n",
       "      <td>normal</td>\n",
       "      <td>Normal Form</td>\n",
       "      <td>9</td>\n",
       "      <td>scarlet-violet</td>\n",
       "      <td>normal</td>\n",
       "      <td>None</td>\n",
       "      <td>Tera</td>\n",
       "      <td>0.2</td>\n",
       "      <td>6.5</td>\n",
       "      <td>...</td>\n",
       "      <td>NaN</td>\n",
       "      <td>NaN</td>\n",
       "      <td>slow</td>\n",
       "      <td>{'defense': 1}</td>\n",
       "      <td>90</td>\n",
       "      <td>65</td>\n",
       "      <td>85</td>\n",
       "      <td>65</td>\n",
       "      <td>85</td>\n",
       "      <td>60</td>\n",
       "    </tr>\n",
       "    <tr>\n",
       "      <th>terapagos-terastal</th>\n",
       "      <td>terapagos</td>\n",
       "      <td>terastal</td>\n",
       "      <td>Terastal Form</td>\n",
       "      <td>9</td>\n",
       "      <td>scarlet-violet</td>\n",
       "      <td>normal</td>\n",
       "      <td>None</td>\n",
       "      <td>Tera</td>\n",
       "      <td>0.3</td>\n",
       "      <td>16.0</td>\n",
       "      <td>...</td>\n",
       "      <td>NaN</td>\n",
       "      <td>NaN</td>\n",
       "      <td>slow</td>\n",
       "      <td>{'defense': 2, 'spdef': 2}</td>\n",
       "      <td>95</td>\n",
       "      <td>95</td>\n",
       "      <td>110</td>\n",
       "      <td>105</td>\n",
       "      <td>110</td>\n",
       "      <td>85</td>\n",
       "    </tr>\n",
       "    <tr>\n",
       "      <th>terapagos-stellar</th>\n",
       "      <td>terapagos</td>\n",
       "      <td>stellar</td>\n",
       "      <td>Stellar Form</td>\n",
       "      <td>9</td>\n",
       "      <td>scarlet-violet</td>\n",
       "      <td>normal</td>\n",
       "      <td>None</td>\n",
       "      <td>Tera</td>\n",
       "      <td>1.7</td>\n",
       "      <td>77.0</td>\n",
       "      <td>...</td>\n",
       "      <td>NaN</td>\n",
       "      <td>NaN</td>\n",
       "      <td>slow</td>\n",
       "      <td>{'hp': 3}</td>\n",
       "      <td>160</td>\n",
       "      <td>105</td>\n",
       "      <td>110</td>\n",
       "      <td>130</td>\n",
       "      <td>110</td>\n",
       "      <td>85</td>\n",
       "    </tr>\n",
       "    <tr>\n",
       "      <th>pecharunt</th>\n",
       "      <td>pecharunt</td>\n",
       "      <td>None</td>\n",
       "      <td>None</td>\n",
       "      <td>9</td>\n",
       "      <td>scarlet-violet</td>\n",
       "      <td>poison</td>\n",
       "      <td>ghost</td>\n",
       "      <td>Subjugation</td>\n",
       "      <td>0.3</td>\n",
       "      <td>0.3</td>\n",
       "      <td>...</td>\n",
       "      <td>NaN</td>\n",
       "      <td>NaN</td>\n",
       "      <td>slow</td>\n",
       "      <td>{'defense': 3}</td>\n",
       "      <td>88</td>\n",
       "      <td>88</td>\n",
       "      <td>160</td>\n",
       "      <td>88</td>\n",
       "      <td>88</td>\n",
       "      <td>88</td>\n",
       "    </tr>\n",
       "  </tbody>\n",
       "</table>\n",
       "<p>1215 rows × 23 columns</p>\n",
       "</div>"
      ],
      "text/plain": [
       "                     pokemonid    formid       formname  gen         release  \\\n",
       "bulbasaur            bulbasaur      None           None    1        red-blue   \n",
       "ivysaur                ivysaur      None           None    1        red-blue   \n",
       "venusaur              venusaur      None           None    1        red-blue   \n",
       "venusaur-mega         venusaur      mega  Mega Venusaur    6             x-y   \n",
       "charmander          charmander      None           None    1        red-blue   \n",
       "...                        ...       ...            ...  ...             ...   \n",
       "iron-crown          iron-crown      None           None    9  scarlet-violet   \n",
       "terapagos-normal     terapagos    normal    Normal Form    9  scarlet-violet   \n",
       "terapagos-terastal   terapagos  terastal  Terastal Form    9  scarlet-violet   \n",
       "terapagos-stellar    terapagos   stellar   Stellar Form    9  scarlet-violet   \n",
       "pecharunt            pecharunt      None           None    9  scarlet-violet   \n",
       "\n",
       "                     type1    type2      species  height  weight  ...  \\\n",
       "bulbasaur            grass   poison         Seed     0.7     6.9  ...   \n",
       "ivysaur              grass   poison         Seed     1.0    13.0  ...   \n",
       "venusaur             grass   poison         Seed     2.0   100.0  ...   \n",
       "venusaur-mega        grass   poison         Seed     2.4   155.5  ...   \n",
       "charmander            fire     None       Lizard     0.6     8.5  ...   \n",
       "...                    ...      ...          ...     ...     ...  ...   \n",
       "iron-crown           steel  psychic      Paradox     1.6   156.0  ...   \n",
       "terapagos-normal    normal     None         Tera     0.2     6.5  ...   \n",
       "terapagos-terastal  normal     None         Tera     0.3    16.0  ...   \n",
       "terapagos-stellar   normal     None         Tera     1.7    77.0  ...   \n",
       "pecharunt           poison    ghost  Subjugation     0.3     0.3  ...   \n",
       "\n",
       "                   egg-cycles  friendship  growth-rate  \\\n",
       "bulbasaur                20.0        50.0  medium slow   \n",
       "ivysaur                  20.0        50.0  medium slow   \n",
       "venusaur                 20.0        50.0  medium slow   \n",
       "venusaur-mega            20.0        50.0  medium slow   \n",
       "charmander               20.0        50.0  medium slow   \n",
       "...                       ...         ...          ...   \n",
       "iron-crown                NaN         NaN         slow   \n",
       "terapagos-normal          NaN         NaN         slow   \n",
       "terapagos-terastal        NaN         NaN         slow   \n",
       "terapagos-stellar         NaN         NaN         slow   \n",
       "pecharunt                 NaN         NaN         slow   \n",
       "\n",
       "                                      ev-yield   hp attack defense  spatk  \\\n",
       "bulbasaur                         {'spatk': 1}   45     49      49     65   \n",
       "ivysaur               {'spatk': 1, 'spdef': 1}   60     62      63     80   \n",
       "venusaur              {'spatk': 2, 'spdef': 1}   80     82      83    100   \n",
       "venusaur-mega         {'spatk': 2, 'spdef': 1}   80    100     123    122   \n",
       "charmander                        {'speed': 1}   39     52      43     60   \n",
       "...                                        ...  ...    ...     ...    ...   \n",
       "iron-crown                        {'spatk': 3}   90     72     100    122   \n",
       "terapagos-normal                {'defense': 1}   90     65      85     65   \n",
       "terapagos-terastal  {'defense': 2, 'spdef': 2}   95     95     110    105   \n",
       "terapagos-stellar                    {'hp': 3}  160    105     110    130   \n",
       "pecharunt                       {'defense': 3}   88     88     160     88   \n",
       "\n",
       "                    spdef  speed  \n",
       "bulbasaur              65     45  \n",
       "ivysaur                80     60  \n",
       "venusaur              100     80  \n",
       "venusaur-mega         120     80  \n",
       "charmander             50     65  \n",
       "...                   ...    ...  \n",
       "iron-crown            108     98  \n",
       "terapagos-normal       85     60  \n",
       "terapagos-terastal    110     85  \n",
       "terapagos-stellar     110     85  \n",
       "pecharunt              88     88  \n",
       "\n",
       "[1215 rows x 23 columns]"
      ]
     },
     "execution_count": 5,
     "metadata": {},
     "output_type": "execute_result"
    }
   ],
   "source": [
    "df_raw"
   ]
  },
  {
   "cell_type": "code",
   "execution_count": null,
   "metadata": {},
   "outputs": [
    {
     "data": {
      "application/vnd.plotly.v1+json": {
       "config": {
        "plotlyServerURL": "https://plot.ly"
       },
       "data": [
        {
         "alignmentgroup": "True",
         "bingroup": "x",
         "hovertemplate": "type1=grass<br>attack=%{x}<br>count=%{y}<extra></extra>",
         "legendgroup": "grass",
         "marker": {
          "color": "#636efa",
          "pattern": {
           "shape": ""
          }
         },
         "name": "grass",
         "offsetgroup": "grass",
         "orientation": "v",
         "showlegend": true,
         "type": "histogram",
         "x": [
          49,
          62,
          82,
          100,
          50,
          65,
          80,
          75,
          90,
          105,
          40,
          95,
          105,
          55,
          49,
          62,
          82,
          80,
          35,
          45,
          55,
          30,
          75,
          45,
          65,
          85,
          110,
          40,
          70,
          100,
          40,
          130,
          60,
          85,
          115,
          68,
          68,
          89,
          109,
          30,
          70,
          35,
          60,
          100,
          62,
          92,
          132,
          100,
          110,
          100,
          103,
          45,
          60,
          75,
          53,
          98,
          27,
          67,
          35,
          60,
          105,
          86,
          55,
          85,
          50,
          94,
          90,
          61,
          78,
          107,
          65,
          100,
          55,
          75,
          107,
          112,
          55,
          105,
          35,
          45,
          30,
          40,
          120,
          130,
          181,
          65,
          85,
          125,
          40,
          50,
          40,
          110,
          85,
          61,
          80,
          110,
          35,
          53,
          69,
          65,
          115,
          62,
          108,
          127,
          130,
          80,
          45,
          60,
          120,
          120,
          120,
          120,
          80
         ],
         "xaxis": "x",
         "yaxis": "y"
        },
        {
         "alignmentgroup": "True",
         "bingroup": "x",
         "hovertemplate": "type1=fire<br>attack=%{x}<br>count=%{y}<extra></extra>",
         "legendgroup": "fire",
         "marker": {
          "color": "#EF553B",
          "pattern": {
           "shape": ""
          }
         },
         "name": "fire",
         "offsetgroup": "fire",
         "orientation": "v",
         "showlegend": true,
         "type": "histogram",
         "x": [
          52,
          64,
          84,
          130,
          104,
          41,
          76,
          70,
          75,
          110,
          115,
          85,
          100,
          80,
          95,
          130,
          100,
          52,
          64,
          84,
          84,
          40,
          50,
          75,
          115,
          130,
          60,
          85,
          120,
          160,
          60,
          100,
          120,
          85,
          70,
          58,
          78,
          104,
          95,
          90,
          63,
          93,
          123,
          53,
          98,
          90,
          140,
          30,
          97,
          45,
          59,
          69,
          73,
          81,
          50,
          68,
          110,
          65,
          85,
          115,
          70,
          78,
          127,
          71,
          86,
          116,
          65,
          115,
          45,
          55,
          75,
          50,
          60,
          125,
          70,
          115
         ],
         "xaxis": "x",
         "yaxis": "y"
        },
        {
         "alignmentgroup": "True",
         "bingroup": "x",
         "hovertemplate": "type1=water<br>attack=%{x}<br>count=%{y}<extra></extra>",
         "legendgroup": "water",
         "marker": {
          "color": "#00cc96",
          "pattern": {
           "shape": ""
          }
         },
         "name": "water",
         "offsetgroup": "water",
         "orientation": "v",
         "showlegend": true,
         "type": "histogram",
         "x": [
          48,
          63,
          83,
          103,
          52,
          82,
          50,
          65,
          95,
          40,
          70,
          65,
          75,
          75,
          45,
          70,
          65,
          95,
          105,
          130,
          40,
          65,
          67,
          92,
          45,
          75,
          10,
          125,
          155,
          85,
          65,
          65,
          80,
          105,
          38,
          58,
          20,
          50,
          75,
          45,
          85,
          75,
          95,
          55,
          65,
          105,
          40,
          95,
          75,
          70,
          85,
          110,
          150,
          30,
          50,
          70,
          30,
          50,
          90,
          120,
          140,
          70,
          90,
          48,
          78,
          80,
          120,
          15,
          60,
          70,
          64,
          104,
          84,
          90,
          30,
          100,
          150,
          51,
          66,
          86,
          65,
          105,
          48,
          83,
          49,
          69,
          20,
          120,
          100,
          80,
          100,
          55,
          75,
          100,
          108,
          53,
          98,
          50,
          65,
          95,
          92,
          92,
          92,
          78,
          108,
          44,
          87,
          40,
          60,
          75,
          72,
          72,
          56,
          63,
          95,
          145,
          53,
          73,
          54,
          69,
          74,
          20,
          140,
          40,
          70,
          60,
          105,
          75,
          40,
          60,
          85,
          64,
          115,
          63,
          123,
          90,
          90,
          112,
          92,
          65,
          85,
          120,
          55,
          100,
          45,
          70,
          160,
          102,
          100,
          83
         ],
         "xaxis": "x",
         "yaxis": "y"
        },
        {
         "alignmentgroup": "True",
         "bingroup": "x",
         "hovertemplate": "type1=bug<br>attack=%{x}<br>count=%{y}<extra></extra>",
         "legendgroup": "bug",
         "marker": {
          "color": "#ab63fa",
          "pattern": {
           "shape": ""
          }
         },
         "name": "bug",
         "offsetgroup": "bug",
         "orientation": "v",
         "showlegend": true,
         "type": "histogram",
         "x": [
          30,
          20,
          45,
          35,
          25,
          90,
          150,
          70,
          95,
          55,
          65,
          110,
          125,
          155,
          20,
          35,
          60,
          90,
          65,
          65,
          90,
          130,
          150,
          10,
          125,
          185,
          45,
          35,
          70,
          35,
          50,
          30,
          60,
          45,
          90,
          90,
          73,
          47,
          25,
          85,
          29,
          29,
          29,
          59,
          79,
          69,
          94,
          30,
          80,
          76,
          53,
          63,
          103,
          45,
          55,
          100,
          65,
          105,
          75,
          135,
          47,
          77,
          40,
          70,
          109,
          85,
          60,
          120,
          35,
          22,
          52,
          62,
          82,
          70,
          45,
          55,
          35,
          125,
          139,
          137,
          20,
          35,
          45,
          135,
          41,
          79,
          46,
          102,
          50,
          50,
          135
         ],
         "xaxis": "x",
         "yaxis": "y"
        },
        {
         "alignmentgroup": "True",
         "bingroup": "x",
         "hovertemplate": "type1=normal<br>attack=%{x}<br>count=%{y}<extra></extra>",
         "legendgroup": "normal",
         "marker": {
          "color": "#FFA15A",
          "pattern": {
           "shape": ""
          }
         },
         "name": "normal",
         "offsetgroup": "normal",
         "orientation": "v",
         "showlegend": true,
         "type": "histogram",
         "x": [
          45,
          60,
          80,
          80,
          56,
          81,
          60,
          90,
          45,
          70,
          45,
          70,
          90,
          85,
          110,
          55,
          5,
          95,
          125,
          100,
          48,
          55,
          75,
          60,
          110,
          46,
          76,
          30,
          50,
          30,
          70,
          80,
          70,
          80,
          130,
          80,
          95,
          20,
          80,
          10,
          30,
          70,
          55,
          85,
          60,
          80,
          160,
          51,
          71,
          91,
          20,
          45,
          65,
          60,
          40,
          115,
          70,
          90,
          55,
          75,
          120,
          45,
          85,
          100,
          66,
          76,
          136,
          55,
          82,
          5,
          65,
          85,
          85,
          80,
          160,
          120,
          55,
          85,
          60,
          80,
          110,
          55,
          77,
          115,
          60,
          60,
          60,
          100,
          50,
          95,
          60,
          100,
          110,
          83,
          123,
          77,
          128,
          36,
          56,
          50,
          80,
          75,
          85,
          120,
          70,
          110,
          75,
          125,
          60,
          95,
          95,
          115,
          60,
          55,
          95,
          40,
          80,
          105,
          45,
          100,
          90,
          50,
          75,
          75,
          96,
          96,
          96,
          96,
          90,
          100,
          100,
          65,
          95,
          105
         ],
         "xaxis": "x",
         "yaxis": "y"
        },
        {
         "alignmentgroup": "True",
         "bingroup": "x",
         "hovertemplate": "type1=dark<br>attack=%{x}<br>count=%{y}<extra></extra>",
         "legendgroup": "dark",
         "marker": {
          "color": "#19d3f3",
          "pattern": {
           "shape": ""
          }
         },
         "name": "dark",
         "offsetgroup": "dark",
         "orientation": "v",
         "showlegend": true,
         "type": "histogram",
         "x": [
          56,
          71,
          35,
          60,
          85,
          65,
          85,
          95,
          95,
          60,
          90,
          90,
          55,
          90,
          30,
          70,
          75,
          85,
          130,
          150,
          125,
          120,
          90,
          50,
          88,
          75,
          90,
          65,
          105,
          85,
          125,
          55,
          65,
          65,
          85,
          105,
          54,
          92,
          131,
          101,
          28,
          58,
          45,
          60,
          120,
          90,
          120,
          115,
          78,
          120,
          135,
          80,
          85,
          120,
          110,
          80
         ],
         "xaxis": "x",
         "yaxis": "y"
        },
        {
         "alignmentgroup": "True",
         "bingroup": "x",
         "hovertemplate": "type1=poison<br>attack=%{x}<br>count=%{y}<extra></extra>",
         "legendgroup": "poison",
         "marker": {
          "color": "#FF6692",
          "pattern": {
           "shape": ""
          }
         },
         "name": "poison",
         "offsetgroup": "poison",
         "orientation": "v",
         "showlegend": true,
         "type": "histogram",
         "x": [
          60,
          95,
          47,
          62,
          92,
          57,
          72,
          102,
          45,
          80,
          100,
          80,
          80,
          105,
          105,
          65,
          90,
          90,
          90,
          45,
          65,
          43,
          73,
          100,
          63,
          93,
          50,
          90,
          61,
          106,
          50,
          95,
          60,
          75,
          53,
          63,
          44,
          64,
          73,
          73,
          85,
          115,
          65,
          95,
          75,
          128,
          75,
          91,
          88
         ],
         "xaxis": "x",
         "yaxis": "y"
        },
        {
         "alignmentgroup": "True",
         "bingroup": "x",
         "hovertemplate": "type1=electric<br>attack=%{x}<br>count=%{y}<extra></extra>",
         "legendgroup": "electric",
         "marker": {
          "color": "#B6E880",
          "pattern": {
           "shape": ""
          }
         },
         "name": "electric",
         "offsetgroup": "electric",
         "orientation": "v",
         "showlegend": true,
         "type": "histogram",
         "x": [
          55,
          80,
          90,
          85,
          35,
          60,
          30,
          30,
          50,
          50,
          83,
          65,
          90,
          40,
          40,
          55,
          75,
          95,
          63,
          85,
          45,
          75,
          75,
          50,
          40,
          65,
          85,
          120,
          45,
          70,
          123,
          50,
          65,
          65,
          65,
          65,
          65,
          60,
          100,
          75,
          55,
          85,
          115,
          115,
          105,
          38,
          55,
          58,
          70,
          98,
          115,
          89,
          112,
          45,
          90,
          38,
          98,
          98,
          101,
          95,
          95,
          100,
          100,
          100,
          50,
          75,
          115,
          31,
          64,
          40,
          70,
          81,
          85,
          73
         ],
         "xaxis": "x",
         "yaxis": "y"
        },
        {
         "alignmentgroup": "True",
         "bingroup": "x",
         "hovertemplate": "type1=ground<br>attack=%{x}<br>count=%{y}<extra></extra>",
         "legendgroup": "ground",
         "marker": {
          "color": "#FF97FF",
          "pattern": {
           "shape": ""
          }
         },
         "name": "ground",
         "offsetgroup": "ground",
         "orientation": "v",
         "showlegend": true,
         "type": "histogram",
         "x": [
          75,
          100,
          55,
          55,
          100,
          100,
          50,
          80,
          85,
          130,
          75,
          60,
          120,
          100,
          70,
          100,
          40,
          70,
          150,
          180,
          72,
          112,
          140,
          95,
          85,
          135,
          72,
          82,
          117,
          55,
          66,
          81,
          74,
          124,
          125,
          145,
          100,
          125,
          57,
          107,
          95,
          140,
          70,
          40,
          70,
          131,
          112
         ],
         "xaxis": "x",
         "yaxis": "y"
        },
        {
         "alignmentgroup": "True",
         "bingroup": "x",
         "hovertemplate": "type1=ice<br>attack=%{x}<br>count=%{y}<extra></extra>",
         "legendgroup": "ice",
         "marker": {
          "color": "#FECB52",
          "pattern": {
           "shape": ""
          }
         },
         "name": "ice",
         "offsetgroup": "ice",
         "orientation": "v",
         "showlegend": true,
         "type": "histogram",
         "x": [
          75,
          100,
          41,
          67,
          65,
          50,
          85,
          50,
          100,
          55,
          30,
          70,
          50,
          80,
          120,
          40,
          60,
          80,
          50,
          60,
          130,
          80,
          90,
          140,
          160,
          50,
          65,
          95,
          70,
          130,
          50,
          69,
          117,
          127,
          85,
          25,
          65,
          80,
          80,
          145,
          68,
          113,
          80
         ],
         "xaxis": "x",
         "yaxis": "y"
        },
        {
         "alignmentgroup": "True",
         "bingroup": "x",
         "hovertemplate": "type1=fairy<br>attack=%{x}<br>count=%{y}<extra></extra>",
         "legendgroup": "fairy",
         "marker": {
          "color": "#636efa",
          "pattern": {
           "shape": ""
          }
         },
         "name": "fairy",
         "offsetgroup": "fairy",
         "orientation": "v",
         "showlegend": true,
         "type": "histogram",
         "x": [
          45,
          70,
          25,
          20,
          40,
          80,
          120,
          50,
          38,
          45,
          65,
          52,
          72,
          48,
          80,
          65,
          131,
          52,
          40,
          60,
          120,
          150,
          115,
          115,
          55,
          80,
          45,
          55,
          75,
          65,
          130
         ],
         "xaxis": "x",
         "yaxis": "y"
        },
        {
         "alignmentgroup": "True",
         "bingroup": "x",
         "hovertemplate": "type1=steel<br>attack=%{x}<br>count=%{y}<extra></extra>",
         "legendgroup": "steel",
         "marker": {
          "color": "#EF553B",
          "pattern": {
           "shape": ""
          }
         },
         "name": "steel",
         "offsetgroup": "steel",
         "orientation": "v",
         "showlegend": true,
         "type": "histogram",
         "x": [
          65,
          85,
          125,
          80,
          85,
          105,
          70,
          90,
          110,
          140,
          55,
          75,
          135,
          145,
          75,
          100,
          24,
          89,
          120,
          100,
          55,
          80,
          100,
          90,
          80,
          110,
          50,
          140,
          75,
          100,
          80,
          101,
          95,
          65,
          143,
          110,
          80,
          130,
          95,
          70,
          119,
          85,
          60,
          105,
          72
         ],
         "xaxis": "x",
         "yaxis": "y"
        },
        {
         "alignmentgroup": "True",
         "bingroup": "x",
         "hovertemplate": "type1=fighting<br>attack=%{x}<br>count=%{y}<extra></extra>",
         "legendgroup": "fighting",
         "marker": {
          "color": "#00cc96",
          "pattern": {
           "shape": ""
          }
         },
         "name": "fighting",
         "offsetgroup": "fighting",
         "orientation": "v",
         "showlegend": true,
         "type": "histogram",
         "x": [
          80,
          105,
          80,
          100,
          130,
          95,
          120,
          105,
          110,
          110,
          110,
          125,
          95,
          35,
          95,
          60,
          120,
          40,
          60,
          100,
          70,
          110,
          145,
          80,
          105,
          140,
          100,
          125,
          85,
          125,
          82,
          124,
          92,
          82,
          132,
          120,
          125,
          68,
          118,
          135,
          100,
          120,
          120,
          90,
          130,
          130,
          130,
          115,
          140,
          135
         ],
         "xaxis": "x",
         "yaxis": "y"
        },
        {
         "alignmentgroup": "True",
         "bingroup": "x",
         "hovertemplate": "type1=psychic<br>attack=%{x}<br>count=%{y}<extra></extra>",
         "legendgroup": "psychic",
         "marker": {
          "color": "#ab63fa",
          "pattern": {
           "shape": ""
          }
         },
         "name": "psychic",
         "offsetgroup": "psychic",
         "orientation": "v",
         "showlegend": true,
         "type": "histogram",
         "x": [
          20,
          35,
          50,
          50,
          85,
          100,
          65,
          48,
          73,
          45,
          85,
          110,
          190,
          150,
          100,
          50,
          75,
          65,
          72,
          33,
          90,
          100,
          25,
          35,
          65,
          85,
          25,
          45,
          50,
          23,
          150,
          180,
          70,
          95,
          30,
          25,
          125,
          165,
          75,
          105,
          125,
          70,
          100,
          25,
          55,
          45,
          57,
          58,
          30,
          45,
          55,
          30,
          40,
          65,
          55,
          75,
          83,
          48,
          48,
          48,
          110,
          160,
          70,
          85,
          29,
          29,
          137,
          113,
          107,
          157,
          113,
          167,
          30,
          40,
          90,
          65,
          55,
          80,
          165,
          85,
          35,
          60
         ],
         "xaxis": "x",
         "yaxis": "y"
        },
        {
         "alignmentgroup": "True",
         "bingroup": "x",
         "hovertemplate": "type1=rock<br>attack=%{x}<br>count=%{y}<extra></extra>",
         "legendgroup": "rock",
         "marker": {
          "color": "#FFA15A",
          "pattern": {
           "shape": ""
          }
         },
         "name": "rock",
         "offsetgroup": "rock",
         "orientation": "v",
         "showlegend": true,
         "type": "histogram",
         "x": [
          80,
          80,
          95,
          95,
          120,
          120,
          45,
          40,
          60,
          80,
          115,
          105,
          135,
          100,
          64,
          84,
          134,
          164,
          45,
          55,
          95,
          41,
          81,
          95,
          125,
          100,
          125,
          165,
          42,
          52,
          80,
          55,
          75,
          105,
          135,
          112,
          140,
          129,
          52,
          105,
          89,
          121,
          59,
          77,
          50,
          100,
          160,
          65,
          65,
          115,
          115,
          117,
          60,
          100,
          53,
          131,
          40,
          60,
          80,
          125,
          55,
          60,
          100,
          100,
          35,
          55,
          134,
          120
         ],
         "xaxis": "x",
         "yaxis": "y"
        },
        {
         "alignmentgroup": "True",
         "bingroup": "x",
         "hovertemplate": "type1=ghost<br>attack=%{x}<br>count=%{y}<extra></extra>",
         "legendgroup": "ghost",
         "marker": {
          "color": "#19d3f3",
          "pattern": {
           "shape": ""
          }
         },
         "name": "ghost",
         "offsetgroup": "ghost",
         "orientation": "v",
         "showlegend": true,
         "type": "histogram",
         "x": [
          35,
          50,
          65,
          65,
          60,
          55,
          75,
          115,
          165,
          40,
          70,
          50,
          80,
          60,
          92,
          100,
          100,
          120,
          30,
          50,
          30,
          40,
          55,
          70,
          110,
          66,
          66,
          66,
          66,
          90,
          85,
          95,
          100,
          70,
          55,
          75,
          90,
          131,
          45,
          65,
          95,
          65,
          61,
          101,
          55,
          30,
          30
         ],
         "xaxis": "x",
         "yaxis": "y"
        },
        {
         "alignmentgroup": "True",
         "bingroup": "x",
         "hovertemplate": "type1=dragon<br>attack=%{x}<br>count=%{y}<extra></extra>",
         "legendgroup": "dragon",
         "marker": {
          "color": "#FF6692",
          "pattern": {
           "shape": ""
          }
         },
         "name": "dragon",
         "offsetgroup": "dragon",
         "orientation": "v",
         "showlegend": true,
         "type": "histogram",
         "x": [
          64,
          84,
          134,
          70,
          110,
          75,
          95,
          135,
          145,
          80,
          100,
          90,
          130,
          150,
          180,
          70,
          90,
          130,
          170,
          87,
          117,
          147,
          120,
          120,
          150,
          130,
          120,
          170,
          50,
          75,
          100,
          100,
          100,
          100,
          55,
          75,
          110,
          60,
          80,
          120,
          100,
          95,
          50,
          50,
          50,
          75,
          95,
          145,
          139
         ],
         "xaxis": "x",
         "yaxis": "y"
        },
        {
         "alignmentgroup": "True",
         "bingroup": "x",
         "hovertemplate": "type1=flying<br>attack=%{x}<br>count=%{y}<extra></extra>",
         "legendgroup": "flying",
         "marker": {
          "color": "#B6E880",
          "pattern": {
           "shape": ""
          }
         },
         "name": "flying",
         "offsetgroup": "flying",
         "orientation": "v",
         "showlegend": true,
         "type": "histogram",
         "x": [
          115,
          100,
          30,
          70,
          47,
          67,
          87,
          85,
          103,
          115
         ],
         "xaxis": "x",
         "yaxis": "y"
        }
       ],
       "layout": {
        "barmode": "group",
        "legend": {
         "title": {
          "text": "type1"
         },
         "tracegroupgap": 0
        },
        "margin": {
         "t": 60
        },
        "template": {
         "data": {
          "bar": [
           {
            "error_x": {
             "color": "#2a3f5f"
            },
            "error_y": {
             "color": "#2a3f5f"
            },
            "marker": {
             "line": {
              "color": "#E5ECF6",
              "width": 0.5
             },
             "pattern": {
              "fillmode": "overlay",
              "size": 10,
              "solidity": 0.2
             }
            },
            "type": "bar"
           }
          ],
          "barpolar": [
           {
            "marker": {
             "line": {
              "color": "#E5ECF6",
              "width": 0.5
             },
             "pattern": {
              "fillmode": "overlay",
              "size": 10,
              "solidity": 0.2
             }
            },
            "type": "barpolar"
           }
          ],
          "carpet": [
           {
            "aaxis": {
             "endlinecolor": "#2a3f5f",
             "gridcolor": "white",
             "linecolor": "white",
             "minorgridcolor": "white",
             "startlinecolor": "#2a3f5f"
            },
            "baxis": {
             "endlinecolor": "#2a3f5f",
             "gridcolor": "white",
             "linecolor": "white",
             "minorgridcolor": "white",
             "startlinecolor": "#2a3f5f"
            },
            "type": "carpet"
           }
          ],
          "choropleth": [
           {
            "colorbar": {
             "outlinewidth": 0,
             "ticks": ""
            },
            "type": "choropleth"
           }
          ],
          "contour": [
           {
            "colorbar": {
             "outlinewidth": 0,
             "ticks": ""
            },
            "colorscale": [
             [
              0,
              "#0d0887"
             ],
             [
              0.1111111111111111,
              "#46039f"
             ],
             [
              0.2222222222222222,
              "#7201a8"
             ],
             [
              0.3333333333333333,
              "#9c179e"
             ],
             [
              0.4444444444444444,
              "#bd3786"
             ],
             [
              0.5555555555555556,
              "#d8576b"
             ],
             [
              0.6666666666666666,
              "#ed7953"
             ],
             [
              0.7777777777777778,
              "#fb9f3a"
             ],
             [
              0.8888888888888888,
              "#fdca26"
             ],
             [
              1,
              "#f0f921"
             ]
            ],
            "type": "contour"
           }
          ],
          "contourcarpet": [
           {
            "colorbar": {
             "outlinewidth": 0,
             "ticks": ""
            },
            "type": "contourcarpet"
           }
          ],
          "heatmap": [
           {
            "colorbar": {
             "outlinewidth": 0,
             "ticks": ""
            },
            "colorscale": [
             [
              0,
              "#0d0887"
             ],
             [
              0.1111111111111111,
              "#46039f"
             ],
             [
              0.2222222222222222,
              "#7201a8"
             ],
             [
              0.3333333333333333,
              "#9c179e"
             ],
             [
              0.4444444444444444,
              "#bd3786"
             ],
             [
              0.5555555555555556,
              "#d8576b"
             ],
             [
              0.6666666666666666,
              "#ed7953"
             ],
             [
              0.7777777777777778,
              "#fb9f3a"
             ],
             [
              0.8888888888888888,
              "#fdca26"
             ],
             [
              1,
              "#f0f921"
             ]
            ],
            "type": "heatmap"
           }
          ],
          "heatmapgl": [
           {
            "colorbar": {
             "outlinewidth": 0,
             "ticks": ""
            },
            "colorscale": [
             [
              0,
              "#0d0887"
             ],
             [
              0.1111111111111111,
              "#46039f"
             ],
             [
              0.2222222222222222,
              "#7201a8"
             ],
             [
              0.3333333333333333,
              "#9c179e"
             ],
             [
              0.4444444444444444,
              "#bd3786"
             ],
             [
              0.5555555555555556,
              "#d8576b"
             ],
             [
              0.6666666666666666,
              "#ed7953"
             ],
             [
              0.7777777777777778,
              "#fb9f3a"
             ],
             [
              0.8888888888888888,
              "#fdca26"
             ],
             [
              1,
              "#f0f921"
             ]
            ],
            "type": "heatmapgl"
           }
          ],
          "histogram": [
           {
            "marker": {
             "pattern": {
              "fillmode": "overlay",
              "size": 10,
              "solidity": 0.2
             }
            },
            "type": "histogram"
           }
          ],
          "histogram2d": [
           {
            "colorbar": {
             "outlinewidth": 0,
             "ticks": ""
            },
            "colorscale": [
             [
              0,
              "#0d0887"
             ],
             [
              0.1111111111111111,
              "#46039f"
             ],
             [
              0.2222222222222222,
              "#7201a8"
             ],
             [
              0.3333333333333333,
              "#9c179e"
             ],
             [
              0.4444444444444444,
              "#bd3786"
             ],
             [
              0.5555555555555556,
              "#d8576b"
             ],
             [
              0.6666666666666666,
              "#ed7953"
             ],
             [
              0.7777777777777778,
              "#fb9f3a"
             ],
             [
              0.8888888888888888,
              "#fdca26"
             ],
             [
              1,
              "#f0f921"
             ]
            ],
            "type": "histogram2d"
           }
          ],
          "histogram2dcontour": [
           {
            "colorbar": {
             "outlinewidth": 0,
             "ticks": ""
            },
            "colorscale": [
             [
              0,
              "#0d0887"
             ],
             [
              0.1111111111111111,
              "#46039f"
             ],
             [
              0.2222222222222222,
              "#7201a8"
             ],
             [
              0.3333333333333333,
              "#9c179e"
             ],
             [
              0.4444444444444444,
              "#bd3786"
             ],
             [
              0.5555555555555556,
              "#d8576b"
             ],
             [
              0.6666666666666666,
              "#ed7953"
             ],
             [
              0.7777777777777778,
              "#fb9f3a"
             ],
             [
              0.8888888888888888,
              "#fdca26"
             ],
             [
              1,
              "#f0f921"
             ]
            ],
            "type": "histogram2dcontour"
           }
          ],
          "mesh3d": [
           {
            "colorbar": {
             "outlinewidth": 0,
             "ticks": ""
            },
            "type": "mesh3d"
           }
          ],
          "parcoords": [
           {
            "line": {
             "colorbar": {
              "outlinewidth": 0,
              "ticks": ""
             }
            },
            "type": "parcoords"
           }
          ],
          "pie": [
           {
            "automargin": true,
            "type": "pie"
           }
          ],
          "scatter": [
           {
            "fillpattern": {
             "fillmode": "overlay",
             "size": 10,
             "solidity": 0.2
            },
            "type": "scatter"
           }
          ],
          "scatter3d": [
           {
            "line": {
             "colorbar": {
              "outlinewidth": 0,
              "ticks": ""
             }
            },
            "marker": {
             "colorbar": {
              "outlinewidth": 0,
              "ticks": ""
             }
            },
            "type": "scatter3d"
           }
          ],
          "scattercarpet": [
           {
            "marker": {
             "colorbar": {
              "outlinewidth": 0,
              "ticks": ""
             }
            },
            "type": "scattercarpet"
           }
          ],
          "scattergeo": [
           {
            "marker": {
             "colorbar": {
              "outlinewidth": 0,
              "ticks": ""
             }
            },
            "type": "scattergeo"
           }
          ],
          "scattergl": [
           {
            "marker": {
             "colorbar": {
              "outlinewidth": 0,
              "ticks": ""
             }
            },
            "type": "scattergl"
           }
          ],
          "scattermapbox": [
           {
            "marker": {
             "colorbar": {
              "outlinewidth": 0,
              "ticks": ""
             }
            },
            "type": "scattermapbox"
           }
          ],
          "scatterpolar": [
           {
            "marker": {
             "colorbar": {
              "outlinewidth": 0,
              "ticks": ""
             }
            },
            "type": "scatterpolar"
           }
          ],
          "scatterpolargl": [
           {
            "marker": {
             "colorbar": {
              "outlinewidth": 0,
              "ticks": ""
             }
            },
            "type": "scatterpolargl"
           }
          ],
          "scatterternary": [
           {
            "marker": {
             "colorbar": {
              "outlinewidth": 0,
              "ticks": ""
             }
            },
            "type": "scatterternary"
           }
          ],
          "surface": [
           {
            "colorbar": {
             "outlinewidth": 0,
             "ticks": ""
            },
            "colorscale": [
             [
              0,
              "#0d0887"
             ],
             [
              0.1111111111111111,
              "#46039f"
             ],
             [
              0.2222222222222222,
              "#7201a8"
             ],
             [
              0.3333333333333333,
              "#9c179e"
             ],
             [
              0.4444444444444444,
              "#bd3786"
             ],
             [
              0.5555555555555556,
              "#d8576b"
             ],
             [
              0.6666666666666666,
              "#ed7953"
             ],
             [
              0.7777777777777778,
              "#fb9f3a"
             ],
             [
              0.8888888888888888,
              "#fdca26"
             ],
             [
              1,
              "#f0f921"
             ]
            ],
            "type": "surface"
           }
          ],
          "table": [
           {
            "cells": {
             "fill": {
              "color": "#EBF0F8"
             },
             "line": {
              "color": "white"
             }
            },
            "header": {
             "fill": {
              "color": "#C8D4E3"
             },
             "line": {
              "color": "white"
             }
            },
            "type": "table"
           }
          ]
         },
         "layout": {
          "annotationdefaults": {
           "arrowcolor": "#2a3f5f",
           "arrowhead": 0,
           "arrowwidth": 1
          },
          "autotypenumbers": "strict",
          "coloraxis": {
           "colorbar": {
            "outlinewidth": 0,
            "ticks": ""
           }
          },
          "colorscale": {
           "diverging": [
            [
             0,
             "#8e0152"
            ],
            [
             0.1,
             "#c51b7d"
            ],
            [
             0.2,
             "#de77ae"
            ],
            [
             0.3,
             "#f1b6da"
            ],
            [
             0.4,
             "#fde0ef"
            ],
            [
             0.5,
             "#f7f7f7"
            ],
            [
             0.6,
             "#e6f5d0"
            ],
            [
             0.7,
             "#b8e186"
            ],
            [
             0.8,
             "#7fbc41"
            ],
            [
             0.9,
             "#4d9221"
            ],
            [
             1,
             "#276419"
            ]
           ],
           "sequential": [
            [
             0,
             "#0d0887"
            ],
            [
             0.1111111111111111,
             "#46039f"
            ],
            [
             0.2222222222222222,
             "#7201a8"
            ],
            [
             0.3333333333333333,
             "#9c179e"
            ],
            [
             0.4444444444444444,
             "#bd3786"
            ],
            [
             0.5555555555555556,
             "#d8576b"
            ],
            [
             0.6666666666666666,
             "#ed7953"
            ],
            [
             0.7777777777777778,
             "#fb9f3a"
            ],
            [
             0.8888888888888888,
             "#fdca26"
            ],
            [
             1,
             "#f0f921"
            ]
           ],
           "sequentialminus": [
            [
             0,
             "#0d0887"
            ],
            [
             0.1111111111111111,
             "#46039f"
            ],
            [
             0.2222222222222222,
             "#7201a8"
            ],
            [
             0.3333333333333333,
             "#9c179e"
            ],
            [
             0.4444444444444444,
             "#bd3786"
            ],
            [
             0.5555555555555556,
             "#d8576b"
            ],
            [
             0.6666666666666666,
             "#ed7953"
            ],
            [
             0.7777777777777778,
             "#fb9f3a"
            ],
            [
             0.8888888888888888,
             "#fdca26"
            ],
            [
             1,
             "#f0f921"
            ]
           ]
          },
          "colorway": [
           "#636efa",
           "#EF553B",
           "#00cc96",
           "#ab63fa",
           "#FFA15A",
           "#19d3f3",
           "#FF6692",
           "#B6E880",
           "#FF97FF",
           "#FECB52"
          ],
          "font": {
           "color": "#2a3f5f"
          },
          "geo": {
           "bgcolor": "white",
           "lakecolor": "white",
           "landcolor": "#E5ECF6",
           "showlakes": true,
           "showland": true,
           "subunitcolor": "white"
          },
          "hoverlabel": {
           "align": "left"
          },
          "hovermode": "closest",
          "mapbox": {
           "style": "light"
          },
          "paper_bgcolor": "white",
          "plot_bgcolor": "#E5ECF6",
          "polar": {
           "angularaxis": {
            "gridcolor": "white",
            "linecolor": "white",
            "ticks": ""
           },
           "bgcolor": "#E5ECF6",
           "radialaxis": {
            "gridcolor": "white",
            "linecolor": "white",
            "ticks": ""
           }
          },
          "scene": {
           "xaxis": {
            "backgroundcolor": "#E5ECF6",
            "gridcolor": "white",
            "gridwidth": 2,
            "linecolor": "white",
            "showbackground": true,
            "ticks": "",
            "zerolinecolor": "white"
           },
           "yaxis": {
            "backgroundcolor": "#E5ECF6",
            "gridcolor": "white",
            "gridwidth": 2,
            "linecolor": "white",
            "showbackground": true,
            "ticks": "",
            "zerolinecolor": "white"
           },
           "zaxis": {
            "backgroundcolor": "#E5ECF6",
            "gridcolor": "white",
            "gridwidth": 2,
            "linecolor": "white",
            "showbackground": true,
            "ticks": "",
            "zerolinecolor": "white"
           }
          },
          "shapedefaults": {
           "line": {
            "color": "#2a3f5f"
           }
          },
          "ternary": {
           "aaxis": {
            "gridcolor": "white",
            "linecolor": "white",
            "ticks": ""
           },
           "baxis": {
            "gridcolor": "white",
            "linecolor": "white",
            "ticks": ""
           },
           "bgcolor": "#E5ECF6",
           "caxis": {
            "gridcolor": "white",
            "linecolor": "white",
            "ticks": ""
           }
          },
          "title": {
           "x": 0.05
          },
          "xaxis": {
           "automargin": true,
           "gridcolor": "white",
           "linecolor": "white",
           "ticks": "",
           "title": {
            "standoff": 15
           },
           "zerolinecolor": "white",
           "zerolinewidth": 2
          },
          "yaxis": {
           "automargin": true,
           "gridcolor": "white",
           "linecolor": "white",
           "ticks": "",
           "title": {
            "standoff": 15
           },
           "zerolinecolor": "white",
           "zerolinewidth": 2
          }
         }
        },
        "xaxis": {
         "anchor": "y",
         "domain": [
          0,
          1
         ],
         "title": {
          "text": "attack"
         }
        },
        "yaxis": {
         "anchor": "x",
         "domain": [
          0,
          1
         ],
         "title": {
          "text": "count"
         }
        }
       }
      }
     },
     "metadata": {},
     "output_type": "display_data"
    }
   ],
   "source": [
    "px.histogram(df_raw,\n",
    "        x=\"attack\",\n",
    "        color=\"type1\",\n",
    "        barmode= \"group\"\n",
    "        )"
   ]
  },
  {
   "cell_type": "code",
   "execution_count": null,
   "metadata": {},
   "outputs": [],
   "source": [
    "import umap \n",
    "\n",
    "reducer = umap.UMAP()\n",
    "embedding = reducer.fit_transform()"
   ]
  },
  {
   "cell_type": "code",
   "execution_count": null,
   "metadata": {},
   "outputs": [
    {
     "ename": "IndexError",
     "evalue": "only integers, slices (`:`), ellipsis (`...`), numpy.newaxis (`None`) and integer or boolean arrays are valid indices",
     "output_type": "error",
     "traceback": [
      "\u001b[0;31m---------------------------------------------------------------------------\u001b[0m",
      "\u001b[0;31mIndexError\u001b[0m                                Traceback (most recent call last)",
      "Cell \u001b[0;32mIn[12], line 1\u001b[0m\n\u001b[0;32m----> 1\u001b[0m \u001b[43mscore\u001b[49m\u001b[38;5;241;43m.\u001b[39;49m\u001b[43mcolumns\u001b[49m\u001b[43m[\u001b[49m\u001b[38;5;124;43m\"\u001b[39;49m\u001b[38;5;124;43mtsne0\u001b[39;49m\u001b[38;5;124;43m\"\u001b[39;49m\u001b[43m,\u001b[49m\u001b[43m \u001b[49m\u001b[38;5;124;43m\"\u001b[39;49m\u001b[38;5;124;43mtsne1\u001b[39;49m\u001b[38;5;124;43m\"\u001b[39;49m\u001b[43m]\u001b[49m\n",
      "File \u001b[0;32m~/miniconda3/lib/python3.12/site-packages/pandas/core/indexes/base.py:5416\u001b[0m, in \u001b[0;36mIndex.__getitem__\u001b[0;34m(self, key)\u001b[0m\n\u001b[1;32m   5407\u001b[0m         \u001b[38;5;28;01mif\u001b[39;00m \u001b[38;5;28mlen\u001b[39m(key) \u001b[38;5;241m==\u001b[39m \u001b[38;5;241m0\u001b[39m \u001b[38;5;129;01mand\u001b[39;00m \u001b[38;5;28mlen\u001b[39m(key) \u001b[38;5;241m!=\u001b[39m \u001b[38;5;28mlen\u001b[39m(\u001b[38;5;28mself\u001b[39m):\n\u001b[1;32m   5408\u001b[0m             warnings\u001b[38;5;241m.\u001b[39mwarn(\n\u001b[1;32m   5409\u001b[0m                 \u001b[38;5;124m\"\u001b[39m\u001b[38;5;124mUsing a boolean indexer with length 0 on an Index with \u001b[39m\u001b[38;5;124m\"\u001b[39m\n\u001b[1;32m   5410\u001b[0m                 \u001b[38;5;124m\"\u001b[39m\u001b[38;5;124mlength greater than 0 is deprecated and will raise in a \u001b[39m\u001b[38;5;124m\"\u001b[39m\n\u001b[0;32m   (...)\u001b[0m\n\u001b[1;32m   5413\u001b[0m                 stacklevel\u001b[38;5;241m=\u001b[39mfind_stack_level(),\n\u001b[1;32m   5414\u001b[0m             )\n\u001b[0;32m-> 5416\u001b[0m result \u001b[38;5;241m=\u001b[39m \u001b[43mgetitem\u001b[49m\u001b[43m(\u001b[49m\u001b[43mkey\u001b[49m\u001b[43m)\u001b[49m\n\u001b[1;32m   5417\u001b[0m \u001b[38;5;66;03m# Because we ruled out integer above, we always get an arraylike here\u001b[39;00m\n\u001b[1;32m   5418\u001b[0m \u001b[38;5;28;01mif\u001b[39;00m result\u001b[38;5;241m.\u001b[39mndim \u001b[38;5;241m>\u001b[39m \u001b[38;5;241m1\u001b[39m:\n",
      "\u001b[0;31mIndexError\u001b[0m: only integers, slices (`:`), ellipsis (`...`), numpy.newaxis (`None`) and integer or boolean arrays are valid indices"
     ]
    }
   ],
   "source": [
    "score.columns[\"tsne0\", \"tsne1\"]"
   ]
  },
  {
   "cell_type": "code",
   "execution_count": 14,
   "metadata": {},
   "outputs": [
    {
     "data": {
      "application/vnd.plotly.v1+json": {
       "config": {
        "plotlyServerURL": "https://plot.ly"
       },
       "data": [
        {
         "hoverinfo": "text",
         "marker": {
          "color": "rgb(61,153,112)"
         },
         "mode": "lines",
         "type": "scatter",
         "x": [
          15,
          15,
          25,
          25
         ],
         "xaxis": "x",
         "y": [
          0,
          0.016828294973007005,
          0.016828294973007005,
          0
         ],
         "yaxis": "y"
        },
        {
         "hoverinfo": "text",
         "marker": {
          "color": "rgb(61,153,112)"
         },
         "mode": "lines",
         "type": "scatter",
         "x": [
          5,
          5,
          20,
          20
         ],
         "xaxis": "x",
         "y": [
          0,
          0.052055253820650134,
          0.052055253820650134,
          0.016828294973007005
         ],
         "yaxis": "y"
        },
        {
         "hoverinfo": "text",
         "marker": {
          "color": "rgb(61,153,112)"
         },
         "mode": "lines",
         "type": "scatter",
         "x": [
          35,
          35,
          45,
          45
         ],
         "xaxis": "x",
         "y": [
          0,
          0.0789383931023666,
          0.0789383931023666,
          0
         ],
         "yaxis": "y"
        },
        {
         "hoverinfo": "text",
         "marker": {
          "color": "rgb(61,153,112)"
         },
         "mode": "lines",
         "type": "scatter",
         "x": [
          55,
          55,
          65,
          65
         ],
         "xaxis": "x",
         "y": [
          0,
          0.23744537472365015,
          0.23744537472365015,
          0
         ],
         "yaxis": "y"
        },
        {
         "hoverinfo": "text",
         "marker": {
          "color": "rgb(61,153,112)"
         },
         "mode": "lines",
         "type": "scatter",
         "x": [
          40,
          40,
          60,
          60
         ],
         "xaxis": "x",
         "y": [
          0.0789383931023666,
          1.3788649383525116,
          1.3788649383525116,
          0.23744537472365015
         ],
         "yaxis": "y"
        },
        {
         "hoverinfo": "text",
         "marker": {
          "color": "rgb(61,153,112)"
         },
         "mode": "lines",
         "type": "scatter",
         "x": [
          12.5,
          12.5,
          50,
          50
         ],
         "xaxis": "x",
         "y": [
          0.052055253820650134,
          2.3667204461323044,
          2.3667204461323044,
          1.3788649383525116
         ],
         "yaxis": "y"
        },
        {
         "hoverinfo": "text",
         "marker": {
          "color": "rgb(61,153,112)"
         },
         "mode": "lines",
         "type": "scatter",
         "x": [
          95,
          95,
          105,
          105
         ],
         "xaxis": "x",
         "y": [
          0,
          0.010090222740285237,
          0.010090222740285237,
          0
         ],
         "yaxis": "y"
        },
        {
         "hoverinfo": "text",
         "marker": {
          "color": "rgb(61,153,112)"
         },
         "mode": "lines",
         "type": "scatter",
         "x": [
          85,
          85,
          100,
          100
         ],
         "xaxis": "x",
         "y": [
          0,
          0.06168540946085752,
          0.06168540946085752,
          0.010090222740285237
         ],
         "yaxis": "y"
        },
        {
         "hoverinfo": "text",
         "marker": {
          "color": "rgb(61,153,112)"
         },
         "mode": "lines",
         "type": "scatter",
         "x": [
          75,
          75,
          92.5,
          92.5
         ],
         "xaxis": "x",
         "y": [
          0,
          0.23749683384548037,
          0.23749683384548037,
          0.06168540946085752
         ],
         "yaxis": "y"
        },
        {
         "hoverinfo": "text",
         "marker": {
          "color": "rgb(61,153,112)"
         },
         "mode": "lines",
         "type": "scatter",
         "x": [
          125,
          125,
          135,
          135
         ],
         "xaxis": "x",
         "y": [
          0,
          0.010538121434878424,
          0.010538121434878424,
          0
         ],
         "yaxis": "y"
        },
        {
         "hoverinfo": "text",
         "marker": {
          "color": "rgb(61,153,112)"
         },
         "mode": "lines",
         "type": "scatter",
         "x": [
          145,
          145,
          155,
          155
         ],
         "xaxis": "x",
         "y": [
          0,
          0.013039567829216286,
          0.013039567829216286,
          0
         ],
         "yaxis": "y"
        },
        {
         "hoverinfo": "text",
         "marker": {
          "color": "rgb(61,153,112)"
         },
         "mode": "lines",
         "type": "scatter",
         "x": [
          130,
          130,
          150,
          150
         ],
         "xaxis": "x",
         "y": [
          0.010538121434878424,
          0.07267084374631308,
          0.07267084374631308,
          0.013039567829216286
         ],
         "yaxis": "y"
        },
        {
         "hoverinfo": "text",
         "marker": {
          "color": "rgb(61,153,112)"
         },
         "mode": "lines",
         "type": "scatter",
         "x": [
          115,
          115,
          140,
          140
         ],
         "xaxis": "x",
         "y": [
          0,
          0.6217132124763691,
          0.6217132124763691,
          0.07267084374631308
         ],
         "yaxis": "y"
        },
        {
         "hoverinfo": "text",
         "marker": {
          "color": "rgb(61,153,112)"
         },
         "mode": "lines",
         "type": "scatter",
         "x": [
          165,
          165,
          175,
          175
         ],
         "xaxis": "x",
         "y": [
          0,
          0.11067143747718655,
          0.11067143747718655,
          0
         ],
         "yaxis": "y"
        },
        {
         "hoverinfo": "text",
         "marker": {
          "color": "rgb(61,153,112)"
         },
         "mode": "lines",
         "type": "scatter",
         "x": [
          195,
          195,
          205,
          205
         ],
         "xaxis": "x",
         "y": [
          0,
          0.06817223920330975,
          0.06817223920330975,
          0
         ],
         "yaxis": "y"
        },
        {
         "hoverinfo": "text",
         "marker": {
          "color": "rgb(61,153,112)"
         },
         "mode": "lines",
         "type": "scatter",
         "x": [
          185,
          185,
          200,
          200
         ],
         "xaxis": "x",
         "y": [
          0,
          0.19140925443314322,
          0.19140925443314322,
          0.06817223920330975
         ],
         "yaxis": "y"
        },
        {
         "hoverinfo": "text",
         "marker": {
          "color": "rgb(61,153,112)"
         },
         "mode": "lines",
         "type": "scatter",
         "x": [
          170,
          170,
          192.5,
          192.5
         ],
         "xaxis": "x",
         "y": [
          0.11067143747718655,
          0.40643032003436247,
          0.40643032003436247,
          0.19140925443314322
         ],
         "yaxis": "y"
        },
        {
         "hoverinfo": "text",
         "marker": {
          "color": "rgb(61,153,112)"
         },
         "mode": "lines",
         "type": "scatter",
         "x": [
          215,
          215,
          225,
          225
         ],
         "xaxis": "x",
         "y": [
          0,
          0.2916161058325948,
          0.2916161058325948,
          0
         ],
         "yaxis": "y"
        },
        {
         "hoverinfo": "text",
         "marker": {
          "color": "rgb(61,153,112)"
         },
         "mode": "lines",
         "type": "scatter",
         "x": [
          255,
          255,
          265,
          265
         ],
         "xaxis": "x",
         "y": [
          0,
          0.08224110889424414,
          0.08224110889424414,
          0
         ],
         "yaxis": "y"
        },
        {
         "hoverinfo": "text",
         "marker": {
          "color": "rgb(61,153,112)"
         },
         "mode": "lines",
         "type": "scatter",
         "x": [
          245,
          245,
          260,
          260
         ],
         "xaxis": "x",
         "y": [
          0,
          0.16407797237731508,
          0.16407797237731508,
          0.08224110889424414
         ],
         "yaxis": "y"
        },
        {
         "hoverinfo": "text",
         "marker": {
          "color": "rgb(61,153,112)"
         },
         "mode": "lines",
         "type": "scatter",
         "x": [
          235,
          235,
          252.5,
          252.5
         ],
         "xaxis": "x",
         "y": [
          0,
          0.3186028410769795,
          0.3186028410769795,
          0.16407797237731508
         ],
         "yaxis": "y"
        },
        {
         "hoverinfo": "text",
         "marker": {
          "color": "rgb(61,153,112)"
         },
         "mode": "lines",
         "type": "scatter",
         "x": [
          220,
          220,
          243.75,
          243.75
         ],
         "xaxis": "x",
         "y": [
          0.2916161058325948,
          0.6356214944373498,
          0.6356214944373498,
          0.3186028410769795
         ],
         "yaxis": "y"
        },
        {
         "hoverinfo": "text",
         "marker": {
          "color": "rgb(61,153,112)"
         },
         "mode": "lines",
         "type": "scatter",
         "x": [
          181.25,
          181.25,
          231.875,
          231.875
         ],
         "xaxis": "x",
         "y": [
          0.40643032003436247,
          1.0756732032024046,
          1.0756732032024046,
          0.6356214944373498
         ],
         "yaxis": "y"
        },
        {
         "hoverinfo": "text",
         "marker": {
          "color": "rgb(61,153,112)"
         },
         "mode": "lines",
         "type": "scatter",
         "x": [
          127.5,
          127.5,
          206.5625,
          206.5625
         ],
         "xaxis": "x",
         "y": [
          0.6217132124763691,
          2.2607625319292906,
          2.2607625319292906,
          1.0756732032024046
         ],
         "yaxis": "y"
        },
        {
         "hoverinfo": "text",
         "marker": {
          "color": "rgb(61,153,112)"
         },
         "mode": "lines",
         "type": "scatter",
         "x": [
          83.75,
          83.75,
          167.03125,
          167.03125
         ],
         "xaxis": "x",
         "y": [
          0.23749683384548037,
          2.586995461961824,
          2.586995461961824,
          2.2607625319292906
         ],
         "yaxis": "y"
        },
        {
         "hoverinfo": "text",
         "marker": {
          "color": "rgb(61,153,112)"
         },
         "mode": "lines",
         "type": "scatter",
         "x": [
          285,
          285,
          295,
          295
         ],
         "xaxis": "x",
         "y": [
          0,
          0.08695325307850728,
          0.08695325307850728,
          0
         ],
         "yaxis": "y"
        },
        {
         "hoverinfo": "text",
         "marker": {
          "color": "rgb(61,153,112)"
         },
         "mode": "lines",
         "type": "scatter",
         "x": [
          275,
          275,
          290,
          290
         ],
         "xaxis": "x",
         "y": [
          0,
          0.24198671514783499,
          0.24198671514783499,
          0.08695325307850728
         ],
         "yaxis": "y"
        },
        {
         "hoverinfo": "text",
         "marker": {
          "color": "rgb(61,153,112)"
         },
         "mode": "lines",
         "type": "scatter",
         "x": [
          305,
          305,
          315,
          315
         ],
         "xaxis": "x",
         "y": [
          0,
          0.0024457849411542868,
          0.0024457849411542868,
          0
         ],
         "yaxis": "y"
        },
        {
         "hoverinfo": "text",
         "marker": {
          "color": "rgb(61,153,112)"
         },
         "mode": "lines",
         "type": "scatter",
         "x": [
          335,
          335,
          345,
          345
         ],
         "xaxis": "x",
         "y": [
          0,
          0.08087698469834824,
          0.08087698469834824,
          0
         ],
         "yaxis": "y"
        },
        {
         "hoverinfo": "text",
         "marker": {
          "color": "rgb(61,153,112)"
         },
         "mode": "lines",
         "type": "scatter",
         "x": [
          325,
          325,
          340,
          340
         ],
         "xaxis": "x",
         "y": [
          0,
          0.212712013965272,
          0.212712013965272,
          0.08087698469834824
         ],
         "yaxis": "y"
        },
        {
         "hoverinfo": "text",
         "marker": {
          "color": "rgb(61,153,112)"
         },
         "mode": "lines",
         "type": "scatter",
         "x": [
          310,
          310,
          332.5,
          332.5
         ],
         "xaxis": "x",
         "y": [
          0.0024457849411542868,
          0.6735221158233634,
          0.6735221158233634,
          0.212712013965272
         ],
         "yaxis": "y"
        },
        {
         "hoverinfo": "text",
         "marker": {
          "color": "rgb(61,153,112)"
         },
         "mode": "lines",
         "type": "scatter",
         "x": [
          282.5,
          282.5,
          321.25,
          321.25
         ],
         "xaxis": "x",
         "y": [
          0.24198671514783499,
          2.801092552952971,
          2.801092552952971,
          0.6735221158233634
         ],
         "yaxis": "y"
        },
        {
         "hoverinfo": "text",
         "marker": {
          "color": "rgb(61,153,112)"
         },
         "mode": "lines",
         "type": "scatter",
         "x": [
          125.390625,
          125.390625,
          301.875,
          301.875
         ],
         "xaxis": "x",
         "y": [
          2.586995461961824,
          4.2090956928377254,
          4.2090956928377254,
          2.801092552952971
         ],
         "yaxis": "y"
        },
        {
         "hoverinfo": "text",
         "marker": {
          "color": "rgb(61,153,112)"
         },
         "mode": "lines",
         "type": "scatter",
         "x": [
          31.25,
          31.25,
          213.6328125,
          213.6328125
         ],
         "xaxis": "x",
         "y": [
          2.3667204461323044,
          5.70806187850507,
          5.70806187850507,
          4.2090956928377254
         ],
         "yaxis": "y"
        },
        {
         "hoverinfo": "text",
         "marker": {
          "color": "rgb(61,153,112)"
         },
         "mode": "lines",
         "type": "scatter",
         "x": [
          375,
          375,
          385,
          385
         ],
         "xaxis": "x",
         "y": [
          0,
          0.012263172066540914,
          0.012263172066540914,
          0
         ],
         "yaxis": "y"
        },
        {
         "hoverinfo": "text",
         "marker": {
          "color": "rgb(61,153,112)"
         },
         "mode": "lines",
         "type": "scatter",
         "x": [
          365,
          365,
          380,
          380
         ],
         "xaxis": "x",
         "y": [
          0,
          0.02673850092209894,
          0.02673850092209894,
          0.012263172066540914
         ],
         "yaxis": "y"
        },
        {
         "hoverinfo": "text",
         "marker": {
          "color": "rgb(61,153,112)"
         },
         "mode": "lines",
         "type": "scatter",
         "x": [
          405,
          405,
          415,
          415
         ],
         "xaxis": "x",
         "y": [
          0,
          0.050721234608742796,
          0.050721234608742796,
          0
         ],
         "yaxis": "y"
        },
        {
         "hoverinfo": "text",
         "marker": {
          "color": "rgb(61,153,112)"
         },
         "mode": "lines",
         "type": "scatter",
         "x": [
          395,
          395,
          410,
          410
         ],
         "xaxis": "x",
         "y": [
          0,
          0.12038146315206458,
          0.12038146315206458,
          0.050721234608742796
         ],
         "yaxis": "y"
        },
        {
         "hoverinfo": "text",
         "marker": {
          "color": "rgb(61,153,112)"
         },
         "mode": "lines",
         "type": "scatter",
         "x": [
          372.5,
          372.5,
          402.5,
          402.5
         ],
         "xaxis": "x",
         "y": [
          0.02673850092209894,
          0.2468996111355642,
          0.2468996111355642,
          0.12038146315206458
         ],
         "yaxis": "y"
        },
        {
         "hoverinfo": "text",
         "marker": {
          "color": "rgb(61,153,112)"
         },
         "mode": "lines",
         "type": "scatter",
         "x": [
          355,
          355,
          387.5,
          387.5
         ],
         "xaxis": "x",
         "y": [
          0,
          0.7121835773992253,
          0.7121835773992253,
          0.2468996111355642
         ],
         "yaxis": "y"
        },
        {
         "hoverinfo": "text",
         "marker": {
          "color": "rgb(61,153,112)"
         },
         "mode": "lines",
         "type": "scatter",
         "x": [
          425,
          425,
          435,
          435
         ],
         "xaxis": "x",
         "y": [
          0,
          0.0019644776573014004,
          0.0019644776573014004,
          0
         ],
         "yaxis": "y"
        },
        {
         "hoverinfo": "text",
         "marker": {
          "color": "rgb(61,153,112)"
         },
         "mode": "lines",
         "type": "scatter",
         "x": [
          445,
          445,
          455,
          455
         ],
         "xaxis": "x",
         "y": [
          0,
          0.015428946560872903,
          0.015428946560872903,
          0
         ],
         "yaxis": "y"
        },
        {
         "hoverinfo": "text",
         "marker": {
          "color": "rgb(61,153,112)"
         },
         "mode": "lines",
         "type": "scatter",
         "x": [
          475,
          475,
          485,
          485
         ],
         "xaxis": "x",
         "y": [
          0,
          0.018449082308754968,
          0.018449082308754968,
          0
         ],
         "yaxis": "y"
        },
        {
         "hoverinfo": "text",
         "marker": {
          "color": "rgb(61,153,112)"
         },
         "mode": "lines",
         "type": "scatter",
         "x": [
          465,
          465,
          480,
          480
         ],
         "xaxis": "x",
         "y": [
          0,
          0.0456672646937142,
          0.0456672646937142,
          0.018449082308754968
         ],
         "yaxis": "y"
        },
        {
         "hoverinfo": "text",
         "marker": {
          "color": "rgb(61,153,112)"
         },
         "mode": "lines",
         "type": "scatter",
         "x": [
          450,
          450,
          472.5,
          472.5
         ],
         "xaxis": "x",
         "y": [
          0.015428946560872903,
          1.625121682678831,
          1.625121682678831,
          0.0456672646937142
         ],
         "yaxis": "y"
        },
        {
         "hoverinfo": "text",
         "marker": {
          "color": "rgb(61,153,112)"
         },
         "mode": "lines",
         "type": "scatter",
         "x": [
          430,
          430,
          461.25,
          461.25
         ],
         "xaxis": "x",
         "y": [
          0.0019644776573014004,
          1.88497626156998,
          1.88497626156998,
          1.625121682678831
         ],
         "yaxis": "y"
        },
        {
         "hoverinfo": "text",
         "marker": {
          "color": "rgb(61,153,112)"
         },
         "mode": "lines",
         "type": "scatter",
         "x": [
          515,
          515,
          525,
          525
         ],
         "xaxis": "x",
         "y": [
          0,
          0.0449497906594227,
          0.0449497906594227,
          0
         ],
         "yaxis": "y"
        },
        {
         "hoverinfo": "text",
         "marker": {
          "color": "rgb(61,153,112)"
         },
         "mode": "lines",
         "type": "scatter",
         "x": [
          505,
          505,
          520,
          520
         ],
         "xaxis": "x",
         "y": [
          0,
          0.12965536822532003,
          0.12965536822532003,
          0.0449497906594227
         ],
         "yaxis": "y"
        },
        {
         "hoverinfo": "text",
         "marker": {
          "color": "rgb(61,153,112)"
         },
         "mode": "lines",
         "type": "scatter",
         "x": [
          495,
          495,
          512.5,
          512.5
         ],
         "xaxis": "x",
         "y": [
          0,
          0.4262332069060163,
          0.4262332069060163,
          0.12965536822532003
         ],
         "yaxis": "y"
        },
        {
         "hoverinfo": "text",
         "marker": {
          "color": "rgb(61,153,112)"
         },
         "mode": "lines",
         "type": "scatter",
         "x": [
          545,
          545,
          555,
          555
         ],
         "xaxis": "x",
         "y": [
          0,
          0.05873982221717442,
          0.05873982221717442,
          0
         ],
         "yaxis": "y"
        },
        {
         "hoverinfo": "text",
         "marker": {
          "color": "rgb(61,153,112)"
         },
         "mode": "lines",
         "type": "scatter",
         "x": [
          535,
          535,
          550,
          550
         ],
         "xaxis": "x",
         "y": [
          0,
          1.0293774061465297,
          1.0293774061465297,
          0.05873982221717442
         ],
         "yaxis": "y"
        },
        {
         "hoverinfo": "text",
         "marker": {
          "color": "rgb(61,153,112)"
         },
         "mode": "lines",
         "type": "scatter",
         "x": [
          503.75,
          503.75,
          542.5,
          542.5
         ],
         "xaxis": "x",
         "y": [
          0.4262332069060163,
          2.4577772885375198,
          2.4577772885375198,
          1.0293774061465297
         ],
         "yaxis": "y"
        },
        {
         "hoverinfo": "text",
         "marker": {
          "color": "rgb(61,153,112)"
         },
         "mode": "lines",
         "type": "scatter",
         "x": [
          445.625,
          445.625,
          523.125,
          523.125
         ],
         "xaxis": "x",
         "y": [
          1.88497626156998,
          4.212802595048377,
          4.212802595048377,
          2.4577772885375198
         ],
         "yaxis": "y"
        },
        {
         "hoverinfo": "text",
         "marker": {
          "color": "rgb(61,153,112)"
         },
         "mode": "lines",
         "type": "scatter",
         "x": [
          371.25,
          371.25,
          484.375,
          484.375
         ],
         "xaxis": "x",
         "y": [
          0.7121835773992253,
          6.6683603537488025,
          6.6683603537488025,
          4.212802595048377
         ],
         "yaxis": "y"
        },
        {
         "hoverinfo": "text",
         "marker": {
          "color": "rgb(61,153,112)"
         },
         "mode": "lines",
         "type": "scatter",
         "x": [
          122.44140625,
          122.44140625,
          427.8125,
          427.8125
         ],
         "xaxis": "x",
         "y": [
          5.70806187850507,
          7.410187827673329,
          7.410187827673329,
          6.6683603537488025
         ],
         "yaxis": "y"
        },
        {
         "hoverinfo": "text",
         "marker": {
          "color": "rgb(61,153,112)"
         },
         "mode": "lines",
         "type": "scatter",
         "x": [
          565,
          565,
          575,
          575
         ],
         "xaxis": "x",
         "y": [
          0,
          0.007815262280085356,
          0.007815262280085356,
          0
         ],
         "yaxis": "y"
        },
        {
         "hoverinfo": "text",
         "marker": {
          "color": "rgb(61,153,112)"
         },
         "mode": "lines",
         "type": "scatter",
         "x": [
          585,
          585,
          595,
          595
         ],
         "xaxis": "x",
         "y": [
          0,
          0.029859082804169382,
          0.029859082804169382,
          0
         ],
         "yaxis": "y"
        },
        {
         "hoverinfo": "text",
         "marker": {
          "color": "rgb(61,153,112)"
         },
         "mode": "lines",
         "type": "scatter",
         "x": [
          570,
          570,
          590,
          590
         ],
         "xaxis": "x",
         "y": [
          0.007815262280085356,
          0.07921972261916194,
          0.07921972261916194,
          0.029859082804169382
         ],
         "yaxis": "y"
        },
        {
         "hoverinfo": "text",
         "marker": {
          "color": "rgb(61,153,112)"
         },
         "mode": "lines",
         "type": "scatter",
         "x": [
          625,
          625,
          635,
          635
         ],
         "xaxis": "x",
         "y": [
          0,
          0.11585834227150721,
          0.11585834227150721,
          0
         ],
         "yaxis": "y"
        },
        {
         "hoverinfo": "text",
         "marker": {
          "color": "rgb(61,153,112)"
         },
         "mode": "lines",
         "type": "scatter",
         "x": [
          615,
          615,
          630,
          630
         ],
         "xaxis": "x",
         "y": [
          0,
          0.2885606026034285,
          0.2885606026034285,
          0.11585834227150721
         ],
         "yaxis": "y"
        },
        {
         "hoverinfo": "text",
         "marker": {
          "color": "rgb(61,153,112)"
         },
         "mode": "lines",
         "type": "scatter",
         "x": [
          605,
          605,
          622.5,
          622.5
         ],
         "xaxis": "x",
         "y": [
          0,
          0.8031105430427781,
          0.8031105430427781,
          0.2885606026034285
         ],
         "yaxis": "y"
        },
        {
         "hoverinfo": "text",
         "marker": {
          "color": "rgb(61,153,112)"
         },
         "mode": "lines",
         "type": "scatter",
         "x": [
          655,
          655,
          665,
          665
         ],
         "xaxis": "x",
         "y": [
          0,
          0.05282728595216165,
          0.05282728595216165,
          0
         ],
         "yaxis": "y"
        },
        {
         "hoverinfo": "text",
         "marker": {
          "color": "rgb(61,153,112)"
         },
         "mode": "lines",
         "type": "scatter",
         "x": [
          645,
          645,
          660,
          660
         ],
         "xaxis": "x",
         "y": [
          0,
          0.18048923128455244,
          0.18048923128455244,
          0.05282728595216165
         ],
         "yaxis": "y"
        },
        {
         "hoverinfo": "text",
         "marker": {
          "color": "rgb(61,153,112)"
         },
         "mode": "lines",
         "type": "scatter",
         "x": [
          695,
          695,
          705,
          705
         ],
         "xaxis": "x",
         "y": [
          0,
          0.03624108166021877,
          0.03624108166021877,
          0
         ],
         "yaxis": "y"
        },
        {
         "hoverinfo": "text",
         "marker": {
          "color": "rgb(61,153,112)"
         },
         "mode": "lines",
         "type": "scatter",
         "x": [
          685,
          685,
          700,
          700
         ],
         "xaxis": "x",
         "y": [
          0,
          0.11862517740603963,
          0.11862517740603963,
          0.03624108166021877
         ],
         "yaxis": "y"
        },
        {
         "hoverinfo": "text",
         "marker": {
          "color": "rgb(61,153,112)"
         },
         "mode": "lines",
         "type": "scatter",
         "x": [
          675,
          675,
          692.5,
          692.5
         ],
         "xaxis": "x",
         "y": [
          0,
          0.337811934330469,
          0.337811934330469,
          0.11862517740603963
         ],
         "yaxis": "y"
        },
        {
         "hoverinfo": "text",
         "marker": {
          "color": "rgb(61,153,112)"
         },
         "mode": "lines",
         "type": "scatter",
         "x": [
          652.5,
          652.5,
          683.75,
          683.75
         ],
         "xaxis": "x",
         "y": [
          0.18048923128455244,
          0.5262383884700134,
          0.5262383884700134,
          0.337811934330469
         ],
         "yaxis": "y"
        },
        {
         "hoverinfo": "text",
         "marker": {
          "color": "rgb(61,153,112)"
         },
         "mode": "lines",
         "type": "scatter",
         "x": [
          715,
          715,
          725,
          725
         ],
         "xaxis": "x",
         "y": [
          0,
          0.5521764227021223,
          0.5521764227021223,
          0
         ],
         "yaxis": "y"
        },
        {
         "hoverinfo": "text",
         "marker": {
          "color": "rgb(61,153,112)"
         },
         "mode": "lines",
         "type": "scatter",
         "x": [
          668.125,
          668.125,
          720,
          720
         ],
         "xaxis": "x",
         "y": [
          0.5262383884700134,
          0.9700250087653431,
          0.9700250087653431,
          0.5521764227021223
         ],
         "yaxis": "y"
        },
        {
         "hoverinfo": "text",
         "marker": {
          "color": "rgb(61,153,112)"
         },
         "mode": "lines",
         "type": "scatter",
         "x": [
          745,
          745,
          755,
          755
         ],
         "xaxis": "x",
         "y": [
          0,
          0.18965774552985568,
          0.18965774552985568,
          0
         ],
         "yaxis": "y"
        },
        {
         "hoverinfo": "text",
         "marker": {
          "color": "rgb(61,153,112)"
         },
         "mode": "lines",
         "type": "scatter",
         "x": [
          735,
          735,
          750,
          750
         ],
         "xaxis": "x",
         "y": [
          0,
          0.7953170107616674,
          0.7953170107616674,
          0.18965774552985568
         ],
         "yaxis": "y"
        },
        {
         "hoverinfo": "text",
         "marker": {
          "color": "rgb(61,153,112)"
         },
         "mode": "lines",
         "type": "scatter",
         "x": [
          785,
          785,
          795,
          795
         ],
         "xaxis": "x",
         "y": [
          0,
          0.13647877162702823,
          0.13647877162702823,
          0
         ],
         "yaxis": "y"
        },
        {
         "hoverinfo": "text",
         "marker": {
          "color": "rgb(61,153,112)"
         },
         "mode": "lines",
         "type": "scatter",
         "x": [
          775,
          775,
          790,
          790
         ],
         "xaxis": "x",
         "y": [
          0,
          0.4115395222702739,
          0.4115395222702739,
          0.13647877162702823
         ],
         "yaxis": "y"
        },
        {
         "hoverinfo": "text",
         "marker": {
          "color": "rgb(61,153,112)"
         },
         "mode": "lines",
         "type": "scatter",
         "x": [
          805,
          805,
          815,
          815
         ],
         "xaxis": "x",
         "y": [
          0,
          0.18115496955856913,
          0.18115496955856913,
          0
         ],
         "yaxis": "y"
        },
        {
         "hoverinfo": "text",
         "marker": {
          "color": "rgb(61,153,112)"
         },
         "mode": "lines",
         "type": "scatter",
         "x": [
          835,
          835,
          845,
          845
         ],
         "xaxis": "x",
         "y": [
          0,
          0.09240527513936714,
          0.09240527513936714,
          0
         ],
         "yaxis": "y"
        },
        {
         "hoverinfo": "text",
         "marker": {
          "color": "rgb(61,153,112)"
         },
         "mode": "lines",
         "type": "scatter",
         "x": [
          825,
          825,
          840,
          840
         ],
         "xaxis": "x",
         "y": [
          0,
          0.1344993476257299,
          0.1344993476257299,
          0.09240527513936714
         ],
         "yaxis": "y"
        },
        {
         "hoverinfo": "text",
         "marker": {
          "color": "rgb(61,153,112)"
         },
         "mode": "lines",
         "type": "scatter",
         "x": [
          855,
          855,
          865,
          865
         ],
         "xaxis": "x",
         "y": [
          0,
          0.30268111022930744,
          0.30268111022930744,
          0
         ],
         "yaxis": "y"
        },
        {
         "hoverinfo": "text",
         "marker": {
          "color": "rgb(61,153,112)"
         },
         "mode": "lines",
         "type": "scatter",
         "x": [
          832.5,
          832.5,
          860,
          860
         ],
         "xaxis": "x",
         "y": [
          0.1344993476257299,
          0.6111624443938797,
          0.6111624443938797,
          0.30268111022930744
         ],
         "yaxis": "y"
        },
        {
         "hoverinfo": "text",
         "marker": {
          "color": "rgb(61,153,112)"
         },
         "mode": "lines",
         "type": "scatter",
         "x": [
          810,
          810,
          846.25,
          846.25
         ],
         "xaxis": "x",
         "y": [
          0.18115496955856913,
          0.7412373520002244,
          0.7412373520002244,
          0.6111624443938797
         ],
         "yaxis": "y"
        },
        {
         "hoverinfo": "text",
         "marker": {
          "color": "rgb(61,153,112)"
         },
         "mode": "lines",
         "type": "scatter",
         "x": [
          782.5,
          782.5,
          828.125,
          828.125
         ],
         "xaxis": "x",
         "y": [
          0.4115395222702739,
          1.001792559536902,
          1.001792559536902,
          0.7412373520002244
         ],
         "yaxis": "y"
        },
        {
         "hoverinfo": "text",
         "marker": {
          "color": "rgb(61,153,112)"
         },
         "mode": "lines",
         "type": "scatter",
         "x": [
          765,
          765,
          805.3125,
          805.3125
         ],
         "xaxis": "x",
         "y": [
          0,
          1.7297082843763185,
          1.7297082843763185,
          1.001792559536902
         ],
         "yaxis": "y"
        },
        {
         "hoverinfo": "text",
         "marker": {
          "color": "rgb(61,153,112)"
         },
         "mode": "lines",
         "type": "scatter",
         "x": [
          742.5,
          742.5,
          785.15625,
          785.15625
         ],
         "xaxis": "x",
         "y": [
          0.7953170107616674,
          2.2728696122487806,
          2.2728696122487806,
          1.7297082843763185
         ],
         "yaxis": "y"
        },
        {
         "hoverinfo": "text",
         "marker": {
          "color": "rgb(61,153,112)"
         },
         "mode": "lines",
         "type": "scatter",
         "x": [
          694.0625,
          694.0625,
          763.828125,
          763.828125
         ],
         "xaxis": "x",
         "y": [
          0.9700250087653431,
          3.1828517727579,
          3.1828517727579,
          2.2728696122487806
         ],
         "yaxis": "y"
        },
        {
         "hoverinfo": "text",
         "marker": {
          "color": "rgb(61,153,112)"
         },
         "mode": "lines",
         "type": "scatter",
         "x": [
          613.75,
          613.75,
          728.9453125,
          728.9453125
         ],
         "xaxis": "x",
         "y": [
          0.8031105430427781,
          3.853566359360168,
          3.853566359360168,
          3.1828517727579
         ],
         "yaxis": "y"
        },
        {
         "hoverinfo": "text",
         "marker": {
          "color": "rgb(61,153,112)"
         },
         "mode": "lines",
         "type": "scatter",
         "x": [
          580,
          580,
          671.34765625,
          671.34765625
         ],
         "xaxis": "x",
         "y": [
          0.07921972261916194,
          4.739541966092352,
          4.739541966092352,
          3.853566359360168
         ],
         "yaxis": "y"
        },
        {
         "hoverinfo": "text",
         "marker": {
          "color": "rgb(61,153,112)"
         },
         "mode": "lines",
         "type": "scatter",
         "x": [
          885,
          885,
          895,
          895
         ],
         "xaxis": "x",
         "y": [
          0,
          0.02495863633425786,
          0.02495863633425786,
          0
         ],
         "yaxis": "y"
        },
        {
         "hoverinfo": "text",
         "marker": {
          "color": "rgb(61,153,112)"
         },
         "mode": "lines",
         "type": "scatter",
         "x": [
          875,
          875,
          890,
          890
         ],
         "xaxis": "x",
         "y": [
          0,
          0.047401639941949326,
          0.047401639941949326,
          0.02495863633425786
         ],
         "yaxis": "y"
        },
        {
         "hoverinfo": "text",
         "marker": {
          "color": "rgb(61,153,112)"
         },
         "mode": "lines",
         "type": "scatter",
         "x": [
          935,
          935,
          945,
          945
         ],
         "xaxis": "x",
         "y": [
          0,
          0.011909605370204506,
          0.011909605370204506,
          0
         ],
         "yaxis": "y"
        },
        {
         "hoverinfo": "text",
         "marker": {
          "color": "rgb(61,153,112)"
         },
         "mode": "lines",
         "type": "scatter",
         "x": [
          925,
          925,
          940,
          940
         ],
         "xaxis": "x",
         "y": [
          0,
          0.027971031885912146,
          0.027971031885912146,
          0.011909605370204506
         ],
         "yaxis": "y"
        },
        {
         "hoverinfo": "text",
         "marker": {
          "color": "rgb(61,153,112)"
         },
         "mode": "lines",
         "type": "scatter",
         "x": [
          915,
          915,
          932.5,
          932.5
         ],
         "xaxis": "x",
         "y": [
          0,
          0.060025927411729386,
          0.060025927411729386,
          0.027971031885912146
         ],
         "yaxis": "y"
        },
        {
         "hoverinfo": "text",
         "marker": {
          "color": "rgb(61,153,112)"
         },
         "mode": "lines",
         "type": "scatter",
         "x": [
          905,
          905,
          923.75,
          923.75
         ],
         "xaxis": "x",
         "y": [
          0,
          0.09543964602655187,
          0.09543964602655187,
          0.060025927411729386
         ],
         "yaxis": "y"
        },
        {
         "hoverinfo": "text",
         "marker": {
          "color": "rgb(61,153,112)"
         },
         "mode": "lines",
         "type": "scatter",
         "x": [
          975,
          975,
          985,
          985
         ],
         "xaxis": "x",
         "y": [
          0,
          0.028476991850912688,
          0.028476991850912688,
          0
         ],
         "yaxis": "y"
        },
        {
         "hoverinfo": "text",
         "marker": {
          "color": "rgb(61,153,112)"
         },
         "mode": "lines",
         "type": "scatter",
         "x": [
          965,
          965,
          980,
          980
         ],
         "xaxis": "x",
         "y": [
          0,
          0.05739558817523044,
          0.05739558817523044,
          0.028476991850912688
         ],
         "yaxis": "y"
        },
        {
         "hoverinfo": "text",
         "marker": {
          "color": "rgb(61,153,112)"
         },
         "mode": "lines",
         "type": "scatter",
         "x": [
          995,
          995,
          1005,
          1005
         ],
         "xaxis": "x",
         "y": [
          0,
          0.1700697014129951,
          0.1700697014129951,
          0
         ],
         "yaxis": "y"
        },
        {
         "hoverinfo": "text",
         "marker": {
          "color": "rgb(61,153,112)"
         },
         "mode": "lines",
         "type": "scatter",
         "x": [
          972.5,
          972.5,
          1000,
          1000
         ],
         "xaxis": "x",
         "y": [
          0.05739558817523044,
          0.3534323101699807,
          0.3534323101699807,
          0.1700697014129951
         ],
         "yaxis": "y"
        },
        {
         "hoverinfo": "text",
         "marker": {
          "color": "rgb(61,153,112)"
         },
         "mode": "lines",
         "type": "scatter",
         "x": [
          955,
          955,
          986.25,
          986.25
         ],
         "xaxis": "x",
         "y": [
          0,
          0.643468471130418,
          0.643468471130418,
          0.3534323101699807
         ],
         "yaxis": "y"
        },
        {
         "hoverinfo": "text",
         "marker": {
          "color": "rgb(61,153,112)"
         },
         "mode": "lines",
         "type": "scatter",
         "x": [
          914.375,
          914.375,
          970.625,
          970.625
         ],
         "xaxis": "x",
         "y": [
          0.09543964602655187,
          1.1127560495924627,
          1.1127560495924627,
          0.643468471130418
         ],
         "yaxis": "y"
        },
        {
         "hoverinfo": "text",
         "marker": {
          "color": "rgb(61,153,112)"
         },
         "mode": "lines",
         "type": "scatter",
         "x": [
          882.5,
          882.5,
          942.5,
          942.5
         ],
         "xaxis": "x",
         "y": [
          0.047401639941949326,
          3.864786392992725,
          3.864786392992725,
          1.1127560495924627
         ],
         "yaxis": "y"
        },
        {
         "hoverinfo": "text",
         "marker": {
          "color": "rgb(61,153,112)"
         },
         "mode": "lines",
         "type": "scatter",
         "x": [
          1015,
          1015,
          1025,
          1025
         ],
         "xaxis": "x",
         "y": [
          0,
          0.02197116039154722,
          0.02197116039154722,
          0
         ],
         "yaxis": "y"
        },
        {
         "hoverinfo": "text",
         "marker": {
          "color": "rgb(61,153,112)"
         },
         "mode": "lines",
         "type": "scatter",
         "x": [
          1055,
          1055,
          1065,
          1065
         ],
         "xaxis": "x",
         "y": [
          0,
          0.0010099374988985165,
          0.0010099374988985165,
          0
         ],
         "yaxis": "y"
        },
        {
         "hoverinfo": "text",
         "marker": {
          "color": "rgb(61,153,112)"
         },
         "mode": "lines",
         "type": "scatter",
         "x": [
          1045,
          1045,
          1060,
          1060
         ],
         "xaxis": "x",
         "y": [
          0,
          0.04376637350516404,
          0.04376637350516404,
          0.0010099374988985165
         ],
         "yaxis": "y"
        },
        {
         "hoverinfo": "text",
         "marker": {
          "color": "rgb(61,153,112)"
         },
         "mode": "lines",
         "type": "scatter",
         "x": [
          1035,
          1035,
          1052.5,
          1052.5
         ],
         "xaxis": "x",
         "y": [
          0,
          0.13740889272364296,
          0.13740889272364296,
          0.04376637350516404
         ],
         "yaxis": "y"
        },
        {
         "hoverinfo": "text",
         "marker": {
          "color": "rgb(61,153,112)"
         },
         "mode": "lines",
         "type": "scatter",
         "x": [
          1020,
          1020,
          1043.75,
          1043.75
         ],
         "xaxis": "x",
         "y": [
          0.02197116039154722,
          2.37415325320571,
          2.37415325320571,
          0.13740889272364296
         ],
         "yaxis": "y"
        },
        {
         "hoverinfo": "text",
         "marker": {
          "color": "rgb(61,153,112)"
         },
         "mode": "lines",
         "type": "scatter",
         "x": [
          1075,
          1075,
          1085,
          1085
         ],
         "xaxis": "x",
         "y": [
          0,
          0.0048041468873346,
          0.0048041468873346,
          0
         ],
         "yaxis": "y"
        },
        {
         "hoverinfo": "text",
         "marker": {
          "color": "rgb(61,153,112)"
         },
         "mode": "lines",
         "type": "scatter",
         "x": [
          1095,
          1095,
          1105,
          1105
         ],
         "xaxis": "x",
         "y": [
          0,
          0.08423179732586347,
          0.08423179732586347,
          0
         ],
         "yaxis": "y"
        },
        {
         "hoverinfo": "text",
         "marker": {
          "color": "rgb(61,153,112)"
         },
         "mode": "lines",
         "type": "scatter",
         "x": [
          1125,
          1125,
          1135,
          1135
         ],
         "xaxis": "x",
         "y": [
          0,
          0.08138043538325147,
          0.08138043538325147,
          0
         ],
         "yaxis": "y"
        },
        {
         "hoverinfo": "text",
         "marker": {
          "color": "rgb(61,153,112)"
         },
         "mode": "lines",
         "type": "scatter",
         "x": [
          1115,
          1115,
          1130,
          1130
         ],
         "xaxis": "x",
         "y": [
          0,
          0.2610058535542419,
          0.2610058535542419,
          0.08138043538325147
         ],
         "yaxis": "y"
        },
        {
         "hoverinfo": "text",
         "marker": {
          "color": "rgb(61,153,112)"
         },
         "mode": "lines",
         "type": "scatter",
         "x": [
          1100,
          1100,
          1122.5,
          1122.5
         ],
         "xaxis": "x",
         "y": [
          0.08423179732586347,
          2.105651617317198,
          2.105651617317198,
          0.2610058535542419
         ],
         "yaxis": "y"
        },
        {
         "hoverinfo": "text",
         "marker": {
          "color": "rgb(61,153,112)"
         },
         "mode": "lines",
         "type": "scatter",
         "x": [
          1165,
          1165,
          1175,
          1175
         ],
         "xaxis": "x",
         "y": [
          0,
          0.05643336780891716,
          0.05643336780891716,
          0
         ],
         "yaxis": "y"
        },
        {
         "hoverinfo": "text",
         "marker": {
          "color": "rgb(61,153,112)"
         },
         "mode": "lines",
         "type": "scatter",
         "x": [
          1185,
          1185,
          1195,
          1195
         ],
         "xaxis": "x",
         "y": [
          0,
          0.2329478481279721,
          0.2329478481279721,
          0
         ],
         "yaxis": "y"
        },
        {
         "hoverinfo": "text",
         "marker": {
          "color": "rgb(61,153,112)"
         },
         "mode": "lines",
         "type": "scatter",
         "x": [
          1170,
          1170,
          1190,
          1190
         ],
         "xaxis": "x",
         "y": [
          0.05643336780891716,
          0.4364759920883494,
          0.4364759920883494,
          0.2329478481279721
         ],
         "yaxis": "y"
        },
        {
         "hoverinfo": "text",
         "marker": {
          "color": "rgb(61,153,112)"
         },
         "mode": "lines",
         "type": "scatter",
         "x": [
          1155,
          1155,
          1180,
          1180
         ],
         "xaxis": "x",
         "y": [
          0,
          0.5562698104977757,
          0.5562698104977757,
          0.4364759920883494
         ],
         "yaxis": "y"
        },
        {
         "hoverinfo": "text",
         "marker": {
          "color": "rgb(61,153,112)"
         },
         "mode": "lines",
         "type": "scatter",
         "x": [
          1145,
          1145,
          1167.5,
          1167.5
         ],
         "xaxis": "x",
         "y": [
          0,
          1.333856078142406,
          1.333856078142406,
          0.5562698104977757
         ],
         "yaxis": "y"
        },
        {
         "hoverinfo": "text",
         "marker": {
          "color": "rgb(61,153,112)"
         },
         "mode": "lines",
         "type": "scatter",
         "x": [
          1215,
          1215,
          1225,
          1225
         ],
         "xaxis": "x",
         "y": [
          0,
          0.07225553879001409,
          0.07225553879001409,
          0
         ],
         "yaxis": "y"
        },
        {
         "hoverinfo": "text",
         "marker": {
          "color": "rgb(61,153,112)"
         },
         "mode": "lines",
         "type": "scatter",
         "x": [
          1205,
          1205,
          1220,
          1220
         ],
         "xaxis": "x",
         "y": [
          0,
          0.16032958200862663,
          0.16032958200862663,
          0.07225553879001409
         ],
         "yaxis": "y"
        },
        {
         "hoverinfo": "text",
         "marker": {
          "color": "rgb(61,153,112)"
         },
         "mode": "lines",
         "type": "scatter",
         "x": [
          1235,
          1235,
          1245,
          1245
         ],
         "xaxis": "x",
         "y": [
          0,
          0.3208078668454193,
          0.3208078668454193,
          0
         ],
         "yaxis": "y"
        },
        {
         "hoverinfo": "text",
         "marker": {
          "color": "rgb(61,153,112)"
         },
         "mode": "lines",
         "type": "scatter",
         "x": [
          1212.5,
          1212.5,
          1240,
          1240
         ],
         "xaxis": "x",
         "y": [
          0.16032958200862663,
          0.5597094815113022,
          0.5597094815113022,
          0.3208078668454193
         ],
         "yaxis": "y"
        },
        {
         "hoverinfo": "text",
         "marker": {
          "color": "rgb(61,153,112)"
         },
         "mode": "lines",
         "type": "scatter",
         "x": [
          1265,
          1265,
          1275,
          1275
         ],
         "xaxis": "x",
         "y": [
          0,
          0.30980248812018385,
          0.30980248812018385,
          0
         ],
         "yaxis": "y"
        },
        {
         "hoverinfo": "text",
         "marker": {
          "color": "rgb(61,153,112)"
         },
         "mode": "lines",
         "type": "scatter",
         "x": [
          1255,
          1255,
          1270,
          1270
         ],
         "xaxis": "x",
         "y": [
          0,
          0.5480995018096437,
          0.5480995018096437,
          0.30980248812018385
         ],
         "yaxis": "y"
        },
        {
         "hoverinfo": "text",
         "marker": {
          "color": "rgb(61,153,112)"
         },
         "mode": "lines",
         "type": "scatter",
         "x": [
          1295,
          1295,
          1305,
          1305
         ],
         "xaxis": "x",
         "y": [
          0,
          0.1765398379848153,
          0.1765398379848153,
          0
         ],
         "yaxis": "y"
        },
        {
         "hoverinfo": "text",
         "marker": {
          "color": "rgb(61,153,112)"
         },
         "mode": "lines",
         "type": "scatter",
         "x": [
          1285,
          1285,
          1300,
          1300
         ],
         "xaxis": "x",
         "y": [
          0,
          0.27129846825143406,
          0.27129846825143406,
          0.1765398379848153
         ],
         "yaxis": "y"
        },
        {
         "hoverinfo": "text",
         "marker": {
          "color": "rgb(61,153,112)"
         },
         "mode": "lines",
         "type": "scatter",
         "x": [
          1325,
          1325,
          1335,
          1335
         ],
         "xaxis": "x",
         "y": [
          0,
          0.14337828042646655,
          0.14337828042646655,
          0
         ],
         "yaxis": "y"
        },
        {
         "hoverinfo": "text",
         "marker": {
          "color": "rgb(61,153,112)"
         },
         "mode": "lines",
         "type": "scatter",
         "x": [
          1315,
          1315,
          1330,
          1330
         ],
         "xaxis": "x",
         "y": [
          0,
          0.48881073370750106,
          0.48881073370750106,
          0.14337828042646655
         ],
         "yaxis": "y"
        },
        {
         "hoverinfo": "text",
         "marker": {
          "color": "rgb(61,153,112)"
         },
         "mode": "lines",
         "type": "scatter",
         "x": [
          1292.5,
          1292.5,
          1322.5,
          1322.5
         ],
         "xaxis": "x",
         "y": [
          0.27129846825143406,
          0.5792449900356236,
          0.5792449900356236,
          0.48881073370750106
         ],
         "yaxis": "y"
        },
        {
         "hoverinfo": "text",
         "marker": {
          "color": "rgb(61,153,112)"
         },
         "mode": "lines",
         "type": "scatter",
         "x": [
          1262.5,
          1262.5,
          1307.5,
          1307.5
         ],
         "xaxis": "x",
         "y": [
          0.5480995018096437,
          1.2091513841008341,
          1.2091513841008341,
          0.5792449900356236
         ],
         "yaxis": "y"
        },
        {
         "hoverinfo": "text",
         "marker": {
          "color": "rgb(61,153,112)"
         },
         "mode": "lines",
         "type": "scatter",
         "x": [
          1226.25,
          1226.25,
          1285,
          1285
         ],
         "xaxis": "x",
         "y": [
          0.5597094815113022,
          2.2245440975712665,
          2.2245440975712665,
          1.2091513841008341
         ],
         "yaxis": "y"
        },
        {
         "hoverinfo": "text",
         "marker": {
          "color": "rgb(61,153,112)"
         },
         "mode": "lines",
         "type": "scatter",
         "x": [
          1156.25,
          1156.25,
          1255.625,
          1255.625
         ],
         "xaxis": "x",
         "y": [
          1.333856078142406,
          2.256057474918174,
          2.256057474918174,
          2.2245440975712665
         ],
         "yaxis": "y"
        },
        {
         "hoverinfo": "text",
         "marker": {
          "color": "rgb(61,153,112)"
         },
         "mode": "lines",
         "type": "scatter",
         "x": [
          1111.25,
          1111.25,
          1205.9375,
          1205.9375
         ],
         "xaxis": "x",
         "y": [
          2.105651617317198,
          3.8942615267345917,
          3.8942615267345917,
          2.256057474918174
         ],
         "yaxis": "y"
        },
        {
         "hoverinfo": "text",
         "marker": {
          "color": "rgb(61,153,112)"
         },
         "mode": "lines",
         "type": "scatter",
         "x": [
          1080,
          1080,
          1158.59375,
          1158.59375
         ],
         "xaxis": "x",
         "y": [
          0.0048041468873346,
          5.167880873020581,
          5.167880873020581,
          3.8942615267345917
         ],
         "yaxis": "y"
        },
        {
         "hoverinfo": "text",
         "marker": {
          "color": "rgb(61,153,112)"
         },
         "mode": "lines",
         "type": "scatter",
         "x": [
          1031.875,
          1031.875,
          1119.296875,
          1119.296875
         ],
         "xaxis": "x",
         "y": [
          2.37415325320571,
          5.867163131606602,
          5.867163131606602,
          5.167880873020581
         ],
         "yaxis": "y"
        },
        {
         "hoverinfo": "text",
         "marker": {
          "color": "rgb(61,153,112)"
         },
         "mode": "lines",
         "type": "scatter",
         "x": [
          912.5,
          912.5,
          1075.5859375,
          1075.5859375
         ],
         "xaxis": "x",
         "y": [
          3.864786392992725,
          8.122007551831517,
          8.122007551831517,
          5.867163131606602
         ],
         "yaxis": "y"
        },
        {
         "hoverinfo": "text",
         "marker": {
          "color": "rgb(61,153,112)"
         },
         "mode": "lines",
         "type": "scatter",
         "x": [
          625.673828125,
          625.673828125,
          994.04296875,
          994.04296875
         ],
         "xaxis": "x",
         "y": [
          4.739541966092352,
          18.905687684017025,
          18.905687684017025,
          8.122007551831517
         ],
         "yaxis": "y"
        },
        {
         "hoverinfo": "text",
         "marker": {
          "color": "rgb(61,153,112)"
         },
         "mode": "lines",
         "type": "scatter",
         "x": [
          275.126953125,
          275.126953125,
          809.8583984375,
          809.8583984375
         ],
         "xaxis": "x",
         "y": [
          7.410187827673329,
          26.30095719512044,
          26.30095719512044,
          18.905687684017025
         ],
         "yaxis": "y"
        },
        {
         "hoverinfo": "text",
         "marker": {
          "color": "rgb(61,153,112)"
         },
         "mode": "lines",
         "type": "scatter",
         "x": [
          1355,
          1355,
          1365,
          1365
         ],
         "xaxis": "x",
         "y": [
          0,
          0.000007864199877963372,
          0.000007864199877963372,
          0
         ],
         "yaxis": "y"
        },
        {
         "hoverinfo": "text",
         "marker": {
          "color": "rgb(61,153,112)"
         },
         "mode": "lines",
         "type": "scatter",
         "x": [
          1345,
          1345,
          1360,
          1360
         ],
         "xaxis": "x",
         "y": [
          0,
          0.1202528000269703,
          0.1202528000269703,
          0.000007864199877963372
         ],
         "yaxis": "y"
        },
        {
         "hoverinfo": "text",
         "marker": {
          "color": "rgb(61,153,112)"
         },
         "mode": "lines",
         "type": "scatter",
         "x": [
          1405,
          1405,
          1415,
          1415
         ],
         "xaxis": "x",
         "y": [
          0,
          0.1541571502840176,
          0.1541571502840176,
          0
         ],
         "yaxis": "y"
        },
        {
         "hoverinfo": "text",
         "marker": {
          "color": "rgb(61,153,112)"
         },
         "mode": "lines",
         "type": "scatter",
         "x": [
          1395,
          1395,
          1410,
          1410
         ],
         "xaxis": "x",
         "y": [
          0,
          0.23725920636901257,
          0.23725920636901257,
          0.1541571502840176
         ],
         "yaxis": "y"
        },
        {
         "hoverinfo": "text",
         "marker": {
          "color": "rgb(61,153,112)"
         },
         "mode": "lines",
         "type": "scatter",
         "x": [
          1425,
          1425,
          1435,
          1435
         ],
         "xaxis": "x",
         "y": [
          0,
          0.46940893330576,
          0.46940893330576,
          0
         ],
         "yaxis": "y"
        },
        {
         "hoverinfo": "text",
         "marker": {
          "color": "rgb(61,153,112)"
         },
         "mode": "lines",
         "type": "scatter",
         "x": [
          1402.5,
          1402.5,
          1430,
          1430
         ],
         "xaxis": "x",
         "y": [
          0.23725920636901257,
          0.4997672606860823,
          0.4997672606860823,
          0.46940893330576
         ],
         "yaxis": "y"
        },
        {
         "hoverinfo": "text",
         "marker": {
          "color": "rgb(61,153,112)"
         },
         "mode": "lines",
         "type": "scatter",
         "x": [
          1385,
          1385,
          1416.25,
          1416.25
         ],
         "xaxis": "x",
         "y": [
          0,
          0.9780236466778789,
          0.9780236466778789,
          0.4997672606860823
         ],
         "yaxis": "y"
        },
        {
         "hoverinfo": "text",
         "marker": {
          "color": "rgb(61,153,112)"
         },
         "mode": "lines",
         "type": "scatter",
         "x": [
          1375,
          1375,
          1400.625,
          1400.625
         ],
         "xaxis": "x",
         "y": [
          0,
          1.6100030225242468,
          1.6100030225242468,
          0.9780236466778789
         ],
         "yaxis": "y"
        },
        {
         "hoverinfo": "text",
         "marker": {
          "color": "rgb(61,153,112)"
         },
         "mode": "lines",
         "type": "scatter",
         "x": [
          1352.5,
          1352.5,
          1387.8125,
          1387.8125
         ],
         "xaxis": "x",
         "y": [
          0.1202528000269703,
          2.81363337361157,
          2.81363337361157,
          1.6100030225242468
         ],
         "yaxis": "y"
        },
        {
         "hoverinfo": "text",
         "marker": {
          "color": "rgb(61,153,112)"
         },
         "mode": "lines",
         "type": "scatter",
         "x": [
          1445,
          1445,
          1455,
          1455
         ],
         "xaxis": "x",
         "y": [
          0,
          0.09341550552165251,
          0.09341550552165251,
          0
         ],
         "yaxis": "y"
        },
        {
         "hoverinfo": "text",
         "marker": {
          "color": "rgb(61,153,112)"
         },
         "mode": "lines",
         "type": "scatter",
         "x": [
          1465,
          1465,
          1475,
          1475
         ],
         "xaxis": "x",
         "y": [
          0,
          0.1166088471986787,
          0.1166088471986787,
          0
         ],
         "yaxis": "y"
        },
        {
         "hoverinfo": "text",
         "marker": {
          "color": "rgb(61,153,112)"
         },
         "mode": "lines",
         "type": "scatter",
         "x": [
          1450,
          1450,
          1470,
          1470
         ],
         "xaxis": "x",
         "y": [
          0.09341550552165251,
          0.4759125736075845,
          0.4759125736075845,
          0.1166088471986787
         ],
         "yaxis": "y"
        },
        {
         "hoverinfo": "text",
         "marker": {
          "color": "rgb(61,153,112)"
         },
         "mode": "lines",
         "type": "scatter",
         "x": [
          1495,
          1495,
          1505,
          1505
         ],
         "xaxis": "x",
         "y": [
          0,
          0.009142176877055591,
          0.009142176877055591,
          0
         ],
         "yaxis": "y"
        },
        {
         "hoverinfo": "text",
         "marker": {
          "color": "rgb(61,153,112)"
         },
         "mode": "lines",
         "type": "scatter",
         "x": [
          1485,
          1485,
          1500,
          1500
         ],
         "xaxis": "x",
         "y": [
          0,
          0.030257185644588905,
          0.030257185644588905,
          0.009142176877055591
         ],
         "yaxis": "y"
        },
        {
         "hoverinfo": "text",
         "marker": {
          "color": "rgb(61,153,112)"
         },
         "mode": "lines",
         "type": "scatter",
         "x": [
          1525,
          1525,
          1535,
          1535
         ],
         "xaxis": "x",
         "y": [
          0,
          0.19288359414595221,
          0.19288359414595221,
          0
         ],
         "yaxis": "y"
        },
        {
         "hoverinfo": "text",
         "marker": {
          "color": "rgb(61,153,112)"
         },
         "mode": "lines",
         "type": "scatter",
         "x": [
          1555,
          1555,
          1565,
          1565
         ],
         "xaxis": "x",
         "y": [
          0,
          0.10722010938103492,
          0.10722010938103492,
          0
         ],
         "yaxis": "y"
        },
        {
         "hoverinfo": "text",
         "marker": {
          "color": "rgb(61,153,112)"
         },
         "mode": "lines",
         "type": "scatter",
         "x": [
          1545,
          1545,
          1560,
          1560
         ],
         "xaxis": "x",
         "y": [
          0,
          0.3987755888504007,
          0.3987755888504007,
          0.10722010938103492
         ],
         "yaxis": "y"
        },
        {
         "hoverinfo": "text",
         "marker": {
          "color": "rgb(61,153,112)"
         },
         "mode": "lines",
         "type": "scatter",
         "x": [
          1530,
          1530,
          1552.5,
          1552.5
         ],
         "xaxis": "x",
         "y": [
          0.19288359414595221,
          0.7660186171971906,
          0.7660186171971906,
          0.3987755888504007
         ],
         "yaxis": "y"
        },
        {
         "hoverinfo": "text",
         "marker": {
          "color": "rgb(61,153,112)"
         },
         "mode": "lines",
         "type": "scatter",
         "x": [
          1515,
          1515,
          1541.25,
          1541.25
         ],
         "xaxis": "x",
         "y": [
          0,
          1.471812089139242,
          1.471812089139242,
          0.7660186171971906
         ],
         "yaxis": "y"
        },
        {
         "hoverinfo": "text",
         "marker": {
          "color": "rgb(61,153,112)"
         },
         "mode": "lines",
         "type": "scatter",
         "x": [
          1492.5,
          1492.5,
          1528.125,
          1528.125
         ],
         "xaxis": "x",
         "y": [
          0.030257185644588905,
          2.877060271383097,
          2.877060271383097,
          1.471812089139242
         ],
         "yaxis": "y"
        },
        {
         "hoverinfo": "text",
         "marker": {
          "color": "rgb(61,153,112)"
         },
         "mode": "lines",
         "type": "scatter",
         "x": [
          1460,
          1460,
          1510.3125,
          1510.3125
         ],
         "xaxis": "x",
         "y": [
          0.4759125736075845,
          3.6186222193941133,
          3.6186222193941133,
          2.877060271383097
         ],
         "yaxis": "y"
        },
        {
         "hoverinfo": "text",
         "marker": {
          "color": "rgb(61,153,112)"
         },
         "mode": "lines",
         "type": "scatter",
         "x": [
          1370.15625,
          1370.15625,
          1485.15625,
          1485.15625
         ],
         "xaxis": "x",
         "y": [
          2.81363337361157,
          5.092300221367408,
          5.092300221367408,
          3.6186222193941133
         ],
         "yaxis": "y"
        },
        {
         "hoverinfo": "text",
         "marker": {
          "color": "rgb(61,153,112)"
         },
         "mode": "lines",
         "type": "scatter",
         "x": [
          1575,
          1575,
          1585,
          1585
         ],
         "xaxis": "x",
         "y": [
          0,
          0.01824432607561122,
          0.01824432607561122,
          0
         ],
         "yaxis": "y"
        },
        {
         "hoverinfo": "text",
         "marker": {
          "color": "rgb(61,153,112)"
         },
         "mode": "lines",
         "type": "scatter",
         "x": [
          1605,
          1605,
          1615,
          1615
         ],
         "xaxis": "x",
         "y": [
          0,
          0.016872521576215,
          0.016872521576215,
          0
         ],
         "yaxis": "y"
        },
        {
         "hoverinfo": "text",
         "marker": {
          "color": "rgb(61,153,112)"
         },
         "mode": "lines",
         "type": "scatter",
         "x": [
          1595,
          1595,
          1610,
          1610
         ],
         "xaxis": "x",
         "y": [
          0,
          1.7143831098883355,
          1.7143831098883355,
          0.016872521576215
         ],
         "yaxis": "y"
        },
        {
         "hoverinfo": "text",
         "marker": {
          "color": "rgb(61,153,112)"
         },
         "mode": "lines",
         "type": "scatter",
         "x": [
          1580,
          1580,
          1602.5,
          1602.5
         ],
         "xaxis": "x",
         "y": [
          0.01824432607561122,
          2.289835876919723,
          2.289835876919723,
          1.7143831098883355
         ],
         "yaxis": "y"
        },
        {
         "hoverinfo": "text",
         "marker": {
          "color": "rgb(61,153,112)"
         },
         "mode": "lines",
         "type": "scatter",
         "x": [
          1625,
          1625,
          1635,
          1635
         ],
         "xaxis": "x",
         "y": [
          0,
          0.1318386223445691,
          0.1318386223445691,
          0
         ],
         "yaxis": "y"
        },
        {
         "hoverinfo": "text",
         "marker": {
          "color": "rgb(61,153,112)"
         },
         "mode": "lines",
         "type": "scatter",
         "x": [
          1645,
          1645,
          1655,
          1655
         ],
         "xaxis": "x",
         "y": [
          0,
          0.23032341018707614,
          0.23032341018707614,
          0
         ],
         "yaxis": "y"
        },
        {
         "hoverinfo": "text",
         "marker": {
          "color": "rgb(61,153,112)"
         },
         "mode": "lines",
         "type": "scatter",
         "x": [
          1630,
          1630,
          1650,
          1650
         ],
         "xaxis": "x",
         "y": [
          0.1318386223445691,
          2.0716023363917153,
          2.0716023363917153,
          0.23032341018707614
         ],
         "yaxis": "y"
        },
        {
         "hoverinfo": "text",
         "marker": {
          "color": "rgb(61,153,112)"
         },
         "mode": "lines",
         "type": "scatter",
         "x": [
          1665,
          1665,
          1675,
          1675
         ],
         "xaxis": "x",
         "y": [
          0,
          0.23012486877224406,
          0.23012486877224406,
          0
         ],
         "yaxis": "y"
        },
        {
         "hoverinfo": "text",
         "marker": {
          "color": "rgb(61,153,112)"
         },
         "mode": "lines",
         "type": "scatter",
         "x": [
          1685,
          1685,
          1695,
          1695
         ],
         "xaxis": "x",
         "y": [
          0,
          0.2827341226023494,
          0.2827341226023494,
          0
         ],
         "yaxis": "y"
        },
        {
         "hoverinfo": "text",
         "marker": {
          "color": "rgb(61,153,112)"
         },
         "mode": "lines",
         "type": "scatter",
         "x": [
          1670,
          1670,
          1690,
          1690
         ],
         "xaxis": "x",
         "y": [
          0.23012486877224406,
          1.1613176329504036,
          1.1613176329504036,
          0.2827341226023494
         ],
         "yaxis": "y"
        },
        {
         "hoverinfo": "text",
         "marker": {
          "color": "rgb(61,153,112)"
         },
         "mode": "lines",
         "type": "scatter",
         "x": [
          1705,
          1705,
          1715,
          1715
         ],
         "xaxis": "x",
         "y": [
          0,
          0.890841604470669,
          0.890841604470669,
          0
         ],
         "yaxis": "y"
        },
        {
         "hoverinfo": "text",
         "marker": {
          "color": "rgb(61,153,112)"
         },
         "mode": "lines",
         "type": "scatter",
         "x": [
          1735,
          1735,
          1745,
          1745
         ],
         "xaxis": "x",
         "y": [
          0,
          0.1810853263542201,
          0.1810853263542201,
          0
         ],
         "yaxis": "y"
        },
        {
         "hoverinfo": "text",
         "marker": {
          "color": "rgb(61,153,112)"
         },
         "mode": "lines",
         "type": "scatter",
         "x": [
          1725,
          1725,
          1740,
          1740
         ],
         "xaxis": "x",
         "y": [
          0,
          0.40630115592666005,
          0.40630115592666005,
          0.1810853263542201
         ],
         "yaxis": "y"
        },
        {
         "hoverinfo": "text",
         "marker": {
          "color": "rgb(61,153,112)"
         },
         "mode": "lines",
         "type": "scatter",
         "x": [
          1755,
          1755,
          1765,
          1765
         ],
         "xaxis": "x",
         "y": [
          0,
          0.13664172974802935,
          0.13664172974802935,
          0
         ],
         "yaxis": "y"
        },
        {
         "hoverinfo": "text",
         "marker": {
          "color": "rgb(61,153,112)"
         },
         "mode": "lines",
         "type": "scatter",
         "x": [
          1775,
          1775,
          1785,
          1785
         ],
         "xaxis": "x",
         "y": [
          0,
          0.1384211315182565,
          0.1384211315182565,
          0
         ],
         "yaxis": "y"
        },
        {
         "hoverinfo": "text",
         "marker": {
          "color": "rgb(61,153,112)"
         },
         "mode": "lines",
         "type": "scatter",
         "x": [
          1760,
          1760,
          1780,
          1780
         ],
         "xaxis": "x",
         "y": [
          0.13664172974802935,
          0.48415300121269983,
          0.48415300121269983,
          0.1384211315182565
         ],
         "yaxis": "y"
        },
        {
         "hoverinfo": "text",
         "marker": {
          "color": "rgb(61,153,112)"
         },
         "mode": "lines",
         "type": "scatter",
         "x": [
          1732.5,
          1732.5,
          1770,
          1770
         ],
         "xaxis": "x",
         "y": [
          0.40630115592666005,
          0.9682988969988765,
          0.9682988969988765,
          0.48415300121269983
         ],
         "yaxis": "y"
        },
        {
         "hoverinfo": "text",
         "marker": {
          "color": "rgb(61,153,112)"
         },
         "mode": "lines",
         "type": "scatter",
         "x": [
          1710,
          1710,
          1751.25,
          1751.25
         ],
         "xaxis": "x",
         "y": [
          0.890841604470669,
          1.860704331575708,
          1.860704331575708,
          0.9682988969988765
         ],
         "yaxis": "y"
        },
        {
         "hoverinfo": "text",
         "marker": {
          "color": "rgb(61,153,112)"
         },
         "mode": "lines",
         "type": "scatter",
         "x": [
          1680,
          1680,
          1730.625,
          1730.625
         ],
         "xaxis": "x",
         "y": [
          1.1613176329504036,
          2.447615190775525,
          2.447615190775525,
          1.860704331575708
         ],
         "yaxis": "y"
        },
        {
         "hoverinfo": "text",
         "marker": {
          "color": "rgb(61,153,112)"
         },
         "mode": "lines",
         "type": "scatter",
         "x": [
          1640,
          1640,
          1705.3125,
          1705.3125
         ],
         "xaxis": "x",
         "y": [
          2.0716023363917153,
          4.2148974608816445,
          4.2148974608816445,
          2.447615190775525
         ],
         "yaxis": "y"
        },
        {
         "hoverinfo": "text",
         "marker": {
          "color": "rgb(61,153,112)"
         },
         "mode": "lines",
         "type": "scatter",
         "x": [
          1591.25,
          1591.25,
          1672.65625,
          1672.65625
         ],
         "xaxis": "x",
         "y": [
          2.289835876919723,
          6.085680321999626,
          6.085680321999626,
          4.2148974608816445
         ],
         "yaxis": "y"
        },
        {
         "hoverinfo": "text",
         "marker": {
          "color": "rgb(61,153,112)"
         },
         "mode": "lines",
         "type": "scatter",
         "x": [
          1427.65625,
          1427.65625,
          1631.953125,
          1631.953125
         ],
         "xaxis": "x",
         "y": [
          5.092300221367408,
          7.3292015892762485,
          7.3292015892762485,
          6.085680321999626
         ],
         "yaxis": "y"
        },
        {
         "hoverinfo": "text",
         "marker": {
          "color": "rgb(61,153,112)"
         },
         "mode": "lines",
         "type": "scatter",
         "x": [
          1795,
          1795,
          1805,
          1805
         ],
         "xaxis": "x",
         "y": [
          0,
          0.24031591404382685,
          0.24031591404382685,
          0
         ],
         "yaxis": "y"
        },
        {
         "hoverinfo": "text",
         "marker": {
          "color": "rgb(61,153,112)"
         },
         "mode": "lines",
         "type": "scatter",
         "x": [
          1825,
          1825,
          1835,
          1835
         ],
         "xaxis": "x",
         "y": [
          0,
          0.002759914358582977,
          0.002759914358582977,
          0
         ],
         "yaxis": "y"
        },
        {
         "hoverinfo": "text",
         "marker": {
          "color": "rgb(61,153,112)"
         },
         "mode": "lines",
         "type": "scatter",
         "x": [
          1815,
          1815,
          1830,
          1830
         ],
         "xaxis": "x",
         "y": [
          0,
          0.015639187962230326,
          0.015639187962230326,
          0.002759914358582977
         ],
         "yaxis": "y"
        },
        {
         "hoverinfo": "text",
         "marker": {
          "color": "rgb(61,153,112)"
         },
         "mode": "lines",
         "type": "scatter",
         "x": [
          1855,
          1855,
          1865,
          1865
         ],
         "xaxis": "x",
         "y": [
          0,
          0.021588199344810204,
          0.021588199344810204,
          0
         ],
         "yaxis": "y"
        },
        {
         "hoverinfo": "text",
         "marker": {
          "color": "rgb(61,153,112)"
         },
         "mode": "lines",
         "type": "scatter",
         "x": [
          1845,
          1845,
          1860,
          1860
         ],
         "xaxis": "x",
         "y": [
          0,
          0.19872247169055818,
          0.19872247169055818,
          0.021588199344810204
         ],
         "yaxis": "y"
        },
        {
         "hoverinfo": "text",
         "marker": {
          "color": "rgb(61,153,112)"
         },
         "mode": "lines",
         "type": "scatter",
         "x": [
          1822.5,
          1822.5,
          1852.5,
          1852.5
         ],
         "xaxis": "x",
         "y": [
          0.015639187962230326,
          0.43834912406006826,
          0.43834912406006826,
          0.19872247169055818
         ],
         "yaxis": "y"
        },
        {
         "hoverinfo": "text",
         "marker": {
          "color": "rgb(61,153,112)"
         },
         "mode": "lines",
         "type": "scatter",
         "x": [
          1800,
          1800,
          1837.5,
          1837.5
         ],
         "xaxis": "x",
         "y": [
          0.24031591404382685,
          1.179764502415265,
          1.179764502415265,
          0.43834912406006826
         ],
         "yaxis": "y"
        },
        {
         "hoverinfo": "text",
         "marker": {
          "color": "rgb(61,153,112)"
         },
         "mode": "lines",
         "type": "scatter",
         "x": [
          1885,
          1885,
          1895,
          1895
         ],
         "xaxis": "x",
         "y": [
          0,
          0.025567540581025252,
          0.025567540581025252,
          0
         ],
         "yaxis": "y"
        },
        {
         "hoverinfo": "text",
         "marker": {
          "color": "rgb(61,153,112)"
         },
         "mode": "lines",
         "type": "scatter",
         "x": [
          1875,
          1875,
          1890,
          1890
         ],
         "xaxis": "x",
         "y": [
          0,
          0.3016156161922905,
          0.3016156161922905,
          0.025567540581025252
         ],
         "yaxis": "y"
        },
        {
         "hoverinfo": "text",
         "marker": {
          "color": "rgb(61,153,112)"
         },
         "mode": "lines",
         "type": "scatter",
         "x": [
          1905,
          1905,
          1915,
          1915
         ],
         "xaxis": "x",
         "y": [
          0,
          0.0001375408659158321,
          0.0001375408659158321,
          0
         ],
         "yaxis": "y"
        },
        {
         "hoverinfo": "text",
         "marker": {
          "color": "rgb(61,153,112)"
         },
         "mode": "lines",
         "type": "scatter",
         "x": [
          1935,
          1935,
          1945,
          1945
         ],
         "xaxis": "x",
         "y": [
          0,
          0.23789075130779974,
          0.23789075130779974,
          0
         ],
         "yaxis": "y"
        },
        {
         "hoverinfo": "text",
         "marker": {
          "color": "rgb(61,153,112)"
         },
         "mode": "lines",
         "type": "scatter",
         "x": [
          1925,
          1925,
          1940,
          1940
         ],
         "xaxis": "x",
         "y": [
          0,
          0.40326208979448785,
          0.40326208979448785,
          0.23789075130779974
         ],
         "yaxis": "y"
        },
        {
         "hoverinfo": "text",
         "marker": {
          "color": "rgb(61,153,112)"
         },
         "mode": "lines",
         "type": "scatter",
         "x": [
          1955,
          1955,
          1965,
          1965
         ],
         "xaxis": "x",
         "y": [
          0,
          0.13811640415195348,
          0.13811640415195348,
          0
         ],
         "yaxis": "y"
        },
        {
         "hoverinfo": "text",
         "marker": {
          "color": "rgb(61,153,112)"
         },
         "mode": "lines",
         "type": "scatter",
         "x": [
          1975,
          1975,
          1985,
          1985
         ],
         "xaxis": "x",
         "y": [
          0,
          0.2502342574709132,
          0.2502342574709132,
          0
         ],
         "yaxis": "y"
        },
        {
         "hoverinfo": "text",
         "marker": {
          "color": "rgb(61,153,112)"
         },
         "mode": "lines",
         "type": "scatter",
         "x": [
          1960,
          1960,
          1980,
          1980
         ],
         "xaxis": "x",
         "y": [
          0.13811640415195348,
          0.5612258518992074,
          0.5612258518992074,
          0.2502342574709132
         ],
         "yaxis": "y"
        },
        {
         "hoverinfo": "text",
         "marker": {
          "color": "rgb(61,153,112)"
         },
         "mode": "lines",
         "type": "scatter",
         "x": [
          1932.5,
          1932.5,
          1970,
          1970
         ],
         "xaxis": "x",
         "y": [
          0.40326208979448785,
          0.7505007442663885,
          0.7505007442663885,
          0.5612258518992074
         ],
         "yaxis": "y"
        },
        {
         "hoverinfo": "text",
         "marker": {
          "color": "rgb(61,153,112)"
         },
         "mode": "lines",
         "type": "scatter",
         "x": [
          2015,
          2015,
          2025,
          2025
         ],
         "xaxis": "x",
         "y": [
          0,
          0.13866744063997832,
          0.13866744063997832,
          0
         ],
         "yaxis": "y"
        },
        {
         "hoverinfo": "text",
         "marker": {
          "color": "rgb(61,153,112)"
         },
         "mode": "lines",
         "type": "scatter",
         "x": [
          2005,
          2005,
          2020,
          2020
         ],
         "xaxis": "x",
         "y": [
          0,
          0.28340801001373084,
          0.28340801001373084,
          0.13866744063997832
         ],
         "yaxis": "y"
        },
        {
         "hoverinfo": "text",
         "marker": {
          "color": "rgb(61,153,112)"
         },
         "mode": "lines",
         "type": "scatter",
         "x": [
          1995,
          1995,
          2012.5,
          2012.5
         ],
         "xaxis": "x",
         "y": [
          0,
          0.42064059523304864,
          0.42064059523304864,
          0.28340801001373084
         ],
         "yaxis": "y"
        },
        {
         "hoverinfo": "text",
         "marker": {
          "color": "rgb(61,153,112)"
         },
         "mode": "lines",
         "type": "scatter",
         "x": [
          2035,
          2035,
          2045,
          2045
         ],
         "xaxis": "x",
         "y": [
          0,
          0.04466238150539466,
          0.04466238150539466,
          0
         ],
         "yaxis": "y"
        },
        {
         "hoverinfo": "text",
         "marker": {
          "color": "rgb(61,153,112)"
         },
         "mode": "lines",
         "type": "scatter",
         "x": [
          2055,
          2055,
          2065,
          2065
         ],
         "xaxis": "x",
         "y": [
          0,
          0.16648204984826376,
          0.16648204984826376,
          0
         ],
         "yaxis": "y"
        },
        {
         "hoverinfo": "text",
         "marker": {
          "color": "rgb(61,153,112)"
         },
         "mode": "lines",
         "type": "scatter",
         "x": [
          2040,
          2040,
          2060,
          2060
         ],
         "xaxis": "x",
         "y": [
          0.04466238150539466,
          0.7386150502057617,
          0.7386150502057617,
          0.16648204984826376
         ],
         "yaxis": "y"
        },
        {
         "hoverinfo": "text",
         "marker": {
          "color": "rgb(61,153,112)"
         },
         "mode": "lines",
         "type": "scatter",
         "x": [
          2003.75,
          2003.75,
          2050,
          2050
         ],
         "xaxis": "x",
         "y": [
          0.42064059523304864,
          1.1192659037932962,
          1.1192659037932962,
          0.7386150502057617
         ],
         "yaxis": "y"
        },
        {
         "hoverinfo": "text",
         "marker": {
          "color": "rgb(61,153,112)"
         },
         "mode": "lines",
         "type": "scatter",
         "x": [
          1951.25,
          1951.25,
          2026.875,
          2026.875
         ],
         "xaxis": "x",
         "y": [
          0.7505007442663885,
          1.4717521330268073,
          1.4717521330268073,
          1.1192659037932962
         ],
         "yaxis": "y"
        },
        {
         "hoverinfo": "text",
         "marker": {
          "color": "rgb(61,153,112)"
         },
         "mode": "lines",
         "type": "scatter",
         "x": [
          1910,
          1910,
          1989.0625,
          1989.0625
         ],
         "xaxis": "x",
         "y": [
          0.0001375408659158321,
          3.354817984033842,
          3.354817984033842,
          1.4717521330268073
         ],
         "yaxis": "y"
        },
        {
         "hoverinfo": "text",
         "marker": {
          "color": "rgb(61,153,112)"
         },
         "mode": "lines",
         "type": "scatter",
         "x": [
          1882.5,
          1882.5,
          1949.53125,
          1949.53125
         ],
         "xaxis": "x",
         "y": [
          0.3016156161922905,
          3.7044330584873744,
          3.7044330584873744,
          3.354817984033842
         ],
         "yaxis": "y"
        },
        {
         "hoverinfo": "text",
         "marker": {
          "color": "rgb(61,153,112)"
         },
         "mode": "lines",
         "type": "scatter",
         "x": [
          1818.75,
          1818.75,
          1916.015625,
          1916.015625
         ],
         "xaxis": "x",
         "y": [
          1.179764502415265,
          7.699859841078856,
          7.699859841078856,
          3.7044330584873744
         ],
         "yaxis": "y"
        },
        {
         "hoverinfo": "text",
         "marker": {
          "color": "rgb(61,153,112)"
         },
         "mode": "lines",
         "type": "scatter",
         "x": [
          1529.8046875,
          1529.8046875,
          1867.3828125,
          1867.3828125
         ],
         "xaxis": "x",
         "y": [
          7.3292015892762485,
          9.260767899288702,
          9.260767899288702,
          7.699859841078856
         ],
         "yaxis": "y"
        },
        {
         "hoverinfo": "text",
         "marker": {
          "color": "rgb(61,153,112)"
         },
         "mode": "lines",
         "type": "scatter",
         "x": [
          2075,
          2075,
          2085,
          2085
         ],
         "xaxis": "x",
         "y": [
          0,
          0.0007909243767996036,
          0.0007909243767996036,
          0
         ],
         "yaxis": "y"
        },
        {
         "hoverinfo": "text",
         "marker": {
          "color": "rgb(61,153,112)"
         },
         "mode": "lines",
         "type": "scatter",
         "x": [
          2125,
          2125,
          2135,
          2135
         ],
         "xaxis": "x",
         "y": [
          0,
          0.008973829091714612,
          0.008973829091714612,
          0
         ],
         "yaxis": "y"
        },
        {
         "hoverinfo": "text",
         "marker": {
          "color": "rgb(61,153,112)"
         },
         "mode": "lines",
         "type": "scatter",
         "x": [
          2115,
          2115,
          2130,
          2130
         ],
         "xaxis": "x",
         "y": [
          0,
          0.028356684431031804,
          0.028356684431031804,
          0.008973829091714612
         ],
         "yaxis": "y"
        },
        {
         "hoverinfo": "text",
         "marker": {
          "color": "rgb(61,153,112)"
         },
         "mode": "lines",
         "type": "scatter",
         "x": [
          2105,
          2105,
          2122.5,
          2122.5
         ],
         "xaxis": "x",
         "y": [
          0,
          0.06791683046723151,
          0.06791683046723151,
          0.028356684431031804
         ],
         "yaxis": "y"
        },
        {
         "hoverinfo": "text",
         "marker": {
          "color": "rgb(61,153,112)"
         },
         "mode": "lines",
         "type": "scatter",
         "x": [
          2095,
          2095,
          2113.75,
          2113.75
         ],
         "xaxis": "x",
         "y": [
          0,
          0.1334548252722446,
          0.1334548252722446,
          0.06791683046723151
         ],
         "yaxis": "y"
        },
        {
         "hoverinfo": "text",
         "marker": {
          "color": "rgb(61,153,112)"
         },
         "mode": "lines",
         "type": "scatter",
         "x": [
          2145,
          2145,
          2155,
          2155
         ],
         "xaxis": "x",
         "y": [
          0,
          0.1645522075769501,
          0.1645522075769501,
          0
         ],
         "yaxis": "y"
        },
        {
         "hoverinfo": "text",
         "marker": {
          "color": "rgb(61,153,112)"
         },
         "mode": "lines",
         "type": "scatter",
         "x": [
          2104.375,
          2104.375,
          2150,
          2150
         ],
         "xaxis": "x",
         "y": [
          0.1334548252722446,
          0.6110075741881621,
          0.6110075741881621,
          0.1645522075769501
         ],
         "yaxis": "y"
        },
        {
         "hoverinfo": "text",
         "marker": {
          "color": "rgb(61,153,112)"
         },
         "mode": "lines",
         "type": "scatter",
         "x": [
          2080,
          2080,
          2127.1875,
          2127.1875
         ],
         "xaxis": "x",
         "y": [
          0.0007909243767996036,
          1.5456135227946726,
          1.5456135227946726,
          0.6110075741881621
         ],
         "yaxis": "y"
        },
        {
         "hoverinfo": "text",
         "marker": {
          "color": "rgb(61,153,112)"
         },
         "mode": "lines",
         "type": "scatter",
         "x": [
          2165,
          2165,
          2175,
          2175
         ],
         "xaxis": "x",
         "y": [
          0,
          0.0021704081358133523,
          0.0021704081358133523,
          0
         ],
         "yaxis": "y"
        },
        {
         "hoverinfo": "text",
         "marker": {
          "color": "rgb(61,153,112)"
         },
         "mode": "lines",
         "type": "scatter",
         "x": [
          2185,
          2185,
          2195,
          2195
         ],
         "xaxis": "x",
         "y": [
          0,
          0.01708124013016662,
          0.01708124013016662,
          0
         ],
         "yaxis": "y"
        },
        {
         "hoverinfo": "text",
         "marker": {
          "color": "rgb(61,153,112)"
         },
         "mode": "lines",
         "type": "scatter",
         "x": [
          2170,
          2170,
          2190,
          2190
         ],
         "xaxis": "x",
         "y": [
          0.0021704081358133523,
          2.131314051177084,
          2.131314051177084,
          0.01708124013016662
         ],
         "yaxis": "y"
        },
        {
         "hoverinfo": "text",
         "marker": {
          "color": "rgb(61,153,112)"
         },
         "mode": "lines",
         "type": "scatter",
         "x": [
          2235,
          2235,
          2245,
          2245
         ],
         "xaxis": "x",
         "y": [
          0,
          0.09817942478088326,
          0.09817942478088326,
          0
         ],
         "yaxis": "y"
        },
        {
         "hoverinfo": "text",
         "marker": {
          "color": "rgb(61,153,112)"
         },
         "mode": "lines",
         "type": "scatter",
         "x": [
          2225,
          2225,
          2240,
          2240
         ],
         "xaxis": "x",
         "y": [
          0,
          0.21220480096827174,
          0.21220480096827174,
          0.09817942478088326
         ],
         "yaxis": "y"
        },
        {
         "hoverinfo": "text",
         "marker": {
          "color": "rgb(61,153,112)"
         },
         "mode": "lines",
         "type": "scatter",
         "x": [
          2255,
          2255,
          2265,
          2265
         ],
         "xaxis": "x",
         "y": [
          0,
          0.24354814620551138,
          0.24354814620551138,
          0
         ],
         "yaxis": "y"
        },
        {
         "hoverinfo": "text",
         "marker": {
          "color": "rgb(61,153,112)"
         },
         "mode": "lines",
         "type": "scatter",
         "x": [
          2232.5,
          2232.5,
          2260,
          2260
         ],
         "xaxis": "x",
         "y": [
          0.21220480096827174,
          0.5006956367606339,
          0.5006956367606339,
          0.24354814620551138
         ],
         "yaxis": "y"
        },
        {
         "hoverinfo": "text",
         "marker": {
          "color": "rgb(61,153,112)"
         },
         "mode": "lines",
         "type": "scatter",
         "x": [
          2215,
          2215,
          2246.25,
          2246.25
         ],
         "xaxis": "x",
         "y": [
          0,
          0.9435563050689357,
          0.9435563050689357,
          0.5006956367606339
         ],
         "yaxis": "y"
        },
        {
         "hoverinfo": "text",
         "marker": {
          "color": "rgb(61,153,112)"
         },
         "mode": "lines",
         "type": "scatter",
         "x": [
          2205,
          2205,
          2230.625,
          2230.625
         ],
         "xaxis": "x",
         "y": [
          0,
          1.33132496627351,
          1.33132496627351,
          0.9435563050689357
         ],
         "yaxis": "y"
        },
        {
         "hoverinfo": "text",
         "marker": {
          "color": "rgb(61,153,112)"
         },
         "mode": "lines",
         "type": "scatter",
         "x": [
          2275,
          2275,
          2285,
          2285
         ],
         "xaxis": "x",
         "y": [
          0,
          1.3590971847702908,
          1.3590971847702908,
          0
         ],
         "yaxis": "y"
        },
        {
         "hoverinfo": "text",
         "marker": {
          "color": "rgb(61,153,112)"
         },
         "mode": "lines",
         "type": "scatter",
         "x": [
          2217.8125,
          2217.8125,
          2280,
          2280
         ],
         "xaxis": "x",
         "y": [
          1.33132496627351,
          2.715438188996522,
          2.715438188996522,
          1.3590971847702908
         ],
         "yaxis": "y"
        },
        {
         "hoverinfo": "text",
         "marker": {
          "color": "rgb(61,153,112)"
         },
         "mode": "lines",
         "type": "scatter",
         "x": [
          2180,
          2180,
          2248.90625,
          2248.90625
         ],
         "xaxis": "x",
         "y": [
          2.131314051177084,
          3.6918537717671236,
          3.6918537717671236,
          2.715438188996522
         ],
         "yaxis": "y"
        },
        {
         "hoverinfo": "text",
         "marker": {
          "color": "rgb(61,153,112)"
         },
         "mode": "lines",
         "type": "scatter",
         "x": [
          2103.59375,
          2103.59375,
          2214.453125,
          2214.453125
         ],
         "xaxis": "x",
         "y": [
          1.5456135227946726,
          6.416037630052628,
          6.416037630052628,
          3.6918537717671236
         ],
         "yaxis": "y"
        },
        {
         "hoverinfo": "text",
         "marker": {
          "color": "rgb(61,153,112)"
         },
         "mode": "lines",
         "type": "scatter",
         "x": [
          2295,
          2295,
          2305,
          2305
         ],
         "xaxis": "x",
         "y": [
          0,
          0.008033824003454246,
          0.008033824003454246,
          0
         ],
         "yaxis": "y"
        },
        {
         "hoverinfo": "text",
         "marker": {
          "color": "rgb(61,153,112)"
         },
         "mode": "lines",
         "type": "scatter",
         "x": [
          2335,
          2335,
          2345,
          2345
         ],
         "xaxis": "x",
         "y": [
          0,
          0.00045779372156377516,
          0.00045779372156377516,
          0
         ],
         "yaxis": "y"
        },
        {
         "hoverinfo": "text",
         "marker": {
          "color": "rgb(61,153,112)"
         },
         "mode": "lines",
         "type": "scatter",
         "x": [
          2325,
          2325,
          2340,
          2340
         ],
         "xaxis": "x",
         "y": [
          0,
          0.04147350341010924,
          0.04147350341010924,
          0.00045779372156377516
         ],
         "yaxis": "y"
        },
        {
         "hoverinfo": "text",
         "marker": {
          "color": "rgb(61,153,112)"
         },
         "mode": "lines",
         "type": "scatter",
         "x": [
          2315,
          2315,
          2332.5,
          2332.5
         ],
         "xaxis": "x",
         "y": [
          0,
          0.08937071390743748,
          0.08937071390743748,
          0.04147350341010924
         ],
         "yaxis": "y"
        },
        {
         "hoverinfo": "text",
         "marker": {
          "color": "rgb(61,153,112)"
         },
         "mode": "lines",
         "type": "scatter",
         "x": [
          2300,
          2300,
          2323.75,
          2323.75
         ],
         "xaxis": "x",
         "y": [
          0.008033824003454246,
          0.23664606905231808,
          0.23664606905231808,
          0.08937071390743748
         ],
         "yaxis": "y"
        },
        {
         "hoverinfo": "text",
         "marker": {
          "color": "rgb(61,153,112)"
         },
         "mode": "lines",
         "type": "scatter",
         "x": [
          2365,
          2365,
          2375,
          2375
         ],
         "xaxis": "x",
         "y": [
          0,
          0.22646401885460746,
          0.22646401885460746,
          0
         ],
         "yaxis": "y"
        },
        {
         "hoverinfo": "text",
         "marker": {
          "color": "rgb(61,153,112)"
         },
         "mode": "lines",
         "type": "scatter",
         "x": [
          2355,
          2355,
          2370,
          2370
         ],
         "xaxis": "x",
         "y": [
          0,
          0.5552747856263142,
          0.5552747856263142,
          0.22646401885460746
         ],
         "yaxis": "y"
        },
        {
         "hoverinfo": "text",
         "marker": {
          "color": "rgb(61,153,112)"
         },
         "mode": "lines",
         "type": "scatter",
         "x": [
          2311.875,
          2311.875,
          2362.5,
          2362.5
         ],
         "xaxis": "x",
         "y": [
          0.23664606905231808,
          1.4461615049569423,
          1.4461615049569423,
          0.5552747856263142
         ],
         "yaxis": "y"
        },
        {
         "hoverinfo": "text",
         "marker": {
          "color": "rgb(61,153,112)"
         },
         "mode": "lines",
         "type": "scatter",
         "x": [
          2395,
          2395,
          2405,
          2405
         ],
         "xaxis": "x",
         "y": [
          0,
          0.0023655218588870975,
          0.0023655218588870975,
          0
         ],
         "yaxis": "y"
        },
        {
         "hoverinfo": "text",
         "marker": {
          "color": "rgb(61,153,112)"
         },
         "mode": "lines",
         "type": "scatter",
         "x": [
          2385,
          2385,
          2400,
          2400
         ],
         "xaxis": "x",
         "y": [
          0,
          0.013789209564930745,
          0.013789209564930745,
          0.0023655218588870975
         ],
         "yaxis": "y"
        },
        {
         "hoverinfo": "text",
         "marker": {
          "color": "rgb(61,153,112)"
         },
         "mode": "lines",
         "type": "scatter",
         "x": [
          2425,
          2425,
          2435,
          2435
         ],
         "xaxis": "x",
         "y": [
          0,
          0.2580067183441046,
          0.2580067183441046,
          0
         ],
         "yaxis": "y"
        },
        {
         "hoverinfo": "text",
         "marker": {
          "color": "rgb(61,153,112)"
         },
         "mode": "lines",
         "type": "scatter",
         "x": [
          2455,
          2455,
          2465,
          2465
         ],
         "xaxis": "x",
         "y": [
          0,
          0.19827489378275162,
          0.19827489378275162,
          0
         ],
         "yaxis": "y"
        },
        {
         "hoverinfo": "text",
         "marker": {
          "color": "rgb(61,153,112)"
         },
         "mode": "lines",
         "type": "scatter",
         "x": [
          2445,
          2445,
          2460,
          2460
         ],
         "xaxis": "x",
         "y": [
          0,
          0.5906252220410285,
          0.5906252220410285,
          0.19827489378275162
         ],
         "yaxis": "y"
        },
        {
         "hoverinfo": "text",
         "marker": {
          "color": "rgb(61,153,112)"
         },
         "mode": "lines",
         "type": "scatter",
         "x": [
          2430,
          2430,
          2452.5,
          2452.5
         ],
         "xaxis": "x",
         "y": [
          0.2580067183441046,
          0.6106295395637783,
          0.6106295395637783,
          0.5906252220410285
         ],
         "yaxis": "y"
        },
        {
         "hoverinfo": "text",
         "marker": {
          "color": "rgb(61,153,112)"
         },
         "mode": "lines",
         "type": "scatter",
         "x": [
          2415,
          2415,
          2441.25,
          2441.25
         ],
         "xaxis": "x",
         "y": [
          0,
          1.3855119428031828,
          1.3855119428031828,
          0.6106295395637783
         ],
         "yaxis": "y"
        },
        {
         "hoverinfo": "text",
         "marker": {
          "color": "rgb(61,153,112)"
         },
         "mode": "lines",
         "type": "scatter",
         "x": [
          2392.5,
          2392.5,
          2428.125,
          2428.125
         ],
         "xaxis": "x",
         "y": [
          0.013789209564930745,
          3.3691300668817115,
          3.3691300668817115,
          1.3855119428031828
         ],
         "yaxis": "y"
        },
        {
         "hoverinfo": "text",
         "marker": {
          "color": "rgb(61,153,112)"
         },
         "mode": "lines",
         "type": "scatter",
         "x": [
          2337.1875,
          2337.1875,
          2410.3125,
          2410.3125
         ],
         "xaxis": "x",
         "y": [
          1.4461615049569423,
          5.123580310616763,
          5.123580310616763,
          3.3691300668817115
         ],
         "yaxis": "y"
        },
        {
         "hoverinfo": "text",
         "marker": {
          "color": "rgb(61,153,112)"
         },
         "mode": "lines",
         "type": "scatter",
         "x": [
          2475,
          2475,
          2485,
          2485
         ],
         "xaxis": "x",
         "y": [
          0,
          0.0006561294891094927,
          0.0006561294891094927,
          0
         ],
         "yaxis": "y"
        },
        {
         "hoverinfo": "text",
         "marker": {
          "color": "rgb(61,153,112)"
         },
         "mode": "lines",
         "type": "scatter",
         "x": [
          2515,
          2515,
          2525,
          2525
         ],
         "xaxis": "x",
         "y": [
          0,
          0.0026304780502240076,
          0.0026304780502240076,
          0
         ],
         "yaxis": "y"
        },
        {
         "hoverinfo": "text",
         "marker": {
          "color": "rgb(61,153,112)"
         },
         "mode": "lines",
         "type": "scatter",
         "x": [
          2505,
          2505,
          2520,
          2520
         ],
         "xaxis": "x",
         "y": [
          0,
          0.008197640764003696,
          0.008197640764003696,
          0.0026304780502240076
         ],
         "yaxis": "y"
        },
        {
         "hoverinfo": "text",
         "marker": {
          "color": "rgb(61,153,112)"
         },
         "mode": "lines",
         "type": "scatter",
         "x": [
          2495,
          2495,
          2512.5,
          2512.5
         ],
         "xaxis": "x",
         "y": [
          0,
          0.028843623409434874,
          0.028843623409434874,
          0.008197640764003696
         ],
         "yaxis": "y"
        },
        {
         "hoverinfo": "text",
         "marker": {
          "color": "rgb(61,153,112)"
         },
         "mode": "lines",
         "type": "scatter",
         "x": [
          2545,
          2545,
          2555,
          2555
         ],
         "xaxis": "x",
         "y": [
          0,
          0.239163190618318,
          0.239163190618318,
          0
         ],
         "yaxis": "y"
        },
        {
         "hoverinfo": "text",
         "marker": {
          "color": "rgb(61,153,112)"
         },
         "mode": "lines",
         "type": "scatter",
         "x": [
          2535,
          2535,
          2550,
          2550
         ],
         "xaxis": "x",
         "y": [
          0,
          1.2783925209786862,
          1.2783925209786862,
          0.239163190618318
         ],
         "yaxis": "y"
        },
        {
         "hoverinfo": "text",
         "marker": {
          "color": "rgb(61,153,112)"
         },
         "mode": "lines",
         "type": "scatter",
         "x": [
          2503.75,
          2503.75,
          2542.5,
          2542.5
         ],
         "xaxis": "x",
         "y": [
          0.028843623409434874,
          2.4663041300577295,
          2.4663041300577295,
          1.2783925209786862
         ],
         "yaxis": "y"
        },
        {
         "hoverinfo": "text",
         "marker": {
          "color": "rgb(61,153,112)"
         },
         "mode": "lines",
         "type": "scatter",
         "x": [
          2480,
          2480,
          2523.125,
          2523.125
         ],
         "xaxis": "x",
         "y": [
          0.0006561294891094927,
          3.3403184406180624,
          3.3403184406180624,
          2.4663041300577295
         ],
         "yaxis": "y"
        },
        {
         "hoverinfo": "text",
         "marker": {
          "color": "rgb(61,153,112)"
         },
         "mode": "lines",
         "type": "scatter",
         "x": [
          2575,
          2575,
          2585,
          2585
         ],
         "xaxis": "x",
         "y": [
          0,
          0.2153153726999094,
          0.2153153726999094,
          0
         ],
         "yaxis": "y"
        },
        {
         "hoverinfo": "text",
         "marker": {
          "color": "rgb(61,153,112)"
         },
         "mode": "lines",
         "type": "scatter",
         "x": [
          2565,
          2565,
          2580,
          2580
         ],
         "xaxis": "x",
         "y": [
          0,
          0.5064228609400239,
          0.5064228609400239,
          0.2153153726999094
         ],
         "yaxis": "y"
        },
        {
         "hoverinfo": "text",
         "marker": {
          "color": "rgb(61,153,112)"
         },
         "mode": "lines",
         "type": "scatter",
         "x": [
          2615,
          2615,
          2625,
          2625
         ],
         "xaxis": "x",
         "y": [
          0,
          0.2897718384377212,
          0.2897718384377212,
          0
         ],
         "yaxis": "y"
        },
        {
         "hoverinfo": "text",
         "marker": {
          "color": "rgb(61,153,112)"
         },
         "mode": "lines",
         "type": "scatter",
         "x": [
          2605,
          2605,
          2620,
          2620
         ],
         "xaxis": "x",
         "y": [
          0,
          0.4106204111959817,
          0.4106204111959817,
          0.2897718384377212
         ],
         "yaxis": "y"
        },
        {
         "hoverinfo": "text",
         "marker": {
          "color": "rgb(61,153,112)"
         },
         "mode": "lines",
         "type": "scatter",
         "x": [
          2595,
          2595,
          2612.5,
          2612.5
         ],
         "xaxis": "x",
         "y": [
          0,
          0.6733154615654364,
          0.6733154615654364,
          0.4106204111959817
         ],
         "yaxis": "y"
        },
        {
         "hoverinfo": "text",
         "marker": {
          "color": "rgb(61,153,112)"
         },
         "mode": "lines",
         "type": "scatter",
         "x": [
          2572.5,
          2572.5,
          2603.75,
          2603.75
         ],
         "xaxis": "x",
         "y": [
          0.5064228609400239,
          1.0609419541630076,
          1.0609419541630076,
          0.6733154615654364
         ],
         "yaxis": "y"
        },
        {
         "hoverinfo": "text",
         "marker": {
          "color": "rgb(61,153,112)"
         },
         "mode": "lines",
         "type": "scatter",
         "x": [
          2635,
          2635,
          2645,
          2645
         ],
         "xaxis": "x",
         "y": [
          0,
          0.17484442247240015,
          0.17484442247240015,
          0
         ],
         "yaxis": "y"
        },
        {
         "hoverinfo": "text",
         "marker": {
          "color": "rgb(61,153,112)"
         },
         "mode": "lines",
         "type": "scatter",
         "x": [
          2665,
          2665,
          2675,
          2675
         ],
         "xaxis": "x",
         "y": [
          0,
          0.1326051423931587,
          0.1326051423931587,
          0
         ],
         "yaxis": "y"
        },
        {
         "hoverinfo": "text",
         "marker": {
          "color": "rgb(61,153,112)"
         },
         "mode": "lines",
         "type": "scatter",
         "x": [
          2655,
          2655,
          2670,
          2670
         ],
         "xaxis": "x",
         "y": [
          0,
          0.419908600400624,
          0.419908600400624,
          0.1326051423931587
         ],
         "yaxis": "y"
        },
        {
         "hoverinfo": "text",
         "marker": {
          "color": "rgb(61,153,112)"
         },
         "mode": "lines",
         "type": "scatter",
         "x": [
          2640,
          2640,
          2662.5,
          2662.5
         ],
         "xaxis": "x",
         "y": [
          0.17484442247240015,
          0.506254342464441,
          0.506254342464441,
          0.419908600400624
         ],
         "yaxis": "y"
        },
        {
         "hoverinfo": "text",
         "marker": {
          "color": "rgb(61,153,112)"
         },
         "mode": "lines",
         "type": "scatter",
         "x": [
          2695,
          2695,
          2705,
          2705
         ],
         "xaxis": "x",
         "y": [
          0,
          0.2912705273376136,
          0.2912705273376136,
          0
         ],
         "yaxis": "y"
        },
        {
         "hoverinfo": "text",
         "marker": {
          "color": "rgb(61,153,112)"
         },
         "mode": "lines",
         "type": "scatter",
         "x": [
          2685,
          2685,
          2700,
          2700
         ],
         "xaxis": "x",
         "y": [
          0,
          0.7591210181992326,
          0.7591210181992326,
          0.2912705273376136
         ],
         "yaxis": "y"
        },
        {
         "hoverinfo": "text",
         "marker": {
          "color": "rgb(61,153,112)"
         },
         "mode": "lines",
         "type": "scatter",
         "x": [
          2651.25,
          2651.25,
          2692.5,
          2692.5
         ],
         "xaxis": "x",
         "y": [
          0.506254342464441,
          1.2279873705802264,
          1.2279873705802264,
          0.7591210181992326
         ],
         "yaxis": "y"
        },
        {
         "hoverinfo": "text",
         "marker": {
          "color": "rgb(61,153,112)"
         },
         "mode": "lines",
         "type": "scatter",
         "x": [
          2588.125,
          2588.125,
          2671.875,
          2671.875
         ],
         "xaxis": "x",
         "y": [
          1.0609419541630076,
          1.6702372402739807,
          1.6702372402739807,
          1.2279873705802264
         ],
         "yaxis": "y"
        },
        {
         "hoverinfo": "text",
         "marker": {
          "color": "rgb(61,153,112)"
         },
         "mode": "lines",
         "type": "scatter",
         "x": [
          2715,
          2715,
          2725,
          2725
         ],
         "xaxis": "x",
         "y": [
          0,
          0.23954079909648326,
          0.23954079909648326,
          0
         ],
         "yaxis": "y"
        },
        {
         "hoverinfo": "text",
         "marker": {
          "color": "rgb(61,153,112)"
         },
         "mode": "lines",
         "type": "scatter",
         "x": [
          2745,
          2745,
          2755,
          2755
         ],
         "xaxis": "x",
         "y": [
          0,
          0,
          0,
          0
         ],
         "yaxis": "y"
        },
        {
         "hoverinfo": "text",
         "marker": {
          "color": "rgb(61,153,112)"
         },
         "mode": "lines",
         "type": "scatter",
         "x": [
          2735,
          2735,
          2750,
          2750
         ],
         "xaxis": "x",
         "y": [
          0,
          0.5248087626246061,
          0.5248087626246061,
          0
         ],
         "yaxis": "y"
        },
        {
         "hoverinfo": "text",
         "marker": {
          "color": "rgb(61,153,112)"
         },
         "mode": "lines",
         "type": "scatter",
         "x": [
          2720,
          2720,
          2742.5,
          2742.5
         ],
         "xaxis": "x",
         "y": [
          0.23954079909648326,
          0.6548218825070663,
          0.6548218825070663,
          0.5248087626246061
         ],
         "yaxis": "y"
        },
        {
         "hoverinfo": "text",
         "marker": {
          "color": "rgb(61,153,112)"
         },
         "mode": "lines",
         "type": "scatter",
         "x": [
          2775,
          2775,
          2785,
          2785
         ],
         "xaxis": "x",
         "y": [
          0,
          0.19850428395909592,
          0.19850428395909592,
          0
         ],
         "yaxis": "y"
        },
        {
         "hoverinfo": "text",
         "marker": {
          "color": "rgb(61,153,112)"
         },
         "mode": "lines",
         "type": "scatter",
         "x": [
          2765,
          2765,
          2780,
          2780
         ],
         "xaxis": "x",
         "y": [
          0,
          0.512029905781792,
          0.512029905781792,
          0.19850428395909592
         ],
         "yaxis": "y"
        },
        {
         "hoverinfo": "text",
         "marker": {
          "color": "rgb(61,153,112)"
         },
         "mode": "lines",
         "type": "scatter",
         "x": [
          2795,
          2795,
          2805,
          2805
         ],
         "xaxis": "x",
         "y": [
          0,
          0.11891689605484299,
          0.11891689605484299,
          0
         ],
         "yaxis": "y"
        },
        {
         "hoverinfo": "text",
         "marker": {
          "color": "rgb(61,153,112)"
         },
         "mode": "lines",
         "type": "scatter",
         "x": [
          2815,
          2815,
          2825,
          2825
         ],
         "xaxis": "x",
         "y": [
          0,
          0.38511856048883,
          0.38511856048883,
          0
         ],
         "yaxis": "y"
        },
        {
         "hoverinfo": "text",
         "marker": {
          "color": "rgb(61,153,112)"
         },
         "mode": "lines",
         "type": "scatter",
         "x": [
          2800,
          2800,
          2820,
          2820
         ],
         "xaxis": "x",
         "y": [
          0.11891689605484299,
          0.7563754402486023,
          0.7563754402486023,
          0.38511856048883
         ],
         "yaxis": "y"
        },
        {
         "hoverinfo": "text",
         "marker": {
          "color": "rgb(61,153,112)"
         },
         "mode": "lines",
         "type": "scatter",
         "x": [
          2772.5,
          2772.5,
          2810,
          2810
         ],
         "xaxis": "x",
         "y": [
          0.512029905781792,
          1.1276232702155218,
          1.1276232702155218,
          0.7563754402486023
         ],
         "yaxis": "y"
        },
        {
         "hoverinfo": "text",
         "marker": {
          "color": "rgb(61,153,112)"
         },
         "mode": "lines",
         "type": "scatter",
         "x": [
          2731.25,
          2731.25,
          2791.25,
          2791.25
         ],
         "xaxis": "x",
         "y": [
          0.6548218825070663,
          1.5785155276026464,
          1.5785155276026464,
          1.1276232702155218
         ],
         "yaxis": "y"
        },
        {
         "hoverinfo": "text",
         "marker": {
          "color": "rgb(61,153,112)"
         },
         "mode": "lines",
         "type": "scatter",
         "x": [
          2835,
          2835,
          2845,
          2845
         ],
         "xaxis": "x",
         "y": [
          0,
          0.7293956835683703,
          0.7293956835683703,
          0
         ],
         "yaxis": "y"
        },
        {
         "hoverinfo": "text",
         "marker": {
          "color": "rgb(61,153,112)"
         },
         "mode": "lines",
         "type": "scatter",
         "x": [
          2855,
          2855,
          2865,
          2865
         ],
         "xaxis": "x",
         "y": [
          0,
          0.2953201092558777,
          0.2953201092558777,
          0
         ],
         "yaxis": "y"
        },
        {
         "hoverinfo": "text",
         "marker": {
          "color": "rgb(61,153,112)"
         },
         "mode": "lines",
         "type": "scatter",
         "x": [
          2875,
          2875,
          2885,
          2885
         ],
         "xaxis": "x",
         "y": [
          0,
          0.3716366032604805,
          0.3716366032604805,
          0
         ],
         "yaxis": "y"
        },
        {
         "hoverinfo": "text",
         "marker": {
          "color": "rgb(61,153,112)"
         },
         "mode": "lines",
         "type": "scatter",
         "x": [
          2860,
          2860,
          2880,
          2880
         ],
         "xaxis": "x",
         "y": [
          0.2953201092558777,
          0.8606536089842889,
          0.8606536089842889,
          0.3716366032604805
         ],
         "yaxis": "y"
        },
        {
         "hoverinfo": "text",
         "marker": {
          "color": "rgb(61,153,112)"
         },
         "mode": "lines",
         "type": "scatter",
         "x": [
          2840,
          2840,
          2870,
          2870
         ],
         "xaxis": "x",
         "y": [
          0.7293956835683703,
          1.7184817186804968,
          1.7184817186804968,
          0.8606536089842889
         ],
         "yaxis": "y"
        },
        {
         "hoverinfo": "text",
         "marker": {
          "color": "rgb(61,153,112)"
         },
         "mode": "lines",
         "type": "scatter",
         "x": [
          2761.25,
          2761.25,
          2855,
          2855
         ],
         "xaxis": "x",
         "y": [
          1.5785155276026464,
          2.377298087343513,
          2.377298087343513,
          1.7184817186804968
         ],
         "yaxis": "y"
        },
        {
         "hoverinfo": "text",
         "marker": {
          "color": "rgb(61,153,112)"
         },
         "mode": "lines",
         "type": "scatter",
         "x": [
          2630,
          2630,
          2808.125,
          2808.125
         ],
         "xaxis": "x",
         "y": [
          1.6702372402739807,
          4.660088719150392,
          4.660088719150392,
          2.377298087343513
         ],
         "yaxis": "y"
        },
        {
         "hoverinfo": "text",
         "marker": {
          "color": "rgb(61,153,112)"
         },
         "mode": "lines",
         "type": "scatter",
         "x": [
          2501.5625,
          2501.5625,
          2719.0625,
          2719.0625
         ],
         "xaxis": "x",
         "y": [
          3.3403184406180624,
          6.5400948299369235,
          6.5400948299369235,
          4.660088719150392
         ],
         "yaxis": "y"
        },
        {
         "hoverinfo": "text",
         "marker": {
          "color": "rgb(61,153,112)"
         },
         "mode": "lines",
         "type": "scatter",
         "x": [
          2373.75,
          2373.75,
          2610.3125,
          2610.3125
         ],
         "xaxis": "x",
         "y": [
          5.123580310616763,
          9.233993530388688,
          9.233993530388688,
          6.5400948299369235
         ],
         "yaxis": "y"
        },
        {
         "hoverinfo": "text",
         "marker": {
          "color": "rgb(61,153,112)"
         },
         "mode": "lines",
         "type": "scatter",
         "x": [
          2159.0234375,
          2159.0234375,
          2492.03125,
          2492.03125
         ],
         "xaxis": "x",
         "y": [
          6.416037630052628,
          11.28109444600675,
          11.28109444600675,
          9.233993530388688
         ],
         "yaxis": "y"
        },
        {
         "hoverinfo": "text",
         "marker": {
          "color": "rgb(61,153,112)"
         },
         "mode": "lines",
         "type": "scatter",
         "x": [
          1698.59375,
          1698.59375,
          2325.52734375,
          2325.52734375
         ],
         "xaxis": "x",
         "y": [
          9.260767899288702,
          37.782281610210454,
          37.782281610210454,
          11.28109444600675
         ],
         "yaxis": "y"
        },
        {
         "hoverinfo": "text",
         "marker": {
          "color": "rgb(61,153,112)"
         },
         "mode": "lines",
         "type": "scatter",
         "x": [
          542.49267578125,
          542.49267578125,
          2012.060546875,
          2012.060546875
         ],
         "xaxis": "x",
         "y": [
          26.30095719512044,
          43.96415309499381,
          43.96415309499381,
          37.782281610210454
         ],
         "yaxis": "y"
        },
        {
         "hoverinfo": "text",
         "marker": {
          "color": "rgb(255,65,54)"
         },
         "mode": "lines",
         "type": "scatter",
         "x": [
          2905,
          2905,
          2915,
          2915
         ],
         "xaxis": "x",
         "y": [
          0,
          0.26674506056535635,
          0.26674506056535635,
          0
         ],
         "yaxis": "y"
        },
        {
         "hoverinfo": "text",
         "marker": {
          "color": "rgb(255,65,54)"
         },
         "mode": "lines",
         "type": "scatter",
         "x": [
          2895,
          2895,
          2910,
          2910
         ],
         "xaxis": "x",
         "y": [
          0,
          0.7376829663561418,
          0.7376829663561418,
          0.26674506056535635
         ],
         "yaxis": "y"
        },
        {
         "hoverinfo": "text",
         "marker": {
          "color": "rgb(255,65,54)"
         },
         "mode": "lines",
         "type": "scatter",
         "x": [
          2945,
          2945,
          2955,
          2955
         ],
         "xaxis": "x",
         "y": [
          0,
          0.09251358423227093,
          0.09251358423227093,
          0
         ],
         "yaxis": "y"
        },
        {
         "hoverinfo": "text",
         "marker": {
          "color": "rgb(255,65,54)"
         },
         "mode": "lines",
         "type": "scatter",
         "x": [
          2935,
          2935,
          2950,
          2950
         ],
         "xaxis": "x",
         "y": [
          0,
          0.2393740352644086,
          0.2393740352644086,
          0.09251358423227093
         ],
         "yaxis": "y"
        },
        {
         "hoverinfo": "text",
         "marker": {
          "color": "rgb(255,65,54)"
         },
         "mode": "lines",
         "type": "scatter",
         "x": [
          2925,
          2925,
          2942.5,
          2942.5
         ],
         "xaxis": "x",
         "y": [
          0,
          0.2958994497029816,
          0.2958994497029816,
          0.2393740352644086
         ],
         "yaxis": "y"
        },
        {
         "hoverinfo": "text",
         "marker": {
          "color": "rgb(255,65,54)"
         },
         "mode": "lines",
         "type": "scatter",
         "x": [
          2985,
          2985,
          2995,
          2995
         ],
         "xaxis": "x",
         "y": [
          0,
          0.06766962713707146,
          0.06766962713707146,
          0
         ],
         "yaxis": "y"
        },
        {
         "hoverinfo": "text",
         "marker": {
          "color": "rgb(255,65,54)"
         },
         "mode": "lines",
         "type": "scatter",
         "x": [
          2975,
          2975,
          2990,
          2990
         ],
         "xaxis": "x",
         "y": [
          0,
          0.21663211616117908,
          0.21663211616117908,
          0.06766962713707146
         ],
         "yaxis": "y"
        },
        {
         "hoverinfo": "text",
         "marker": {
          "color": "rgb(255,65,54)"
         },
         "mode": "lines",
         "type": "scatter",
         "x": [
          2965,
          2965,
          2982.5,
          2982.5
         ],
         "xaxis": "x",
         "y": [
          0,
          0.4666741551732324,
          0.4666741551732324,
          0.21663211616117908
         ],
         "yaxis": "y"
        },
        {
         "hoverinfo": "text",
         "marker": {
          "color": "rgb(255,65,54)"
         },
         "mode": "lines",
         "type": "scatter",
         "x": [
          2933.75,
          2933.75,
          2973.75,
          2973.75
         ],
         "xaxis": "x",
         "y": [
          0.2958994497029816,
          0.8642354610502068,
          0.8642354610502068,
          0.4666741551732324
         ],
         "yaxis": "y"
        },
        {
         "hoverinfo": "text",
         "marker": {
          "color": "rgb(255,65,54)"
         },
         "mode": "lines",
         "type": "scatter",
         "x": [
          2902.5,
          2902.5,
          2953.75,
          2953.75
         ],
         "xaxis": "x",
         "y": [
          0.7376829663561418,
          1.1014806418335723,
          1.1014806418335723,
          0.8642354610502068
         ],
         "yaxis": "y"
        },
        {
         "hoverinfo": "text",
         "marker": {
          "color": "rgb(255,65,54)"
         },
         "mode": "lines",
         "type": "scatter",
         "x": [
          3005,
          3005,
          3015,
          3015
         ],
         "xaxis": "x",
         "y": [
          0,
          0.000003932099938981686,
          0.000003932099938981686,
          0
         ],
         "yaxis": "y"
        },
        {
         "hoverinfo": "text",
         "marker": {
          "color": "rgb(255,65,54)"
         },
         "mode": "lines",
         "type": "scatter",
         "x": [
          3025,
          3025,
          3035,
          3035
         ],
         "xaxis": "x",
         "y": [
          0,
          0.001986865087666652,
          0.001986865087666652,
          0
         ],
         "yaxis": "y"
        },
        {
         "hoverinfo": "text",
         "marker": {
          "color": "rgb(255,65,54)"
         },
         "mode": "lines",
         "type": "scatter",
         "x": [
          3010,
          3010,
          3030,
          3030
         ],
         "xaxis": "x",
         "y": [
          0.000003932099938981686,
          0.4698427269951958,
          0.4698427269951958,
          0.001986865087666652
         ],
         "yaxis": "y"
        },
        {
         "hoverinfo": "text",
         "marker": {
          "color": "rgb(255,65,54)"
         },
         "mode": "lines",
         "type": "scatter",
         "x": [
          3045,
          3045,
          3055,
          3055
         ],
         "xaxis": "x",
         "y": [
          0,
          0.07338558790738513,
          0.07338558790738513,
          0
         ],
         "yaxis": "y"
        },
        {
         "hoverinfo": "text",
         "marker": {
          "color": "rgb(255,65,54)"
         },
         "mode": "lines",
         "type": "scatter",
         "x": [
          3065,
          3065,
          3075,
          3075
         ],
         "xaxis": "x",
         "y": [
          0,
          0.17776494829438938,
          0.17776494829438938,
          0
         ],
         "yaxis": "y"
        },
        {
         "hoverinfo": "text",
         "marker": {
          "color": "rgb(255,65,54)"
         },
         "mode": "lines",
         "type": "scatter",
         "x": [
          3050,
          3050,
          3070,
          3070
         ],
         "xaxis": "x",
         "y": [
          0.07338558790738513,
          0.6130648444818873,
          0.6130648444818873,
          0.17776494829438938
         ],
         "yaxis": "y"
        },
        {
         "hoverinfo": "text",
         "marker": {
          "color": "rgb(255,65,54)"
         },
         "mode": "lines",
         "type": "scatter",
         "x": [
          3020,
          3020,
          3060,
          3060
         ],
         "xaxis": "x",
         "y": [
          0.4698427269951958,
          0.8394020809946875,
          0.8394020809946875,
          0.6130648444818873
         ],
         "yaxis": "y"
        },
        {
         "hoverinfo": "text",
         "marker": {
          "color": "rgb(255,65,54)"
         },
         "mode": "lines",
         "type": "scatter",
         "x": [
          3095,
          3095,
          3105,
          3105
         ],
         "xaxis": "x",
         "y": [
          0,
          0.05435642701790892,
          0.05435642701790892,
          0
         ],
         "yaxis": "y"
        },
        {
         "hoverinfo": "text",
         "marker": {
          "color": "rgb(255,65,54)"
         },
         "mode": "lines",
         "type": "scatter",
         "x": [
          3085,
          3085,
          3100,
          3100
         ],
         "xaxis": "x",
         "y": [
          0,
          0.13633877032492006,
          0.13633877032492006,
          0.05435642701790892
         ],
         "yaxis": "y"
        },
        {
         "hoverinfo": "text",
         "marker": {
          "color": "rgb(255,65,54)"
         },
         "mode": "lines",
         "type": "scatter",
         "x": [
          3125,
          3125,
          3135,
          3135
         ],
         "xaxis": "x",
         "y": [
          0,
          0.17637407788552523,
          0.17637407788552523,
          0
         ],
         "yaxis": "y"
        },
        {
         "hoverinfo": "text",
         "marker": {
          "color": "rgb(255,65,54)"
         },
         "mode": "lines",
         "type": "scatter",
         "x": [
          3115,
          3115,
          3130,
          3130
         ],
         "xaxis": "x",
         "y": [
          0,
          0.43020705659013936,
          0.43020705659013936,
          0.17637407788552523
         ],
         "yaxis": "y"
        },
        {
         "hoverinfo": "text",
         "marker": {
          "color": "rgb(255,65,54)"
         },
         "mode": "lines",
         "type": "scatter",
         "x": [
          3092.5,
          3092.5,
          3122.5,
          3122.5
         ],
         "xaxis": "x",
         "y": [
          0.13633877032492006,
          0.5842438923812848,
          0.5842438923812848,
          0.43020705659013936
         ],
         "yaxis": "y"
        },
        {
         "hoverinfo": "text",
         "marker": {
          "color": "rgb(255,65,54)"
         },
         "mode": "lines",
         "type": "scatter",
         "x": [
          3145,
          3145,
          3155,
          3155
         ],
         "xaxis": "x",
         "y": [
          0,
          0.26954588813748076,
          0.26954588813748076,
          0
         ],
         "yaxis": "y"
        },
        {
         "hoverinfo": "text",
         "marker": {
          "color": "rgb(255,65,54)"
         },
         "mode": "lines",
         "type": "scatter",
         "x": [
          3165,
          3165,
          3175,
          3175
         ],
         "xaxis": "x",
         "y": [
          0,
          0.2917701179409388,
          0.2917701179409388,
          0
         ],
         "yaxis": "y"
        },
        {
         "hoverinfo": "text",
         "marker": {
          "color": "rgb(255,65,54)"
         },
         "mode": "lines",
         "type": "scatter",
         "x": [
          3150,
          3150,
          3170,
          3170
         ],
         "xaxis": "x",
         "y": [
          0.26954588813748076,
          0.446879386227246,
          0.446879386227246,
          0.2917701179409388
         ],
         "yaxis": "y"
        },
        {
         "hoverinfo": "text",
         "marker": {
          "color": "rgb(255,65,54)"
         },
         "mode": "lines",
         "type": "scatter",
         "x": [
          3185,
          3185,
          3195,
          3195
         ],
         "xaxis": "x",
         "y": [
          0,
          0.6130021078271205,
          0.6130021078271205,
          0
         ],
         "yaxis": "y"
        },
        {
         "hoverinfo": "text",
         "marker": {
          "color": "rgb(255,65,54)"
         },
         "mode": "lines",
         "type": "scatter",
         "x": [
          3160,
          3160,
          3190,
          3190
         ],
         "xaxis": "x",
         "y": [
          0.446879386227246,
          1.0300784329977337,
          1.0300784329977337,
          0.6130021078271205
         ],
         "yaxis": "y"
        },
        {
         "hoverinfo": "text",
         "marker": {
          "color": "rgb(255,65,54)"
         },
         "mode": "lines",
         "type": "scatter",
         "x": [
          3107.5,
          3107.5,
          3175,
          3175
         ],
         "xaxis": "x",
         "y": [
          0.5842438923812848,
          1.3278022015208413,
          1.3278022015208413,
          1.0300784329977337
         ],
         "yaxis": "y"
        },
        {
         "hoverinfo": "text",
         "marker": {
          "color": "rgb(255,65,54)"
         },
         "mode": "lines",
         "type": "scatter",
         "x": [
          3040,
          3040,
          3141.25,
          3141.25
         ],
         "xaxis": "x",
         "y": [
          0.8394020809946875,
          2.3111526398705755,
          2.3111526398705755,
          1.3278022015208413
         ],
         "yaxis": "y"
        },
        {
         "hoverinfo": "text",
         "marker": {
          "color": "rgb(255,65,54)"
         },
         "mode": "lines",
         "type": "scatter",
         "x": [
          2928.125,
          2928.125,
          3090.625,
          3090.625
         ],
         "xaxis": "x",
         "y": [
          1.1014806418335723,
          3.9125732693488504,
          3.9125732693488504,
          2.3111526398705755
         ],
         "yaxis": "y"
        },
        {
         "hoverinfo": "text",
         "marker": {
          "color": "rgb(255,65,54)"
         },
         "mode": "lines",
         "type": "scatter",
         "x": [
          3205,
          3205,
          3215,
          3215
         ],
         "xaxis": "x",
         "y": [
          0,
          0.11794882721742882,
          0.11794882721742882,
          0
         ],
         "yaxis": "y"
        },
        {
         "hoverinfo": "text",
         "marker": {
          "color": "rgb(255,65,54)"
         },
         "mode": "lines",
         "type": "scatter",
         "x": [
          3235,
          3235,
          3245,
          3245
         ],
         "xaxis": "x",
         "y": [
          0,
          0.009453013837992371,
          0.009453013837992371,
          0
         ],
         "yaxis": "y"
        },
        {
         "hoverinfo": "text",
         "marker": {
          "color": "rgb(255,65,54)"
         },
         "mode": "lines",
         "type": "scatter",
         "x": [
          3225,
          3225,
          3240,
          3240
         ],
         "xaxis": "x",
         "y": [
          0,
          0.1774036746718562,
          0.1774036746718562,
          0.009453013837992371
         ],
         "yaxis": "y"
        },
        {
         "hoverinfo": "text",
         "marker": {
          "color": "rgb(255,65,54)"
         },
         "mode": "lines",
         "type": "scatter",
         "x": [
          3210,
          3210,
          3232.5,
          3232.5
         ],
         "xaxis": "x",
         "y": [
          0.11794882721742882,
          0.7770066814373965,
          0.7770066814373965,
          0.1774036746718562
         ],
         "yaxis": "y"
        },
        {
         "hoverinfo": "text",
         "marker": {
          "color": "rgb(255,65,54)"
         },
         "mode": "lines",
         "type": "scatter",
         "x": [
          3265,
          3265,
          3275,
          3275
         ],
         "xaxis": "x",
         "y": [
          0,
          0.2921395236406198,
          0.2921395236406198,
          0
         ],
         "yaxis": "y"
        },
        {
         "hoverinfo": "text",
         "marker": {
          "color": "rgb(255,65,54)"
         },
         "mode": "lines",
         "type": "scatter",
         "x": [
          3255,
          3255,
          3270,
          3270
         ],
         "xaxis": "x",
         "y": [
          0,
          0.5367723058386835,
          0.5367723058386835,
          0.2921395236406198
         ],
         "yaxis": "y"
        },
        {
         "hoverinfo": "text",
         "marker": {
          "color": "rgb(255,65,54)"
         },
         "mode": "lines",
         "type": "scatter",
         "x": [
          3295,
          3295,
          3305,
          3305
         ],
         "xaxis": "x",
         "y": [
          0,
          0.36778160628223006,
          0.36778160628223006,
          0
         ],
         "yaxis": "y"
        },
        {
         "hoverinfo": "text",
         "marker": {
          "color": "rgb(255,65,54)"
         },
         "mode": "lines",
         "type": "scatter",
         "x": [
          3285,
          3285,
          3300,
          3300
         ],
         "xaxis": "x",
         "y": [
          0,
          0.87109135750054,
          0.87109135750054,
          0.36778160628223006
         ],
         "yaxis": "y"
        },
        {
         "hoverinfo": "text",
         "marker": {
          "color": "rgb(255,65,54)"
         },
         "mode": "lines",
         "type": "scatter",
         "x": [
          3262.5,
          3262.5,
          3292.5,
          3292.5
         ],
         "xaxis": "x",
         "y": [
          0.5367723058386835,
          1.1073011413656988,
          1.1073011413656988,
          0.87109135750054
         ],
         "yaxis": "y"
        },
        {
         "hoverinfo": "text",
         "marker": {
          "color": "rgb(255,65,54)"
         },
         "mode": "lines",
         "type": "scatter",
         "x": [
          3315,
          3315,
          3325,
          3325
         ],
         "xaxis": "x",
         "y": [
          0,
          0.24598302865476515,
          0.24598302865476515,
          0
         ],
         "yaxis": "y"
        },
        {
         "hoverinfo": "text",
         "marker": {
          "color": "rgb(255,65,54)"
         },
         "mode": "lines",
         "type": "scatter",
         "x": [
          3335,
          3335,
          3345,
          3345
         ],
         "xaxis": "x",
         "y": [
          0,
          0.35888978585329284,
          0.35888978585329284,
          0
         ],
         "yaxis": "y"
        },
        {
         "hoverinfo": "text",
         "marker": {
          "color": "rgb(255,65,54)"
         },
         "mode": "lines",
         "type": "scatter",
         "x": [
          3320,
          3320,
          3340,
          3340
         ],
         "xaxis": "x",
         "y": [
          0.24598302865476515,
          0.607756984865089,
          0.607756984865089,
          0.35888978585329284
         ],
         "yaxis": "y"
        },
        {
         "hoverinfo": "text",
         "marker": {
          "color": "rgb(255,65,54)"
         },
         "mode": "lines",
         "type": "scatter",
         "x": [
          3355,
          3355,
          3365,
          3365
         ],
         "xaxis": "x",
         "y": [
          0,
          0.21353564112524784,
          0.21353564112524784,
          0
         ],
         "yaxis": "y"
        },
        {
         "hoverinfo": "text",
         "marker": {
          "color": "rgb(255,65,54)"
         },
         "mode": "lines",
         "type": "scatter",
         "x": [
          3375,
          3375,
          3385,
          3385
         ],
         "xaxis": "x",
         "y": [
          0,
          0.23823179668540972,
          0.23823179668540972,
          0
         ],
         "yaxis": "y"
        },
        {
         "hoverinfo": "text",
         "marker": {
          "color": "rgb(255,65,54)"
         },
         "mode": "lines",
         "type": "scatter",
         "x": [
          3360,
          3360,
          3380,
          3380
         ],
         "xaxis": "x",
         "y": [
          0.21353564112524784,
          0.7442345756821724,
          0.7442345756821724,
          0.23823179668540972
         ],
         "yaxis": "y"
        },
        {
         "hoverinfo": "text",
         "marker": {
          "color": "rgb(255,65,54)"
         },
         "mode": "lines",
         "type": "scatter",
         "x": [
          3330,
          3330,
          3370,
          3370
         ],
         "xaxis": "x",
         "y": [
          0.607756984865089,
          0.8629585836994795,
          0.8629585836994795,
          0.7442345756821724
         ],
         "yaxis": "y"
        },
        {
         "hoverinfo": "text",
         "marker": {
          "color": "rgb(255,65,54)"
         },
         "mode": "lines",
         "type": "scatter",
         "x": [
          3405,
          3405,
          3415,
          3415
         ],
         "xaxis": "x",
         "y": [
          0,
          0.22501988981818885,
          0.22501988981818885,
          0
         ],
         "yaxis": "y"
        },
        {
         "hoverinfo": "text",
         "marker": {
          "color": "rgb(255,65,54)"
         },
         "mode": "lines",
         "type": "scatter",
         "x": [
          3395,
          3395,
          3410,
          3410
         ],
         "xaxis": "x",
         "y": [
          0,
          0.4501427810085949,
          0.4501427810085949,
          0.22501988981818885
         ],
         "yaxis": "y"
        },
        {
         "hoverinfo": "text",
         "marker": {
          "color": "rgb(255,65,54)"
         },
         "mode": "lines",
         "type": "scatter",
         "x": [
          3425,
          3425,
          3435,
          3435
         ],
         "xaxis": "x",
         "y": [
          0,
          0.18250793171877536,
          0.18250793171877536,
          0
         ],
         "yaxis": "y"
        },
        {
         "hoverinfo": "text",
         "marker": {
          "color": "rgb(255,65,54)"
         },
         "mode": "lines",
         "type": "scatter",
         "x": [
          3445,
          3445,
          3455,
          3455
         ],
         "xaxis": "x",
         "y": [
          0,
          0.3860165606383517,
          0.3860165606383517,
          0
         ],
         "yaxis": "y"
        },
        {
         "hoverinfo": "text",
         "marker": {
          "color": "rgb(255,65,54)"
         },
         "mode": "lines",
         "type": "scatter",
         "x": [
          3430,
          3430,
          3450,
          3450
         ],
         "xaxis": "x",
         "y": [
          0.18250793171877536,
          0.6443650479569999,
          0.6443650479569999,
          0.3860165606383517
         ],
         "yaxis": "y"
        },
        {
         "hoverinfo": "text",
         "marker": {
          "color": "rgb(255,65,54)"
         },
         "mode": "lines",
         "type": "scatter",
         "x": [
          3402.5,
          3402.5,
          3440,
          3440
         ],
         "xaxis": "x",
         "y": [
          0.4501427810085949,
          1.2541984967379451,
          1.2541984967379451,
          0.6443650479569999
         ],
         "yaxis": "y"
        },
        {
         "hoverinfo": "text",
         "marker": {
          "color": "rgb(255,65,54)"
         },
         "mode": "lines",
         "type": "scatter",
         "x": [
          3350,
          3350,
          3421.25,
          3421.25
         ],
         "xaxis": "x",
         "y": [
          0.8629585836994795,
          1.5144225992351517,
          1.5144225992351517,
          1.2541984967379451
         ],
         "yaxis": "y"
        },
        {
         "hoverinfo": "text",
         "marker": {
          "color": "rgb(255,65,54)"
         },
         "mode": "lines",
         "type": "scatter",
         "x": [
          3277.5,
          3277.5,
          3385.625,
          3385.625
         ],
         "xaxis": "x",
         "y": [
          1.1073011413656988,
          2.4099849907884807,
          2.4099849907884807,
          1.5144225992351517
         ],
         "yaxis": "y"
        },
        {
         "hoverinfo": "text",
         "marker": {
          "color": "rgb(255,65,54)"
         },
         "mode": "lines",
         "type": "scatter",
         "x": [
          3221.25,
          3221.25,
          3331.5625,
          3331.5625
         ],
         "xaxis": "x",
         "y": [
          0.7770066814373965,
          5.569753207334959,
          5.569753207334959,
          2.4099849907884807
         ],
         "yaxis": "y"
        },
        {
         "hoverinfo": "text",
         "marker": {
          "color": "rgb(255,65,54)"
         },
         "mode": "lines",
         "type": "scatter",
         "x": [
          3475,
          3475,
          3485,
          3485
         ],
         "xaxis": "x",
         "y": [
          0,
          0.002585706373831559,
          0.002585706373831559,
          0
         ],
         "yaxis": "y"
        },
        {
         "hoverinfo": "text",
         "marker": {
          "color": "rgb(255,65,54)"
         },
         "mode": "lines",
         "type": "scatter",
         "x": [
          3495,
          3495,
          3505,
          3505
         ],
         "xaxis": "x",
         "y": [
          0,
          0.0029135473904935844,
          0.0029135473904935844,
          0
         ],
         "yaxis": "y"
        },
        {
         "hoverinfo": "text",
         "marker": {
          "color": "rgb(255,65,54)"
         },
         "mode": "lines",
         "type": "scatter",
         "x": [
          3480,
          3480,
          3500,
          3500
         ],
         "xaxis": "x",
         "y": [
          0.002585706373831559,
          0.013168777050616044,
          0.013168777050616044,
          0.0029135473904935844
         ],
         "yaxis": "y"
        },
        {
         "hoverinfo": "text",
         "marker": {
          "color": "rgb(255,65,54)"
         },
         "mode": "lines",
         "type": "scatter",
         "x": [
          3465,
          3465,
          3490,
          3490
         ],
         "xaxis": "x",
         "y": [
          0,
          0.023504542224881072,
          0.023504542224881072,
          0.013168777050616044
         ],
         "yaxis": "y"
        },
        {
         "hoverinfo": "text",
         "marker": {
          "color": "rgb(255,65,54)"
         },
         "mode": "lines",
         "type": "scatter",
         "x": [
          3525,
          3525,
          3535,
          3535
         ],
         "xaxis": "x",
         "y": [
          0,
          0.2840054603332878,
          0.2840054603332878,
          0
         ],
         "yaxis": "y"
        },
        {
         "hoverinfo": "text",
         "marker": {
          "color": "rgb(255,65,54)"
         },
         "mode": "lines",
         "type": "scatter",
         "x": [
          3515,
          3515,
          3530,
          3530
         ],
         "xaxis": "x",
         "y": [
          0,
          1.3627596950266379,
          1.3627596950266379,
          0.2840054603332878
         ],
         "yaxis": "y"
        },
        {
         "hoverinfo": "text",
         "marker": {
          "color": "rgb(255,65,54)"
         },
         "mode": "lines",
         "type": "scatter",
         "x": [
          3555,
          3555,
          3565,
          3565
         ],
         "xaxis": "x",
         "y": [
          0,
          0.5010837730970579,
          0.5010837730970579,
          0
         ],
         "yaxis": "y"
        },
        {
         "hoverinfo": "text",
         "marker": {
          "color": "rgb(255,65,54)"
         },
         "mode": "lines",
         "type": "scatter",
         "x": [
          3545,
          3545,
          3560,
          3560
         ],
         "xaxis": "x",
         "y": [
          0,
          0.9166793679985116,
          0.9166793679985116,
          0.5010837730970579
         ],
         "yaxis": "y"
        },
        {
         "hoverinfo": "text",
         "marker": {
          "color": "rgb(255,65,54)"
         },
         "mode": "lines",
         "type": "scatter",
         "x": [
          3575,
          3575,
          3585,
          3585
         ],
         "xaxis": "x",
         "y": [
          0,
          0.2058613192186108,
          0.2058613192186108,
          0
         ],
         "yaxis": "y"
        },
        {
         "hoverinfo": "text",
         "marker": {
          "color": "rgb(255,65,54)"
         },
         "mode": "lines",
         "type": "scatter",
         "x": [
          3595,
          3595,
          3605,
          3605
         ],
         "xaxis": "x",
         "y": [
          0,
          0.061731576839905086,
          0.061731576839905086,
          0
         ],
         "yaxis": "y"
        },
        {
         "hoverinfo": "text",
         "marker": {
          "color": "rgb(255,65,54)"
         },
         "mode": "lines",
         "type": "scatter",
         "x": [
          3615,
          3615,
          3625,
          3625
         ],
         "xaxis": "x",
         "y": [
          0,
          0.37237680202872064,
          0.37237680202872064,
          0
         ],
         "yaxis": "y"
        },
        {
         "hoverinfo": "text",
         "marker": {
          "color": "rgb(255,65,54)"
         },
         "mode": "lines",
         "type": "scatter",
         "x": [
          3600,
          3600,
          3620,
          3620
         ],
         "xaxis": "x",
         "y": [
          0.061731576839905086,
          0.6197107456495817,
          0.6197107456495817,
          0.37237680202872064
         ],
         "yaxis": "y"
        },
        {
         "hoverinfo": "text",
         "marker": {
          "color": "rgb(255,65,54)"
         },
         "mode": "lines",
         "type": "scatter",
         "x": [
          3580,
          3580,
          3610,
          3610
         ],
         "xaxis": "x",
         "y": [
          0.2058613192186108,
          1.0135160405921435,
          1.0135160405921435,
          0.6197107456495817
         ],
         "yaxis": "y"
        },
        {
         "hoverinfo": "text",
         "marker": {
          "color": "rgb(255,65,54)"
         },
         "mode": "lines",
         "type": "scatter",
         "x": [
          3552.5,
          3552.5,
          3595,
          3595
         ],
         "xaxis": "x",
         "y": [
          0.9166793679985116,
          1.9211480302304567,
          1.9211480302304567,
          1.0135160405921435
         ],
         "yaxis": "y"
        },
        {
         "hoverinfo": "text",
         "marker": {
          "color": "rgb(255,65,54)"
         },
         "mode": "lines",
         "type": "scatter",
         "x": [
          3522.5,
          3522.5,
          3573.75,
          3573.75
         ],
         "xaxis": "x",
         "y": [
          1.3627596950266379,
          2.31708692177298,
          2.31708692177298,
          1.9211480302304567
         ],
         "yaxis": "y"
        },
        {
         "hoverinfo": "text",
         "marker": {
          "color": "rgb(255,65,54)"
         },
         "mode": "lines",
         "type": "scatter",
         "x": [
          3645,
          3645,
          3655,
          3655
         ],
         "xaxis": "x",
         "y": [
          0,
          0.7470235928042804,
          0.7470235928042804,
          0
         ],
         "yaxis": "y"
        },
        {
         "hoverinfo": "text",
         "marker": {
          "color": "rgb(255,65,54)"
         },
         "mode": "lines",
         "type": "scatter",
         "x": [
          3635,
          3635,
          3650,
          3650
         ],
         "xaxis": "x",
         "y": [
          0,
          1.9014928679234016,
          1.9014928679234016,
          0.7470235928042804
         ],
         "yaxis": "y"
        },
        {
         "hoverinfo": "text",
         "marker": {
          "color": "rgb(255,65,54)"
         },
         "mode": "lines",
         "type": "scatter",
         "x": [
          3665,
          3665,
          3675,
          3675
         ],
         "xaxis": "x",
         "y": [
          0,
          0.3844116352479365,
          0.3844116352479365,
          0
         ],
         "yaxis": "y"
        },
        {
         "hoverinfo": "text",
         "marker": {
          "color": "rgb(255,65,54)"
         },
         "mode": "lines",
         "type": "scatter",
         "x": [
          3685,
          3685,
          3695,
          3695
         ],
         "xaxis": "x",
         "y": [
          0,
          0.11327876978054598,
          0.11327876978054598,
          0
         ],
         "yaxis": "y"
        },
        {
         "hoverinfo": "text",
         "marker": {
          "color": "rgb(255,65,54)"
         },
         "mode": "lines",
         "type": "scatter",
         "x": [
          3705,
          3705,
          3715,
          3715
         ],
         "xaxis": "x",
         "y": [
          0,
          0.21052420165689242,
          0.21052420165689242,
          0
         ],
         "yaxis": "y"
        },
        {
         "hoverinfo": "text",
         "marker": {
          "color": "rgb(255,65,54)"
         },
         "mode": "lines",
         "type": "scatter",
         "x": [
          3690,
          3690,
          3710,
          3710
         ],
         "xaxis": "x",
         "y": [
          0.11327876978054598,
          0.6162771438879617,
          0.6162771438879617,
          0.21052420165689242
         ],
         "yaxis": "y"
        },
        {
         "hoverinfo": "text",
         "marker": {
          "color": "rgb(255,65,54)"
         },
         "mode": "lines",
         "type": "scatter",
         "x": [
          3670,
          3670,
          3700,
          3700
         ],
         "xaxis": "x",
         "y": [
          0.3844116352479365,
          0.910319780786362,
          0.910319780786362,
          0.6162771438879617
         ],
         "yaxis": "y"
        },
        {
         "hoverinfo": "text",
         "marker": {
          "color": "rgb(255,65,54)"
         },
         "mode": "lines",
         "type": "scatter",
         "x": [
          3735,
          3735,
          3745,
          3745
         ],
         "xaxis": "x",
         "y": [
          0,
          0.10838592404047051,
          0.10838592404047051,
          0
         ],
         "yaxis": "y"
        },
        {
         "hoverinfo": "text",
         "marker": {
          "color": "rgb(255,65,54)"
         },
         "mode": "lines",
         "type": "scatter",
         "x": [
          3725,
          3725,
          3740,
          3740
         ],
         "xaxis": "x",
         "y": [
          0,
          0.602429782257545,
          0.602429782257545,
          0.10838592404047051
         ],
         "yaxis": "y"
        },
        {
         "hoverinfo": "text",
         "marker": {
          "color": "rgb(255,65,54)"
         },
         "mode": "lines",
         "type": "scatter",
         "x": [
          3765,
          3765,
          3775,
          3775
         ],
         "xaxis": "x",
         "y": [
          0,
          0.13057031655793444,
          0.13057031655793444,
          0
         ],
         "yaxis": "y"
        },
        {
         "hoverinfo": "text",
         "marker": {
          "color": "rgb(255,65,54)"
         },
         "mode": "lines",
         "type": "scatter",
         "x": [
          3755,
          3755,
          3770,
          3770
         ],
         "xaxis": "x",
         "y": [
          0,
          0.6699857647006087,
          0.6699857647006087,
          0.13057031655793444
         ],
         "yaxis": "y"
        },
        {
         "hoverinfo": "text",
         "marker": {
          "color": "rgb(255,65,54)"
         },
         "mode": "lines",
         "type": "scatter",
         "x": [
          3732.5,
          3732.5,
          3762.5,
          3762.5
         ],
         "xaxis": "x",
         "y": [
          0.602429782257545,
          1.4063276523408326,
          1.4063276523408326,
          0.6699857647006087
         ],
         "yaxis": "y"
        },
        {
         "hoverinfo": "text",
         "marker": {
          "color": "rgb(255,65,54)"
         },
         "mode": "lines",
         "type": "scatter",
         "x": [
          3685,
          3685,
          3747.5,
          3747.5
         ],
         "xaxis": "x",
         "y": [
          0.910319780786362,
          1.9858349362208652,
          1.9858349362208652,
          1.4063276523408326
         ],
         "yaxis": "y"
        },
        {
         "hoverinfo": "text",
         "marker": {
          "color": "rgb(255,65,54)"
         },
         "mode": "lines",
         "type": "scatter",
         "x": [
          3642.5,
          3642.5,
          3716.25,
          3716.25
         ],
         "xaxis": "x",
         "y": [
          1.9014928679234016,
          2.930419850769572,
          2.930419850769572,
          1.9858349362208652
         ],
         "yaxis": "y"
        },
        {
         "hoverinfo": "text",
         "marker": {
          "color": "rgb(255,65,54)"
         },
         "mode": "lines",
         "type": "scatter",
         "x": [
          3548.125,
          3548.125,
          3679.375,
          3679.375
         ],
         "xaxis": "x",
         "y": [
          2.31708692177298,
          4.151794927479081,
          4.151794927479081,
          2.930419850769572
         ],
         "yaxis": "y"
        },
        {
         "hoverinfo": "text",
         "marker": {
          "color": "rgb(255,65,54)"
         },
         "mode": "lines",
         "type": "scatter",
         "x": [
          3477.5,
          3477.5,
          3613.75,
          3613.75
         ],
         "xaxis": "x",
         "y": [
          0.023504542224881072,
          5.756732380833877,
          5.756732380833877,
          4.151794927479081
         ],
         "yaxis": "y"
        },
        {
         "hoverinfo": "text",
         "marker": {
          "color": "rgb(255,65,54)"
         },
         "mode": "lines",
         "type": "scatter",
         "x": [
          3785,
          3785,
          3795,
          3795
         ],
         "xaxis": "x",
         "y": [
          0,
          0.1363668636254219,
          0.1363668636254219,
          0
         ],
         "yaxis": "y"
        },
        {
         "hoverinfo": "text",
         "marker": {
          "color": "rgb(255,65,54)"
         },
         "mode": "lines",
         "type": "scatter",
         "x": [
          3825,
          3825,
          3835,
          3835
         ],
         "xaxis": "x",
         "y": [
          0,
          0.017297437688045605,
          0.017297437688045605,
          0
         ],
         "yaxis": "y"
        },
        {
         "hoverinfo": "text",
         "marker": {
          "color": "rgb(255,65,54)"
         },
         "mode": "lines",
         "type": "scatter",
         "x": [
          3815,
          3815,
          3830,
          3830
         ],
         "xaxis": "x",
         "y": [
          0,
          0.05634245947268513,
          0.05634245947268513,
          0.017297437688045605
         ],
         "yaxis": "y"
        },
        {
         "hoverinfo": "text",
         "marker": {
          "color": "rgb(255,65,54)"
         },
         "mode": "lines",
         "type": "scatter",
         "x": [
          3805,
          3805,
          3822.5,
          3822.5
         ],
         "xaxis": "x",
         "y": [
          0,
          0.18282369855530475,
          0.18282369855530475,
          0.05634245947268513
         ],
         "yaxis": "y"
        },
        {
         "hoverinfo": "text",
         "marker": {
          "color": "rgb(255,65,54)"
         },
         "mode": "lines",
         "type": "scatter",
         "x": [
          3855,
          3855,
          3865,
          3865
         ],
         "xaxis": "x",
         "y": [
          0,
          0.1682879308090422,
          0.1682879308090422,
          0
         ],
         "yaxis": "y"
        },
        {
         "hoverinfo": "text",
         "marker": {
          "color": "rgb(255,65,54)"
         },
         "mode": "lines",
         "type": "scatter",
         "x": [
          3845,
          3845,
          3860,
          3860
         ],
         "xaxis": "x",
         "y": [
          0,
          0.6933356499059079,
          0.6933356499059079,
          0.1682879308090422
         ],
         "yaxis": "y"
        },
        {
         "hoverinfo": "text",
         "marker": {
          "color": "rgb(255,65,54)"
         },
         "mode": "lines",
         "type": "scatter",
         "x": [
          3813.75,
          3813.75,
          3852.5,
          3852.5
         ],
         "xaxis": "x",
         "y": [
          0.18282369855530475,
          2.9161722552627625,
          2.9161722552627625,
          0.6933356499059079
         ],
         "yaxis": "y"
        },
        {
         "hoverinfo": "text",
         "marker": {
          "color": "rgb(255,65,54)"
         },
         "mode": "lines",
         "type": "scatter",
         "x": [
          3790,
          3790,
          3833.125,
          3833.125
         ],
         "xaxis": "x",
         "y": [
          0.1363668636254219,
          4.9751381587485515,
          4.9751381587485515,
          2.9161722552627625
         ],
         "yaxis": "y"
        },
        {
         "hoverinfo": "text",
         "marker": {
          "color": "rgb(255,65,54)"
         },
         "mode": "lines",
         "type": "scatter",
         "x": [
          3875,
          3875,
          3885,
          3885
         ],
         "xaxis": "x",
         "y": [
          0,
          1.103317568382797,
          1.103317568382797,
          0
         ],
         "yaxis": "y"
        },
        {
         "hoverinfo": "text",
         "marker": {
          "color": "rgb(255,65,54)"
         },
         "mode": "lines",
         "type": "scatter",
         "x": [
          3895,
          3895,
          3905,
          3905
         ],
         "xaxis": "x",
         "y": [
          0,
          0.014068253511762763,
          0.014068253511762763,
          0
         ],
         "yaxis": "y"
        },
        {
         "hoverinfo": "text",
         "marker": {
          "color": "rgb(255,65,54)"
         },
         "mode": "lines",
         "type": "scatter",
         "x": [
          3915,
          3915,
          3925,
          3925
         ],
         "xaxis": "x",
         "y": [
          0,
          0.03131370691050836,
          0.03131370691050836,
          0
         ],
         "yaxis": "y"
        },
        {
         "hoverinfo": "text",
         "marker": {
          "color": "rgb(255,65,54)"
         },
         "mode": "lines",
         "type": "scatter",
         "x": [
          3900,
          3900,
          3920,
          3920
         ],
         "xaxis": "x",
         "y": [
          0.014068253511762763,
          2.3451478148965963,
          2.3451478148965963,
          0.03131370691050836
         ],
         "yaxis": "y"
        },
        {
         "hoverinfo": "text",
         "marker": {
          "color": "rgb(255,65,54)"
         },
         "mode": "lines",
         "type": "scatter",
         "x": [
          3880,
          3880,
          3910,
          3910
         ],
         "xaxis": "x",
         "y": [
          1.103317568382797,
          2.784622320121443,
          2.784622320121443,
          2.3451478148965963
         ],
         "yaxis": "y"
        },
        {
         "hoverinfo": "text",
         "marker": {
          "color": "rgb(255,65,54)"
         },
         "mode": "lines",
         "type": "scatter",
         "x": [
          3945,
          3945,
          3955,
          3955
         ],
         "xaxis": "x",
         "y": [
          0,
          0.17868116130400696,
          0.17868116130400696,
          0
         ],
         "yaxis": "y"
        },
        {
         "hoverinfo": "text",
         "marker": {
          "color": "rgb(255,65,54)"
         },
         "mode": "lines",
         "type": "scatter",
         "x": [
          3935,
          3935,
          3950,
          3950
         ],
         "xaxis": "x",
         "y": [
          0,
          0.4557253026017929,
          0.4557253026017929,
          0.17868116130400696
         ],
         "yaxis": "y"
        },
        {
         "hoverinfo": "text",
         "marker": {
          "color": "rgb(255,65,54)"
         },
         "mode": "lines",
         "type": "scatter",
         "x": [
          3975,
          3975,
          3985,
          3985
         ],
         "xaxis": "x",
         "y": [
          0,
          0.20540032929946847,
          0.20540032929946847,
          0
         ],
         "yaxis": "y"
        },
        {
         "hoverinfo": "text",
         "marker": {
          "color": "rgb(255,65,54)"
         },
         "mode": "lines",
         "type": "scatter",
         "x": [
          3965,
          3965,
          3980,
          3980
         ],
         "xaxis": "x",
         "y": [
          0,
          0.594787206242794,
          0.594787206242794,
          0.20540032929946847
         ],
         "yaxis": "y"
        },
        {
         "hoverinfo": "text",
         "marker": {
          "color": "rgb(255,65,54)"
         },
         "mode": "lines",
         "type": "scatter",
         "x": [
          3942.5,
          3942.5,
          3972.5,
          3972.5
         ],
         "xaxis": "x",
         "y": [
          0.4557253026017929,
          0.9436787884486848,
          0.9436787884486848,
          0.594787206242794
         ],
         "yaxis": "y"
        },
        {
         "hoverinfo": "text",
         "marker": {
          "color": "rgb(255,65,54)"
         },
         "mode": "lines",
         "type": "scatter",
         "x": [
          3995,
          3995,
          4005,
          4005
         ],
         "xaxis": "x",
         "y": [
          0,
          0.49191579460323337,
          0.49191579460323337,
          0
         ],
         "yaxis": "y"
        },
        {
         "hoverinfo": "text",
         "marker": {
          "color": "rgb(255,65,54)"
         },
         "mode": "lines",
         "type": "scatter",
         "x": [
          4015,
          4015,
          4025,
          4025
         ],
         "xaxis": "x",
         "y": [
          0,
          0.24686119981647492,
          0.24686119981647492,
          0
         ],
         "yaxis": "y"
        },
        {
         "hoverinfo": "text",
         "marker": {
          "color": "rgb(255,65,54)"
         },
         "mode": "lines",
         "type": "scatter",
         "x": [
          4045,
          4045,
          4055,
          4055
         ],
         "xaxis": "x",
         "y": [
          0,
          0.007835013614293788,
          0.007835013614293788,
          0
         ],
         "yaxis": "y"
        },
        {
         "hoverinfo": "text",
         "marker": {
          "color": "rgb(255,65,54)"
         },
         "mode": "lines",
         "type": "scatter",
         "x": [
          4035,
          4035,
          4050,
          4050
         ],
         "xaxis": "x",
         "y": [
          0,
          0.34196698453729973,
          0.34196698453729973,
          0.007835013614293788
         ],
         "yaxis": "y"
        },
        {
         "hoverinfo": "text",
         "marker": {
          "color": "rgb(255,65,54)"
         },
         "mode": "lines",
         "type": "scatter",
         "x": [
          4020,
          4020,
          4042.5,
          4042.5
         ],
         "xaxis": "x",
         "y": [
          0.24686119981647492,
          1.0533555304520685,
          1.0533555304520685,
          0.34196698453729973
         ],
         "yaxis": "y"
        },
        {
         "hoverinfo": "text",
         "marker": {
          "color": "rgb(255,65,54)"
         },
         "mode": "lines",
         "type": "scatter",
         "x": [
          4000,
          4000,
          4031.25,
          4031.25
         ],
         "xaxis": "x",
         "y": [
          0.49191579460323337,
          1.2426718143822,
          1.2426718143822,
          1.0533555304520685
         ],
         "yaxis": "y"
        },
        {
         "hoverinfo": "text",
         "marker": {
          "color": "rgb(255,65,54)"
         },
         "mode": "lines",
         "type": "scatter",
         "x": [
          3957.5,
          3957.5,
          4015.625,
          4015.625
         ],
         "xaxis": "x",
         "y": [
          0.9436787884486848,
          2.0073418732481416,
          2.0073418732481416,
          1.2426718143822
         ],
         "yaxis": "y"
        },
        {
         "hoverinfo": "text",
         "marker": {
          "color": "rgb(255,65,54)"
         },
         "mode": "lines",
         "type": "scatter",
         "x": [
          4075,
          4075,
          4085,
          4085
         ],
         "xaxis": "x",
         "y": [
          0,
          0.1457476307288789,
          0.1457476307288789,
          0
         ],
         "yaxis": "y"
        },
        {
         "hoverinfo": "text",
         "marker": {
          "color": "rgb(255,65,54)"
         },
         "mode": "lines",
         "type": "scatter",
         "x": [
          4065,
          4065,
          4080,
          4080
         ],
         "xaxis": "x",
         "y": [
          0,
          0.5815340008970001,
          0.5815340008970001,
          0.1457476307288789
         ],
         "yaxis": "y"
        },
        {
         "hoverinfo": "text",
         "marker": {
          "color": "rgb(255,65,54)"
         },
         "mode": "lines",
         "type": "scatter",
         "x": [
          4095,
          4095,
          4105,
          4105
         ],
         "xaxis": "x",
         "y": [
          0,
          0.7695997231934527,
          0.7695997231934527,
          0
         ],
         "yaxis": "y"
        },
        {
         "hoverinfo": "text",
         "marker": {
          "color": "rgb(255,65,54)"
         },
         "mode": "lines",
         "type": "scatter",
         "x": [
          4072.5,
          4072.5,
          4100,
          4100
         ],
         "xaxis": "x",
         "y": [
          0.5815340008970001,
          1.698289111186793,
          1.698289111186793,
          0.7695997231934527
         ],
         "yaxis": "y"
        },
        {
         "hoverinfo": "text",
         "marker": {
          "color": "rgb(255,65,54)"
         },
         "mode": "lines",
         "type": "scatter",
         "x": [
          4135,
          4135,
          4145,
          4145
         ],
         "xaxis": "x",
         "y": [
          0,
          0.2828687260548666,
          0.2828687260548666,
          0
         ],
         "yaxis": "y"
        },
        {
         "hoverinfo": "text",
         "marker": {
          "color": "rgb(255,65,54)"
         },
         "mode": "lines",
         "type": "scatter",
         "x": [
          4125,
          4125,
          4140,
          4140
         ],
         "xaxis": "x",
         "y": [
          0,
          0.4068497020699852,
          0.4068497020699852,
          0.2828687260548666
         ],
         "yaxis": "y"
        },
        {
         "hoverinfo": "text",
         "marker": {
          "color": "rgb(255,65,54)"
         },
         "mode": "lines",
         "type": "scatter",
         "x": [
          4115,
          4115,
          4132.5,
          4132.5
         ],
         "xaxis": "x",
         "y": [
          0,
          1.19318903138334,
          1.19318903138334,
          0.4068497020699852
         ],
         "yaxis": "y"
        },
        {
         "hoverinfo": "text",
         "marker": {
          "color": "rgb(255,65,54)"
         },
         "mode": "lines",
         "type": "scatter",
         "x": [
          4165,
          4165,
          4175,
          4175
         ],
         "xaxis": "x",
         "y": [
          0,
          0.20254745531677923,
          0.20254745531677923,
          0
         ],
         "yaxis": "y"
        },
        {
         "hoverinfo": "text",
         "marker": {
          "color": "rgb(255,65,54)"
         },
         "mode": "lines",
         "type": "scatter",
         "x": [
          4185,
          4185,
          4195,
          4195
         ],
         "xaxis": "x",
         "y": [
          0,
          0.21956836947278074,
          0.21956836947278074,
          0
         ],
         "yaxis": "y"
        },
        {
         "hoverinfo": "text",
         "marker": {
          "color": "rgb(255,65,54)"
         },
         "mode": "lines",
         "type": "scatter",
         "x": [
          4170,
          4170,
          4190,
          4190
         ],
         "xaxis": "x",
         "y": [
          0.20254745531677923,
          0.6758113818078448,
          0.6758113818078448,
          0.21956836947278074
         ],
         "yaxis": "y"
        },
        {
         "hoverinfo": "text",
         "marker": {
          "color": "rgb(255,65,54)"
         },
         "mode": "lines",
         "type": "scatter",
         "x": [
          4155,
          4155,
          4180,
          4180
         ],
         "xaxis": "x",
         "y": [
          0,
          1.2429244660879932,
          1.2429244660879932,
          0.6758113818078448
         ],
         "yaxis": "y"
        },
        {
         "hoverinfo": "text",
         "marker": {
          "color": "rgb(255,65,54)"
         },
         "mode": "lines",
         "type": "scatter",
         "x": [
          4123.75,
          4123.75,
          4167.5,
          4167.5
         ],
         "xaxis": "x",
         "y": [
          1.19318903138334,
          2.153066944178148,
          2.153066944178148,
          1.2429244660879932
         ],
         "yaxis": "y"
        },
        {
         "hoverinfo": "text",
         "marker": {
          "color": "rgb(255,65,54)"
         },
         "mode": "lines",
         "type": "scatter",
         "x": [
          4086.25,
          4086.25,
          4145.625,
          4145.625
         ],
         "xaxis": "x",
         "y": [
          1.698289111186793,
          2.993030760027525,
          2.993030760027525,
          2.153066944178148
         ],
         "yaxis": "y"
        },
        {
         "hoverinfo": "text",
         "marker": {
          "color": "rgb(255,65,54)"
         },
         "mode": "lines",
         "type": "scatter",
         "x": [
          3986.5625,
          3986.5625,
          4115.9375,
          4115.9375
         ],
         "xaxis": "x",
         "y": [
          2.0073418732481416,
          4.9093913980992765,
          4.9093913980992765,
          2.993030760027525
         ],
         "yaxis": "y"
        },
        {
         "hoverinfo": "text",
         "marker": {
          "color": "rgb(255,65,54)"
         },
         "mode": "lines",
         "type": "scatter",
         "x": [
          3895,
          3895,
          4051.25,
          4051.25
         ],
         "xaxis": "x",
         "y": [
          2.784622320121443,
          6.585372956052037,
          6.585372956052037,
          4.9093913980992765
         ],
         "yaxis": "y"
        },
        {
         "hoverinfo": "text",
         "marker": {
          "color": "rgb(255,65,54)"
         },
         "mode": "lines",
         "type": "scatter",
         "x": [
          3811.5625,
          3811.5625,
          3973.125,
          3973.125
         ],
         "xaxis": "x",
         "y": [
          4.9751381587485515,
          8.875901018769696,
          8.875901018769696,
          6.585372956052037
         ],
         "yaxis": "y"
        },
        {
         "hoverinfo": "text",
         "marker": {
          "color": "rgb(255,65,54)"
         },
         "mode": "lines",
         "type": "scatter",
         "x": [
          3545.625,
          3545.625,
          3892.34375,
          3892.34375
         ],
         "xaxis": "x",
         "y": [
          5.756732380833877,
          9.741666869222577,
          9.741666869222577,
          8.875901018769696
         ],
         "yaxis": "y"
        },
        {
         "hoverinfo": "text",
         "marker": {
          "color": "rgb(255,65,54)"
         },
         "mode": "lines",
         "type": "scatter",
         "x": [
          3276.40625,
          3276.40625,
          3718.984375,
          3718.984375
         ],
         "xaxis": "x",
         "y": [
          5.569753207334959,
          12.794834007970866,
          12.794834007970866,
          9.741666869222577
         ],
         "yaxis": "y"
        },
        {
         "hoverinfo": "text",
         "marker": {
          "color": "rgb(255,65,54)"
         },
         "mode": "lines",
         "type": "scatter",
         "x": [
          3009.375,
          3009.375,
          3497.6953125,
          3497.6953125
         ],
         "xaxis": "x",
         "y": [
          3.9125732693488504,
          23.087592827457296,
          23.087592827457296,
          12.794834007970866
         ],
         "yaxis": "y"
        },
        {
         "hoverinfo": "text",
         "marker": {
          "color": "rgb(255,65,54)"
         },
         "mode": "lines",
         "type": "scatter",
         "x": [
          4215,
          4215,
          4225,
          4225
         ],
         "xaxis": "x",
         "y": [
          0,
          0.013048330221567659,
          0.013048330221567659,
          0
         ],
         "yaxis": "y"
        },
        {
         "hoverinfo": "text",
         "marker": {
          "color": "rgb(255,65,54)"
         },
         "mode": "lines",
         "type": "scatter",
         "x": [
          4205,
          4205,
          4220,
          4220
         ],
         "xaxis": "x",
         "y": [
          0,
          0.09059777584169625,
          0.09059777584169625,
          0.013048330221567659
         ],
         "yaxis": "y"
        },
        {
         "hoverinfo": "text",
         "marker": {
          "color": "rgb(255,65,54)"
         },
         "mode": "lines",
         "type": "scatter",
         "x": [
          4235,
          4235,
          4245,
          4245
         ],
         "xaxis": "x",
         "y": [
          0,
          0.21284700360179107,
          0.21284700360179107,
          0
         ],
         "yaxis": "y"
        },
        {
         "hoverinfo": "text",
         "marker": {
          "color": "rgb(255,65,54)"
         },
         "mode": "lines",
         "type": "scatter",
         "x": [
          4212.5,
          4212.5,
          4240,
          4240
         ],
         "xaxis": "x",
         "y": [
          0.09059777584169625,
          0.5646659428279135,
          0.5646659428279135,
          0.21284700360179107
         ],
         "yaxis": "y"
        },
        {
         "hoverinfo": "text",
         "marker": {
          "color": "rgb(255,65,54)"
         },
         "mode": "lines",
         "type": "scatter",
         "x": [
          4255,
          4255,
          4265,
          4265
         ],
         "xaxis": "x",
         "y": [
          0,
          0.048633077692070995,
          0.048633077692070995,
          0
         ],
         "yaxis": "y"
        },
        {
         "hoverinfo": "text",
         "marker": {
          "color": "rgb(255,65,54)"
         },
         "mode": "lines",
         "type": "scatter",
         "x": [
          4275,
          4275,
          4285,
          4285
         ],
         "xaxis": "x",
         "y": [
          0,
          0.06855066444626921,
          0.06855066444626921,
          0
         ],
         "yaxis": "y"
        },
        {
         "hoverinfo": "text",
         "marker": {
          "color": "rgb(255,65,54)"
         },
         "mode": "lines",
         "type": "scatter",
         "x": [
          4260,
          4260,
          4280,
          4280
         ],
         "xaxis": "x",
         "y": [
          0.048633077692070995,
          0.23145801476261177,
          0.23145801476261177,
          0.06855066444626921
         ],
         "yaxis": "y"
        },
        {
         "hoverinfo": "text",
         "marker": {
          "color": "rgb(255,65,54)"
         },
         "mode": "lines",
         "type": "scatter",
         "x": [
          4305,
          4305,
          4315,
          4315
         ],
         "xaxis": "x",
         "y": [
          0,
          0.13137522755341957,
          0.13137522755341957,
          0
         ],
         "yaxis": "y"
        },
        {
         "hoverinfo": "text",
         "marker": {
          "color": "rgb(255,65,54)"
         },
         "mode": "lines",
         "type": "scatter",
         "x": [
          4295,
          4295,
          4310,
          4310
         ],
         "xaxis": "x",
         "y": [
          0,
          0.3462854367679612,
          0.3462854367679612,
          0.13137522755341957
         ],
         "yaxis": "y"
        },
        {
         "hoverinfo": "text",
         "marker": {
          "color": "rgb(255,65,54)"
         },
         "mode": "lines",
         "type": "scatter",
         "x": [
          4270,
          4270,
          4302.5,
          4302.5
         ],
         "xaxis": "x",
         "y": [
          0.23145801476261177,
          0.7153007933094937,
          0.7153007933094937,
          0.3462854367679612
         ],
         "yaxis": "y"
        },
        {
         "hoverinfo": "text",
         "marker": {
          "color": "rgb(255,65,54)"
         },
         "mode": "lines",
         "type": "scatter",
         "x": [
          4226.25,
          4226.25,
          4286.25,
          4286.25
         ],
         "xaxis": "x",
         "y": [
          0.5646659428279135,
          1.7683935548210648,
          1.7683935548210648,
          0.7153007933094937
         ],
         "yaxis": "y"
        },
        {
         "hoverinfo": "text",
         "marker": {
          "color": "rgb(255,65,54)"
         },
         "mode": "lines",
         "type": "scatter",
         "x": [
          4345,
          4345,
          4355,
          4355
         ],
         "xaxis": "x",
         "y": [
          0,
          0.06121639094817398,
          0.06121639094817398,
          0
         ],
         "yaxis": "y"
        },
        {
         "hoverinfo": "text",
         "marker": {
          "color": "rgb(255,65,54)"
         },
         "mode": "lines",
         "type": "scatter",
         "x": [
          4335,
          4335,
          4350,
          4350
         ],
         "xaxis": "x",
         "y": [
          0,
          0.13473595839530864,
          0.13473595839530864,
          0.06121639094817398
         ],
         "yaxis": "y"
        },
        {
         "hoverinfo": "text",
         "marker": {
          "color": "rgb(255,65,54)"
         },
         "mode": "lines",
         "type": "scatter",
         "x": [
          4325,
          4325,
          4342.5,
          4342.5
         ],
         "xaxis": "x",
         "y": [
          0,
          0.3652833382484896,
          0.3652833382484896,
          0.13473595839530864
         ],
         "yaxis": "y"
        },
        {
         "hoverinfo": "text",
         "marker": {
          "color": "rgb(255,65,54)"
         },
         "mode": "lines",
         "type": "scatter",
         "x": [
          4365,
          4365,
          4375,
          4375
         ],
         "xaxis": "x",
         "y": [
          0,
          0.03086075328890634,
          0.03086075328890634,
          0
         ],
         "yaxis": "y"
        },
        {
         "hoverinfo": "text",
         "marker": {
          "color": "rgb(255,65,54)"
         },
         "mode": "lines",
         "type": "scatter",
         "x": [
          4385,
          4385,
          4395,
          4395
         ],
         "xaxis": "x",
         "y": [
          0,
          0.15108023910420385,
          0.15108023910420385,
          0
         ],
         "yaxis": "y"
        },
        {
         "hoverinfo": "text",
         "marker": {
          "color": "rgb(255,65,54)"
         },
         "mode": "lines",
         "type": "scatter",
         "x": [
          4370,
          4370,
          4390,
          4390
         ],
         "xaxis": "x",
         "y": [
          0.03086075328890634,
          0.4306134422233647,
          0.4306134422233647,
          0.15108023910420385
         ],
         "yaxis": "y"
        },
        {
         "hoverinfo": "text",
         "marker": {
          "color": "rgb(255,65,54)"
         },
         "mode": "lines",
         "type": "scatter",
         "x": [
          4415,
          4415,
          4425,
          4425
         ],
         "xaxis": "x",
         "y": [
          0,
          0.1413991847157666,
          0.1413991847157666,
          0
         ],
         "yaxis": "y"
        },
        {
         "hoverinfo": "text",
         "marker": {
          "color": "rgb(255,65,54)"
         },
         "mode": "lines",
         "type": "scatter",
         "x": [
          4405,
          4405,
          4420,
          4420
         ],
         "xaxis": "x",
         "y": [
          0,
          0.4357406851820087,
          0.4357406851820087,
          0.1413991847157666
         ],
         "yaxis": "y"
        },
        {
         "hoverinfo": "text",
         "marker": {
          "color": "rgb(255,65,54)"
         },
         "mode": "lines",
         "type": "scatter",
         "x": [
          4380,
          4380,
          4412.5,
          4412.5
         ],
         "xaxis": "x",
         "y": [
          0.4306134422233647,
          2.3145341274555795,
          2.3145341274555795,
          0.4357406851820087
         ],
         "yaxis": "y"
        },
        {
         "hoverinfo": "text",
         "marker": {
          "color": "rgb(255,65,54)"
         },
         "mode": "lines",
         "type": "scatter",
         "x": [
          4333.75,
          4333.75,
          4396.25,
          4396.25
         ],
         "xaxis": "x",
         "y": [
          0.3652833382484896,
          3.034630028828757,
          3.034630028828757,
          2.3145341274555795
         ],
         "yaxis": "y"
        },
        {
         "hoverinfo": "text",
         "marker": {
          "color": "rgb(255,65,54)"
         },
         "mode": "lines",
         "type": "scatter",
         "x": [
          4256.25,
          4256.25,
          4365,
          4365
         ],
         "xaxis": "x",
         "y": [
          1.7683935548210648,
          7.157729022275967,
          7.157729022275967,
          3.034630028828757
         ],
         "yaxis": "y"
        },
        {
         "hoverinfo": "text",
         "marker": {
          "color": "rgb(255,65,54)"
         },
         "mode": "lines",
         "type": "scatter",
         "x": [
          4445,
          4445,
          4455,
          4455
         ],
         "xaxis": "x",
         "y": [
          0,
          0.015613324536199003,
          0.015613324536199003,
          0
         ],
         "yaxis": "y"
        },
        {
         "hoverinfo": "text",
         "marker": {
          "color": "rgb(255,65,54)"
         },
         "mode": "lines",
         "type": "scatter",
         "x": [
          4435,
          4435,
          4450,
          4450
         ],
         "xaxis": "x",
         "y": [
          0,
          0.02906236775599936,
          0.02906236775599936,
          0.015613324536199003
         ],
         "yaxis": "y"
        },
        {
         "hoverinfo": "text",
         "marker": {
          "color": "rgb(255,65,54)"
         },
         "mode": "lines",
         "type": "scatter",
         "x": [
          4485,
          4485,
          4495,
          4495
         ],
         "xaxis": "x",
         "y": [
          0,
          0.006252081089630349,
          0.006252081089630349,
          0
         ],
         "yaxis": "y"
        },
        {
         "hoverinfo": "text",
         "marker": {
          "color": "rgb(255,65,54)"
         },
         "mode": "lines",
         "type": "scatter",
         "x": [
          4475,
          4475,
          4490,
          4490
         ],
         "xaxis": "x",
         "y": [
          0,
          0.01775371879748439,
          0.01775371879748439,
          0.006252081089630349
         ],
         "yaxis": "y"
        },
        {
         "hoverinfo": "text",
         "marker": {
          "color": "rgb(255,65,54)"
         },
         "mode": "lines",
         "type": "scatter",
         "x": [
          4465,
          4465,
          4482.5,
          4482.5
         ],
         "xaxis": "x",
         "y": [
          0,
          0.04901410020363718,
          0.04901410020363718,
          0.01775371879748439
         ],
         "yaxis": "y"
        },
        {
         "hoverinfo": "text",
         "marker": {
          "color": "rgb(255,65,54)"
         },
         "mode": "lines",
         "type": "scatter",
         "x": [
          4442.5,
          4442.5,
          4473.75,
          4473.75
         ],
         "xaxis": "x",
         "y": [
          0.02906236775599936,
          0.1456921088706782,
          0.1456921088706782,
          0.04901410020363718
         ],
         "yaxis": "y"
        },
        {
         "hoverinfo": "text",
         "marker": {
          "color": "rgb(255,65,54)"
         },
         "mode": "lines",
         "type": "scatter",
         "x": [
          4515,
          4515,
          4525,
          4525
         ],
         "xaxis": "x",
         "y": [
          0,
          0.006510909938503601,
          0.006510909938503601,
          0
         ],
         "yaxis": "y"
        },
        {
         "hoverinfo": "text",
         "marker": {
          "color": "rgb(255,65,54)"
         },
         "mode": "lines",
         "type": "scatter",
         "x": [
          4535,
          4535,
          4545,
          4545
         ],
         "xaxis": "x",
         "y": [
          0,
          0.009352506986171488,
          0.009352506986171488,
          0
         ],
         "yaxis": "y"
        },
        {
         "hoverinfo": "text",
         "marker": {
          "color": "rgb(255,65,54)"
         },
         "mode": "lines",
         "type": "scatter",
         "x": [
          4520,
          4520,
          4540,
          4540
         ],
         "xaxis": "x",
         "y": [
          0.006510909938503601,
          0.030607970418735326,
          0.030607970418735326,
          0.009352506986171488
         ],
         "yaxis": "y"
        },
        {
         "hoverinfo": "text",
         "marker": {
          "color": "rgb(255,65,54)"
         },
         "mode": "lines",
         "type": "scatter",
         "x": [
          4505,
          4505,
          4530,
          4530
         ],
         "xaxis": "x",
         "y": [
          0,
          0.06859372950415404,
          0.06859372950415404,
          0.030607970418735326
         ],
         "yaxis": "y"
        },
        {
         "hoverinfo": "text",
         "marker": {
          "color": "rgb(255,65,54)"
         },
         "mode": "lines",
         "type": "scatter",
         "x": [
          4565,
          4565,
          4575,
          4575
         ],
         "xaxis": "x",
         "y": [
          0,
          0.012267511566388011,
          0.012267511566388011,
          0
         ],
         "yaxis": "y"
        },
        {
         "hoverinfo": "text",
         "marker": {
          "color": "rgb(255,65,54)"
         },
         "mode": "lines",
         "type": "scatter",
         "x": [
          4555,
          4555,
          4570,
          4570
         ],
         "xaxis": "x",
         "y": [
          0,
          0.08264104207372815,
          0.08264104207372815,
          0.012267511566388011
         ],
         "yaxis": "y"
        },
        {
         "hoverinfo": "text",
         "marker": {
          "color": "rgb(255,65,54)"
         },
         "mode": "lines",
         "type": "scatter",
         "x": [
          4517.5,
          4517.5,
          4562.5,
          4562.5
         ],
         "xaxis": "x",
         "y": [
          0.06859372950415404,
          2.954535846699901,
          2.954535846699901,
          0.08264104207372815
         ],
         "yaxis": "y"
        },
        {
         "hoverinfo": "text",
         "marker": {
          "color": "rgb(255,65,54)"
         },
         "mode": "lines",
         "type": "scatter",
         "x": [
          4458.125,
          4458.125,
          4540,
          4540
         ],
         "xaxis": "x",
         "y": [
          0.1456921088706782,
          4.6095065726604565,
          4.6095065726604565,
          2.954535846699901
         ],
         "yaxis": "y"
        },
        {
         "hoverinfo": "text",
         "marker": {
          "color": "rgb(255,65,54)"
         },
         "mode": "lines",
         "type": "scatter",
         "x": [
          4585,
          4585,
          4595,
          4595
         ],
         "xaxis": "x",
         "y": [
          0,
          0.32673053015174375,
          0.32673053015174375,
          0
         ],
         "yaxis": "y"
        },
        {
         "hoverinfo": "text",
         "marker": {
          "color": "rgb(255,65,54)"
         },
         "mode": "lines",
         "type": "scatter",
         "x": [
          4615,
          4615,
          4625,
          4625
         ],
         "xaxis": "x",
         "y": [
          0,
          0.15651490065698848,
          0.15651490065698848,
          0
         ],
         "yaxis": "y"
        },
        {
         "hoverinfo": "text",
         "marker": {
          "color": "rgb(255,65,54)"
         },
         "mode": "lines",
         "type": "scatter",
         "x": [
          4605,
          4605,
          4620,
          4620
         ],
         "xaxis": "x",
         "y": [
          0,
          0.409961609912972,
          0.409961609912972,
          0.15651490065698848
         ],
         "yaxis": "y"
        },
        {
         "hoverinfo": "text",
         "marker": {
          "color": "rgb(255,65,54)"
         },
         "mode": "lines",
         "type": "scatter",
         "x": [
          4635,
          4635,
          4645,
          4645
         ],
         "xaxis": "x",
         "y": [
          0,
          0.3186490504338765,
          0.3186490504338765,
          0
         ],
         "yaxis": "y"
        },
        {
         "hoverinfo": "text",
         "marker": {
          "color": "rgb(255,65,54)"
         },
         "mode": "lines",
         "type": "scatter",
         "x": [
          4665,
          4665,
          4675,
          4675
         ],
         "xaxis": "x",
         "y": [
          0,
          0.17330356374010386,
          0.17330356374010386,
          0
         ],
         "yaxis": "y"
        },
        {
         "hoverinfo": "text",
         "marker": {
          "color": "rgb(255,65,54)"
         },
         "mode": "lines",
         "type": "scatter",
         "x": [
          4655,
          4655,
          4670,
          4670
         ],
         "xaxis": "x",
         "y": [
          0,
          0.24401783341693395,
          0.24401783341693395,
          0.17330356374010386
         ],
         "yaxis": "y"
        },
        {
         "hoverinfo": "text",
         "marker": {
          "color": "rgb(255,65,54)"
         },
         "mode": "lines",
         "type": "scatter",
         "x": [
          4705,
          4705,
          4715,
          4715
         ],
         "xaxis": "x",
         "y": [
          0,
          0.07486664980158464,
          0.07486664980158464,
          0
         ],
         "yaxis": "y"
        },
        {
         "hoverinfo": "text",
         "marker": {
          "color": "rgb(255,65,54)"
         },
         "mode": "lines",
         "type": "scatter",
         "x": [
          4695,
          4695,
          4710,
          4710
         ],
         "xaxis": "x",
         "y": [
          0,
          0.14721671199334027,
          0.14721671199334027,
          0.07486664980158464
         ],
         "yaxis": "y"
        },
        {
         "hoverinfo": "text",
         "marker": {
          "color": "rgb(255,65,54)"
         },
         "mode": "lines",
         "type": "scatter",
         "x": [
          4685,
          4685,
          4702.5,
          4702.5
         ],
         "xaxis": "x",
         "y": [
          0,
          0.39361799520154506,
          0.39361799520154506,
          0.14721671199334027
         ],
         "yaxis": "y"
        },
        {
         "hoverinfo": "text",
         "marker": {
          "color": "rgb(255,65,54)"
         },
         "mode": "lines",
         "type": "scatter",
         "x": [
          4662.5,
          4662.5,
          4693.75,
          4693.75
         ],
         "xaxis": "x",
         "y": [
          0.24401783341693395,
          0.6026835436916882,
          0.6026835436916882,
          0.39361799520154506
         ],
         "yaxis": "y"
        },
        {
         "hoverinfo": "text",
         "marker": {
          "color": "rgb(255,65,54)"
         },
         "mode": "lines",
         "type": "scatter",
         "x": [
          4640,
          4640,
          4678.125,
          4678.125
         ],
         "xaxis": "x",
         "y": [
          0.3186490504338765,
          0.8715398395406447,
          0.8715398395406447,
          0.6026835436916882
         ],
         "yaxis": "y"
        },
        {
         "hoverinfo": "text",
         "marker": {
          "color": "rgb(255,65,54)"
         },
         "mode": "lines",
         "type": "scatter",
         "x": [
          4612.5,
          4612.5,
          4659.0625,
          4659.0625
         ],
         "xaxis": "x",
         "y": [
          0.409961609912972,
          0.892627377885205,
          0.892627377885205,
          0.8715398395406447
         ],
         "yaxis": "y"
        },
        {
         "hoverinfo": "text",
         "marker": {
          "color": "rgb(255,65,54)"
         },
         "mode": "lines",
         "type": "scatter",
         "x": [
          4590,
          4590,
          4635.78125,
          4635.78125
         ],
         "xaxis": "x",
         "y": [
          0.32673053015174375,
          1.7375837576673632,
          1.7375837576673632,
          0.892627377885205
         ],
         "yaxis": "y"
        },
        {
         "hoverinfo": "text",
         "marker": {
          "color": "rgb(255,65,54)"
         },
         "mode": "lines",
         "type": "scatter",
         "x": [
          4725,
          4725,
          4735,
          4735
         ],
         "xaxis": "x",
         "y": [
          0,
          0.13693366981038552,
          0.13693366981038552,
          0
         ],
         "yaxis": "y"
        },
        {
         "hoverinfo": "text",
         "marker": {
          "color": "rgb(255,65,54)"
         },
         "mode": "lines",
         "type": "scatter",
         "x": [
          4745,
          4745,
          4755,
          4755
         ],
         "xaxis": "x",
         "y": [
          0,
          0.08313193438277754,
          0.08313193438277754,
          0
         ],
         "yaxis": "y"
        },
        {
         "hoverinfo": "text",
         "marker": {
          "color": "rgb(255,65,54)"
         },
         "mode": "lines",
         "type": "scatter",
         "x": [
          4785,
          4785,
          4795,
          4795
         ],
         "xaxis": "x",
         "y": [
          0,
          0.04326071578763287,
          0.04326071578763287,
          0
         ],
         "yaxis": "y"
        },
        {
         "hoverinfo": "text",
         "marker": {
          "color": "rgb(255,65,54)"
         },
         "mode": "lines",
         "type": "scatter",
         "x": [
          4775,
          4775,
          4790,
          4790
         ],
         "xaxis": "x",
         "y": [
          0,
          0.11647645486210952,
          0.11647645486210952,
          0.04326071578763287
         ],
         "yaxis": "y"
        },
        {
         "hoverinfo": "text",
         "marker": {
          "color": "rgb(255,65,54)"
         },
         "mode": "lines",
         "type": "scatter",
         "x": [
          4765,
          4765,
          4782.5,
          4782.5
         ],
         "xaxis": "x",
         "y": [
          0,
          0.2682373235210508,
          0.2682373235210508,
          0.11647645486210952
         ],
         "yaxis": "y"
        },
        {
         "hoverinfo": "text",
         "marker": {
          "color": "rgb(255,65,54)"
         },
         "mode": "lines",
         "type": "scatter",
         "x": [
          4750,
          4750,
          4773.75,
          4773.75
         ],
         "xaxis": "x",
         "y": [
          0.08313193438277754,
          0.838460520420428,
          0.838460520420428,
          0.2682373235210508
         ],
         "yaxis": "y"
        },
        {
         "hoverinfo": "text",
         "marker": {
          "color": "rgb(255,65,54)"
         },
         "mode": "lines",
         "type": "scatter",
         "x": [
          4730,
          4730,
          4761.875,
          4761.875
         ],
         "xaxis": "x",
         "y": [
          0.13693366981038552,
          2.8105529325439593,
          2.8105529325439593,
          0.838460520420428
         ],
         "yaxis": "y"
        },
        {
         "hoverinfo": "text",
         "marker": {
          "color": "rgb(255,65,54)"
         },
         "mode": "lines",
         "type": "scatter",
         "x": [
          4805,
          4805,
          4815,
          4815
         ],
         "xaxis": "x",
         "y": [
          0,
          0.004609742822382402,
          0.004609742822382402,
          0
         ],
         "yaxis": "y"
        },
        {
         "hoverinfo": "text",
         "marker": {
          "color": "rgb(255,65,54)"
         },
         "mode": "lines",
         "type": "scatter",
         "x": [
          4825,
          4825,
          4835,
          4835
         ],
         "xaxis": "x",
         "y": [
          0,
          0.1233111856180223,
          0.1233111856180223,
          0
         ],
         "yaxis": "y"
        },
        {
         "hoverinfo": "text",
         "marker": {
          "color": "rgb(255,65,54)"
         },
         "mode": "lines",
         "type": "scatter",
         "x": [
          4810,
          4810,
          4830,
          4830
         ],
         "xaxis": "x",
         "y": [
          0.004609742822382402,
          0.27423279820896446,
          0.27423279820896446,
          0.1233111856180223
         ],
         "yaxis": "y"
        },
        {
         "hoverinfo": "text",
         "marker": {
          "color": "rgb(255,65,54)"
         },
         "mode": "lines",
         "type": "scatter",
         "x": [
          4855,
          4855,
          4865,
          4865
         ],
         "xaxis": "x",
         "y": [
          0,
          0.12092576759463133,
          0.12092576759463133,
          0
         ],
         "yaxis": "y"
        },
        {
         "hoverinfo": "text",
         "marker": {
          "color": "rgb(255,65,54)"
         },
         "mode": "lines",
         "type": "scatter",
         "x": [
          4845,
          4845,
          4860,
          4860
         ],
         "xaxis": "x",
         "y": [
          0,
          0.4845815297794747,
          0.4845815297794747,
          0.12092576759463133
         ],
         "yaxis": "y"
        },
        {
         "hoverinfo": "text",
         "marker": {
          "color": "rgb(255,65,54)"
         },
         "mode": "lines",
         "type": "scatter",
         "x": [
          4820,
          4820,
          4852.5,
          4852.5
         ],
         "xaxis": "x",
         "y": [
          0.27423279820896446,
          0.8174273233976593,
          0.8174273233976593,
          0.4845815297794747
         ],
         "yaxis": "y"
        },
        {
         "hoverinfo": "text",
         "marker": {
          "color": "rgb(255,65,54)"
         },
         "mode": "lines",
         "type": "scatter",
         "x": [
          4885,
          4885,
          4895,
          4895
         ],
         "xaxis": "x",
         "y": [
          0,
          0.036234872657098204,
          0.036234872657098204,
          0
         ],
         "yaxis": "y"
        },
        {
         "hoverinfo": "text",
         "marker": {
          "color": "rgb(255,65,54)"
         },
         "mode": "lines",
         "type": "scatter",
         "x": [
          4875,
          4875,
          4890,
          4890
         ],
         "xaxis": "x",
         "y": [
          0,
          0.1733125056133669,
          0.1733125056133669,
          0.036234872657098204
         ],
         "yaxis": "y"
        },
        {
         "hoverinfo": "text",
         "marker": {
          "color": "rgb(255,65,54)"
         },
         "mode": "lines",
         "type": "scatter",
         "x": [
          4915,
          4915,
          4925,
          4925
         ],
         "xaxis": "x",
         "y": [
          0,
          0.12371562067844126,
          0.12371562067844126,
          0
         ],
         "yaxis": "y"
        },
        {
         "hoverinfo": "text",
         "marker": {
          "color": "rgb(255,65,54)"
         },
         "mode": "lines",
         "type": "scatter",
         "x": [
          4905,
          4905,
          4920,
          4920
         ],
         "xaxis": "x",
         "y": [
          0,
          0.21221868797041094,
          0.21221868797041094,
          0.12371562067844126
         ],
         "yaxis": "y"
        },
        {
         "hoverinfo": "text",
         "marker": {
          "color": "rgb(255,65,54)"
         },
         "mode": "lines",
         "type": "scatter",
         "x": [
          4882.5,
          4882.5,
          4912.5,
          4912.5
         ],
         "xaxis": "x",
         "y": [
          0.1733125056133669,
          0.6581408700451448,
          0.6581408700451448,
          0.21221868797041094
         ],
         "yaxis": "y"
        },
        {
         "hoverinfo": "text",
         "marker": {
          "color": "rgb(255,65,54)"
         },
         "mode": "lines",
         "type": "scatter",
         "x": [
          4935,
          4935,
          4945,
          4945
         ],
         "xaxis": "x",
         "y": [
          0,
          0.18797244069664099,
          0.18797244069664099,
          0
         ],
         "yaxis": "y"
        },
        {
         "hoverinfo": "text",
         "marker": {
          "color": "rgb(255,65,54)"
         },
         "mode": "lines",
         "type": "scatter",
         "x": [
          4975,
          4975,
          4985,
          4985
         ],
         "xaxis": "x",
         "y": [
          0,
          0.000006877043295791605,
          0.000006877043295791605,
          0
         ],
         "yaxis": "y"
        },
        {
         "hoverinfo": "text",
         "marker": {
          "color": "rgb(255,65,54)"
         },
         "mode": "lines",
         "type": "scatter",
         "x": [
          4965,
          4965,
          4980,
          4980
         ],
         "xaxis": "x",
         "y": [
          0,
          0.00028239067876162334,
          0.00028239067876162334,
          0.000006877043295791605
         ],
         "yaxis": "y"
        },
        {
         "hoverinfo": "text",
         "marker": {
          "color": "rgb(255,65,54)"
         },
         "mode": "lines",
         "type": "scatter",
         "x": [
          4955,
          4955,
          4972.5,
          4972.5
         ],
         "xaxis": "x",
         "y": [
          0,
          0.40896493553488017,
          0.40896493553488017,
          0.00028239067876162334
         ],
         "yaxis": "y"
        },
        {
         "hoverinfo": "text",
         "marker": {
          "color": "rgb(255,65,54)"
         },
         "mode": "lines",
         "type": "scatter",
         "x": [
          4940,
          4940,
          4963.75,
          4963.75
         ],
         "xaxis": "x",
         "y": [
          0.18797244069664099,
          0.8812388271844835,
          0.8812388271844835,
          0.40896493553488017
         ],
         "yaxis": "y"
        },
        {
         "hoverinfo": "text",
         "marker": {
          "color": "rgb(255,65,54)"
         },
         "mode": "lines",
         "type": "scatter",
         "x": [
          4897.5,
          4897.5,
          4951.875,
          4951.875
         ],
         "xaxis": "x",
         "y": [
          0.6581408700451448,
          1.331706483342717,
          1.331706483342717,
          0.8812388271844835
         ],
         "yaxis": "y"
        },
        {
         "hoverinfo": "text",
         "marker": {
          "color": "rgb(255,65,54)"
         },
         "mode": "lines",
         "type": "scatter",
         "x": [
          4836.25,
          4836.25,
          4924.6875,
          4924.6875
         ],
         "xaxis": "x",
         "y": [
          0.8174273233976593,
          1.6893153785468904,
          1.6893153785468904,
          1.331706483342717
         ],
         "yaxis": "y"
        },
        {
         "hoverinfo": "text",
         "marker": {
          "color": "rgb(255,65,54)"
         },
         "mode": "lines",
         "type": "scatter",
         "x": [
          5005,
          5005,
          5015,
          5015
         ],
         "xaxis": "x",
         "y": [
          0,
          0.07069717922166749,
          0.07069717922166749,
          0
         ],
         "yaxis": "y"
        },
        {
         "hoverinfo": "text",
         "marker": {
          "color": "rgb(255,65,54)"
         },
         "mode": "lines",
         "type": "scatter",
         "x": [
          4995,
          4995,
          5010,
          5010
         ],
         "xaxis": "x",
         "y": [
          0,
          0.2726110226512973,
          0.2726110226512973,
          0.07069717922166749
         ],
         "yaxis": "y"
        },
        {
         "hoverinfo": "text",
         "marker": {
          "color": "rgb(255,65,54)"
         },
         "mode": "lines",
         "type": "scatter",
         "x": [
          5055,
          5055,
          5065,
          5065
         ],
         "xaxis": "x",
         "y": [
          0,
          0.09668427883008604,
          0.09668427883008604,
          0
         ],
         "yaxis": "y"
        },
        {
         "hoverinfo": "text",
         "marker": {
          "color": "rgb(255,65,54)"
         },
         "mode": "lines",
         "type": "scatter",
         "x": [
          5045,
          5045,
          5060,
          5060
         ],
         "xaxis": "x",
         "y": [
          0,
          0.22751187068483525,
          0.22751187068483525,
          0.09668427883008604
         ],
         "yaxis": "y"
        },
        {
         "hoverinfo": "text",
         "marker": {
          "color": "rgb(255,65,54)"
         },
         "mode": "lines",
         "type": "scatter",
         "x": [
          5035,
          5035,
          5052.5,
          5052.5
         ],
         "xaxis": "x",
         "y": [
          0,
          0.7892977511888281,
          0.7892977511888281,
          0.22751187068483525
         ],
         "yaxis": "y"
        },
        {
         "hoverinfo": "text",
         "marker": {
          "color": "rgb(255,65,54)"
         },
         "mode": "lines",
         "type": "scatter",
         "x": [
          5025,
          5025,
          5043.75,
          5043.75
         ],
         "xaxis": "x",
         "y": [
          0,
          1.2184340651626322,
          1.2184340651626322,
          0.7892977511888281
         ],
         "yaxis": "y"
        },
        {
         "hoverinfo": "text",
         "marker": {
          "color": "rgb(255,65,54)"
         },
         "mode": "lines",
         "type": "scatter",
         "x": [
          5002.5,
          5002.5,
          5034.375,
          5034.375
         ],
         "xaxis": "x",
         "y": [
          0.2726110226512973,
          1.5430212869607156,
          1.5430212869607156,
          1.2184340651626322
         ],
         "yaxis": "y"
        },
        {
         "hoverinfo": "text",
         "marker": {
          "color": "rgb(255,65,54)"
         },
         "mode": "lines",
         "type": "scatter",
         "x": [
          5075,
          5075,
          5085,
          5085
         ],
         "xaxis": "x",
         "y": [
          0,
          0.03408018214079107,
          0.03408018214079107,
          0
         ],
         "yaxis": "y"
        },
        {
         "hoverinfo": "text",
         "marker": {
          "color": "rgb(255,65,54)"
         },
         "mode": "lines",
         "type": "scatter",
         "x": [
          5095,
          5095,
          5105,
          5105
         ],
         "xaxis": "x",
         "y": [
          0,
          0.5838538559982123,
          0.5838538559982123,
          0
         ],
         "yaxis": "y"
        },
        {
         "hoverinfo": "text",
         "marker": {
          "color": "rgb(255,65,54)"
         },
         "mode": "lines",
         "type": "scatter",
         "x": [
          5080,
          5080,
          5100,
          5100
         ],
         "xaxis": "x",
         "y": [
          0.03408018214079107,
          2.5697368275745056,
          2.5697368275745056,
          0.5838538559982123
         ],
         "yaxis": "y"
        },
        {
         "hoverinfo": "text",
         "marker": {
          "color": "rgb(255,65,54)"
         },
         "mode": "lines",
         "type": "scatter",
         "x": [
          5018.4375,
          5018.4375,
          5090,
          5090
         ],
         "xaxis": "x",
         "y": [
          1.5430212869607156,
          2.8453727671600677,
          2.8453727671600677,
          2.5697368275745056
         ],
         "yaxis": "y"
        },
        {
         "hoverinfo": "text",
         "marker": {
          "color": "rgb(255,65,54)"
         },
         "mode": "lines",
         "type": "scatter",
         "x": [
          4880.46875,
          4880.46875,
          5054.21875,
          5054.21875
         ],
         "xaxis": "x",
         "y": [
          1.6893153785468904,
          4.581845192662056,
          4.581845192662056,
          2.8453727671600677
         ],
         "yaxis": "y"
        },
        {
         "hoverinfo": "text",
         "marker": {
          "color": "rgb(255,65,54)"
         },
         "mode": "lines",
         "type": "scatter",
         "x": [
          4745.9375,
          4745.9375,
          4967.34375,
          4967.34375
         ],
         "xaxis": "x",
         "y": [
          2.8105529325439593,
          5.379504599228365,
          5.379504599228365,
          4.581845192662056
         ],
         "yaxis": "y"
        },
        {
         "hoverinfo": "text",
         "marker": {
          "color": "rgb(255,65,54)"
         },
         "mode": "lines",
         "type": "scatter",
         "x": [
          4612.890625,
          4612.890625,
          4856.640625,
          4856.640625
         ],
         "xaxis": "x",
         "y": [
          1.7375837576673632,
          8.16388799028886,
          8.16388799028886,
          5.379504599228365
         ],
         "yaxis": "y"
        },
        {
         "hoverinfo": "text",
         "marker": {
          "color": "rgb(255,65,54)"
         },
         "mode": "lines",
         "type": "scatter",
         "x": [
          4499.0625,
          4499.0625,
          4734.765625,
          4734.765625
         ],
         "xaxis": "x",
         "y": [
          4.6095065726604565,
          9.952105169156201,
          9.952105169156201,
          8.16388799028886
         ],
         "yaxis": "y"
        },
        {
         "hoverinfo": "text",
         "marker": {
          "color": "rgb(255,65,54)"
         },
         "mode": "lines",
         "type": "scatter",
         "x": [
          4310.625,
          4310.625,
          4616.9140625,
          4616.9140625
         ],
         "xaxis": "x",
         "y": [
          7.157729022275967,
          12.118951914564555,
          12.118951914564555,
          9.952105169156201
         ],
         "yaxis": "y"
        },
        {
         "hoverinfo": "text",
         "marker": {
          "color": "rgb(255,65,54)"
         },
         "mode": "lines",
         "type": "scatter",
         "x": [
          5115,
          5115,
          5125,
          5125
         ],
         "xaxis": "x",
         "y": [
          0,
          0.11384650062074485,
          0.11384650062074485,
          0
         ],
         "yaxis": "y"
        },
        {
         "hoverinfo": "text",
         "marker": {
          "color": "rgb(255,65,54)"
         },
         "mode": "lines",
         "type": "scatter",
         "x": [
          5135,
          5135,
          5145,
          5145
         ],
         "xaxis": "x",
         "y": [
          0,
          0.2219202804994144,
          0.2219202804994144,
          0
         ],
         "yaxis": "y"
        },
        {
         "hoverinfo": "text",
         "marker": {
          "color": "rgb(255,65,54)"
         },
         "mode": "lines",
         "type": "scatter",
         "x": [
          5120,
          5120,
          5140,
          5140
         ],
         "xaxis": "x",
         "y": [
          0.11384650062074485,
          0.4427627341556383,
          0.4427627341556383,
          0.2219202804994144
         ],
         "yaxis": "y"
        },
        {
         "hoverinfo": "text",
         "marker": {
          "color": "rgb(255,65,54)"
         },
         "mode": "lines",
         "type": "scatter",
         "x": [
          5165,
          5165,
          5175,
          5175
         ],
         "xaxis": "x",
         "y": [
          0,
          0.013922844204016814,
          0.013922844204016814,
          0
         ],
         "yaxis": "y"
        },
        {
         "hoverinfo": "text",
         "marker": {
          "color": "rgb(255,65,54)"
         },
         "mode": "lines",
         "type": "scatter",
         "x": [
          5155,
          5155,
          5170,
          5170
         ],
         "xaxis": "x",
         "y": [
          0,
          0.03395099785836072,
          0.03395099785836072,
          0.013922844204016814
         ],
         "yaxis": "y"
        },
        {
         "hoverinfo": "text",
         "marker": {
          "color": "rgb(255,65,54)"
         },
         "mode": "lines",
         "type": "scatter",
         "x": [
          5205,
          5205,
          5215,
          5215
         ],
         "xaxis": "x",
         "y": [
          0,
          0.06914652577746012,
          0.06914652577746012,
          0
         ],
         "yaxis": "y"
        },
        {
         "hoverinfo": "text",
         "marker": {
          "color": "rgb(255,65,54)"
         },
         "mode": "lines",
         "type": "scatter",
         "x": [
          5225,
          5225,
          5235,
          5235
         ],
         "xaxis": "x",
         "y": [
          0,
          0.47747144105174455,
          0.47747144105174455,
          0
         ],
         "yaxis": "y"
        },
        {
         "hoverinfo": "text",
         "marker": {
          "color": "rgb(255,65,54)"
         },
         "mode": "lines",
         "type": "scatter",
         "x": [
          5210,
          5210,
          5230,
          5230
         ],
         "xaxis": "x",
         "y": [
          0.06914652577746012,
          0.58314380797087,
          0.58314380797087,
          0.47747144105174455
         ],
         "yaxis": "y"
        },
        {
         "hoverinfo": "text",
         "marker": {
          "color": "rgb(255,65,54)"
         },
         "mode": "lines",
         "type": "scatter",
         "x": [
          5195,
          5195,
          5220,
          5220
         ],
         "xaxis": "x",
         "y": [
          0,
          1.1440843729512555,
          1.1440843729512555,
          0.58314380797087
         ],
         "yaxis": "y"
        },
        {
         "hoverinfo": "text",
         "marker": {
          "color": "rgb(255,65,54)"
         },
         "mode": "lines",
         "type": "scatter",
         "x": [
          5185,
          5185,
          5207.5,
          5207.5
         ],
         "xaxis": "x",
         "y": [
          0,
          1.6355633057003534,
          1.6355633057003534,
          1.1440843729512555
         ],
         "yaxis": "y"
        },
        {
         "hoverinfo": "text",
         "marker": {
          "color": "rgb(255,65,54)"
         },
         "mode": "lines",
         "type": "scatter",
         "x": [
          5162.5,
          5162.5,
          5196.25,
          5196.25
         ],
         "xaxis": "x",
         "y": [
          0.03395099785836072,
          2.025378290889545,
          2.025378290889545,
          1.6355633057003534
         ],
         "yaxis": "y"
        },
        {
         "hoverinfo": "text",
         "marker": {
          "color": "rgb(255,65,54)"
         },
         "mode": "lines",
         "type": "scatter",
         "x": [
          5130,
          5130,
          5179.375,
          5179.375
         ],
         "xaxis": "x",
         "y": [
          0.4427627341556383,
          3.920498475136906,
          3.920498475136906,
          2.025378290889545
         ],
         "yaxis": "y"
        },
        {
         "hoverinfo": "text",
         "marker": {
          "color": "rgb(255,65,54)"
         },
         "mode": "lines",
         "type": "scatter",
         "x": [
          5245,
          5245,
          5255,
          5255
         ],
         "xaxis": "x",
         "y": [
          0,
          0.0026931291594991255,
          0.0026931291594991255,
          0
         ],
         "yaxis": "y"
        },
        {
         "hoverinfo": "text",
         "marker": {
          "color": "rgb(255,65,54)"
         },
         "mode": "lines",
         "type": "scatter",
         "x": [
          5265,
          5265,
          5275,
          5275
         ],
         "xaxis": "x",
         "y": [
          0,
          0.046316610803767574,
          0.046316610803767574,
          0
         ],
         "yaxis": "y"
        },
        {
         "hoverinfo": "text",
         "marker": {
          "color": "rgb(255,65,54)"
         },
         "mode": "lines",
         "type": "scatter",
         "x": [
          5250,
          5250,
          5270,
          5270
         ],
         "xaxis": "x",
         "y": [
          0.0026931291594991255,
          0.0976236900109778,
          0.0976236900109778,
          0.046316610803767574
         ],
         "yaxis": "y"
        },
        {
         "hoverinfo": "text",
         "marker": {
          "color": "rgb(255,65,54)"
         },
         "mode": "lines",
         "type": "scatter",
         "x": [
          5315,
          5315,
          5325,
          5325
         ],
         "xaxis": "x",
         "y": [
          0,
          0.005308583002490974,
          0.005308583002490974,
          0
         ],
         "yaxis": "y"
        },
        {
         "hoverinfo": "text",
         "marker": {
          "color": "rgb(255,65,54)"
         },
         "mode": "lines",
         "type": "scatter",
         "x": [
          5305,
          5305,
          5320,
          5320
         ],
         "xaxis": "x",
         "y": [
          0,
          0.02562362174647226,
          0.02562362174647226,
          0.005308583002490974
         ],
         "yaxis": "y"
        },
        {
         "hoverinfo": "text",
         "marker": {
          "color": "rgb(255,65,54)"
         },
         "mode": "lines",
         "type": "scatter",
         "x": [
          5295,
          5295,
          5312.5,
          5312.5
         ],
         "xaxis": "x",
         "y": [
          0,
          0.15541309516524185,
          0.15541309516524185,
          0.02562362174647226
         ],
         "yaxis": "y"
        },
        {
         "hoverinfo": "text",
         "marker": {
          "color": "rgb(255,65,54)"
         },
         "mode": "lines",
         "type": "scatter",
         "x": [
          5285,
          5285,
          5303.75,
          5303.75
         ],
         "xaxis": "x",
         "y": [
          0,
          0.7962937795862354,
          0.7962937795862354,
          0.15541309516524185
         ],
         "yaxis": "y"
        },
        {
         "hoverinfo": "text",
         "marker": {
          "color": "rgb(255,65,54)"
         },
         "mode": "lines",
         "type": "scatter",
         "x": [
          5260,
          5260,
          5294.375,
          5294.375
         ],
         "xaxis": "x",
         "y": [
          0.0976236900109778,
          3.288783921970886,
          3.288783921970886,
          0.7962937795862354
         ],
         "yaxis": "y"
        },
        {
         "hoverinfo": "text",
         "marker": {
          "color": "rgb(255,65,54)"
         },
         "mode": "lines",
         "type": "scatter",
         "x": [
          5345,
          5345,
          5355,
          5355
         ],
         "xaxis": "x",
         "y": [
          0,
          0.0913312494099571,
          0.0913312494099571,
          0
         ],
         "yaxis": "y"
        },
        {
         "hoverinfo": "text",
         "marker": {
          "color": "rgb(255,65,54)"
         },
         "mode": "lines",
         "type": "scatter",
         "x": [
          5335,
          5335,
          5350,
          5350
         ],
         "xaxis": "x",
         "y": [
          0,
          1.2641959937491047,
          1.2641959937491047,
          0.0913312494099571
         ],
         "yaxis": "y"
        },
        {
         "hoverinfo": "text",
         "marker": {
          "color": "rgb(255,65,54)"
         },
         "mode": "lines",
         "type": "scatter",
         "x": [
          5395,
          5395,
          5405,
          5405
         ],
         "xaxis": "x",
         "y": [
          0,
          0.12140961576623065,
          0.12140961576623065,
          0
         ],
         "yaxis": "y"
        },
        {
         "hoverinfo": "text",
         "marker": {
          "color": "rgb(255,65,54)"
         },
         "mode": "lines",
         "type": "scatter",
         "x": [
          5385,
          5385,
          5400,
          5400
         ],
         "xaxis": "x",
         "y": [
          0,
          0.1608686659494562,
          0.1608686659494562,
          0.12140961576623065
         ],
         "yaxis": "y"
        },
        {
         "hoverinfo": "text",
         "marker": {
          "color": "rgb(255,65,54)"
         },
         "mode": "lines",
         "type": "scatter",
         "x": [
          5375,
          5375,
          5392.5,
          5392.5
         ],
         "xaxis": "x",
         "y": [
          0,
          0.33810937679693875,
          0.33810937679693875,
          0.1608686659494562
         ],
         "yaxis": "y"
        },
        {
         "hoverinfo": "text",
         "marker": {
          "color": "rgb(255,65,54)"
         },
         "mode": "lines",
         "type": "scatter",
         "x": [
          5365,
          5365,
          5383.75,
          5383.75
         ],
         "xaxis": "x",
         "y": [
          0,
          0.6282397707813823,
          0.6282397707813823,
          0.33810937679693875
         ],
         "yaxis": "y"
        },
        {
         "hoverinfo": "text",
         "marker": {
          "color": "rgb(255,65,54)"
         },
         "mode": "lines",
         "type": "scatter",
         "x": [
          5445,
          5445,
          5455,
          5455
         ],
         "xaxis": "x",
         "y": [
          0,
          0.03231760023615043,
          0.03231760023615043,
          0
         ],
         "yaxis": "y"
        },
        {
         "hoverinfo": "text",
         "marker": {
          "color": "rgb(255,65,54)"
         },
         "mode": "lines",
         "type": "scatter",
         "x": [
          5435,
          5435,
          5450,
          5450
         ],
         "xaxis": "x",
         "y": [
          0,
          0.06338029371344474,
          0.06338029371344474,
          0.03231760023615043
         ],
         "yaxis": "y"
        },
        {
         "hoverinfo": "text",
         "marker": {
          "color": "rgb(255,65,54)"
         },
         "mode": "lines",
         "type": "scatter",
         "x": [
          5425,
          5425,
          5442.5,
          5442.5
         ],
         "xaxis": "x",
         "y": [
          0,
          0.2350928140361747,
          0.2350928140361747,
          0.06338029371344474
         ],
         "yaxis": "y"
        },
        {
         "hoverinfo": "text",
         "marker": {
          "color": "rgb(255,65,54)"
         },
         "mode": "lines",
         "type": "scatter",
         "x": [
          5415,
          5415,
          5433.75,
          5433.75
         ],
         "xaxis": "x",
         "y": [
          0,
          0.3606276369654283,
          0.3606276369654283,
          0.2350928140361747
         ],
         "yaxis": "y"
        },
        {
         "hoverinfo": "text",
         "marker": {
          "color": "rgb(255,65,54)"
         },
         "mode": "lines",
         "type": "scatter",
         "x": [
          5485,
          5485,
          5495,
          5495
         ],
         "xaxis": "x",
         "y": [
          0,
          0.19379598652415486,
          0.19379598652415486,
          0
         ],
         "yaxis": "y"
        },
        {
         "hoverinfo": "text",
         "marker": {
          "color": "rgb(255,65,54)"
         },
         "mode": "lines",
         "type": "scatter",
         "x": [
          5475,
          5475,
          5490,
          5490
         ],
         "xaxis": "x",
         "y": [
          0,
          0.42405114047157294,
          0.42405114047157294,
          0.19379598652415486
         ],
         "yaxis": "y"
        },
        {
         "hoverinfo": "text",
         "marker": {
          "color": "rgb(255,65,54)"
         },
         "mode": "lines",
         "type": "scatter",
         "x": [
          5465,
          5465,
          5482.5,
          5482.5
         ],
         "xaxis": "x",
         "y": [
          0,
          0.6939137557151362,
          0.6939137557151362,
          0.42405114047157294
         ],
         "yaxis": "y"
        },
        {
         "hoverinfo": "text",
         "marker": {
          "color": "rgb(255,65,54)"
         },
         "mode": "lines",
         "type": "scatter",
         "x": [
          5424.375,
          5424.375,
          5473.75,
          5473.75
         ],
         "xaxis": "x",
         "y": [
          0.3606276369654283,
          0.9489306296838689,
          0.9489306296838689,
          0.6939137557151362
         ],
         "yaxis": "y"
        },
        {
         "hoverinfo": "text",
         "marker": {
          "color": "rgb(255,65,54)"
         },
         "mode": "lines",
         "type": "scatter",
         "x": [
          5374.375,
          5374.375,
          5449.0625,
          5449.0625
         ],
         "xaxis": "x",
         "y": [
          0.6282397707813823,
          1.787045557112775,
          1.787045557112775,
          0.9489306296838689
         ],
         "yaxis": "y"
        },
        {
         "hoverinfo": "text",
         "marker": {
          "color": "rgb(255,65,54)"
         },
         "mode": "lines",
         "type": "scatter",
         "x": [
          5342.5,
          5342.5,
          5411.71875,
          5411.71875
         ],
         "xaxis": "x",
         "y": [
          1.2641959937491047,
          2.36366760534423,
          2.36366760534423,
          1.787045557112775
         ],
         "yaxis": "y"
        },
        {
         "hoverinfo": "text",
         "marker": {
          "color": "rgb(255,65,54)"
         },
         "mode": "lines",
         "type": "scatter",
         "x": [
          5505,
          5505,
          5515,
          5515
         ],
         "xaxis": "x",
         "y": [
          0,
          0.07990567971867277,
          0.07990567971867277,
          0
         ],
         "yaxis": "y"
        },
        {
         "hoverinfo": "text",
         "marker": {
          "color": "rgb(255,65,54)"
         },
         "mode": "lines",
         "type": "scatter",
         "x": [
          5525,
          5525,
          5535,
          5535
         ],
         "xaxis": "x",
         "y": [
          0,
          0.1431026701625149,
          0.1431026701625149,
          0
         ],
         "yaxis": "y"
        },
        {
         "hoverinfo": "text",
         "marker": {
          "color": "rgb(255,65,54)"
         },
         "mode": "lines",
         "type": "scatter",
         "x": [
          5555,
          5555,
          5565,
          5565
         ],
         "xaxis": "x",
         "y": [
          0,
          0.07624994555484615,
          0.07624994555484615,
          0
         ],
         "yaxis": "y"
        },
        {
         "hoverinfo": "text",
         "marker": {
          "color": "rgb(255,65,54)"
         },
         "mode": "lines",
         "type": "scatter",
         "x": [
          5545,
          5545,
          5560,
          5560
         ],
         "xaxis": "x",
         "y": [
          0,
          0.22901184097491384,
          0.22901184097491384,
          0.07624994555484615
         ],
         "yaxis": "y"
        },
        {
         "hoverinfo": "text",
         "marker": {
          "color": "rgb(255,65,54)"
         },
         "mode": "lines",
         "type": "scatter",
         "x": [
          5530,
          5530,
          5552.5,
          5552.5
         ],
         "xaxis": "x",
         "y": [
          0.1431026701625149,
          1.9207310283405252,
          1.9207310283405252,
          0.22901184097491384
         ],
         "yaxis": "y"
        },
        {
         "hoverinfo": "text",
         "marker": {
          "color": "rgb(255,65,54)"
         },
         "mode": "lines",
         "type": "scatter",
         "x": [
          5510,
          5510,
          5541.25,
          5541.25
         ],
         "xaxis": "x",
         "y": [
          0.07990567971867277,
          3.1450560335080007,
          3.1450560335080007,
          1.9207310283405252
         ],
         "yaxis": "y"
        },
        {
         "hoverinfo": "text",
         "marker": {
          "color": "rgb(255,65,54)"
         },
         "mode": "lines",
         "type": "scatter",
         "x": [
          5377.109375,
          5377.109375,
          5525.625,
          5525.625
         ],
         "xaxis": "x",
         "y": [
          2.36366760534423,
          3.643193167007058,
          3.643193167007058,
          3.1450560335080007
         ],
         "yaxis": "y"
        },
        {
         "hoverinfo": "text",
         "marker": {
          "color": "rgb(255,65,54)"
         },
         "mode": "lines",
         "type": "scatter",
         "x": [
          5277.1875,
          5277.1875,
          5451.3671875,
          5451.3671875
         ],
         "xaxis": "x",
         "y": [
          3.288783921970886,
          5.821510916948233,
          5.821510916948233,
          3.643193167007058
         ],
         "yaxis": "y"
        },
        {
         "hoverinfo": "text",
         "marker": {
          "color": "rgb(255,65,54)"
         },
         "mode": "lines",
         "type": "scatter",
         "x": [
          5154.6875,
          5154.6875,
          5364.27734375,
          5364.27734375
         ],
         "xaxis": "x",
         "y": [
          3.920498475136906,
          6.71138562277731,
          6.71138562277731,
          5.821510916948233
         ],
         "yaxis": "y"
        },
        {
         "hoverinfo": "text",
         "marker": {
          "color": "rgb(255,65,54)"
         },
         "mode": "lines",
         "type": "scatter",
         "x": [
          5585,
          5585,
          5595,
          5595
         ],
         "xaxis": "x",
         "y": [
          0,
          0.01298117728496682,
          0.01298117728496682,
          0
         ],
         "yaxis": "y"
        },
        {
         "hoverinfo": "text",
         "marker": {
          "color": "rgb(255,65,54)"
         },
         "mode": "lines",
         "type": "scatter",
         "x": [
          5575,
          5575,
          5590,
          5590
         ],
         "xaxis": "x",
         "y": [
          0,
          0.016054261306811854,
          0.016054261306811854,
          0.01298117728496682
         ],
         "yaxis": "y"
        },
        {
         "hoverinfo": "text",
         "marker": {
          "color": "rgb(255,65,54)"
         },
         "mode": "lines",
         "type": "scatter",
         "x": [
          5605,
          5605,
          5615,
          5615
         ],
         "xaxis": "x",
         "y": [
          0,
          0.017988922902457523,
          0.017988922902457523,
          0
         ],
         "yaxis": "y"
        },
        {
         "hoverinfo": "text",
         "marker": {
          "color": "rgb(255,65,54)"
         },
         "mode": "lines",
         "type": "scatter",
         "x": [
          5625,
          5625,
          5635,
          5635
         ],
         "xaxis": "x",
         "y": [
          0,
          0.028085524229730006,
          0.028085524229730006,
          0
         ],
         "yaxis": "y"
        },
        {
         "hoverinfo": "text",
         "marker": {
          "color": "rgb(255,65,54)"
         },
         "mode": "lines",
         "type": "scatter",
         "x": [
          5645,
          5645,
          5655,
          5655
         ],
         "xaxis": "x",
         "y": [
          0,
          0.030700314410077357,
          0.030700314410077357,
          0
         ],
         "yaxis": "y"
        },
        {
         "hoverinfo": "text",
         "marker": {
          "color": "rgb(255,65,54)"
         },
         "mode": "lines",
         "type": "scatter",
         "x": [
          5630,
          5630,
          5650,
          5650
         ],
         "xaxis": "x",
         "y": [
          0.028085524229730006,
          1.3613315021785755,
          1.3613315021785755,
          0.030700314410077357
         ],
         "yaxis": "y"
        },
        {
         "hoverinfo": "text",
         "marker": {
          "color": "rgb(255,65,54)"
         },
         "mode": "lines",
         "type": "scatter",
         "x": [
          5610,
          5610,
          5640,
          5640
         ],
         "xaxis": "x",
         "y": [
          0.017988922902457523,
          2.2843608968086384,
          2.2843608968086384,
          1.3613315021785755
         ],
         "yaxis": "y"
        },
        {
         "hoverinfo": "text",
         "marker": {
          "color": "rgb(255,65,54)"
         },
         "mode": "lines",
         "type": "scatter",
         "x": [
          5582.5,
          5582.5,
          5625,
          5625
         ],
         "xaxis": "x",
         "y": [
          0.016054261306811854,
          2.928001337113589,
          2.928001337113589,
          2.2843608968086384
         ],
         "yaxis": "y"
        },
        {
         "hoverinfo": "text",
         "marker": {
          "color": "rgb(255,65,54)"
         },
         "mode": "lines",
         "type": "scatter",
         "x": [
          5675,
          5675,
          5685,
          5685
         ],
         "xaxis": "x",
         "y": [
          0,
          0.013371943670821757,
          0.013371943670821757,
          0
         ],
         "yaxis": "y"
        },
        {
         "hoverinfo": "text",
         "marker": {
          "color": "rgb(255,65,54)"
         },
         "mode": "lines",
         "type": "scatter",
         "x": [
          5705,
          5705,
          5715,
          5715
         ],
         "xaxis": "x",
         "y": [
          0,
          0.00759054329255433,
          0.00759054329255433,
          0
         ],
         "yaxis": "y"
        },
        {
         "hoverinfo": "text",
         "marker": {
          "color": "rgb(255,65,54)"
         },
         "mode": "lines",
         "type": "scatter",
         "x": [
          5695,
          5695,
          5710,
          5710
         ],
         "xaxis": "x",
         "y": [
          0,
          0.022577880908894826,
          0.022577880908894826,
          0.00759054329255433
         ],
         "yaxis": "y"
        },
        {
         "hoverinfo": "text",
         "marker": {
          "color": "rgb(255,65,54)"
         },
         "mode": "lines",
         "type": "scatter",
         "x": [
          5680,
          5680,
          5702.5,
          5702.5
         ],
         "xaxis": "x",
         "y": [
          0.013371943670821757,
          0.06109076270628204,
          0.06109076270628204,
          0.022577880908894826
         ],
         "yaxis": "y"
        },
        {
         "hoverinfo": "text",
         "marker": {
          "color": "rgb(255,65,54)"
         },
         "mode": "lines",
         "type": "scatter",
         "x": [
          5665,
          5665,
          5691.25,
          5691.25
         ],
         "xaxis": "x",
         "y": [
          0,
          0.21697091021480716,
          0.21697091021480716,
          0.06109076270628204
         ],
         "yaxis": "y"
        },
        {
         "hoverinfo": "text",
         "marker": {
          "color": "rgb(255,65,54)"
         },
         "mode": "lines",
         "type": "scatter",
         "x": [
          5735,
          5735,
          5745,
          5745
         ],
         "xaxis": "x",
         "y": [
          0,
          0.000019451215795870913,
          0.000019451215795870913,
          0
         ],
         "yaxis": "y"
        },
        {
         "hoverinfo": "text",
         "marker": {
          "color": "rgb(255,65,54)"
         },
         "mode": "lines",
         "type": "scatter",
         "x": [
          5775,
          5775,
          5785,
          5785
         ],
         "xaxis": "x",
         "y": [
          0,
          0.02227498037886248,
          0.02227498037886248,
          0
         ],
         "yaxis": "y"
        },
        {
         "hoverinfo": "text",
         "marker": {
          "color": "rgb(255,65,54)"
         },
         "mode": "lines",
         "type": "scatter",
         "x": [
          5765,
          5765,
          5780,
          5780
         ],
         "xaxis": "x",
         "y": [
          0,
          0.04979083652424764,
          0.04979083652424764,
          0.02227498037886248
         ],
         "yaxis": "y"
        },
        {
         "hoverinfo": "text",
         "marker": {
          "color": "rgb(255,65,54)"
         },
         "mode": "lines",
         "type": "scatter",
         "x": [
          5755,
          5755,
          5772.5,
          5772.5
         ],
         "xaxis": "x",
         "y": [
          0,
          0.12929015202059407,
          0.12929015202059407,
          0.04979083652424764
         ],
         "yaxis": "y"
        },
        {
         "hoverinfo": "text",
         "marker": {
          "color": "rgb(255,65,54)"
         },
         "mode": "lines",
         "type": "scatter",
         "x": [
          5740,
          5740,
          5763.75,
          5763.75
         ],
         "xaxis": "x",
         "y": [
          0.000019451215795870913,
          0.3648097630852231,
          0.3648097630852231,
          0.12929015202059407
         ],
         "yaxis": "y"
        },
        {
         "hoverinfo": "text",
         "marker": {
          "color": "rgb(255,65,54)"
         },
         "mode": "lines",
         "type": "scatter",
         "x": [
          5725,
          5725,
          5751.875,
          5751.875
         ],
         "xaxis": "x",
         "y": [
          0,
          0.5305192386109782,
          0.5305192386109782,
          0.3648097630852231
         ],
         "yaxis": "y"
        },
        {
         "hoverinfo": "text",
         "marker": {
          "color": "rgb(255,65,54)"
         },
         "mode": "lines",
         "type": "scatter",
         "x": [
          5815,
          5815,
          5825,
          5825
         ],
         "xaxis": "x",
         "y": [
          0,
          0.01629487856215531,
          0.01629487856215531,
          0
         ],
         "yaxis": "y"
        },
        {
         "hoverinfo": "text",
         "marker": {
          "color": "rgb(255,65,54)"
         },
         "mode": "lines",
         "type": "scatter",
         "x": [
          5805,
          5805,
          5820,
          5820
         ],
         "xaxis": "x",
         "y": [
          0,
          0.2471219065819197,
          0.2471219065819197,
          0.01629487856215531
         ],
         "yaxis": "y"
        },
        {
         "hoverinfo": "text",
         "marker": {
          "color": "rgb(255,65,54)"
         },
         "mode": "lines",
         "type": "scatter",
         "x": [
          5795,
          5795,
          5812.5,
          5812.5
         ],
         "xaxis": "x",
         "y": [
          0,
          0.7404642461523772,
          0.7404642461523772,
          0.2471219065819197
         ],
         "yaxis": "y"
        },
        {
         "hoverinfo": "text",
         "marker": {
          "color": "rgb(255,65,54)"
         },
         "mode": "lines",
         "type": "scatter",
         "x": [
          5738.4375,
          5738.4375,
          5803.75,
          5803.75
         ],
         "xaxis": "x",
         "y": [
          0.5305192386109782,
          2.79193210812165,
          2.79193210812165,
          0.7404642461523772
         ],
         "yaxis": "y"
        },
        {
         "hoverinfo": "text",
         "marker": {
          "color": "rgb(255,65,54)"
         },
         "mode": "lines",
         "type": "scatter",
         "x": [
          5678.125,
          5678.125,
          5771.09375,
          5771.09375
         ],
         "xaxis": "x",
         "y": [
          0.21697091021480716,
          3.0825237047584064,
          3.0825237047584064,
          2.79193210812165
         ],
         "yaxis": "y"
        },
        {
         "hoverinfo": "text",
         "marker": {
          "color": "rgb(255,65,54)"
         },
         "mode": "lines",
         "type": "scatter",
         "x": [
          5603.75,
          5603.75,
          5724.609375,
          5724.609375
         ],
         "xaxis": "x",
         "y": [
          2.928001337113589,
          6.680871256078564,
          6.680871256078564,
          3.0825237047584064
         ],
         "yaxis": "y"
        },
        {
         "hoverinfo": "text",
         "marker": {
          "color": "rgb(255,65,54)"
         },
         "mode": "lines",
         "type": "scatter",
         "x": [
          5845,
          5845,
          5855,
          5855
         ],
         "xaxis": "x",
         "y": [
          0,
          0.00976912633146778,
          0.00976912633146778,
          0
         ],
         "yaxis": "y"
        },
        {
         "hoverinfo": "text",
         "marker": {
          "color": "rgb(255,65,54)"
         },
         "mode": "lines",
         "type": "scatter",
         "x": [
          5875,
          5875,
          5885,
          5885
         ],
         "xaxis": "x",
         "y": [
          0,
          0.007327931426736607,
          0.007327931426736607,
          0
         ],
         "yaxis": "y"
        },
        {
         "hoverinfo": "text",
         "marker": {
          "color": "rgb(255,65,54)"
         },
         "mode": "lines",
         "type": "scatter",
         "x": [
          5865,
          5865,
          5880,
          5880
         ],
         "xaxis": "x",
         "y": [
          0,
          0.017103571359601416,
          0.017103571359601416,
          0.007327931426736607
         ],
         "yaxis": "y"
        },
        {
         "hoverinfo": "text",
         "marker": {
          "color": "rgb(255,65,54)"
         },
         "mode": "lines",
         "type": "scatter",
         "x": [
          5850,
          5850,
          5872.5,
          5872.5
         ],
         "xaxis": "x",
         "y": [
          0.00976912633146778,
          0.030520282208327913,
          0.030520282208327913,
          0.017103571359601416
         ],
         "yaxis": "y"
        },
        {
         "hoverinfo": "text",
         "marker": {
          "color": "rgb(255,65,54)"
         },
         "mode": "lines",
         "type": "scatter",
         "x": [
          5835,
          5835,
          5861.25,
          5861.25
         ],
         "xaxis": "x",
         "y": [
          0,
          0.05805775003780883,
          0.05805775003780883,
          0.030520282208327913
         ],
         "yaxis": "y"
        },
        {
         "hoverinfo": "text",
         "marker": {
          "color": "rgb(255,65,54)"
         },
         "mode": "lines",
         "type": "scatter",
         "x": [
          5895,
          5895,
          5905,
          5905
         ],
         "xaxis": "x",
         "y": [
          0,
          0.021537315595544573,
          0.021537315595544573,
          0
         ],
         "yaxis": "y"
        },
        {
         "hoverinfo": "text",
         "marker": {
          "color": "rgb(255,65,54)"
         },
         "mode": "lines",
         "type": "scatter",
         "x": [
          5915,
          5915,
          5925,
          5925
         ],
         "xaxis": "x",
         "y": [
          0,
          0.0377831044745624,
          0.0377831044745624,
          0
         ],
         "yaxis": "y"
        },
        {
         "hoverinfo": "text",
         "marker": {
          "color": "rgb(255,65,54)"
         },
         "mode": "lines",
         "type": "scatter",
         "x": [
          5900,
          5900,
          5920,
          5920
         ],
         "xaxis": "x",
         "y": [
          0.021537315595544573,
          0.0919040577083124,
          0.0919040577083124,
          0.0377831044745624
         ],
         "yaxis": "y"
        },
        {
         "hoverinfo": "text",
         "marker": {
          "color": "rgb(255,65,54)"
         },
         "mode": "lines",
         "type": "scatter",
         "x": [
          5848.125,
          5848.125,
          5910,
          5910
         ],
         "xaxis": "x",
         "y": [
          0.05805775003780883,
          3.8296389707058105,
          3.8296389707058105,
          0.0919040577083124
         ],
         "yaxis": "y"
        },
        {
         "hoverinfo": "text",
         "marker": {
          "color": "rgb(255,65,54)"
         },
         "mode": "lines",
         "type": "scatter",
         "x": [
          5935,
          5935,
          5945,
          5945
         ],
         "xaxis": "x",
         "y": [
          0,
          0.029907532749384645,
          0.029907532749384645,
          0
         ],
         "yaxis": "y"
        },
        {
         "hoverinfo": "text",
         "marker": {
          "color": "rgb(255,65,54)"
         },
         "mode": "lines",
         "type": "scatter",
         "x": [
          5955,
          5955,
          5965,
          5965
         ],
         "xaxis": "x",
         "y": [
          0,
          0.07057254768408908,
          0.07057254768408908,
          0
         ],
         "yaxis": "y"
        },
        {
         "hoverinfo": "text",
         "marker": {
          "color": "rgb(255,65,54)"
         },
         "mode": "lines",
         "type": "scatter",
         "x": [
          5940,
          5940,
          5960,
          5960
         ],
         "xaxis": "x",
         "y": [
          0.029907532749384645,
          1.459399040888587,
          1.459399040888587,
          0.07057254768408908
         ],
         "yaxis": "y"
        },
        {
         "hoverinfo": "text",
         "marker": {
          "color": "rgb(255,65,54)"
         },
         "mode": "lines",
         "type": "scatter",
         "x": [
          6005,
          6005,
          6015,
          6015
         ],
         "xaxis": "x",
         "y": [
          0,
          0.02159491740973455,
          0.02159491740973455,
          0
         ],
         "yaxis": "y"
        },
        {
         "hoverinfo": "text",
         "marker": {
          "color": "rgb(255,65,54)"
         },
         "mode": "lines",
         "type": "scatter",
         "x": [
          5995,
          5995,
          6010,
          6010
         ],
         "xaxis": "x",
         "y": [
          0,
          0.046297156382921506,
          0.046297156382921506,
          0.02159491740973455
         ],
         "yaxis": "y"
        },
        {
         "hoverinfo": "text",
         "marker": {
          "color": "rgb(255,65,54)"
         },
         "mode": "lines",
         "type": "scatter",
         "x": [
          5985,
          5985,
          6002.5,
          6002.5
         ],
         "xaxis": "x",
         "y": [
          0,
          0.3514139247239499,
          0.3514139247239499,
          0.046297156382921506
         ],
         "yaxis": "y"
        },
        {
         "hoverinfo": "text",
         "marker": {
          "color": "rgb(255,65,54)"
         },
         "mode": "lines",
         "type": "scatter",
         "x": [
          5975,
          5975,
          5993.75,
          5993.75
         ],
         "xaxis": "x",
         "y": [
          0,
          0.7906749047467595,
          0.7906749047467595,
          0.3514139247239499
         ],
         "yaxis": "y"
        },
        {
         "hoverinfo": "text",
         "marker": {
          "color": "rgb(255,65,54)"
         },
         "mode": "lines",
         "type": "scatter",
         "x": [
          6025,
          6025,
          6035,
          6035
         ],
         "xaxis": "x",
         "y": [
          0,
          0.1199978723889111,
          0.1199978723889111,
          0
         ],
         "yaxis": "y"
        },
        {
         "hoverinfo": "text",
         "marker": {
          "color": "rgb(255,65,54)"
         },
         "mode": "lines",
         "type": "scatter",
         "x": [
          6045,
          6045,
          6055,
          6055
         ],
         "xaxis": "x",
         "y": [
          0,
          0.28061307079921044,
          0.28061307079921044,
          0
         ],
         "yaxis": "y"
        },
        {
         "hoverinfo": "text",
         "marker": {
          "color": "rgb(255,65,54)"
         },
         "mode": "lines",
         "type": "scatter",
         "x": [
          6030,
          6030,
          6050,
          6050
         ],
         "xaxis": "x",
         "y": [
          0.1199978723889111,
          0.5264237544277857,
          0.5264237544277857,
          0.28061307079921044
         ],
         "yaxis": "y"
        },
        {
         "hoverinfo": "text",
         "marker": {
          "color": "rgb(255,65,54)"
         },
         "mode": "lines",
         "type": "scatter",
         "x": [
          6095,
          6095,
          6105,
          6105
         ],
         "xaxis": "x",
         "y": [
          0,
          0.004574242068291796,
          0.004574242068291796,
          0
         ],
         "yaxis": "y"
        },
        {
         "hoverinfo": "text",
         "marker": {
          "color": "rgb(255,65,54)"
         },
         "mode": "lines",
         "type": "scatter",
         "x": [
          6085,
          6085,
          6100,
          6100
         ],
         "xaxis": "x",
         "y": [
          0,
          0.07208172854778681,
          0.07208172854778681,
          0.004574242068291796
         ],
         "yaxis": "y"
        },
        {
         "hoverinfo": "text",
         "marker": {
          "color": "rgb(255,65,54)"
         },
         "mode": "lines",
         "type": "scatter",
         "x": [
          6075,
          6075,
          6092.5,
          6092.5
         ],
         "xaxis": "x",
         "y": [
          0,
          0.21615660249406118,
          0.21615660249406118,
          0.07208172854778681
         ],
         "yaxis": "y"
        },
        {
         "hoverinfo": "text",
         "marker": {
          "color": "rgb(255,65,54)"
         },
         "mode": "lines",
         "type": "scatter",
         "x": [
          6065,
          6065,
          6083.75,
          6083.75
         ],
         "xaxis": "x",
         "y": [
          0,
          0.6305389143170455,
          0.6305389143170455,
          0.21615660249406118
         ],
         "yaxis": "y"
        },
        {
         "hoverinfo": "text",
         "marker": {
          "color": "rgb(255,65,54)"
         },
         "mode": "lines",
         "type": "scatter",
         "x": [
          6040,
          6040,
          6074.375,
          6074.375
         ],
         "xaxis": "x",
         "y": [
          0.5264237544277857,
          0.9339847892373879,
          0.9339847892373879,
          0.6305389143170455
         ],
         "yaxis": "y"
        },
        {
         "hoverinfo": "text",
         "marker": {
          "color": "rgb(255,65,54)"
         },
         "mode": "lines",
         "type": "scatter",
         "x": [
          5984.375,
          5984.375,
          6057.1875,
          6057.1875
         ],
         "xaxis": "x",
         "y": [
          0.7906749047467595,
          1.927532016938554,
          1.927532016938554,
          0.9339847892373879
         ],
         "yaxis": "y"
        },
        {
         "hoverinfo": "text",
         "marker": {
          "color": "rgb(255,65,54)"
         },
         "mode": "lines",
         "type": "scatter",
         "x": [
          5950,
          5950,
          6020.78125,
          6020.78125
         ],
         "xaxis": "x",
         "y": [
          1.459399040888587,
          2.6055403830631354,
          2.6055403830631354,
          1.927532016938554
         ],
         "yaxis": "y"
        },
        {
         "hoverinfo": "text",
         "marker": {
          "color": "rgb(255,65,54)"
         },
         "mode": "lines",
         "type": "scatter",
         "x": [
          6135,
          6135,
          6145,
          6145
         ],
         "xaxis": "x",
         "y": [
          0,
          0.026689347039098945,
          0.026689347039098945,
          0
         ],
         "yaxis": "y"
        },
        {
         "hoverinfo": "text",
         "marker": {
          "color": "rgb(255,65,54)"
         },
         "mode": "lines",
         "type": "scatter",
         "x": [
          6125,
          6125,
          6140,
          6140
         ],
         "xaxis": "x",
         "y": [
          0,
          0.06775509779806595,
          0.06775509779806595,
          0.026689347039098945
         ],
         "yaxis": "y"
        },
        {
         "hoverinfo": "text",
         "marker": {
          "color": "rgb(255,65,54)"
         },
         "mode": "lines",
         "type": "scatter",
         "x": [
          6155,
          6155,
          6165,
          6165
         ],
         "xaxis": "x",
         "y": [
          0,
          0.1287609753167172,
          0.1287609753167172,
          0
         ],
         "yaxis": "y"
        },
        {
         "hoverinfo": "text",
         "marker": {
          "color": "rgb(255,65,54)"
         },
         "mode": "lines",
         "type": "scatter",
         "x": [
          6132.5,
          6132.5,
          6160,
          6160
         ],
         "xaxis": "x",
         "y": [
          0.06775509779806595,
          0.2760514369712509,
          0.2760514369712509,
          0.1287609753167172
         ],
         "yaxis": "y"
        },
        {
         "hoverinfo": "text",
         "marker": {
          "color": "rgb(255,65,54)"
         },
         "mode": "lines",
         "type": "scatter",
         "x": [
          6115,
          6115,
          6146.25,
          6146.25
         ],
         "xaxis": "x",
         "y": [
          0,
          0.8748856908403411,
          0.8748856908403411,
          0.2760514369712509
         ],
         "yaxis": "y"
        },
        {
         "hoverinfo": "text",
         "marker": {
          "color": "rgb(255,65,54)"
         },
         "mode": "lines",
         "type": "scatter",
         "x": [
          6185,
          6185,
          6195,
          6195
         ],
         "xaxis": "x",
         "y": [
          0,
          0.008924241499871612,
          0.008924241499871612,
          0
         ],
         "yaxis": "y"
        },
        {
         "hoverinfo": "text",
         "marker": {
          "color": "rgb(255,65,54)"
         },
         "mode": "lines",
         "type": "scatter",
         "x": [
          6175,
          6175,
          6190,
          6190
         ],
         "xaxis": "x",
         "y": [
          0,
          0.020847715372323963,
          0.020847715372323963,
          0.008924241499871612
         ],
         "yaxis": "y"
        },
        {
         "hoverinfo": "text",
         "marker": {
          "color": "rgb(255,65,54)"
         },
         "mode": "lines",
         "type": "scatter",
         "x": [
          6205,
          6205,
          6215,
          6215
         ],
         "xaxis": "x",
         "y": [
          0,
          0.0043706410110063215,
          0.0043706410110063215,
          0
         ],
         "yaxis": "y"
        },
        {
         "hoverinfo": "text",
         "marker": {
          "color": "rgb(255,65,54)"
         },
         "mode": "lines",
         "type": "scatter",
         "x": [
          6225,
          6225,
          6235,
          6235
         ],
         "xaxis": "x",
         "y": [
          0,
          0.01601912275763761,
          0.01601912275763761,
          0
         ],
         "yaxis": "y"
        },
        {
         "hoverinfo": "text",
         "marker": {
          "color": "rgb(255,65,54)"
         },
         "mode": "lines",
         "type": "scatter",
         "x": [
          6210,
          6210,
          6230,
          6230
         ],
         "xaxis": "x",
         "y": [
          0.0043706410110063215,
          1.7628442546370022,
          1.7628442546370022,
          0.01601912275763761
         ],
         "yaxis": "y"
        },
        {
         "hoverinfo": "text",
         "marker": {
          "color": "rgb(255,65,54)"
         },
         "mode": "lines",
         "type": "scatter",
         "x": [
          6182.5,
          6182.5,
          6220,
          6220
         ],
         "xaxis": "x",
         "y": [
          0.020847715372323963,
          2.2501734295423987,
          2.2501734295423987,
          1.7628442546370022
         ],
         "yaxis": "y"
        },
        {
         "hoverinfo": "text",
         "marker": {
          "color": "rgb(255,65,54)"
         },
         "mode": "lines",
         "type": "scatter",
         "x": [
          6130.625,
          6130.625,
          6201.25,
          6201.25
         ],
         "xaxis": "x",
         "y": [
          0.8748856908403411,
          4.053586340337572,
          4.053586340337572,
          2.2501734295423987
         ],
         "yaxis": "y"
        },
        {
         "hoverinfo": "text",
         "marker": {
          "color": "rgb(255,65,54)"
         },
         "mode": "lines",
         "type": "scatter",
         "x": [
          5985.390625,
          5985.390625,
          6165.9375,
          6165.9375
         ],
         "xaxis": "x",
         "y": [
          2.6055403830631354,
          5.4592461596435635,
          5.4592461596435635,
          4.053586340337572
         ],
         "yaxis": "y"
        },
        {
         "hoverinfo": "text",
         "marker": {
          "color": "rgb(255,65,54)"
         },
         "mode": "lines",
         "type": "scatter",
         "x": [
          5879.0625,
          5879.0625,
          6075.6640625,
          6075.6640625
         ],
         "xaxis": "x",
         "y": [
          3.8296389707058105,
          7.466106048482322,
          7.466106048482322,
          5.4592461596435635
         ],
         "yaxis": "y"
        },
        {
         "hoverinfo": "text",
         "marker": {
          "color": "rgb(255,65,54)"
         },
         "mode": "lines",
         "type": "scatter",
         "x": [
          5664.1796875,
          5664.1796875,
          5977.36328125,
          5977.36328125
         ],
         "xaxis": "x",
         "y": [
          6.680871256078564,
          9.368902875733108,
          9.368902875733108,
          7.466106048482322
         ],
         "yaxis": "y"
        },
        {
         "hoverinfo": "text",
         "marker": {
          "color": "rgb(255,65,54)"
         },
         "mode": "lines",
         "type": "scatter",
         "x": [
          5259.482421875,
          5259.482421875,
          5820.771484375,
          5820.771484375
         ],
         "xaxis": "x",
         "y": [
          6.71138562277731,
          25.31527544867929,
          25.31527544867929,
          9.368902875733108
         ],
         "yaxis": "y"
        },
        {
         "hoverinfo": "text",
         "marker": {
          "color": "rgb(255,65,54)"
         },
         "mode": "lines",
         "type": "scatter",
         "x": [
          4463.76953125,
          4463.76953125,
          5540.126953125,
          5540.126953125
         ],
         "xaxis": "x",
         "y": [
          12.118951914564555,
          30.819414909448884,
          30.819414909448884,
          25.31527544867929
         ],
         "yaxis": "y"
        },
        {
         "hoverinfo": "text",
         "marker": {
          "color": "rgb(255,65,54)"
         },
         "mode": "lines",
         "type": "scatter",
         "x": [
          3253.53515625,
          3253.53515625,
          5001.9482421875,
          5001.9482421875
         ],
         "xaxis": "x",
         "y": [
          23.087592827457296,
          53.32979279796067,
          53.32979279796067,
          30.819414909448884
         ],
         "yaxis": "y"
        },
        {
         "hoverinfo": "text",
         "marker": {
          "color": "rgb(0,116,217)"
         },
         "mode": "lines",
         "type": "scatter",
         "x": [
          1277.276611328125,
          1277.276611328125,
          4127.74169921875,
          4127.74169921875
         ],
         "xaxis": "x",
         "y": [
          43.96415309499381,
          77.80817760032878,
          77.80817760032878,
          53.32979279796067
         ],
         "yaxis": "y"
        },
        {
         "hoverinfo": "text",
         "marker": {
          "color": "rgb(35,205,205)"
         },
         "mode": "lines",
         "type": "scatter",
         "x": [
          6255,
          6255,
          6265,
          6265
         ],
         "xaxis": "x",
         "y": [
          0,
          0.002240687031381795,
          0.002240687031381795,
          0
         ],
         "yaxis": "y"
        },
        {
         "hoverinfo": "text",
         "marker": {
          "color": "rgb(35,205,205)"
         },
         "mode": "lines",
         "type": "scatter",
         "x": [
          6275,
          6275,
          6285,
          6285
         ],
         "xaxis": "x",
         "y": [
          0,
          0.009066833369918929,
          0.009066833369918929,
          0
         ],
         "yaxis": "y"
        },
        {
         "hoverinfo": "text",
         "marker": {
          "color": "rgb(35,205,205)"
         },
         "mode": "lines",
         "type": "scatter",
         "x": [
          6260,
          6260,
          6280,
          6280
         ],
         "xaxis": "x",
         "y": [
          0.002240687031381795,
          0.012150601261376116,
          0.012150601261376116,
          0.009066833369918929
         ],
         "yaxis": "y"
        },
        {
         "hoverinfo": "text",
         "marker": {
          "color": "rgb(35,205,205)"
         },
         "mode": "lines",
         "type": "scatter",
         "x": [
          6245,
          6245,
          6270,
          6270
         ],
         "xaxis": "x",
         "y": [
          0,
          0.020234645981851797,
          0.020234645981851797,
          0.012150601261376116
         ],
         "yaxis": "y"
        },
        {
         "hoverinfo": "text",
         "marker": {
          "color": "rgb(35,205,205)"
         },
         "mode": "lines",
         "type": "scatter",
         "x": [
          6295,
          6295,
          6305,
          6305
         ],
         "xaxis": "x",
         "y": [
          0,
          0.16365730405211656,
          0.16365730405211656,
          0
         ],
         "yaxis": "y"
        },
        {
         "hoverinfo": "text",
         "marker": {
          "color": "rgb(35,205,205)"
         },
         "mode": "lines",
         "type": "scatter",
         "x": [
          6335,
          6335,
          6345,
          6345
         ],
         "xaxis": "x",
         "y": [
          0,
          0.030908164883959234,
          0.030908164883959234,
          0
         ],
         "yaxis": "y"
        },
        {
         "hoverinfo": "text",
         "marker": {
          "color": "rgb(35,205,205)"
         },
         "mode": "lines",
         "type": "scatter",
         "x": [
          6325,
          6325,
          6340,
          6340
         ],
         "xaxis": "x",
         "y": [
          0,
          0.07558721813133086,
          0.07558721813133086,
          0.030908164883959234
         ],
         "yaxis": "y"
        },
        {
         "hoverinfo": "text",
         "marker": {
          "color": "rgb(35,205,205)"
         },
         "mode": "lines",
         "type": "scatter",
         "x": [
          6375,
          6375,
          6385,
          6385
         ],
         "xaxis": "x",
         "y": [
          0,
          0.02248168905792908,
          0.02248168905792908,
          0
         ],
         "yaxis": "y"
        },
        {
         "hoverinfo": "text",
         "marker": {
          "color": "rgb(35,205,205)"
         },
         "mode": "lines",
         "type": "scatter",
         "x": [
          6365,
          6365,
          6380,
          6380
         ],
         "xaxis": "x",
         "y": [
          0,
          0.05008436233957559,
          0.05008436233957559,
          0.02248168905792908
         ],
         "yaxis": "y"
        },
        {
         "hoverinfo": "text",
         "marker": {
          "color": "rgb(35,205,205)"
         },
         "mode": "lines",
         "type": "scatter",
         "x": [
          6355,
          6355,
          6372.5,
          6372.5
         ],
         "xaxis": "x",
         "y": [
          0,
          0.16245844412171698,
          0.16245844412171698,
          0.05008436233957559
         ],
         "yaxis": "y"
        },
        {
         "hoverinfo": "text",
         "marker": {
          "color": "rgb(35,205,205)"
         },
         "mode": "lines",
         "type": "scatter",
         "x": [
          6332.5,
          6332.5,
          6363.75,
          6363.75
         ],
         "xaxis": "x",
         "y": [
          0.07558721813133086,
          0.3530129972934167,
          0.3530129972934167,
          0.16245844412171698
         ],
         "yaxis": "y"
        },
        {
         "hoverinfo": "text",
         "marker": {
          "color": "rgb(35,205,205)"
         },
         "mode": "lines",
         "type": "scatter",
         "x": [
          6315,
          6315,
          6348.125,
          6348.125
         ],
         "xaxis": "x",
         "y": [
          0,
          0.7153004474983691,
          0.7153004474983691,
          0.3530129972934167
         ],
         "yaxis": "y"
        },
        {
         "hoverinfo": "text",
         "marker": {
          "color": "rgb(35,205,205)"
         },
         "mode": "lines",
         "type": "scatter",
         "x": [
          6300,
          6300,
          6331.5625,
          6331.5625
         ],
         "xaxis": "x",
         "y": [
          0.16365730405211656,
          1.700516860207949,
          1.700516860207949,
          0.7153004474983691
         ],
         "yaxis": "y"
        },
        {
         "hoverinfo": "text",
         "marker": {
          "color": "rgb(35,205,205)"
         },
         "mode": "lines",
         "type": "scatter",
         "x": [
          6257.5,
          6257.5,
          6315.78125,
          6315.78125
         ],
         "xaxis": "x",
         "y": [
          0.020234645981851797,
          4.592759429578397,
          4.592759429578397,
          1.700516860207949
         ],
         "yaxis": "y"
        },
        {
         "hoverinfo": "text",
         "marker": {
          "color": "rgb(35,205,205)"
         },
         "mode": "lines",
         "type": "scatter",
         "x": [
          6395,
          6395,
          6405,
          6405
         ],
         "xaxis": "x",
         "y": [
          0,
          0.7365853159261133,
          0.7365853159261133,
          0
         ],
         "yaxis": "y"
        },
        {
         "hoverinfo": "text",
         "marker": {
          "color": "rgb(35,205,205)"
         },
         "mode": "lines",
         "type": "scatter",
         "x": [
          6415,
          6415,
          6425,
          6425
         ],
         "xaxis": "x",
         "y": [
          0,
          0.23322257517199851,
          0.23322257517199851,
          0
         ],
         "yaxis": "y"
        },
        {
         "hoverinfo": "text",
         "marker": {
          "color": "rgb(35,205,205)"
         },
         "mode": "lines",
         "type": "scatter",
         "x": [
          6445,
          6445,
          6455,
          6455
         ],
         "xaxis": "x",
         "y": [
          0,
          0.3950829400737561,
          0.3950829400737561,
          0
         ],
         "yaxis": "y"
        },
        {
         "hoverinfo": "text",
         "marker": {
          "color": "rgb(35,205,205)"
         },
         "mode": "lines",
         "type": "scatter",
         "x": [
          6435,
          6435,
          6450,
          6450
         ],
         "xaxis": "x",
         "y": [
          0,
          0.7292611012828462,
          0.7292611012828462,
          0.3950829400737561
         ],
         "yaxis": "y"
        },
        {
         "hoverinfo": "text",
         "marker": {
          "color": "rgb(35,205,205)"
         },
         "mode": "lines",
         "type": "scatter",
         "x": [
          6420,
          6420,
          6442.5,
          6442.5
         ],
         "xaxis": "x",
         "y": [
          0.23322257517199851,
          0.9111297690485346,
          0.9111297690485346,
          0.7292611012828462
         ],
         "yaxis": "y"
        },
        {
         "hoverinfo": "text",
         "marker": {
          "color": "rgb(35,205,205)"
         },
         "mode": "lines",
         "type": "scatter",
         "x": [
          6400,
          6400,
          6431.25,
          6431.25
         ],
         "xaxis": "x",
         "y": [
          0.7365853159261133,
          2.189900553357907,
          2.189900553357907,
          0.9111297690485346
         ],
         "yaxis": "y"
        },
        {
         "hoverinfo": "text",
         "marker": {
          "color": "rgb(35,205,205)"
         },
         "mode": "lines",
         "type": "scatter",
         "x": [
          6465,
          6465,
          6475,
          6475
         ],
         "xaxis": "x",
         "y": [
          0,
          0.14421878953307896,
          0.14421878953307896,
          0
         ],
         "yaxis": "y"
        },
        {
         "hoverinfo": "text",
         "marker": {
          "color": "rgb(35,205,205)"
         },
         "mode": "lines",
         "type": "scatter",
         "x": [
          6495,
          6495,
          6505,
          6505
         ],
         "xaxis": "x",
         "y": [
          0,
          0,
          0,
          0
         ],
         "yaxis": "y"
        },
        {
         "hoverinfo": "text",
         "marker": {
          "color": "rgb(35,205,205)"
         },
         "mode": "lines",
         "type": "scatter",
         "x": [
          6485,
          6485,
          6500,
          6500
         ],
         "xaxis": "x",
         "y": [
          0,
          0.003907658371504788,
          0.003907658371504788,
          0
         ],
         "yaxis": "y"
        },
        {
         "hoverinfo": "text",
         "marker": {
          "color": "rgb(35,205,205)"
         },
         "mode": "lines",
         "type": "scatter",
         "x": [
          6515,
          6515,
          6525,
          6525
         ],
         "xaxis": "x",
         "y": [
          0,
          0.17886884549131493,
          0.17886884549131493,
          0
         ],
         "yaxis": "y"
        },
        {
         "hoverinfo": "text",
         "marker": {
          "color": "rgb(35,205,205)"
         },
         "mode": "lines",
         "type": "scatter",
         "x": [
          6535,
          6535,
          6545,
          6545
         ],
         "xaxis": "x",
         "y": [
          0,
          0.3082584649389573,
          0.3082584649389573,
          0
         ],
         "yaxis": "y"
        },
        {
         "hoverinfo": "text",
         "marker": {
          "color": "rgb(35,205,205)"
         },
         "mode": "lines",
         "type": "scatter",
         "x": [
          6520,
          6520,
          6540,
          6540
         ],
         "xaxis": "x",
         "y": [
          0.17886884549131493,
          0.5690910808165404,
          0.5690910808165404,
          0.3082584649389573
         ],
         "yaxis": "y"
        },
        {
         "hoverinfo": "text",
         "marker": {
          "color": "rgb(35,205,205)"
         },
         "mode": "lines",
         "type": "scatter",
         "x": [
          6492.5,
          6492.5,
          6530,
          6530
         ],
         "xaxis": "x",
         "y": [
          0.003907658371504788,
          1.0157929799245455,
          1.0157929799245455,
          0.5690910808165404
         ],
         "yaxis": "y"
        },
        {
         "hoverinfo": "text",
         "marker": {
          "color": "rgb(35,205,205)"
         },
         "mode": "lines",
         "type": "scatter",
         "x": [
          6470,
          6470,
          6511.25,
          6511.25
         ],
         "xaxis": "x",
         "y": [
          0.14421878953307896,
          1.3564512154604003,
          1.3564512154604003,
          1.0157929799245455
         ],
         "yaxis": "y"
        },
        {
         "hoverinfo": "text",
         "marker": {
          "color": "rgb(35,205,205)"
         },
         "mode": "lines",
         "type": "scatter",
         "x": [
          6555,
          6555,
          6565,
          6565
         ],
         "xaxis": "x",
         "y": [
          0,
          0.42488516308710955,
          0.42488516308710955,
          0
         ],
         "yaxis": "y"
        },
        {
         "hoverinfo": "text",
         "marker": {
          "color": "rgb(35,205,205)"
         },
         "mode": "lines",
         "type": "scatter",
         "x": [
          6575,
          6575,
          6585,
          6585
         ],
         "xaxis": "x",
         "y": [
          0,
          0.300862656436848,
          0.300862656436848,
          0
         ],
         "yaxis": "y"
        },
        {
         "hoverinfo": "text",
         "marker": {
          "color": "rgb(35,205,205)"
         },
         "mode": "lines",
         "type": "scatter",
         "x": [
          6605,
          6605,
          6615,
          6615
         ],
         "xaxis": "x",
         "y": [
          0,
          0.10664655590728382,
          0.10664655590728382,
          0
         ],
         "yaxis": "y"
        },
        {
         "hoverinfo": "text",
         "marker": {
          "color": "rgb(35,205,205)"
         },
         "mode": "lines",
         "type": "scatter",
         "x": [
          6595,
          6595,
          6610,
          6610
         ],
         "xaxis": "x",
         "y": [
          0,
          0.3579929565633058,
          0.3579929565633058,
          0.10664655590728382
         ],
         "yaxis": "y"
        },
        {
         "hoverinfo": "text",
         "marker": {
          "color": "rgb(35,205,205)"
         },
         "mode": "lines",
         "type": "scatter",
         "x": [
          6580,
          6580,
          6602.5,
          6602.5
         ],
         "xaxis": "x",
         "y": [
          0.300862656436848,
          0.7448536273660746,
          0.7448536273660746,
          0.3579929565633058
         ],
         "yaxis": "y"
        },
        {
         "hoverinfo": "text",
         "marker": {
          "color": "rgb(35,205,205)"
         },
         "mode": "lines",
         "type": "scatter",
         "x": [
          6560,
          6560,
          6591.25,
          6591.25
         ],
         "xaxis": "x",
         "y": [
          0.42488516308710955,
          1.5647626597435034,
          1.5647626597435034,
          0.7448536273660746
         ],
         "yaxis": "y"
        },
        {
         "hoverinfo": "text",
         "marker": {
          "color": "rgb(35,205,205)"
         },
         "mode": "lines",
         "type": "scatter",
         "x": [
          6490.625,
          6490.625,
          6575.625,
          6575.625
         ],
         "xaxis": "x",
         "y": [
          1.3564512154604003,
          2.673043816048832,
          2.673043816048832,
          1.5647626597435034
         ],
         "yaxis": "y"
        },
        {
         "hoverinfo": "text",
         "marker": {
          "color": "rgb(35,205,205)"
         },
         "mode": "lines",
         "type": "scatter",
         "x": [
          6415.625,
          6415.625,
          6533.125,
          6533.125
         ],
         "xaxis": "x",
         "y": [
          2.189900553357907,
          3.086418094885231,
          3.086418094885231,
          2.673043816048832
         ],
         "yaxis": "y"
        },
        {
         "hoverinfo": "text",
         "marker": {
          "color": "rgb(35,205,205)"
         },
         "mode": "lines",
         "type": "scatter",
         "x": [
          6635,
          6635,
          6645,
          6645
         ],
         "xaxis": "x",
         "y": [
          0,
          0.7023013265011148,
          0.7023013265011148,
          0
         ],
         "yaxis": "y"
        },
        {
         "hoverinfo": "text",
         "marker": {
          "color": "rgb(35,205,205)"
         },
         "mode": "lines",
         "type": "scatter",
         "x": [
          6665,
          6665,
          6675,
          6675
         ],
         "xaxis": "x",
         "y": [
          0,
          0.028858855530280808,
          0.028858855530280808,
          0
         ],
         "yaxis": "y"
        },
        {
         "hoverinfo": "text",
         "marker": {
          "color": "rgb(35,205,205)"
         },
         "mode": "lines",
         "type": "scatter",
         "x": [
          6655,
          6655,
          6670,
          6670
         ],
         "xaxis": "x",
         "y": [
          0,
          0.2754303223461758,
          0.2754303223461758,
          0.028858855530280808
         ],
         "yaxis": "y"
        },
        {
         "hoverinfo": "text",
         "marker": {
          "color": "rgb(35,205,205)"
         },
         "mode": "lines",
         "type": "scatter",
         "x": [
          6695,
          6695,
          6705,
          6705
         ],
         "xaxis": "x",
         "y": [
          0,
          0.2225003362602003,
          0.2225003362602003,
          0
         ],
         "yaxis": "y"
        },
        {
         "hoverinfo": "text",
         "marker": {
          "color": "rgb(35,205,205)"
         },
         "mode": "lines",
         "type": "scatter",
         "x": [
          6685,
          6685,
          6700,
          6700
         ],
         "xaxis": "x",
         "y": [
          0,
          0.37222041043698945,
          0.37222041043698945,
          0.2225003362602003
         ],
         "yaxis": "y"
        },
        {
         "hoverinfo": "text",
         "marker": {
          "color": "rgb(35,205,205)"
         },
         "mode": "lines",
         "type": "scatter",
         "x": [
          6662.5,
          6662.5,
          6692.5,
          6692.5
         ],
         "xaxis": "x",
         "y": [
          0.2754303223461758,
          0.7787078155532168,
          0.7787078155532168,
          0.37222041043698945
         ],
         "yaxis": "y"
        },
        {
         "hoverinfo": "text",
         "marker": {
          "color": "rgb(35,205,205)"
         },
         "mode": "lines",
         "type": "scatter",
         "x": [
          6640,
          6640,
          6677.5,
          6677.5
         ],
         "xaxis": "x",
         "y": [
          0.7023013265011148,
          1.5656073144915708,
          1.5656073144915708,
          0.7787078155532168
         ],
         "yaxis": "y"
        },
        {
         "hoverinfo": "text",
         "marker": {
          "color": "rgb(35,205,205)"
         },
         "mode": "lines",
         "type": "scatter",
         "x": [
          6625,
          6625,
          6658.75,
          6658.75
         ],
         "xaxis": "x",
         "y": [
          0,
          2.023781284055124,
          2.023781284055124,
          1.5656073144915708
         ],
         "yaxis": "y"
        },
        {
         "hoverinfo": "text",
         "marker": {
          "color": "rgb(35,205,205)"
         },
         "mode": "lines",
         "type": "scatter",
         "x": [
          6715,
          6715,
          6725,
          6725
         ],
         "xaxis": "x",
         "y": [
          0,
          0.5142949751923337,
          0.5142949751923337,
          0
         ],
         "yaxis": "y"
        },
        {
         "hoverinfo": "text",
         "marker": {
          "color": "rgb(35,205,205)"
         },
         "mode": "lines",
         "type": "scatter",
         "x": [
          6735,
          6735,
          6745,
          6745
         ],
         "xaxis": "x",
         "y": [
          0,
          0.09307012982480453,
          0.09307012982480453,
          0
         ],
         "yaxis": "y"
        },
        {
         "hoverinfo": "text",
         "marker": {
          "color": "rgb(35,205,205)"
         },
         "mode": "lines",
         "type": "scatter",
         "x": [
          6755,
          6755,
          6765,
          6765
         ],
         "xaxis": "x",
         "y": [
          0,
          0.1992690099174276,
          0.1992690099174276,
          0
         ],
         "yaxis": "y"
        },
        {
         "hoverinfo": "text",
         "marker": {
          "color": "rgb(35,205,205)"
         },
         "mode": "lines",
         "type": "scatter",
         "x": [
          6740,
          6740,
          6760,
          6760
         ],
         "xaxis": "x",
         "y": [
          0.09307012982480453,
          0.6782613993593543,
          0.6782613993593543,
          0.1992690099174276
         ],
         "yaxis": "y"
        },
        {
         "hoverinfo": "text",
         "marker": {
          "color": "rgb(35,205,205)"
         },
         "mode": "lines",
         "type": "scatter",
         "x": [
          6785,
          6785,
          6795,
          6795
         ],
         "xaxis": "x",
         "y": [
          0,
          0.19032000450484246,
          0.19032000450484246,
          0
         ],
         "yaxis": "y"
        },
        {
         "hoverinfo": "text",
         "marker": {
          "color": "rgb(35,205,205)"
         },
         "mode": "lines",
         "type": "scatter",
         "x": [
          6815,
          6815,
          6825,
          6825
         ],
         "xaxis": "x",
         "y": [
          0,
          0.1067495952813403,
          0.1067495952813403,
          0
         ],
         "yaxis": "y"
        },
        {
         "hoverinfo": "text",
         "marker": {
          "color": "rgb(35,205,205)"
         },
         "mode": "lines",
         "type": "scatter",
         "x": [
          6805,
          6805,
          6820,
          6820
         ],
         "xaxis": "x",
         "y": [
          0,
          0.3994525008553267,
          0.3994525008553267,
          0.1067495952813403
         ],
         "yaxis": "y"
        },
        {
         "hoverinfo": "text",
         "marker": {
          "color": "rgb(35,205,205)"
         },
         "mode": "lines",
         "type": "scatter",
         "x": [
          6790,
          6790,
          6812.5,
          6812.5
         ],
         "xaxis": "x",
         "y": [
          0.19032000450484246,
          0.5408611622528365,
          0.5408611622528365,
          0.3994525008553267
         ],
         "yaxis": "y"
        },
        {
         "hoverinfo": "text",
         "marker": {
          "color": "rgb(35,205,205)"
         },
         "mode": "lines",
         "type": "scatter",
         "x": [
          6775,
          6775,
          6801.25,
          6801.25
         ],
         "xaxis": "x",
         "y": [
          0,
          1.0955129810668978,
          1.0955129810668978,
          0.5408611622528365
         ],
         "yaxis": "y"
        },
        {
         "hoverinfo": "text",
         "marker": {
          "color": "rgb(35,205,205)"
         },
         "mode": "lines",
         "type": "scatter",
         "x": [
          6750,
          6750,
          6788.125,
          6788.125
         ],
         "xaxis": "x",
         "y": [
          0.6782613993593543,
          1.737028867798108,
          1.737028867798108,
          1.0955129810668978
         ],
         "yaxis": "y"
        },
        {
         "hoverinfo": "text",
         "marker": {
          "color": "rgb(35,205,205)"
         },
         "mode": "lines",
         "type": "scatter",
         "x": [
          6720,
          6720,
          6769.0625,
          6769.0625
         ],
         "xaxis": "x",
         "y": [
          0.5142949751923337,
          2.9306723955671807,
          2.9306723955671807,
          1.737028867798108
         ],
         "yaxis": "y"
        },
        {
         "hoverinfo": "text",
         "marker": {
          "color": "rgb(35,205,205)"
         },
         "mode": "lines",
         "type": "scatter",
         "x": [
          6641.875,
          6641.875,
          6744.53125,
          6744.53125
         ],
         "xaxis": "x",
         "y": [
          2.023781284055124,
          4.884367256724202,
          4.884367256724202,
          2.9306723955671807
         ],
         "yaxis": "y"
        },
        {
         "hoverinfo": "text",
         "marker": {
          "color": "rgb(35,205,205)"
         },
         "mode": "lines",
         "type": "scatter",
         "x": [
          6474.375,
          6474.375,
          6693.203125,
          6693.203125
         ],
         "xaxis": "x",
         "y": [
          3.086418094885231,
          5.211336681080209,
          5.211336681080209,
          4.884367256724202
         ],
         "yaxis": "y"
        },
        {
         "hoverinfo": "text",
         "marker": {
          "color": "rgb(35,205,205)"
         },
         "mode": "lines",
         "type": "scatter",
         "x": [
          6835,
          6835,
          6845,
          6845
         ],
         "xaxis": "x",
         "y": [
          0,
          0.00010271386732357986,
          0.00010271386732357986,
          0
         ],
         "yaxis": "y"
        },
        {
         "hoverinfo": "text",
         "marker": {
          "color": "rgb(35,205,205)"
         },
         "mode": "lines",
         "type": "scatter",
         "x": [
          6855,
          6855,
          6865,
          6865
         ],
         "xaxis": "x",
         "y": [
          0,
          0.0008373760130276513,
          0.0008373760130276513,
          0
         ],
         "yaxis": "y"
        },
        {
         "hoverinfo": "text",
         "marker": {
          "color": "rgb(35,205,205)"
         },
         "mode": "lines",
         "type": "scatter",
         "x": [
          6840,
          6840,
          6860,
          6860
         ],
         "xaxis": "x",
         "y": [
          0.00010271386732357986,
          0.002049657110514787,
          0.002049657110514787,
          0.0008373760130276513
         ],
         "yaxis": "y"
        },
        {
         "hoverinfo": "text",
         "marker": {
          "color": "rgb(35,205,205)"
         },
         "mode": "lines",
         "type": "scatter",
         "x": [
          6875,
          6875,
          6885,
          6885
         ],
         "xaxis": "x",
         "y": [
          0,
          0.004103098380238696,
          0.004103098380238696,
          0
         ],
         "yaxis": "y"
        },
        {
         "hoverinfo": "text",
         "marker": {
          "color": "rgb(35,205,205)"
         },
         "mode": "lines",
         "type": "scatter",
         "x": [
          6895,
          6895,
          6905,
          6905
         ],
         "xaxis": "x",
         "y": [
          0,
          0.0046670961986038,
          0.0046670961986038,
          0
         ],
         "yaxis": "y"
        },
        {
         "hoverinfo": "text",
         "marker": {
          "color": "rgb(35,205,205)"
         },
         "mode": "lines",
         "type": "scatter",
         "x": [
          6880,
          6880,
          6900,
          6900
         ],
         "xaxis": "x",
         "y": [
          0.004103098380238696,
          0.013487979409435188,
          0.013487979409435188,
          0.0046670961986038
         ],
         "yaxis": "y"
        },
        {
         "hoverinfo": "text",
         "marker": {
          "color": "rgb(35,205,205)"
         },
         "mode": "lines",
         "type": "scatter",
         "x": [
          6850,
          6850,
          6890,
          6890
         ],
         "xaxis": "x",
         "y": [
          0.002049657110514787,
          3.047218352961771,
          3.047218352961771,
          0.013487979409435188
         ],
         "yaxis": "y"
        },
        {
         "hoverinfo": "text",
         "marker": {
          "color": "rgb(35,205,205)"
         },
         "mode": "lines",
         "type": "scatter",
         "x": [
          6915,
          6915,
          6925,
          6925
         ],
         "xaxis": "x",
         "y": [
          0,
          0.005414128029239106,
          0.005414128029239106,
          0
         ],
         "yaxis": "y"
        },
        {
         "hoverinfo": "text",
         "marker": {
          "color": "rgb(35,205,205)"
         },
         "mode": "lines",
         "type": "scatter",
         "x": [
          6935,
          6935,
          6945,
          6945
         ],
         "xaxis": "x",
         "y": [
          0,
          0.008481596562141052,
          0.008481596562141052,
          0
         ],
         "yaxis": "y"
        },
        {
         "hoverinfo": "text",
         "marker": {
          "color": "rgb(35,205,205)"
         },
         "mode": "lines",
         "type": "scatter",
         "x": [
          6920,
          6920,
          6940,
          6940
         ],
         "xaxis": "x",
         "y": [
          0.005414128029239106,
          0.01779309469793892,
          0.01779309469793892,
          0.008481596562141052
         ],
         "yaxis": "y"
        },
        {
         "hoverinfo": "text",
         "marker": {
          "color": "rgb(35,205,205)"
         },
         "mode": "lines",
         "type": "scatter",
         "x": [
          6965,
          6965,
          6975,
          6975
         ],
         "xaxis": "x",
         "y": [
          0,
          0.09419101945730704,
          0.09419101945730704,
          0
         ],
         "yaxis": "y"
        },
        {
         "hoverinfo": "text",
         "marker": {
          "color": "rgb(35,205,205)"
         },
         "mode": "lines",
         "type": "scatter",
         "x": [
          6955,
          6955,
          6970,
          6970
         ],
         "xaxis": "x",
         "y": [
          0,
          0.4069273032000061,
          0.4069273032000061,
          0.09419101945730704
         ],
         "yaxis": "y"
        },
        {
         "hoverinfo": "text",
         "marker": {
          "color": "rgb(35,205,205)"
         },
         "mode": "lines",
         "type": "scatter",
         "x": [
          6995,
          6995,
          7005,
          7005
         ],
         "xaxis": "x",
         "y": [
          0,
          0.22240608324578331,
          0.22240608324578331,
          0
         ],
         "yaxis": "y"
        },
        {
         "hoverinfo": "text",
         "marker": {
          "color": "rgb(35,205,205)"
         },
         "mode": "lines",
         "type": "scatter",
         "x": [
          6985,
          6985,
          7000,
          7000
         ],
         "xaxis": "x",
         "y": [
          0,
          0.5319372835050427,
          0.5319372835050427,
          0.22240608324578331
         ],
         "yaxis": "y"
        },
        {
         "hoverinfo": "text",
         "marker": {
          "color": "rgb(35,205,205)"
         },
         "mode": "lines",
         "type": "scatter",
         "x": [
          6962.5,
          6962.5,
          6992.5,
          6992.5
         ],
         "xaxis": "x",
         "y": [
          0.4069273032000061,
          1.1936111222351338,
          1.1936111222351338,
          0.5319372835050427
         ],
         "yaxis": "y"
        },
        {
         "hoverinfo": "text",
         "marker": {
          "color": "rgb(35,205,205)"
         },
         "mode": "lines",
         "type": "scatter",
         "x": [
          7045,
          7045,
          7055,
          7055
         ],
         "xaxis": "x",
         "y": [
          0,
          0.08541138348324467,
          0.08541138348324467,
          0
         ],
         "yaxis": "y"
        },
        {
         "hoverinfo": "text",
         "marker": {
          "color": "rgb(35,205,205)"
         },
         "mode": "lines",
         "type": "scatter",
         "x": [
          7035,
          7035,
          7050,
          7050
         ],
         "xaxis": "x",
         "y": [
          0,
          0.2178377504716227,
          0.2178377504716227,
          0.08541138348324467
         ],
         "yaxis": "y"
        },
        {
         "hoverinfo": "text",
         "marker": {
          "color": "rgb(35,205,205)"
         },
         "mode": "lines",
         "type": "scatter",
         "x": [
          7025,
          7025,
          7042.5,
          7042.5
         ],
         "xaxis": "x",
         "y": [
          0,
          0.364528703091274,
          0.364528703091274,
          0.2178377504716227
         ],
         "yaxis": "y"
        },
        {
         "hoverinfo": "text",
         "marker": {
          "color": "rgb(35,205,205)"
         },
         "mode": "lines",
         "type": "scatter",
         "x": [
          7065,
          7065,
          7075,
          7075
         ],
         "xaxis": "x",
         "y": [
          0,
          0.5502482725479645,
          0.5502482725479645,
          0
         ],
         "yaxis": "y"
        },
        {
         "hoverinfo": "text",
         "marker": {
          "color": "rgb(35,205,205)"
         },
         "mode": "lines",
         "type": "scatter",
         "x": [
          7033.75,
          7033.75,
          7070,
          7070
         ],
         "xaxis": "x",
         "y": [
          0.364528703091274,
          1.0961313739541345,
          1.0961313739541345,
          0.5502482725479645
         ],
         "yaxis": "y"
        },
        {
         "hoverinfo": "text",
         "marker": {
          "color": "rgb(35,205,205)"
         },
         "mode": "lines",
         "type": "scatter",
         "x": [
          7015,
          7015,
          7051.875,
          7051.875
         ],
         "xaxis": "x",
         "y": [
          0,
          1.7932278392047276,
          1.7932278392047276,
          1.0961313739541345
         ],
         "yaxis": "y"
        },
        {
         "hoverinfo": "text",
         "marker": {
          "color": "rgb(35,205,205)"
         },
         "mode": "lines",
         "type": "scatter",
         "x": [
          6977.5,
          6977.5,
          7033.4375,
          7033.4375
         ],
         "xaxis": "x",
         "y": [
          1.1936111222351338,
          3.213179900384193,
          3.213179900384193,
          1.7932278392047276
         ],
         "yaxis": "y"
        },
        {
         "hoverinfo": "text",
         "marker": {
          "color": "rgb(35,205,205)"
         },
         "mode": "lines",
         "type": "scatter",
         "x": [
          6930,
          6930,
          7005.46875,
          7005.46875
         ],
         "xaxis": "x",
         "y": [
          0.01779309469793892,
          5.257015046959991,
          5.257015046959991,
          3.213179900384193
         ],
         "yaxis": "y"
        },
        {
         "hoverinfo": "text",
         "marker": {
          "color": "rgb(35,205,205)"
         },
         "mode": "lines",
         "type": "scatter",
         "x": [
          6870,
          6870,
          6967.734375,
          6967.734375
         ],
         "xaxis": "x",
         "y": [
          3.047218352961771,
          6.304268542274369,
          6.304268542274369,
          5.257015046959991
         ],
         "yaxis": "y"
        },
        {
         "hoverinfo": "text",
         "marker": {
          "color": "rgb(35,205,205)"
         },
         "mode": "lines",
         "type": "scatter",
         "x": [
          6583.7890625,
          6583.7890625,
          6918.8671875,
          6918.8671875
         ],
         "xaxis": "x",
         "y": [
          5.211336681080209,
          9.603735495835926,
          9.603735495835926,
          6.304268542274369
         ],
         "yaxis": "y"
        },
        {
         "hoverinfo": "text",
         "marker": {
          "color": "rgb(35,205,205)"
         },
         "mode": "lines",
         "type": "scatter",
         "x": [
          6286.640625,
          6286.640625,
          6751.328125,
          6751.328125
         ],
         "xaxis": "x",
         "y": [
          4.592759429578397,
          11.72630649454115,
          11.72630649454115,
          9.603735495835926
         ],
         "yaxis": "y"
        },
        {
         "hoverinfo": "text",
         "marker": {
          "color": "rgb(35,205,205)"
         },
         "mode": "lines",
         "type": "scatter",
         "x": [
          7105,
          7105,
          7115,
          7115
         ],
         "xaxis": "x",
         "y": [
          0,
          0.004888078059517958,
          0.004888078059517958,
          0
         ],
         "yaxis": "y"
        },
        {
         "hoverinfo": "text",
         "marker": {
          "color": "rgb(35,205,205)"
         },
         "mode": "lines",
         "type": "scatter",
         "x": [
          7095,
          7095,
          7110,
          7110
         ],
         "xaxis": "x",
         "y": [
          0,
          0.08274715958735644,
          0.08274715958735644,
          0.004888078059517958
         ],
         "yaxis": "y"
        },
        {
         "hoverinfo": "text",
         "marker": {
          "color": "rgb(35,205,205)"
         },
         "mode": "lines",
         "type": "scatter",
         "x": [
          7085,
          7085,
          7102.5,
          7102.5
         ],
         "xaxis": "x",
         "y": [
          0,
          0.5115810535893712,
          0.5115810535893712,
          0.08274715958735644
         ],
         "yaxis": "y"
        },
        {
         "hoverinfo": "text",
         "marker": {
          "color": "rgb(35,205,205)"
         },
         "mode": "lines",
         "type": "scatter",
         "x": [
          7135,
          7135,
          7145,
          7145
         ],
         "xaxis": "x",
         "y": [
          0,
          0.02191246957185468,
          0.02191246957185468,
          0
         ],
         "yaxis": "y"
        },
        {
         "hoverinfo": "text",
         "marker": {
          "color": "rgb(35,205,205)"
         },
         "mode": "lines",
         "type": "scatter",
         "x": [
          7175,
          7175,
          7185,
          7185
         ],
         "xaxis": "x",
         "y": [
          0,
          0.006507416526874356,
          0.006507416526874356,
          0
         ],
         "yaxis": "y"
        },
        {
         "hoverinfo": "text",
         "marker": {
          "color": "rgb(35,205,205)"
         },
         "mode": "lines",
         "type": "scatter",
         "x": [
          7165,
          7165,
          7180,
          7180
         ],
         "xaxis": "x",
         "y": [
          0,
          0.0177692334056817,
          0.0177692334056817,
          0.006507416526874356
         ],
         "yaxis": "y"
        },
        {
         "hoverinfo": "text",
         "marker": {
          "color": "rgb(35,205,205)"
         },
         "mode": "lines",
         "type": "scatter",
         "x": [
          7155,
          7155,
          7172.5,
          7172.5
         ],
         "xaxis": "x",
         "y": [
          0,
          0.07015259088217261,
          0.07015259088217261,
          0.0177692334056817
         ],
         "yaxis": "y"
        },
        {
         "hoverinfo": "text",
         "marker": {
          "color": "rgb(35,205,205)"
         },
         "mode": "lines",
         "type": "scatter",
         "x": [
          7140,
          7140,
          7163.75,
          7163.75
         ],
         "xaxis": "x",
         "y": [
          0.02191246957185468,
          0.1283248095718013,
          0.1283248095718013,
          0.07015259088217261
         ],
         "yaxis": "y"
        },
        {
         "hoverinfo": "text",
         "marker": {
          "color": "rgb(35,205,205)"
         },
         "mode": "lines",
         "type": "scatter",
         "x": [
          7125,
          7125,
          7151.875,
          7151.875
         ],
         "xaxis": "x",
         "y": [
          0,
          0.6578322807473092,
          0.6578322807473092,
          0.1283248095718013
         ],
         "yaxis": "y"
        },
        {
         "hoverinfo": "text",
         "marker": {
          "color": "rgb(35,205,205)"
         },
         "mode": "lines",
         "type": "scatter",
         "x": [
          7093.75,
          7093.75,
          7138.4375,
          7138.4375
         ],
         "xaxis": "x",
         "y": [
          0.5115810535893712,
          4.576772664516362,
          4.576772664516362,
          0.6578322807473092
         ],
         "yaxis": "y"
        },
        {
         "hoverinfo": "text",
         "marker": {
          "color": "rgb(35,205,205)"
         },
         "mode": "lines",
         "type": "scatter",
         "x": [
          7215,
          7215,
          7225,
          7225
         ],
         "xaxis": "x",
         "y": [
          0,
          0.023255334126302193,
          0.023255334126302193,
          0
         ],
         "yaxis": "y"
        },
        {
         "hoverinfo": "text",
         "marker": {
          "color": "rgb(35,205,205)"
         },
         "mode": "lines",
         "type": "scatter",
         "x": [
          7205,
          7205,
          7220,
          7220
         ],
         "xaxis": "x",
         "y": [
          0,
          0.033308960312424404,
          0.033308960312424404,
          0.023255334126302193
         ],
         "yaxis": "y"
        },
        {
         "hoverinfo": "text",
         "marker": {
          "color": "rgb(35,205,205)"
         },
         "mode": "lines",
         "type": "scatter",
         "x": [
          7235,
          7235,
          7245,
          7245
         ],
         "xaxis": "x",
         "y": [
          0,
          0.0779518011000927,
          0.0779518011000927,
          0
         ],
         "yaxis": "y"
        },
        {
         "hoverinfo": "text",
         "marker": {
          "color": "rgb(35,205,205)"
         },
         "mode": "lines",
         "type": "scatter",
         "x": [
          7212.5,
          7212.5,
          7240,
          7240
         ],
         "xaxis": "x",
         "y": [
          0.033308960312424404,
          0.10598576844941987,
          0.10598576844941987,
          0.0779518011000927
         ],
         "yaxis": "y"
        },
        {
         "hoverinfo": "text",
         "marker": {
          "color": "rgb(35,205,205)"
         },
         "mode": "lines",
         "type": "scatter",
         "x": [
          7195,
          7195,
          7226.25,
          7226.25
         ],
         "xaxis": "x",
         "y": [
          0,
          0.4022208131489949,
          0.4022208131489949,
          0.10598576844941987
         ],
         "yaxis": "y"
        },
        {
         "hoverinfo": "text",
         "marker": {
          "color": "rgb(35,205,205)"
         },
         "mode": "lines",
         "type": "scatter",
         "x": [
          7255,
          7255,
          7265,
          7265
         ],
         "xaxis": "x",
         "y": [
          0,
          0.5077250634800398,
          0.5077250634800398,
          0
         ],
         "yaxis": "y"
        },
        {
         "hoverinfo": "text",
         "marker": {
          "color": "rgb(35,205,205)"
         },
         "mode": "lines",
         "type": "scatter",
         "x": [
          7210.625,
          7210.625,
          7260,
          7260
         ],
         "xaxis": "x",
         "y": [
          0.4022208131489949,
          1.3326689926475346,
          1.3326689926475346,
          0.5077250634800398
         ],
         "yaxis": "y"
        },
        {
         "hoverinfo": "text",
         "marker": {
          "color": "rgb(35,205,205)"
         },
         "mode": "lines",
         "type": "scatter",
         "x": [
          7295,
          7295,
          7305,
          7305
         ],
         "xaxis": "x",
         "y": [
          0,
          0.040129335629874,
          0.040129335629874,
          0
         ],
         "yaxis": "y"
        },
        {
         "hoverinfo": "text",
         "marker": {
          "color": "rgb(35,205,205)"
         },
         "mode": "lines",
         "type": "scatter",
         "x": [
          7285,
          7285,
          7300,
          7300
         ],
         "xaxis": "x",
         "y": [
          0,
          0.14809639076323106,
          0.14809639076323106,
          0.040129335629874
         ],
         "yaxis": "y"
        },
        {
         "hoverinfo": "text",
         "marker": {
          "color": "rgb(35,205,205)"
         },
         "mode": "lines",
         "type": "scatter",
         "x": [
          7275,
          7275,
          7292.5,
          7292.5
         ],
         "xaxis": "x",
         "y": [
          0,
          0.6300432022164382,
          0.6300432022164382,
          0.14809639076323106
         ],
         "yaxis": "y"
        },
        {
         "hoverinfo": "text",
         "marker": {
          "color": "rgb(35,205,205)"
         },
         "mode": "lines",
         "type": "scatter",
         "x": [
          7315,
          7315,
          7325,
          7325
         ],
         "xaxis": "x",
         "y": [
          0,
          0.035999230299066536,
          0.035999230299066536,
          0
         ],
         "yaxis": "y"
        },
        {
         "hoverinfo": "text",
         "marker": {
          "color": "rgb(35,205,205)"
         },
         "mode": "lines",
         "type": "scatter",
         "x": [
          7335,
          7335,
          7345,
          7345
         ],
         "xaxis": "x",
         "y": [
          0,
          0.01255352863674102,
          0.01255352863674102,
          0
         ],
         "yaxis": "y"
        },
        {
         "hoverinfo": "text",
         "marker": {
          "color": "rgb(35,205,205)"
         },
         "mode": "lines",
         "type": "scatter",
         "x": [
          7365,
          7365,
          7375,
          7375
         ],
         "xaxis": "x",
         "y": [
          0,
          0.005954201192286825,
          0.005954201192286825,
          0
         ],
         "yaxis": "y"
        },
        {
         "hoverinfo": "text",
         "marker": {
          "color": "rgb(35,205,205)"
         },
         "mode": "lines",
         "type": "scatter",
         "x": [
          7355,
          7355,
          7370,
          7370
         ],
         "xaxis": "x",
         "y": [
          0,
          0.12719261072881977,
          0.12719261072881977,
          0.005954201192286825
         ],
         "yaxis": "y"
        },
        {
         "hoverinfo": "text",
         "marker": {
          "color": "rgb(35,205,205)"
         },
         "mode": "lines",
         "type": "scatter",
         "x": [
          7340,
          7340,
          7362.5,
          7362.5
         ],
         "xaxis": "x",
         "y": [
          0.01255352863674102,
          0.29310811104886664,
          0.29310811104886664,
          0.12719261072881977
         ],
         "yaxis": "y"
        },
        {
         "hoverinfo": "text",
         "marker": {
          "color": "rgb(35,205,205)"
         },
         "mode": "lines",
         "type": "scatter",
         "x": [
          7320,
          7320,
          7351.25,
          7351.25
         ],
         "xaxis": "x",
         "y": [
          0.035999230299066536,
          1.7695366400500383,
          1.7695366400500383,
          0.29310811104886664
         ],
         "yaxis": "y"
        },
        {
         "hoverinfo": "text",
         "marker": {
          "color": "rgb(35,205,205)"
         },
         "mode": "lines",
         "type": "scatter",
         "x": [
          7283.75,
          7283.75,
          7335.625,
          7335.625
         ],
         "xaxis": "x",
         "y": [
          0.6300432022164382,
          3.5048945441523984,
          3.5048945441523984,
          1.7695366400500383
         ],
         "yaxis": "y"
        },
        {
         "hoverinfo": "text",
         "marker": {
          "color": "rgb(35,205,205)"
         },
         "mode": "lines",
         "type": "scatter",
         "x": [
          7235.3125,
          7235.3125,
          7309.6875,
          7309.6875
         ],
         "xaxis": "x",
         "y": [
          1.3326689926475346,
          6.529866144085918,
          6.529866144085918,
          3.5048945441523984
         ],
         "yaxis": "y"
        },
        {
         "hoverinfo": "text",
         "marker": {
          "color": "rgb(35,205,205)"
         },
         "mode": "lines",
         "type": "scatter",
         "x": [
          7395,
          7395,
          7405,
          7405
         ],
         "xaxis": "x",
         "y": [
          0,
          0.1731411919508848,
          0.1731411919508848,
          0
         ],
         "yaxis": "y"
        },
        {
         "hoverinfo": "text",
         "marker": {
          "color": "rgb(35,205,205)"
         },
         "mode": "lines",
         "type": "scatter",
         "x": [
          7385,
          7385,
          7400,
          7400
         ],
         "xaxis": "x",
         "y": [
          0,
          0.6748559796644726,
          0.6748559796644726,
          0.1731411919508848
         ],
         "yaxis": "y"
        },
        {
         "hoverinfo": "text",
         "marker": {
          "color": "rgb(35,205,205)"
         },
         "mode": "lines",
         "type": "scatter",
         "x": [
          7415,
          7415,
          7425,
          7425
         ],
         "xaxis": "x",
         "y": [
          0,
          0.4693218321527159,
          0.4693218321527159,
          0
         ],
         "yaxis": "y"
        },
        {
         "hoverinfo": "text",
         "marker": {
          "color": "rgb(35,205,205)"
         },
         "mode": "lines",
         "type": "scatter",
         "x": [
          7455,
          7455,
          7465,
          7465
         ],
         "xaxis": "x",
         "y": [
          0,
          0.25721554466571905,
          0.25721554466571905,
          0
         ],
         "yaxis": "y"
        },
        {
         "hoverinfo": "text",
         "marker": {
          "color": "rgb(35,205,205)"
         },
         "mode": "lines",
         "type": "scatter",
         "x": [
          7445,
          7445,
          7460,
          7460
         ],
         "xaxis": "x",
         "y": [
          0,
          0.5079139200367384,
          0.5079139200367384,
          0.25721554466571905
         ],
         "yaxis": "y"
        },
        {
         "hoverinfo": "text",
         "marker": {
          "color": "rgb(35,205,205)"
         },
         "mode": "lines",
         "type": "scatter",
         "x": [
          7435,
          7435,
          7452.5,
          7452.5
         ],
         "xaxis": "x",
         "y": [
          0,
          0.6533679107387524,
          0.6533679107387524,
          0.5079139200367384
         ],
         "yaxis": "y"
        },
        {
         "hoverinfo": "text",
         "marker": {
          "color": "rgb(35,205,205)"
         },
         "mode": "lines",
         "type": "scatter",
         "x": [
          7420,
          7420,
          7443.75,
          7443.75
         ],
         "xaxis": "x",
         "y": [
          0.4693218321527159,
          1.5254887098970542,
          1.5254887098970542,
          0.6533679107387524
         ],
         "yaxis": "y"
        },
        {
         "hoverinfo": "text",
         "marker": {
          "color": "rgb(35,205,205)"
         },
         "mode": "lines",
         "type": "scatter",
         "x": [
          7485,
          7485,
          7495,
          7495
         ],
         "xaxis": "x",
         "y": [
          0,
          0.20234564086008547,
          0.20234564086008547,
          0
         ],
         "yaxis": "y"
        },
        {
         "hoverinfo": "text",
         "marker": {
          "color": "rgb(35,205,205)"
         },
         "mode": "lines",
         "type": "scatter",
         "x": [
          7475,
          7475,
          7490,
          7490
         ],
         "xaxis": "x",
         "y": [
          0,
          0.5533289060598215,
          0.5533289060598215,
          0.20234564086008547
         ],
         "yaxis": "y"
        },
        {
         "hoverinfo": "text",
         "marker": {
          "color": "rgb(35,205,205)"
         },
         "mode": "lines",
         "type": "scatter",
         "x": [
          7505,
          7505,
          7515,
          7515
         ],
         "xaxis": "x",
         "y": [
          0,
          0.3247104044296259,
          0.3247104044296259,
          0
         ],
         "yaxis": "y"
        },
        {
         "hoverinfo": "text",
         "marker": {
          "color": "rgb(35,205,205)"
         },
         "mode": "lines",
         "type": "scatter",
         "x": [
          7545,
          7545,
          7555,
          7555
         ],
         "xaxis": "x",
         "y": [
          0,
          0.16383727748310759,
          0.16383727748310759,
          0
         ],
         "yaxis": "y"
        },
        {
         "hoverinfo": "text",
         "marker": {
          "color": "rgb(35,205,205)"
         },
         "mode": "lines",
         "type": "scatter",
         "x": [
          7535,
          7535,
          7550,
          7550
         ],
         "xaxis": "x",
         "y": [
          0,
          0.4200509126799924,
          0.4200509126799924,
          0.16383727748310759
         ],
         "yaxis": "y"
        },
        {
         "hoverinfo": "text",
         "marker": {
          "color": "rgb(35,205,205)"
         },
         "mode": "lines",
         "type": "scatter",
         "x": [
          7525,
          7525,
          7542.5,
          7542.5
         ],
         "xaxis": "x",
         "y": [
          0,
          0.6086667960499779,
          0.6086667960499779,
          0.4200509126799924
         ],
         "yaxis": "y"
        },
        {
         "hoverinfo": "text",
         "marker": {
          "color": "rgb(35,205,205)"
         },
         "mode": "lines",
         "type": "scatter",
         "x": [
          7510,
          7510,
          7533.75,
          7533.75
         ],
         "xaxis": "x",
         "y": [
          0.3247104044296259,
          0.8834518375261284,
          0.8834518375261284,
          0.6086667960499779
         ],
         "yaxis": "y"
        },
        {
         "hoverinfo": "text",
         "marker": {
          "color": "rgb(35,205,205)"
         },
         "mode": "lines",
         "type": "scatter",
         "x": [
          7482.5,
          7482.5,
          7521.875,
          7521.875
         ],
         "xaxis": "x",
         "y": [
          0.5533289060598215,
          1.253732781859566,
          1.253732781859566,
          0.8834518375261284
         ],
         "yaxis": "y"
        },
        {
         "hoverinfo": "text",
         "marker": {
          "color": "rgb(35,205,205)"
         },
         "mode": "lines",
         "type": "scatter",
         "x": [
          7575,
          7575,
          7585,
          7585
         ],
         "xaxis": "x",
         "y": [
          0,
          0.3700810776545779,
          0.3700810776545779,
          0
         ],
         "yaxis": "y"
        },
        {
         "hoverinfo": "text",
         "marker": {
          "color": "rgb(35,205,205)"
         },
         "mode": "lines",
         "type": "scatter",
         "x": [
          7565,
          7565,
          7580,
          7580
         ],
         "xaxis": "x",
         "y": [
          0,
          0.6306973803327928,
          0.6306973803327928,
          0.3700810776545779
         ],
         "yaxis": "y"
        },
        {
         "hoverinfo": "text",
         "marker": {
          "color": "rgb(35,205,205)"
         },
         "mode": "lines",
         "type": "scatter",
         "x": [
          7605,
          7605,
          7615,
          7615
         ],
         "xaxis": "x",
         "y": [
          0,
          0.11527096822543495,
          0.11527096822543495,
          0
         ],
         "yaxis": "y"
        },
        {
         "hoverinfo": "text",
         "marker": {
          "color": "rgb(35,205,205)"
         },
         "mode": "lines",
         "type": "scatter",
         "x": [
          7595,
          7595,
          7610,
          7610
         ],
         "xaxis": "x",
         "y": [
          0,
          0.28055012681983993,
          0.28055012681983993,
          0.11527096822543495
         ],
         "yaxis": "y"
        },
        {
         "hoverinfo": "text",
         "marker": {
          "color": "rgb(35,205,205)"
         },
         "mode": "lines",
         "type": "scatter",
         "x": [
          7635,
          7635,
          7645,
          7645
         ],
         "xaxis": "x",
         "y": [
          0,
          0.3738340370201085,
          0.3738340370201085,
          0
         ],
         "yaxis": "y"
        },
        {
         "hoverinfo": "text",
         "marker": {
          "color": "rgb(35,205,205)"
         },
         "mode": "lines",
         "type": "scatter",
         "x": [
          7625,
          7625,
          7640,
          7640
         ],
         "xaxis": "x",
         "y": [
          0,
          0.5356191484835315,
          0.5356191484835315,
          0.3738340370201085
         ],
         "yaxis": "y"
        },
        {
         "hoverinfo": "text",
         "marker": {
          "color": "rgb(35,205,205)"
         },
         "mode": "lines",
         "type": "scatter",
         "x": [
          7602.5,
          7602.5,
          7632.5,
          7632.5
         ],
         "xaxis": "x",
         "y": [
          0.28055012681983993,
          0.8964523361214706,
          0.8964523361214706,
          0.5356191484835315
         ],
         "yaxis": "y"
        },
        {
         "hoverinfo": "text",
         "marker": {
          "color": "rgb(35,205,205)"
         },
         "mode": "lines",
         "type": "scatter",
         "x": [
          7572.5,
          7572.5,
          7617.5,
          7617.5
         ],
         "xaxis": "x",
         "y": [
          0.6306973803327928,
          1.4803136427060817,
          1.4803136427060817,
          0.8964523361214706
         ],
         "yaxis": "y"
        },
        {
         "hoverinfo": "text",
         "marker": {
          "color": "rgb(35,205,205)"
         },
         "mode": "lines",
         "type": "scatter",
         "x": [
          7502.1875,
          7502.1875,
          7595,
          7595
         ],
         "xaxis": "x",
         "y": [
          1.253732781859566,
          2.1439531587315743,
          2.1439531587315743,
          1.4803136427060817
         ],
         "yaxis": "y"
        },
        {
         "hoverinfo": "text",
         "marker": {
          "color": "rgb(35,205,205)"
         },
         "mode": "lines",
         "type": "scatter",
         "x": [
          7431.875,
          7431.875,
          7548.59375,
          7548.59375
         ],
         "xaxis": "x",
         "y": [
          1.5254887098970542,
          2.6660502979646425,
          2.6660502979646425,
          2.1439531587315743
         ],
         "yaxis": "y"
        },
        {
         "hoverinfo": "text",
         "marker": {
          "color": "rgb(35,205,205)"
         },
         "mode": "lines",
         "type": "scatter",
         "x": [
          7392.5,
          7392.5,
          7490.234375,
          7490.234375
         ],
         "xaxis": "x",
         "y": [
          0.6748559796644726,
          4.819225764510309,
          4.819225764510309,
          2.6660502979646425
         ],
         "yaxis": "y"
        },
        {
         "hoverinfo": "text",
         "marker": {
          "color": "rgb(35,205,205)"
         },
         "mode": "lines",
         "type": "scatter",
         "x": [
          7675,
          7675,
          7685,
          7685
         ],
         "xaxis": "x",
         "y": [
          0,
          0.02787680564086129,
          0.02787680564086129,
          0
         ],
         "yaxis": "y"
        },
        {
         "hoverinfo": "text",
         "marker": {
          "color": "rgb(35,205,205)"
         },
         "mode": "lines",
         "type": "scatter",
         "x": [
          7665,
          7665,
          7680,
          7680
         ],
         "xaxis": "x",
         "y": [
          0,
          0.32372142627657857,
          0.32372142627657857,
          0.02787680564086129
         ],
         "yaxis": "y"
        },
        {
         "hoverinfo": "text",
         "marker": {
          "color": "rgb(35,205,205)"
         },
         "mode": "lines",
         "type": "scatter",
         "x": [
          7655,
          7655,
          7672.5,
          7672.5
         ],
         "xaxis": "x",
         "y": [
          0,
          2.3152037212786056,
          2.3152037212786056,
          0.32372142627657857
         ],
         "yaxis": "y"
        },
        {
         "hoverinfo": "text",
         "marker": {
          "color": "rgb(35,205,205)"
         },
         "mode": "lines",
         "type": "scatter",
         "x": [
          7695,
          7695,
          7705,
          7705
         ],
         "xaxis": "x",
         "y": [
          0,
          0.12859059514603052,
          0.12859059514603052,
          0
         ],
         "yaxis": "y"
        },
        {
         "hoverinfo": "text",
         "marker": {
          "color": "rgb(35,205,205)"
         },
         "mode": "lines",
         "type": "scatter",
         "x": [
          7715,
          7715,
          7725,
          7725
         ],
         "xaxis": "x",
         "y": [
          0,
          0.1370302487224207,
          0.1370302487224207,
          0
         ],
         "yaxis": "y"
        },
        {
         "hoverinfo": "text",
         "marker": {
          "color": "rgb(35,205,205)"
         },
         "mode": "lines",
         "type": "scatter",
         "x": [
          7700,
          7700,
          7720,
          7720
         ],
         "xaxis": "x",
         "y": [
          0.12859059514603052,
          2.731532167324579,
          2.731532167324579,
          0.1370302487224207
         ],
         "yaxis": "y"
        },
        {
         "hoverinfo": "text",
         "marker": {
          "color": "rgb(35,205,205)"
         },
         "mode": "lines",
         "type": "scatter",
         "x": [
          7663.75,
          7663.75,
          7710,
          7710
         ],
         "xaxis": "x",
         "y": [
          2.3152037212786056,
          5.071729935428228,
          5.071729935428228,
          2.731532167324579
         ],
         "yaxis": "y"
        },
        {
         "hoverinfo": "text",
         "marker": {
          "color": "rgb(35,205,205)"
         },
         "mode": "lines",
         "type": "scatter",
         "x": [
          7441.3671875,
          7441.3671875,
          7686.875,
          7686.875
         ],
         "xaxis": "x",
         "y": [
          4.819225764510309,
          7.674905302774852,
          7.674905302774852,
          5.071729935428228
         ],
         "yaxis": "y"
        },
        {
         "hoverinfo": "text",
         "marker": {
          "color": "rgb(35,205,205)"
         },
         "mode": "lines",
         "type": "scatter",
         "x": [
          7272.5,
          7272.5,
          7564.12109375,
          7564.12109375
         ],
         "xaxis": "x",
         "y": [
          6.529866144085918,
          13.454948590905937,
          13.454948590905937,
          7.674905302774852
         ],
         "yaxis": "y"
        },
        {
         "hoverinfo": "text",
         "marker": {
          "color": "rgb(35,205,205)"
         },
         "mode": "lines",
         "type": "scatter",
         "x": [
          7116.09375,
          7116.09375,
          7418.310546875,
          7418.310546875
         ],
         "xaxis": "x",
         "y": [
          4.576772664516362,
          14.75404446077596,
          14.75404446077596,
          13.454948590905937
         ],
         "yaxis": "y"
        },
        {
         "hoverinfo": "text",
         "marker": {
          "color": "rgb(35,205,205)"
         },
         "mode": "lines",
         "type": "scatter",
         "x": [
          6518.984375,
          6518.984375,
          7267.2021484375,
          7267.2021484375
         ],
         "xaxis": "x",
         "y": [
          11.72630649454115,
          18.2168242097796,
          18.2168242097796,
          14.75404446077596
         ],
         "yaxis": "y"
        },
        {
         "hoverinfo": "text",
         "marker": {
          "color": "rgb(133,20,75)"
         },
         "mode": "lines",
         "type": "scatter",
         "x": [
          7755,
          7755,
          7765,
          7765
         ],
         "xaxis": "x",
         "y": [
          0,
          0.03485109144250474,
          0.03485109144250474,
          0
         ],
         "yaxis": "y"
        },
        {
         "hoverinfo": "text",
         "marker": {
          "color": "rgb(133,20,75)"
         },
         "mode": "lines",
         "type": "scatter",
         "x": [
          7745,
          7745,
          7760,
          7760
         ],
         "xaxis": "x",
         "y": [
          0,
          0.07541243802840121,
          0.07541243802840121,
          0.03485109144250474
         ],
         "yaxis": "y"
        },
        {
         "hoverinfo": "text",
         "marker": {
          "color": "rgb(133,20,75)"
         },
         "mode": "lines",
         "type": "scatter",
         "x": [
          7735,
          7735,
          7752.5,
          7752.5
         ],
         "xaxis": "x",
         "y": [
          0,
          0.19947214549050346,
          0.19947214549050346,
          0.07541243802840121
         ],
         "yaxis": "y"
        },
        {
         "hoverinfo": "text",
         "marker": {
          "color": "rgb(133,20,75)"
         },
         "mode": "lines",
         "type": "scatter",
         "x": [
          7775,
          7775,
          7785,
          7785
         ],
         "xaxis": "x",
         "y": [
          0,
          0.1066937713736643,
          0.1066937713736643,
          0
         ],
         "yaxis": "y"
        },
        {
         "hoverinfo": "text",
         "marker": {
          "color": "rgb(133,20,75)"
         },
         "mode": "lines",
         "type": "scatter",
         "x": [
          7805,
          7805,
          7815,
          7815
         ],
         "xaxis": "x",
         "y": [
          0,
          0.1000113184677688,
          0.1000113184677688,
          0
         ],
         "yaxis": "y"
        },
        {
         "hoverinfo": "text",
         "marker": {
          "color": "rgb(133,20,75)"
         },
         "mode": "lines",
         "type": "scatter",
         "x": [
          7795,
          7795,
          7810,
          7810
         ],
         "xaxis": "x",
         "y": [
          0,
          0.22764978688951293,
          0.22764978688951293,
          0.1000113184677688
         ],
         "yaxis": "y"
        },
        {
         "hoverinfo": "text",
         "marker": {
          "color": "rgb(133,20,75)"
         },
         "mode": "lines",
         "type": "scatter",
         "x": [
          7780,
          7780,
          7802.5,
          7802.5
         ],
         "xaxis": "x",
         "y": [
          0.1066937713736643,
          0.4963970586822119,
          0.4963970586822119,
          0.22764978688951293
         ],
         "yaxis": "y"
        },
        {
         "hoverinfo": "text",
         "marker": {
          "color": "rgb(133,20,75)"
         },
         "mode": "lines",
         "type": "scatter",
         "x": [
          7835,
          7835,
          7845,
          7845
         ],
         "xaxis": "x",
         "y": [
          0,
          0.053082049528496524,
          0.053082049528496524,
          0
         ],
         "yaxis": "y"
        },
        {
         "hoverinfo": "text",
         "marker": {
          "color": "rgb(133,20,75)"
         },
         "mode": "lines",
         "type": "scatter",
         "x": [
          7825,
          7825,
          7840,
          7840
         ],
         "xaxis": "x",
         "y": [
          0,
          0.20379524055337447,
          0.20379524055337447,
          0.053082049528496524
         ],
         "yaxis": "y"
        },
        {
         "hoverinfo": "text",
         "marker": {
          "color": "rgb(133,20,75)"
         },
         "mode": "lines",
         "type": "scatter",
         "x": [
          7865,
          7865,
          7875,
          7875
         ],
         "xaxis": "x",
         "y": [
          0,
          0.1806858722951123,
          0.1806858722951123,
          0
         ],
         "yaxis": "y"
        },
        {
         "hoverinfo": "text",
         "marker": {
          "color": "rgb(133,20,75)"
         },
         "mode": "lines",
         "type": "scatter",
         "x": [
          7855,
          7855,
          7870,
          7870
         ],
         "xaxis": "x",
         "y": [
          0,
          0.4152065831337631,
          0.4152065831337631,
          0.1806858722951123
         ],
         "yaxis": "y"
        },
        {
         "hoverinfo": "text",
         "marker": {
          "color": "rgb(133,20,75)"
         },
         "mode": "lines",
         "type": "scatter",
         "x": [
          7832.5,
          7832.5,
          7862.5,
          7862.5
         ],
         "xaxis": "x",
         "y": [
          0.20379524055337447,
          0.8094488461258772,
          0.8094488461258772,
          0.4152065831337631
         ],
         "yaxis": "y"
        },
        {
         "hoverinfo": "text",
         "marker": {
          "color": "rgb(133,20,75)"
         },
         "mode": "lines",
         "type": "scatter",
         "x": [
          7791.25,
          7791.25,
          7847.5,
          7847.5
         ],
         "xaxis": "x",
         "y": [
          0.4963970586822119,
          1.2603474353605038,
          1.2603474353605038,
          0.8094488461258772
         ],
         "yaxis": "y"
        },
        {
         "hoverinfo": "text",
         "marker": {
          "color": "rgb(133,20,75)"
         },
         "mode": "lines",
         "type": "scatter",
         "x": [
          7743.75,
          7743.75,
          7819.375,
          7819.375
         ],
         "xaxis": "x",
         "y": [
          0.19947214549050346,
          2.1692021967425865,
          2.1692021967425865,
          1.2603474353605038
         ],
         "yaxis": "y"
        },
        {
         "hoverinfo": "text",
         "marker": {
          "color": "rgb(133,20,75)"
         },
         "mode": "lines",
         "type": "scatter",
         "x": [
          7885,
          7885,
          7895,
          7895
         ],
         "xaxis": "x",
         "y": [
          0,
          0.20071323400419958,
          0.20071323400419958,
          0
         ],
         "yaxis": "y"
        },
        {
         "hoverinfo": "text",
         "marker": {
          "color": "rgb(133,20,75)"
         },
         "mode": "lines",
         "type": "scatter",
         "x": [
          7915,
          7915,
          7925,
          7925
         ],
         "xaxis": "x",
         "y": [
          0,
          0.04207891176503601,
          0.04207891176503601,
          0
         ],
         "yaxis": "y"
        },
        {
         "hoverinfo": "text",
         "marker": {
          "color": "rgb(133,20,75)"
         },
         "mode": "lines",
         "type": "scatter",
         "x": [
          7905,
          7905,
          7920,
          7920
         ],
         "xaxis": "x",
         "y": [
          0,
          0.10570400263788343,
          0.10570400263788343,
          0.04207891176503601
         ],
         "yaxis": "y"
        },
        {
         "hoverinfo": "text",
         "marker": {
          "color": "rgb(133,20,75)"
         },
         "mode": "lines",
         "type": "scatter",
         "x": [
          7935,
          7935,
          7945,
          7945
         ],
         "xaxis": "x",
         "y": [
          0,
          0.06291176909608491,
          0.06291176909608491,
          0
         ],
         "yaxis": "y"
        },
        {
         "hoverinfo": "text",
         "marker": {
          "color": "rgb(133,20,75)"
         },
         "mode": "lines",
         "type": "scatter",
         "x": [
          7955,
          7955,
          7965,
          7965
         ],
         "xaxis": "x",
         "y": [
          0,
          0.28608773858869546,
          0.28608773858869546,
          0
         ],
         "yaxis": "y"
        },
        {
         "hoverinfo": "text",
         "marker": {
          "color": "rgb(133,20,75)"
         },
         "mode": "lines",
         "type": "scatter",
         "x": [
          7940,
          7940,
          7960,
          7960
         ],
         "xaxis": "x",
         "y": [
          0.06291176909608491,
          0.45813821732579346,
          0.45813821732579346,
          0.28608773858869546
         ],
         "yaxis": "y"
        },
        {
         "hoverinfo": "text",
         "marker": {
          "color": "rgb(133,20,75)"
         },
         "mode": "lines",
         "type": "scatter",
         "x": [
          7912.5,
          7912.5,
          7950,
          7950
         ],
         "xaxis": "x",
         "y": [
          0.10570400263788343,
          0.841714936262065,
          0.841714936262065,
          0.45813821732579346
         ],
         "yaxis": "y"
        },
        {
         "hoverinfo": "text",
         "marker": {
          "color": "rgb(133,20,75)"
         },
         "mode": "lines",
         "type": "scatter",
         "x": [
          7985,
          7985,
          7995,
          7995
         ],
         "xaxis": "x",
         "y": [
          0,
          0.2458164092772352,
          0.2458164092772352,
          0
         ],
         "yaxis": "y"
        },
        {
         "hoverinfo": "text",
         "marker": {
          "color": "rgb(133,20,75)"
         },
         "mode": "lines",
         "type": "scatter",
         "x": [
          7975,
          7975,
          7990,
          7990
         ],
         "xaxis": "x",
         "y": [
          0,
          0.5586215795731287,
          0.5586215795731287,
          0.2458164092772352
         ],
         "yaxis": "y"
        },
        {
         "hoverinfo": "text",
         "marker": {
          "color": "rgb(133,20,75)"
         },
         "mode": "lines",
         "type": "scatter",
         "x": [
          8015,
          8015,
          8025,
          8025
         ],
         "xaxis": "x",
         "y": [
          0,
          0.3084993159463064,
          0.3084993159463064,
          0
         ],
         "yaxis": "y"
        },
        {
         "hoverinfo": "text",
         "marker": {
          "color": "rgb(133,20,75)"
         },
         "mode": "lines",
         "type": "scatter",
         "x": [
          8005,
          8005,
          8020,
          8020
         ],
         "xaxis": "x",
         "y": [
          0,
          0.5963199038028624,
          0.5963199038028624,
          0.3084993159463064
         ],
         "yaxis": "y"
        },
        {
         "hoverinfo": "text",
         "marker": {
          "color": "rgb(133,20,75)"
         },
         "mode": "lines",
         "type": "scatter",
         "x": [
          7982.5,
          7982.5,
          8012.5,
          8012.5
         ],
         "xaxis": "x",
         "y": [
          0.5586215795731287,
          1.0502609714809799,
          1.0502609714809799,
          0.5963199038028624
         ],
         "yaxis": "y"
        },
        {
         "hoverinfo": "text",
         "marker": {
          "color": "rgb(133,20,75)"
         },
         "mode": "lines",
         "type": "scatter",
         "x": [
          7931.25,
          7931.25,
          7997.5,
          7997.5
         ],
         "xaxis": "x",
         "y": [
          0.841714936262065,
          1.5297663085728077,
          1.5297663085728077,
          1.0502609714809799
         ],
         "yaxis": "y"
        },
        {
         "hoverinfo": "text",
         "marker": {
          "color": "rgb(133,20,75)"
         },
         "mode": "lines",
         "type": "scatter",
         "x": [
          7890,
          7890,
          7964.375,
          7964.375
         ],
         "xaxis": "x",
         "y": [
          0.20071323400419958,
          2.1496622680572353,
          2.1496622680572353,
          1.5297663085728077
         ],
         "yaxis": "y"
        },
        {
         "hoverinfo": "text",
         "marker": {
          "color": "rgb(133,20,75)"
         },
         "mode": "lines",
         "type": "scatter",
         "x": [
          8045,
          8045,
          8055,
          8055
         ],
         "xaxis": "x",
         "y": [
          0,
          0.19999636631046627,
          0.19999636631046627,
          0
         ],
         "yaxis": "y"
        },
        {
         "hoverinfo": "text",
         "marker": {
          "color": "rgb(133,20,75)"
         },
         "mode": "lines",
         "type": "scatter",
         "x": [
          8035,
          8035,
          8050,
          8050
         ],
         "xaxis": "x",
         "y": [
          0,
          0.6146431451772312,
          0.6146431451772312,
          0.19999636631046627
         ],
         "yaxis": "y"
        },
        {
         "hoverinfo": "text",
         "marker": {
          "color": "rgb(133,20,75)"
         },
         "mode": "lines",
         "type": "scatter",
         "x": [
          8075,
          8075,
          8085,
          8085
         ],
         "xaxis": "x",
         "y": [
          0,
          0.05130997000330071,
          0.05130997000330071,
          0
         ],
         "yaxis": "y"
        },
        {
         "hoverinfo": "text",
         "marker": {
          "color": "rgb(133,20,75)"
         },
         "mode": "lines",
         "type": "scatter",
         "x": [
          8065,
          8065,
          8080,
          8080
         ],
         "xaxis": "x",
         "y": [
          0,
          0.7770441849497713,
          0.7770441849497713,
          0.05130997000330071
         ],
         "yaxis": "y"
        },
        {
         "hoverinfo": "text",
         "marker": {
          "color": "rgb(133,20,75)"
         },
         "mode": "lines",
         "type": "scatter",
         "x": [
          8042.5,
          8042.5,
          8072.5,
          8072.5
         ],
         "xaxis": "x",
         "y": [
          0.6146431451772312,
          2.5637193992560356,
          2.5637193992560356,
          0.7770441849497713
         ],
         "yaxis": "y"
        },
        {
         "hoverinfo": "text",
         "marker": {
          "color": "rgb(133,20,75)"
         },
         "mode": "lines",
         "type": "scatter",
         "x": [
          7927.1875,
          7927.1875,
          8057.5,
          8057.5
         ],
         "xaxis": "x",
         "y": [
          2.1496622680572353,
          4.169814048005215,
          4.169814048005215,
          2.5637193992560356
         ],
         "yaxis": "y"
        },
        {
         "hoverinfo": "text",
         "marker": {
          "color": "rgb(133,20,75)"
         },
         "mode": "lines",
         "type": "scatter",
         "x": [
          7781.5625,
          7781.5625,
          7992.34375,
          7992.34375
         ],
         "xaxis": "x",
         "y": [
          2.1692021967425865,
          7.3058124016742445,
          7.3058124016742445,
          4.169814048005215
         ],
         "yaxis": "y"
        },
        {
         "hoverinfo": "text",
         "marker": {
          "color": "rgb(133,20,75)"
         },
         "mode": "lines",
         "type": "scatter",
         "x": [
          8115,
          8115,
          8125,
          8125
         ],
         "xaxis": "x",
         "y": [
          0,
          0.031342531987987525,
          0.031342531987987525,
          0
         ],
         "yaxis": "y"
        },
        {
         "hoverinfo": "text",
         "marker": {
          "color": "rgb(133,20,75)"
         },
         "mode": "lines",
         "type": "scatter",
         "x": [
          8105,
          8105,
          8120,
          8120
         ],
         "xaxis": "x",
         "y": [
          0,
          0.10326315492407506,
          0.10326315492407506,
          0.031342531987987525
         ],
         "yaxis": "y"
        },
        {
         "hoverinfo": "text",
         "marker": {
          "color": "rgb(133,20,75)"
         },
         "mode": "lines",
         "type": "scatter",
         "x": [
          8095,
          8095,
          8112.5,
          8112.5
         ],
         "xaxis": "x",
         "y": [
          0,
          0.21162286260946128,
          0.21162286260946128,
          0.10326315492407506
         ],
         "yaxis": "y"
        },
        {
         "hoverinfo": "text",
         "marker": {
          "color": "rgb(133,20,75)"
         },
         "mode": "lines",
         "type": "scatter",
         "x": [
          8145,
          8145,
          8155,
          8155
         ],
         "xaxis": "x",
         "y": [
          0,
          0.14611359137605967,
          0.14611359137605967,
          0
         ],
         "yaxis": "y"
        },
        {
         "hoverinfo": "text",
         "marker": {
          "color": "rgb(133,20,75)"
         },
         "mode": "lines",
         "type": "scatter",
         "x": [
          8135,
          8135,
          8150,
          8150
         ],
         "xaxis": "x",
         "y": [
          0,
          0.5957437284407602,
          0.5957437284407602,
          0.14611359137605967
         ],
         "yaxis": "y"
        },
        {
         "hoverinfo": "text",
         "marker": {
          "color": "rgb(133,20,75)"
         },
         "mode": "lines",
         "type": "scatter",
         "x": [
          8103.75,
          8103.75,
          8142.5,
          8142.5
         ],
         "xaxis": "x",
         "y": [
          0.21162286260946128,
          1.0475746078581614,
          1.0475746078581614,
          0.5957437284407602
         ],
         "yaxis": "y"
        },
        {
         "hoverinfo": "text",
         "marker": {
          "color": "rgb(133,20,75)"
         },
         "mode": "lines",
         "type": "scatter",
         "x": [
          8175,
          8175,
          8185,
          8185
         ],
         "xaxis": "x",
         "y": [
          0,
          0.18495426129306058,
          0.18495426129306058,
          0
         ],
         "yaxis": "y"
        },
        {
         "hoverinfo": "text",
         "marker": {
          "color": "rgb(133,20,75)"
         },
         "mode": "lines",
         "type": "scatter",
         "x": [
          8165,
          8165,
          8180,
          8180
         ],
         "xaxis": "x",
         "y": [
          0,
          0.8184290527374355,
          0.8184290527374355,
          0.18495426129306058
         ],
         "yaxis": "y"
        },
        {
         "hoverinfo": "text",
         "marker": {
          "color": "rgb(133,20,75)"
         },
         "mode": "lines",
         "type": "scatter",
         "x": [
          8205,
          8205,
          8215,
          8215
         ],
         "xaxis": "x",
         "y": [
          0,
          0.00989680474006322,
          0.00989680474006322,
          0
         ],
         "yaxis": "y"
        },
        {
         "hoverinfo": "text",
         "marker": {
          "color": "rgb(133,20,75)"
         },
         "mode": "lines",
         "type": "scatter",
         "x": [
          8235,
          8235,
          8245,
          8245
         ],
         "xaxis": "x",
         "y": [
          0,
          0.059128040220972115,
          0.059128040220972115,
          0
         ],
         "yaxis": "y"
        },
        {
         "hoverinfo": "text",
         "marker": {
          "color": "rgb(133,20,75)"
         },
         "mode": "lines",
         "type": "scatter",
         "x": [
          8225,
          8225,
          8240,
          8240
         ],
         "xaxis": "x",
         "y": [
          0,
          0.21220151143323335,
          0.21220151143323335,
          0.059128040220972115
         ],
         "yaxis": "y"
        },
        {
         "hoverinfo": "text",
         "marker": {
          "color": "rgb(133,20,75)"
         },
         "mode": "lines",
         "type": "scatter",
         "x": [
          8210,
          8210,
          8232.5,
          8232.5
         ],
         "xaxis": "x",
         "y": [
          0.00989680474006322,
          0.904717580227365,
          0.904717580227365,
          0.21220151143323335
         ],
         "yaxis": "y"
        },
        {
         "hoverinfo": "text",
         "marker": {
          "color": "rgb(133,20,75)"
         },
         "mode": "lines",
         "type": "scatter",
         "x": [
          8195,
          8195,
          8221.25,
          8221.25
         ],
         "xaxis": "x",
         "y": [
          0,
          2.861832789330671,
          2.861832789330671,
          0.904717580227365
         ],
         "yaxis": "y"
        },
        {
         "hoverinfo": "text",
         "marker": {
          "color": "rgb(133,20,75)"
         },
         "mode": "lines",
         "type": "scatter",
         "x": [
          8172.5,
          8172.5,
          8208.125,
          8208.125
         ],
         "xaxis": "x",
         "y": [
          0.8184290527374355,
          3.613979228210784,
          3.613979228210784,
          2.861832789330671
         ],
         "yaxis": "y"
        },
        {
         "hoverinfo": "text",
         "marker": {
          "color": "rgb(133,20,75)"
         },
         "mode": "lines",
         "type": "scatter",
         "x": [
          8123.125,
          8123.125,
          8190.3125,
          8190.3125
         ],
         "xaxis": "x",
         "y": [
          1.0475746078581614,
          6.3407083752561775,
          6.3407083752561775,
          3.613979228210784
         ],
         "yaxis": "y"
        },
        {
         "hoverinfo": "text",
         "marker": {
          "color": "rgb(133,20,75)"
         },
         "mode": "lines",
         "type": "scatter",
         "x": [
          8265,
          8265,
          8275,
          8275
         ],
         "xaxis": "x",
         "y": [
          0,
          0.003966496462553999,
          0.003966496462553999,
          0
         ],
         "yaxis": "y"
        },
        {
         "hoverinfo": "text",
         "marker": {
          "color": "rgb(133,20,75)"
         },
         "mode": "lines",
         "type": "scatter",
         "x": [
          8255,
          8255,
          8270,
          8270
         ],
         "xaxis": "x",
         "y": [
          0,
          0.05996237149998306,
          0.05996237149998306,
          0.003966496462553999
         ],
         "yaxis": "y"
        },
        {
         "hoverinfo": "text",
         "marker": {
          "color": "rgb(133,20,75)"
         },
         "mode": "lines",
         "type": "scatter",
         "x": [
          8285,
          8285,
          8295,
          8295
         ],
         "xaxis": "x",
         "y": [
          0,
          0.06370097327389637,
          0.06370097327389637,
          0
         ],
         "yaxis": "y"
        },
        {
         "hoverinfo": "text",
         "marker": {
          "color": "rgb(133,20,75)"
         },
         "mode": "lines",
         "type": "scatter",
         "x": [
          8262.5,
          8262.5,
          8290,
          8290
         ],
         "xaxis": "x",
         "y": [
          0.05996237149998306,
          2.3131857205140927,
          2.3131857205140927,
          0.06370097327389637
         ],
         "yaxis": "y"
        },
        {
         "hoverinfo": "text",
         "marker": {
          "color": "rgb(133,20,75)"
         },
         "mode": "lines",
         "type": "scatter",
         "x": [
          8305,
          8305,
          8315,
          8315
         ],
         "xaxis": "x",
         "y": [
          0,
          0.0033444965328696067,
          0.0033444965328696067,
          0
         ],
         "yaxis": "y"
        },
        {
         "hoverinfo": "text",
         "marker": {
          "color": "rgb(133,20,75)"
         },
         "mode": "lines",
         "type": "scatter",
         "x": [
          8335,
          8335,
          8345,
          8345
         ],
         "xaxis": "x",
         "y": [
          0,
          0.001362382425547897,
          0.001362382425547897,
          0
         ],
         "yaxis": "y"
        },
        {
         "hoverinfo": "text",
         "marker": {
          "color": "rgb(133,20,75)"
         },
         "mode": "lines",
         "type": "scatter",
         "x": [
          8325,
          8325,
          8340,
          8340
         ],
         "xaxis": "x",
         "y": [
          0,
          0.009717962809680163,
          0.009717962809680163,
          0.001362382425547897
         ],
         "yaxis": "y"
        },
        {
         "hoverinfo": "text",
         "marker": {
          "color": "rgb(133,20,75)"
         },
         "mode": "lines",
         "type": "scatter",
         "x": [
          8310,
          8310,
          8332.5,
          8332.5
         ],
         "xaxis": "x",
         "y": [
          0.0033444965328696067,
          0.017673332387362985,
          0.017673332387362985,
          0.009717962809680163
         ],
         "yaxis": "y"
        },
        {
         "hoverinfo": "text",
         "marker": {
          "color": "rgb(133,20,75)"
         },
         "mode": "lines",
         "type": "scatter",
         "x": [
          8375,
          8375,
          8385,
          8385
         ],
         "xaxis": "x",
         "y": [
          0,
          0.1368131448213113,
          0.1368131448213113,
          0
         ],
         "yaxis": "y"
        },
        {
         "hoverinfo": "text",
         "marker": {
          "color": "rgb(133,20,75)"
         },
         "mode": "lines",
         "type": "scatter",
         "x": [
          8365,
          8365,
          8380,
          8380
         ],
         "xaxis": "x",
         "y": [
          0,
          0.46876463544757635,
          0.46876463544757635,
          0.1368131448213113
         ],
         "yaxis": "y"
        },
        {
         "hoverinfo": "text",
         "marker": {
          "color": "rgb(133,20,75)"
         },
         "mode": "lines",
         "type": "scatter",
         "x": [
          8355,
          8355,
          8372.5,
          8372.5
         ],
         "xaxis": "x",
         "y": [
          0,
          1.1358767977470219,
          1.1358767977470219,
          0.46876463544757635
         ],
         "yaxis": "y"
        },
        {
         "hoverinfo": "text",
         "marker": {
          "color": "rgb(133,20,75)"
         },
         "mode": "lines",
         "type": "scatter",
         "x": [
          8321.25,
          8321.25,
          8363.75,
          8363.75
         ],
         "xaxis": "x",
         "y": [
          0.017673332387362985,
          3.5984140602648833,
          3.5984140602648833,
          1.1358767977470219
         ],
         "yaxis": "y"
        },
        {
         "hoverinfo": "text",
         "marker": {
          "color": "rgb(133,20,75)"
         },
         "mode": "lines",
         "type": "scatter",
         "x": [
          8276.25,
          8276.25,
          8342.5,
          8342.5
         ],
         "xaxis": "x",
         "y": [
          2.3131857205140927,
          4.9622729086451915,
          4.9622729086451915,
          3.5984140602648833
         ],
         "yaxis": "y"
        },
        {
         "hoverinfo": "text",
         "marker": {
          "color": "rgb(133,20,75)"
         },
         "mode": "lines",
         "type": "scatter",
         "x": [
          8425,
          8425,
          8435,
          8435
         ],
         "xaxis": "x",
         "y": [
          0,
          0.0003655596743637075,
          0.0003655596743637075,
          0
         ],
         "yaxis": "y"
        },
        {
         "hoverinfo": "text",
         "marker": {
          "color": "rgb(133,20,75)"
         },
         "mode": "lines",
         "type": "scatter",
         "x": [
          8415,
          8415,
          8430,
          8430
         ],
         "xaxis": "x",
         "y": [
          0,
          0.003635084752418693,
          0.003635084752418693,
          0.0003655596743637075
         ],
         "yaxis": "y"
        },
        {
         "hoverinfo": "text",
         "marker": {
          "color": "rgb(133,20,75)"
         },
         "mode": "lines",
         "type": "scatter",
         "x": [
          8405,
          8405,
          8422.5,
          8422.5
         ],
         "xaxis": "x",
         "y": [
          0,
          0.009983703365331638,
          0.009983703365331638,
          0.003635084752418693
         ],
         "yaxis": "y"
        },
        {
         "hoverinfo": "text",
         "marker": {
          "color": "rgb(133,20,75)"
         },
         "mode": "lines",
         "type": "scatter",
         "x": [
          8395,
          8395,
          8413.75,
          8413.75
         ],
         "xaxis": "x",
         "y": [
          0,
          0.03503311057777229,
          0.03503311057777229,
          0.009983703365331638
         ],
         "yaxis": "y"
        },
        {
         "hoverinfo": "text",
         "marker": {
          "color": "rgb(133,20,75)"
         },
         "mode": "lines",
         "type": "scatter",
         "x": [
          8465,
          8465,
          8475,
          8475
         ],
         "xaxis": "x",
         "y": [
          0,
          0.01254959466486449,
          0.01254959466486449,
          0
         ],
         "yaxis": "y"
        },
        {
         "hoverinfo": "text",
         "marker": {
          "color": "rgb(133,20,75)"
         },
         "mode": "lines",
         "type": "scatter",
         "x": [
          8455,
          8455,
          8470,
          8470
         ],
         "xaxis": "x",
         "y": [
          0,
          0.0419950172824425,
          0.0419950172824425,
          0.01254959466486449
         ],
         "yaxis": "y"
        },
        {
         "hoverinfo": "text",
         "marker": {
          "color": "rgb(133,20,75)"
         },
         "mode": "lines",
         "type": "scatter",
         "x": [
          8445,
          8445,
          8462.5,
          8462.5
         ],
         "xaxis": "x",
         "y": [
          0,
          0.29894215045734873,
          0.29894215045734873,
          0.0419950172824425
         ],
         "yaxis": "y"
        },
        {
         "hoverinfo": "text",
         "marker": {
          "color": "rgb(133,20,75)"
         },
         "mode": "lines",
         "type": "scatter",
         "x": [
          8404.375,
          8404.375,
          8453.75,
          8453.75
         ],
         "xaxis": "x",
         "y": [
          0.03503311057777229,
          3.369693916707343,
          3.369693916707343,
          0.29894215045734873
         ],
         "yaxis": "y"
        },
        {
         "hoverinfo": "text",
         "marker": {
          "color": "rgb(133,20,75)"
         },
         "mode": "lines",
         "type": "scatter",
         "x": [
          8495,
          8495,
          8505,
          8505
         ],
         "xaxis": "x",
         "y": [
          0,
          0.05302677972021165,
          0.05302677972021165,
          0
         ],
         "yaxis": "y"
        },
        {
         "hoverinfo": "text",
         "marker": {
          "color": "rgb(133,20,75)"
         },
         "mode": "lines",
         "type": "scatter",
         "x": [
          8535,
          8535,
          8545,
          8545
         ],
         "xaxis": "x",
         "y": [
          0,
          0.1078896539792649,
          0.1078896539792649,
          0
         ],
         "yaxis": "y"
        },
        {
         "hoverinfo": "text",
         "marker": {
          "color": "rgb(133,20,75)"
         },
         "mode": "lines",
         "type": "scatter",
         "x": [
          8525,
          8525,
          8540,
          8540
         ],
         "xaxis": "x",
         "y": [
          0,
          0.23193961752108705,
          0.23193961752108705,
          0.1078896539792649
         ],
         "yaxis": "y"
        },
        {
         "hoverinfo": "text",
         "marker": {
          "color": "rgb(133,20,75)"
         },
         "mode": "lines",
         "type": "scatter",
         "x": [
          8515,
          8515,
          8532.5,
          8532.5
         ],
         "xaxis": "x",
         "y": [
          0,
          0.3442930713339761,
          0.3442930713339761,
          0.23193961752108705
         ],
         "yaxis": "y"
        },
        {
         "hoverinfo": "text",
         "marker": {
          "color": "rgb(133,20,75)"
         },
         "mode": "lines",
         "type": "scatter",
         "x": [
          8500,
          8500,
          8523.75,
          8523.75
         ],
         "xaxis": "x",
         "y": [
          0.05302677972021165,
          0.7076969687903977,
          0.7076969687903977,
          0.3442930713339761
         ],
         "yaxis": "y"
        },
        {
         "hoverinfo": "text",
         "marker": {
          "color": "rgb(133,20,75)"
         },
         "mode": "lines",
         "type": "scatter",
         "x": [
          8485,
          8485,
          8511.875,
          8511.875
         ],
         "xaxis": "x",
         "y": [
          0,
          1.3478445529281515,
          1.3478445529281515,
          0.7076969687903977
         ],
         "yaxis": "y"
        },
        {
         "hoverinfo": "text",
         "marker": {
          "color": "rgb(133,20,75)"
         },
         "mode": "lines",
         "type": "scatter",
         "x": [
          8555,
          8555,
          8565,
          8565
         ],
         "xaxis": "x",
         "y": [
          0,
          0.19246105292194957,
          0.19246105292194957,
          0
         ],
         "yaxis": "y"
        },
        {
         "hoverinfo": "text",
         "marker": {
          "color": "rgb(133,20,75)"
         },
         "mode": "lines",
         "type": "scatter",
         "x": [
          8585,
          8585,
          8595,
          8595
         ],
         "xaxis": "x",
         "y": [
          0,
          0.16038700720224397,
          0.16038700720224397,
          0
         ],
         "yaxis": "y"
        },
        {
         "hoverinfo": "text",
         "marker": {
          "color": "rgb(133,20,75)"
         },
         "mode": "lines",
         "type": "scatter",
         "x": [
          8575,
          8575,
          8590,
          8590
         ],
         "xaxis": "x",
         "y": [
          0,
          0.2988733410154451,
          0.2988733410154451,
          0.16038700720224397
         ],
         "yaxis": "y"
        },
        {
         "hoverinfo": "text",
         "marker": {
          "color": "rgb(133,20,75)"
         },
         "mode": "lines",
         "type": "scatter",
         "x": [
          8560,
          8560,
          8582.5,
          8582.5
         ],
         "xaxis": "x",
         "y": [
          0.19246105292194957,
          0.76784135176634,
          0.76784135176634,
          0.2988733410154451
         ],
         "yaxis": "y"
        },
        {
         "hoverinfo": "text",
         "marker": {
          "color": "rgb(133,20,75)"
         },
         "mode": "lines",
         "type": "scatter",
         "x": [
          8605,
          8605,
          8615,
          8615
         ],
         "xaxis": "x",
         "y": [
          0,
          0.8058968001688457,
          0.8058968001688457,
          0
         ],
         "yaxis": "y"
        },
        {
         "hoverinfo": "text",
         "marker": {
          "color": "rgb(133,20,75)"
         },
         "mode": "lines",
         "type": "scatter",
         "x": [
          8571.25,
          8571.25,
          8610,
          8610
         ],
         "xaxis": "x",
         "y": [
          0.76784135176634,
          1.6461024792111447,
          1.6461024792111447,
          0.8058968001688457
         ],
         "yaxis": "y"
        },
        {
         "hoverinfo": "text",
         "marker": {
          "color": "rgb(133,20,75)"
         },
         "mode": "lines",
         "type": "scatter",
         "x": [
          8498.4375,
          8498.4375,
          8590.625,
          8590.625
         ],
         "xaxis": "x",
         "y": [
          1.3478445529281515,
          2.5012673363789415,
          2.5012673363789415,
          1.6461024792111447
         ],
         "yaxis": "y"
        },
        {
         "hoverinfo": "text",
         "marker": {
          "color": "rgb(133,20,75)"
         },
         "mode": "lines",
         "type": "scatter",
         "x": [
          8635,
          8635,
          8645,
          8645
         ],
         "xaxis": "x",
         "y": [
          0,
          0.1610184279981495,
          0.1610184279981495,
          0
         ],
         "yaxis": "y"
        },
        {
         "hoverinfo": "text",
         "marker": {
          "color": "rgb(133,20,75)"
         },
         "mode": "lines",
         "type": "scatter",
         "x": [
          8665,
          8665,
          8675,
          8675
         ],
         "xaxis": "x",
         "y": [
          0,
          0.06621376602393496,
          0.06621376602393496,
          0
         ],
         "yaxis": "y"
        },
        {
         "hoverinfo": "text",
         "marker": {
          "color": "rgb(133,20,75)"
         },
         "mode": "lines",
         "type": "scatter",
         "x": [
          8685,
          8685,
          8695,
          8695
         ],
         "xaxis": "x",
         "y": [
          0,
          0.1978334664936872,
          0.1978334664936872,
          0
         ],
         "yaxis": "y"
        },
        {
         "hoverinfo": "text",
         "marker": {
          "color": "rgb(133,20,75)"
         },
         "mode": "lines",
         "type": "scatter",
         "x": [
          8670,
          8670,
          8690,
          8690
         ],
         "xaxis": "x",
         "y": [
          0.06621376602393496,
          0.29881965313758907,
          0.29881965313758907,
          0.1978334664936872
         ],
         "yaxis": "y"
        },
        {
         "hoverinfo": "text",
         "marker": {
          "color": "rgb(133,20,75)"
         },
         "mode": "lines",
         "type": "scatter",
         "x": [
          8655,
          8655,
          8680,
          8680
         ],
         "xaxis": "x",
         "y": [
          0,
          0.5178070585629657,
          0.5178070585629657,
          0.29881965313758907
         ],
         "yaxis": "y"
        },
        {
         "hoverinfo": "text",
         "marker": {
          "color": "rgb(133,20,75)"
         },
         "mode": "lines",
         "type": "scatter",
         "x": [
          8640,
          8640,
          8667.5,
          8667.5
         ],
         "xaxis": "x",
         "y": [
          0.1610184279981495,
          0.8645859134532481,
          0.8645859134532481,
          0.5178070585629657
         ],
         "yaxis": "y"
        },
        {
         "hoverinfo": "text",
         "marker": {
          "color": "rgb(133,20,75)"
         },
         "mode": "lines",
         "type": "scatter",
         "x": [
          8715,
          8715,
          8725,
          8725
         ],
         "xaxis": "x",
         "y": [
          0,
          0.25892659843511195,
          0.25892659843511195,
          0
         ],
         "yaxis": "y"
        },
        {
         "hoverinfo": "text",
         "marker": {
          "color": "rgb(133,20,75)"
         },
         "mode": "lines",
         "type": "scatter",
         "x": [
          8705,
          8705,
          8720,
          8720
         ],
         "xaxis": "x",
         "y": [
          0,
          0.5169063433167514,
          0.5169063433167514,
          0.25892659843511195
         ],
         "yaxis": "y"
        },
        {
         "hoverinfo": "text",
         "marker": {
          "color": "rgb(133,20,75)"
         },
         "mode": "lines",
         "type": "scatter",
         "x": [
          8735,
          8735,
          8745,
          8745
         ],
         "xaxis": "x",
         "y": [
          0,
          0.2180150047810632,
          0.2180150047810632,
          0
         ],
         "yaxis": "y"
        },
        {
         "hoverinfo": "text",
         "marker": {
          "color": "rgb(133,20,75)"
         },
         "mode": "lines",
         "type": "scatter",
         "x": [
          8755,
          8755,
          8765,
          8765
         ],
         "xaxis": "x",
         "y": [
          0,
          0.2946040247846152,
          0.2946040247846152,
          0
         ],
         "yaxis": "y"
        },
        {
         "hoverinfo": "text",
         "marker": {
          "color": "rgb(133,20,75)"
         },
         "mode": "lines",
         "type": "scatter",
         "x": [
          8740,
          8740,
          8760,
          8760
         ],
         "xaxis": "x",
         "y": [
          0.2180150047810632,
          0.6875916687585324,
          0.6875916687585324,
          0.2946040247846152
         ],
         "yaxis": "y"
        },
        {
         "hoverinfo": "text",
         "marker": {
          "color": "rgb(133,20,75)"
         },
         "mode": "lines",
         "type": "scatter",
         "x": [
          8712.5,
          8712.5,
          8750,
          8750
         ],
         "xaxis": "x",
         "y": [
          0.5169063433167514,
          1.4155848698014755,
          1.4155848698014755,
          0.6875916687585324
         ],
         "yaxis": "y"
        },
        {
         "hoverinfo": "text",
         "marker": {
          "color": "rgb(133,20,75)"
         },
         "mode": "lines",
         "type": "scatter",
         "x": [
          8653.75,
          8653.75,
          8731.25,
          8731.25
         ],
         "xaxis": "x",
         "y": [
          0.8645859134532481,
          1.6130332978600543,
          1.6130332978600543,
          1.4155848698014755
         ],
         "yaxis": "y"
        },
        {
         "hoverinfo": "text",
         "marker": {
          "color": "rgb(133,20,75)"
         },
         "mode": "lines",
         "type": "scatter",
         "x": [
          8625,
          8625,
          8692.5,
          8692.5
         ],
         "xaxis": "x",
         "y": [
          0,
          2.5891849741115824,
          2.5891849741115824,
          1.6130332978600543
         ],
         "yaxis": "y"
        },
        {
         "hoverinfo": "text",
         "marker": {
          "color": "rgb(133,20,75)"
         },
         "mode": "lines",
         "type": "scatter",
         "x": [
          8544.53125,
          8544.53125,
          8658.75,
          8658.75
         ],
         "xaxis": "x",
         "y": [
          2.5012673363789415,
          3.4295010425154033,
          3.4295010425154033,
          2.5891849741115824
         ],
         "yaxis": "y"
        },
        {
         "hoverinfo": "text",
         "marker": {
          "color": "rgb(133,20,75)"
         },
         "mode": "lines",
         "type": "scatter",
         "x": [
          8429.0625,
          8429.0625,
          8601.640625,
          8601.640625
         ],
         "xaxis": "x",
         "y": [
          3.369693916707343,
          6.367933932258924,
          6.367933932258924,
          3.4295010425154033
         ],
         "yaxis": "y"
        },
        {
         "hoverinfo": "text",
         "marker": {
          "color": "rgb(133,20,75)"
         },
         "mode": "lines",
         "type": "scatter",
         "x": [
          8309.375,
          8309.375,
          8515.3515625,
          8515.3515625
         ],
         "xaxis": "x",
         "y": [
          4.9622729086451915,
          8.457874216420187,
          8.457874216420187,
          6.367933932258924
         ],
         "yaxis": "y"
        },
        {
         "hoverinfo": "text",
         "marker": {
          "color": "rgb(133,20,75)"
         },
         "mode": "lines",
         "type": "scatter",
         "x": [
          8156.71875,
          8156.71875,
          8412.36328125,
          8412.36328125
         ],
         "xaxis": "x",
         "y": [
          6.3407083752561775,
          11.064119558002162,
          11.064119558002162,
          8.457874216420187
         ],
         "yaxis": "y"
        },
        {
         "hoverinfo": "text",
         "marker": {
          "color": "rgb(133,20,75)"
         },
         "mode": "lines",
         "type": "scatter",
         "x": [
          7886.953125,
          7886.953125,
          8284.541015625,
          8284.541015625
         ],
         "xaxis": "x",
         "y": [
          7.3058124016742445,
          14.256983471163165,
          14.256983471163165,
          11.064119558002162
         ],
         "yaxis": "y"
        },
        {
         "hoverinfo": "text",
         "marker": {
          "color": "rgb(133,20,75)"
         },
         "mode": "lines",
         "type": "scatter",
         "x": [
          8785,
          8785,
          8795,
          8795
         ],
         "xaxis": "x",
         "y": [
          0,
          0.01614186792778741,
          0.01614186792778741,
          0
         ],
         "yaxis": "y"
        },
        {
         "hoverinfo": "text",
         "marker": {
          "color": "rgb(133,20,75)"
         },
         "mode": "lines",
         "type": "scatter",
         "x": [
          8775,
          8775,
          8790,
          8790
         ],
         "xaxis": "x",
         "y": [
          0,
          0.19163402063014323,
          0.19163402063014323,
          0.01614186792778741
         ],
         "yaxis": "y"
        },
        {
         "hoverinfo": "text",
         "marker": {
          "color": "rgb(133,20,75)"
         },
         "mode": "lines",
         "type": "scatter",
         "x": [
          8805,
          8805,
          8815,
          8815
         ],
         "xaxis": "x",
         "y": [
          0,
          0.019283905925175242,
          0.019283905925175242,
          0
         ],
         "yaxis": "y"
        },
        {
         "hoverinfo": "text",
         "marker": {
          "color": "rgb(133,20,75)"
         },
         "mode": "lines",
         "type": "scatter",
         "x": [
          8835,
          8835,
          8845,
          8845
         ],
         "xaxis": "x",
         "y": [
          0,
          0.0014320771867743112,
          0.0014320771867743112,
          0
         ],
         "yaxis": "y"
        },
        {
         "hoverinfo": "text",
         "marker": {
          "color": "rgb(133,20,75)"
         },
         "mode": "lines",
         "type": "scatter",
         "x": [
          8825,
          8825,
          8840,
          8840
         ],
         "xaxis": "x",
         "y": [
          0,
          0.1675999175012207,
          0.1675999175012207,
          0.0014320771867743112
         ],
         "yaxis": "y"
        },
        {
         "hoverinfo": "text",
         "marker": {
          "color": "rgb(133,20,75)"
         },
         "mode": "lines",
         "type": "scatter",
         "x": [
          8810,
          8810,
          8832.5,
          8832.5
         ],
         "xaxis": "x",
         "y": [
          0.019283905925175242,
          2.126217890854484,
          2.126217890854484,
          0.1675999175012207
         ],
         "yaxis": "y"
        },
        {
         "hoverinfo": "text",
         "marker": {
          "color": "rgb(133,20,75)"
         },
         "mode": "lines",
         "type": "scatter",
         "x": [
          8782.5,
          8782.5,
          8821.25,
          8821.25
         ],
         "xaxis": "x",
         "y": [
          0.19163402063014323,
          4.747168668663936,
          4.747168668663936,
          2.126217890854484
         ],
         "yaxis": "y"
        },
        {
         "hoverinfo": "text",
         "marker": {
          "color": "rgb(133,20,75)"
         },
         "mode": "lines",
         "type": "scatter",
         "x": [
          8865,
          8865,
          8875,
          8875
         ],
         "xaxis": "x",
         "y": [
          0,
          0.01844948666137962,
          0.01844948666137962,
          0
         ],
         "yaxis": "y"
        },
        {
         "hoverinfo": "text",
         "marker": {
          "color": "rgb(133,20,75)"
         },
         "mode": "lines",
         "type": "scatter",
         "x": [
          8855,
          8855,
          8870,
          8870
         ],
         "xaxis": "x",
         "y": [
          0,
          1.446553689354127,
          1.446553689354127,
          0.01844948666137962
         ],
         "yaxis": "y"
        },
        {
         "hoverinfo": "text",
         "marker": {
          "color": "rgb(133,20,75)"
         },
         "mode": "lines",
         "type": "scatter",
         "x": [
          8885,
          8885,
          8895,
          8895
         ],
         "xaxis": "x",
         "y": [
          0,
          0.0065216277434090985,
          0.0065216277434090985,
          0
         ],
         "yaxis": "y"
        },
        {
         "hoverinfo": "text",
         "marker": {
          "color": "rgb(133,20,75)"
         },
         "mode": "lines",
         "type": "scatter",
         "x": [
          8905,
          8905,
          8915,
          8915
         ],
         "xaxis": "x",
         "y": [
          0,
          1.1509234403061137,
          1.1509234403061137,
          0
         ],
         "yaxis": "y"
        },
        {
         "hoverinfo": "text",
         "marker": {
          "color": "rgb(133,20,75)"
         },
         "mode": "lines",
         "type": "scatter",
         "x": [
          8890,
          8890,
          8910,
          8910
         ],
         "xaxis": "x",
         "y": [
          0.0065216277434090985,
          1.794119241533183,
          1.794119241533183,
          1.1509234403061137
         ],
         "yaxis": "y"
        },
        {
         "hoverinfo": "text",
         "marker": {
          "color": "rgb(133,20,75)"
         },
         "mode": "lines",
         "type": "scatter",
         "x": [
          8862.5,
          8862.5,
          8900,
          8900
         ],
         "xaxis": "x",
         "y": [
          1.446553689354127,
          2.952924354914626,
          2.952924354914626,
          1.794119241533183
         ],
         "yaxis": "y"
        },
        {
         "hoverinfo": "text",
         "marker": {
          "color": "rgb(133,20,75)"
         },
         "mode": "lines",
         "type": "scatter",
         "x": [
          8925,
          8925,
          8935,
          8935
         ],
         "xaxis": "x",
         "y": [
          0,
          0.02280206540515598,
          0.02280206540515598,
          0
         ],
         "yaxis": "y"
        },
        {
         "hoverinfo": "text",
         "marker": {
          "color": "rgb(133,20,75)"
         },
         "mode": "lines",
         "type": "scatter",
         "x": [
          8955,
          8955,
          8965,
          8965
         ],
         "xaxis": "x",
         "y": [
          0,
          0.013142210223764331,
          0.013142210223764331,
          0
         ],
         "yaxis": "y"
        },
        {
         "hoverinfo": "text",
         "marker": {
          "color": "rgb(133,20,75)"
         },
         "mode": "lines",
         "type": "scatter",
         "x": [
          8945,
          8945,
          8960,
          8960
         ],
         "xaxis": "x",
         "y": [
          0,
          1.462719111772937,
          1.462719111772937,
          0.013142210223764331
         ],
         "yaxis": "y"
        },
        {
         "hoverinfo": "text",
         "marker": {
          "color": "rgb(133,20,75)"
         },
         "mode": "lines",
         "type": "scatter",
         "x": [
          8930,
          8930,
          8952.5,
          8952.5
         ],
         "xaxis": "x",
         "y": [
          0.02280206540515598,
          2.134489290158967,
          2.134489290158967,
          1.462719111772937
         ],
         "yaxis": "y"
        },
        {
         "hoverinfo": "text",
         "marker": {
          "color": "rgb(133,20,75)"
         },
         "mode": "lines",
         "type": "scatter",
         "x": [
          8985,
          8985,
          8995,
          8995
         ],
         "xaxis": "x",
         "y": [
          0,
          0.016424584862716918,
          0.016424584862716918,
          0
         ],
         "yaxis": "y"
        },
        {
         "hoverinfo": "text",
         "marker": {
          "color": "rgb(133,20,75)"
         },
         "mode": "lines",
         "type": "scatter",
         "x": [
          8975,
          8975,
          8990,
          8990
         ],
         "xaxis": "x",
         "y": [
          0,
          0.393296954232839,
          0.393296954232839,
          0.016424584862716918
         ],
         "yaxis": "y"
        },
        {
         "hoverinfo": "text",
         "marker": {
          "color": "rgb(133,20,75)"
         },
         "mode": "lines",
         "type": "scatter",
         "x": [
          9005,
          9005,
          9015,
          9015
         ],
         "xaxis": "x",
         "y": [
          0,
          0.13510161224886474,
          0.13510161224886474,
          0
         ],
         "yaxis": "y"
        },
        {
         "hoverinfo": "text",
         "marker": {
          "color": "rgb(133,20,75)"
         },
         "mode": "lines",
         "type": "scatter",
         "x": [
          9035,
          9035,
          9045,
          9045
         ],
         "xaxis": "x",
         "y": [
          0,
          0.07360813471365732,
          0.07360813471365732,
          0
         ],
         "yaxis": "y"
        },
        {
         "hoverinfo": "text",
         "marker": {
          "color": "rgb(133,20,75)"
         },
         "mode": "lines",
         "type": "scatter",
         "x": [
          9025,
          9025,
          9040,
          9040
         ],
         "xaxis": "x",
         "y": [
          0,
          0.26763867747373127,
          0.26763867747373127,
          0.07360813471365732
         ],
         "yaxis": "y"
        },
        {
         "hoverinfo": "text",
         "marker": {
          "color": "rgb(133,20,75)"
         },
         "mode": "lines",
         "type": "scatter",
         "x": [
          9010,
          9010,
          9032.5,
          9032.5
         ],
         "xaxis": "x",
         "y": [
          0.13510161224886474,
          0.5331578199325231,
          0.5331578199325231,
          0.26763867747373127
         ],
         "yaxis": "y"
        },
        {
         "hoverinfo": "text",
         "marker": {
          "color": "rgb(133,20,75)"
         },
         "mode": "lines",
         "type": "scatter",
         "x": [
          8982.5,
          8982.5,
          9021.25,
          9021.25
         ],
         "xaxis": "x",
         "y": [
          0.393296954232839,
          0.9055060268853022,
          0.9055060268853022,
          0.5331578199325231
         ],
         "yaxis": "y"
        },
        {
         "hoverinfo": "text",
         "marker": {
          "color": "rgb(133,20,75)"
         },
         "mode": "lines",
         "type": "scatter",
         "x": [
          9055,
          9055,
          9065,
          9065
         ],
         "xaxis": "x",
         "y": [
          0,
          0.372095039646901,
          0.372095039646901,
          0
         ],
         "yaxis": "y"
        },
        {
         "hoverinfo": "text",
         "marker": {
          "color": "rgb(133,20,75)"
         },
         "mode": "lines",
         "type": "scatter",
         "x": [
          9085,
          9085,
          9095,
          9095
         ],
         "xaxis": "x",
         "y": [
          0,
          0.1639473421715845,
          0.1639473421715845,
          0
         ],
         "yaxis": "y"
        },
        {
         "hoverinfo": "text",
         "marker": {
          "color": "rgb(133,20,75)"
         },
         "mode": "lines",
         "type": "scatter",
         "x": [
          9075,
          9075,
          9090,
          9090
         ],
         "xaxis": "x",
         "y": [
          0,
          0.8210627049953694,
          0.8210627049953694,
          0.1639473421715845
         ],
         "yaxis": "y"
        },
        {
         "hoverinfo": "text",
         "marker": {
          "color": "rgb(133,20,75)"
         },
         "mode": "lines",
         "type": "scatter",
         "x": [
          9060,
          9060,
          9082.5,
          9082.5
         ],
         "xaxis": "x",
         "y": [
          0.372095039646901,
          1.3400402905095936,
          1.3400402905095936,
          0.8210627049953694
         ],
         "yaxis": "y"
        },
        {
         "hoverinfo": "text",
         "marker": {
          "color": "rgb(133,20,75)"
         },
         "mode": "lines",
         "type": "scatter",
         "x": [
          9001.875,
          9001.875,
          9071.25,
          9071.25
         ],
         "xaxis": "x",
         "y": [
          0.9055060268853022,
          1.9012337826091306,
          1.9012337826091306,
          1.3400402905095936
         ],
         "yaxis": "y"
        },
        {
         "hoverinfo": "text",
         "marker": {
          "color": "rgb(133,20,75)"
         },
         "mode": "lines",
         "type": "scatter",
         "x": [
          9115,
          9115,
          9125,
          9125
         ],
         "xaxis": "x",
         "y": [
          0,
          0.16565593074907498,
          0.16565593074907498,
          0
         ],
         "yaxis": "y"
        },
        {
         "hoverinfo": "text",
         "marker": {
          "color": "rgb(133,20,75)"
         },
         "mode": "lines",
         "type": "scatter",
         "x": [
          9105,
          9105,
          9120,
          9120
         ],
         "xaxis": "x",
         "y": [
          0,
          0.3168726606476444,
          0.3168726606476444,
          0.16565593074907498
         ],
         "yaxis": "y"
        },
        {
         "hoverinfo": "text",
         "marker": {
          "color": "rgb(133,20,75)"
         },
         "mode": "lines",
         "type": "scatter",
         "x": [
          9155,
          9155,
          9165,
          9165
         ],
         "xaxis": "x",
         "y": [
          0,
          0.1473448212230639,
          0.1473448212230639,
          0
         ],
         "yaxis": "y"
        },
        {
         "hoverinfo": "text",
         "marker": {
          "color": "rgb(133,20,75)"
         },
         "mode": "lines",
         "type": "scatter",
         "x": [
          9145,
          9145,
          9160,
          9160
         ],
         "xaxis": "x",
         "y": [
          0,
          0.3398215778528964,
          0.3398215778528964,
          0.1473448212230639
         ],
         "yaxis": "y"
        },
        {
         "hoverinfo": "text",
         "marker": {
          "color": "rgb(133,20,75)"
         },
         "mode": "lines",
         "type": "scatter",
         "x": [
          9135,
          9135,
          9152.5,
          9152.5
         ],
         "xaxis": "x",
         "y": [
          0,
          0.6191217136480974,
          0.6191217136480974,
          0.3398215778528964
         ],
         "yaxis": "y"
        },
        {
         "hoverinfo": "text",
         "marker": {
          "color": "rgb(133,20,75)"
         },
         "mode": "lines",
         "type": "scatter",
         "x": [
          9112.5,
          9112.5,
          9143.75,
          9143.75
         ],
         "xaxis": "x",
         "y": [
          0.3168726606476444,
          1.2001567726542859,
          1.2001567726542859,
          0.6191217136480974
         ],
         "yaxis": "y"
        },
        {
         "hoverinfo": "text",
         "marker": {
          "color": "rgb(133,20,75)"
         },
         "mode": "lines",
         "type": "scatter",
         "x": [
          9185,
          9185,
          9195,
          9195
         ],
         "xaxis": "x",
         "y": [
          0,
          0.04618727025384201,
          0.04618727025384201,
          0
         ],
         "yaxis": "y"
        },
        {
         "hoverinfo": "text",
         "marker": {
          "color": "rgb(133,20,75)"
         },
         "mode": "lines",
         "type": "scatter",
         "x": [
          9175,
          9175,
          9190,
          9190
         ],
         "xaxis": "x",
         "y": [
          0,
          0.1990360974236781,
          0.1990360974236781,
          0.04618727025384201
         ],
         "yaxis": "y"
        },
        {
         "hoverinfo": "text",
         "marker": {
          "color": "rgb(133,20,75)"
         },
         "mode": "lines",
         "type": "scatter",
         "x": [
          9205,
          9205,
          9215,
          9215
         ],
         "xaxis": "x",
         "y": [
          0,
          0.15229389790092965,
          0.15229389790092965,
          0
         ],
         "yaxis": "y"
        },
        {
         "hoverinfo": "text",
         "marker": {
          "color": "rgb(133,20,75)"
         },
         "mode": "lines",
         "type": "scatter",
         "x": [
          9225,
          9225,
          9235,
          9235
         ],
         "xaxis": "x",
         "y": [
          0,
          0.22606881722373423,
          0.22606881722373423,
          0
         ],
         "yaxis": "y"
        },
        {
         "hoverinfo": "text",
         "marker": {
          "color": "rgb(133,20,75)"
         },
         "mode": "lines",
         "type": "scatter",
         "x": [
          9210,
          9210,
          9230,
          9230
         ],
         "xaxis": "x",
         "y": [
          0.15229389790092965,
          0.5012959244214158,
          0.5012959244214158,
          0.22606881722373423
         ],
         "yaxis": "y"
        },
        {
         "hoverinfo": "text",
         "marker": {
          "color": "rgb(133,20,75)"
         },
         "mode": "lines",
         "type": "scatter",
         "x": [
          9182.5,
          9182.5,
          9220,
          9220
         ],
         "xaxis": "x",
         "y": [
          0.1990360974236781,
          0.673538967224265,
          0.673538967224265,
          0.5012959244214158
         ],
         "yaxis": "y"
        },
        {
         "hoverinfo": "text",
         "marker": {
          "color": "rgb(133,20,75)"
         },
         "mode": "lines",
         "type": "scatter",
         "x": [
          9255,
          9255,
          9265,
          9265
         ],
         "xaxis": "x",
         "y": [
          0,
          0.4446232412363835,
          0.4446232412363835,
          0
         ],
         "yaxis": "y"
        },
        {
         "hoverinfo": "text",
         "marker": {
          "color": "rgb(133,20,75)"
         },
         "mode": "lines",
         "type": "scatter",
         "x": [
          9245,
          9245,
          9260,
          9260
         ],
         "xaxis": "x",
         "y": [
          0,
          0.882020625173472,
          0.882020625173472,
          0.4446232412363835
         ],
         "yaxis": "y"
        },
        {
         "hoverinfo": "text",
         "marker": {
          "color": "rgb(133,20,75)"
         },
         "mode": "lines",
         "type": "scatter",
         "x": [
          9201.25,
          9201.25,
          9252.5,
          9252.5
         ],
         "xaxis": "x",
         "y": [
          0.673538967224265,
          1.259333475658528,
          1.259333475658528,
          0.882020625173472
         ],
         "yaxis": "y"
        },
        {
         "hoverinfo": "text",
         "marker": {
          "color": "rgb(133,20,75)"
         },
         "mode": "lines",
         "type": "scatter",
         "x": [
          9128.125,
          9128.125,
          9226.875,
          9226.875
         ],
         "xaxis": "x",
         "y": [
          1.2001567726542859,
          1.927315664811577,
          1.927315664811577,
          1.259333475658528
         ],
         "yaxis": "y"
        },
        {
         "hoverinfo": "text",
         "marker": {
          "color": "rgb(133,20,75)"
         },
         "mode": "lines",
         "type": "scatter",
         "x": [
          9036.5625,
          9036.5625,
          9177.5,
          9177.5
         ],
         "xaxis": "x",
         "y": [
          1.9012337826091306,
          3.4871697820723924,
          3.4871697820723924,
          1.927315664811577
         ],
         "yaxis": "y"
        },
        {
         "hoverinfo": "text",
         "marker": {
          "color": "rgb(133,20,75)"
         },
         "mode": "lines",
         "type": "scatter",
         "x": [
          8941.25,
          8941.25,
          9107.03125,
          9107.03125
         ],
         "xaxis": "x",
         "y": [
          2.134489290158967,
          4.344054489301053,
          4.344054489301053,
          3.4871697820723924
         ],
         "yaxis": "y"
        },
        {
         "hoverinfo": "text",
         "marker": {
          "color": "rgb(133,20,75)"
         },
         "mode": "lines",
         "type": "scatter",
         "x": [
          8881.25,
          8881.25,
          9024.140625,
          9024.140625
         ],
         "xaxis": "x",
         "y": [
          2.952924354914626,
          5.584047352829348,
          5.584047352829348,
          4.344054489301053
         ],
         "yaxis": "y"
        },
        {
         "hoverinfo": "text",
         "marker": {
          "color": "rgb(133,20,75)"
         },
         "mode": "lines",
         "type": "scatter",
         "x": [
          8801.875,
          8801.875,
          8952.6953125,
          8952.6953125
         ],
         "xaxis": "x",
         "y": [
          4.747168668663936,
          6.968164283835934,
          6.968164283835934,
          5.584047352829348
         ],
         "yaxis": "y"
        },
        {
         "hoverinfo": "text",
         "marker": {
          "color": "rgb(133,20,75)"
         },
         "mode": "lines",
         "type": "scatter",
         "x": [
          9285,
          9285,
          9295,
          9295
         ],
         "xaxis": "x",
         "y": [
          0,
          0.0018703662032705374,
          0.0018703662032705374,
          0
         ],
         "yaxis": "y"
        },
        {
         "hoverinfo": "text",
         "marker": {
          "color": "rgb(133,20,75)"
         },
         "mode": "lines",
         "type": "scatter",
         "x": [
          9275,
          9275,
          9290,
          9290
         ],
         "xaxis": "x",
         "y": [
          0,
          0.17844131031762545,
          0.17844131031762545,
          0.0018703662032705374
         ],
         "yaxis": "y"
        },
        {
         "hoverinfo": "text",
         "marker": {
          "color": "rgb(133,20,75)"
         },
         "mode": "lines",
         "type": "scatter",
         "x": [
          9325,
          9325,
          9335,
          9335
         ],
         "xaxis": "x",
         "y": [
          0,
          0.013410922664507538,
          0.013410922664507538,
          0
         ],
         "yaxis": "y"
        },
        {
         "hoverinfo": "text",
         "marker": {
          "color": "rgb(133,20,75)"
         },
         "mode": "lines",
         "type": "scatter",
         "x": [
          9315,
          9315,
          9330,
          9330
         ],
         "xaxis": "x",
         "y": [
          0,
          0.056466594400451334,
          0.056466594400451334,
          0.013410922664507538
         ],
         "yaxis": "y"
        },
        {
         "hoverinfo": "text",
         "marker": {
          "color": "rgb(133,20,75)"
         },
         "mode": "lines",
         "type": "scatter",
         "x": [
          9305,
          9305,
          9322.5,
          9322.5
         ],
         "xaxis": "x",
         "y": [
          0,
          0.1918260066852145,
          0.1918260066852145,
          0.056466594400451334
         ],
         "yaxis": "y"
        },
        {
         "hoverinfo": "text",
         "marker": {
          "color": "rgb(133,20,75)"
         },
         "mode": "lines",
         "type": "scatter",
         "x": [
          9282.5,
          9282.5,
          9313.75,
          9313.75
         ],
         "xaxis": "x",
         "y": [
          0.17844131031762545,
          0.49881338508858986,
          0.49881338508858986,
          0.1918260066852145
         ],
         "yaxis": "y"
        },
        {
         "hoverinfo": "text",
         "marker": {
          "color": "rgb(133,20,75)"
         },
         "mode": "lines",
         "type": "scatter",
         "x": [
          9345,
          9345,
          9355,
          9355
         ],
         "xaxis": "x",
         "y": [
          0,
          0.029356394110799537,
          0.029356394110799537,
          0
         ],
         "yaxis": "y"
        },
        {
         "hoverinfo": "text",
         "marker": {
          "color": "rgb(133,20,75)"
         },
         "mode": "lines",
         "type": "scatter",
         "x": [
          9375,
          9375,
          9385,
          9385
         ],
         "xaxis": "x",
         "y": [
          0,
          0.0014580579383062246,
          0.0014580579383062246,
          0
         ],
         "yaxis": "y"
        },
        {
         "hoverinfo": "text",
         "marker": {
          "color": "rgb(133,20,75)"
         },
         "mode": "lines",
         "type": "scatter",
         "x": [
          9365,
          9365,
          9380,
          9380
         ],
         "xaxis": "x",
         "y": [
          0,
          0.019417124462985734,
          0.019417124462985734,
          0.0014580579383062246
         ],
         "yaxis": "y"
        },
        {
         "hoverinfo": "text",
         "marker": {
          "color": "rgb(133,20,75)"
         },
         "mode": "lines",
         "type": "scatter",
         "x": [
          9415,
          9415,
          9425,
          9425
         ],
         "xaxis": "x",
         "y": [
          0,
          0.0027317154725247307,
          0.0027317154725247307,
          0
         ],
         "yaxis": "y"
        },
        {
         "hoverinfo": "text",
         "marker": {
          "color": "rgb(133,20,75)"
         },
         "mode": "lines",
         "type": "scatter",
         "x": [
          9405,
          9405,
          9420,
          9420
         ],
         "xaxis": "x",
         "y": [
          0,
          0.006041481632103005,
          0.006041481632103005,
          0.0027317154725247307
         ],
         "yaxis": "y"
        },
        {
         "hoverinfo": "text",
         "marker": {
          "color": "rgb(133,20,75)"
         },
         "mode": "lines",
         "type": "scatter",
         "x": [
          9395,
          9395,
          9412.5,
          9412.5
         ],
         "xaxis": "x",
         "y": [
          0,
          0.03465690972437579,
          0.03465690972437579,
          0.006041481632103005
         ],
         "yaxis": "y"
        },
        {
         "hoverinfo": "text",
         "marker": {
          "color": "rgb(133,20,75)"
         },
         "mode": "lines",
         "type": "scatter",
         "x": [
          9372.5,
          9372.5,
          9403.75,
          9403.75
         ],
         "xaxis": "x",
         "y": [
          0.019417124462985734,
          0.061705892754776885,
          0.061705892754776885,
          0.03465690972437579
         ],
         "yaxis": "y"
        },
        {
         "hoverinfo": "text",
         "marker": {
          "color": "rgb(133,20,75)"
         },
         "mode": "lines",
         "type": "scatter",
         "x": [
          9350,
          9350,
          9388.125,
          9388.125
         ],
         "xaxis": "x",
         "y": [
          0.029356394110799537,
          3.037143051882135,
          3.037143051882135,
          0.061705892754776885
         ],
         "yaxis": "y"
        },
        {
         "hoverinfo": "text",
         "marker": {
          "color": "rgb(133,20,75)"
         },
         "mode": "lines",
         "type": "scatter",
         "x": [
          9298.125,
          9298.125,
          9369.0625,
          9369.0625
         ],
         "xaxis": "x",
         "y": [
          0.49881338508858986,
          6.064846007601298,
          6.064846007601298,
          3.037143051882135
         ],
         "yaxis": "y"
        },
        {
         "hoverinfo": "text",
         "marker": {
          "color": "rgb(133,20,75)"
         },
         "mode": "lines",
         "type": "scatter",
         "x": [
          9445,
          9445,
          9455,
          9455
         ],
         "xaxis": "x",
         "y": [
          0,
          0.1903447635694899,
          0.1903447635694899,
          0
         ],
         "yaxis": "y"
        },
        {
         "hoverinfo": "text",
         "marker": {
          "color": "rgb(133,20,75)"
         },
         "mode": "lines",
         "type": "scatter",
         "x": [
          9435,
          9435,
          9450,
          9450
         ],
         "xaxis": "x",
         "y": [
          0,
          0.4420027627316297,
          0.4420027627316297,
          0.1903447635694899
         ],
         "yaxis": "y"
        },
        {
         "hoverinfo": "text",
         "marker": {
          "color": "rgb(133,20,75)"
         },
         "mode": "lines",
         "type": "scatter",
         "x": [
          9475,
          9475,
          9485,
          9485
         ],
         "xaxis": "x",
         "y": [
          0,
          0.03779480832834649,
          0.03779480832834649,
          0
         ],
         "yaxis": "y"
        },
        {
         "hoverinfo": "text",
         "marker": {
          "color": "rgb(133,20,75)"
         },
         "mode": "lines",
         "type": "scatter",
         "x": [
          9465,
          9465,
          9480,
          9480
         ],
         "xaxis": "x",
         "y": [
          0,
          0.702645309177497,
          0.702645309177497,
          0.03779480832834649
         ],
         "yaxis": "y"
        },
        {
         "hoverinfo": "text",
         "marker": {
          "color": "rgb(133,20,75)"
         },
         "mode": "lines",
         "type": "scatter",
         "x": [
          9442.5,
          9442.5,
          9472.5,
          9472.5
         ],
         "xaxis": "x",
         "y": [
          0.4420027627316297,
          1.093023519760099,
          1.093023519760099,
          0.702645309177497
         ],
         "yaxis": "y"
        },
        {
         "hoverinfo": "text",
         "marker": {
          "color": "rgb(133,20,75)"
         },
         "mode": "lines",
         "type": "scatter",
         "x": [
          9505,
          9505,
          9515,
          9515
         ],
         "xaxis": "x",
         "y": [
          0,
          0.6542268922997407,
          0.6542268922997407,
          0
         ],
         "yaxis": "y"
        },
        {
         "hoverinfo": "text",
         "marker": {
          "color": "rgb(133,20,75)"
         },
         "mode": "lines",
         "type": "scatter",
         "x": [
          9495,
          9495,
          9510,
          9510
         ],
         "xaxis": "x",
         "y": [
          0,
          1.2328804333038665,
          1.2328804333038665,
          0.6542268922997407
         ],
         "yaxis": "y"
        },
        {
         "hoverinfo": "text",
         "marker": {
          "color": "rgb(133,20,75)"
         },
         "mode": "lines",
         "type": "scatter",
         "x": [
          9457.5,
          9457.5,
          9502.5,
          9502.5
         ],
         "xaxis": "x",
         "y": [
          1.093023519760099,
          2.0810330659149896,
          2.0810330659149896,
          1.2328804333038665
         ],
         "yaxis": "y"
        },
        {
         "hoverinfo": "text",
         "marker": {
          "color": "rgb(133,20,75)"
         },
         "mode": "lines",
         "type": "scatter",
         "x": [
          9525,
          9525,
          9535,
          9535
         ],
         "xaxis": "x",
         "y": [
          0,
          1.275880307432559,
          1.275880307432559,
          0
         ],
         "yaxis": "y"
        },
        {
         "hoverinfo": "text",
         "marker": {
          "color": "rgb(133,20,75)"
         },
         "mode": "lines",
         "type": "scatter",
         "x": [
          9545,
          9545,
          9555,
          9555
         ],
         "xaxis": "x",
         "y": [
          0,
          0.10398501217685431,
          0.10398501217685431,
          0
         ],
         "yaxis": "y"
        },
        {
         "hoverinfo": "text",
         "marker": {
          "color": "rgb(133,20,75)"
         },
         "mode": "lines",
         "type": "scatter",
         "x": [
          9565,
          9565,
          9575,
          9575
         ],
         "xaxis": "x",
         "y": [
          0,
          0.4737115956682851,
          0.4737115956682851,
          0
         ],
         "yaxis": "y"
        },
        {
         "hoverinfo": "text",
         "marker": {
          "color": "rgb(133,20,75)"
         },
         "mode": "lines",
         "type": "scatter",
         "x": [
          9550,
          9550,
          9570,
          9570
         ],
         "xaxis": "x",
         "y": [
          0.10398501217685431,
          0.9540429939434326,
          0.9540429939434326,
          0.4737115956682851
         ],
         "yaxis": "y"
        },
        {
         "hoverinfo": "text",
         "marker": {
          "color": "rgb(133,20,75)"
         },
         "mode": "lines",
         "type": "scatter",
         "x": [
          9595,
          9595,
          9605,
          9605
         ],
         "xaxis": "x",
         "y": [
          0,
          0.1150010441344362,
          0.1150010441344362,
          0
         ],
         "yaxis": "y"
        },
        {
         "hoverinfo": "text",
         "marker": {
          "color": "rgb(133,20,75)"
         },
         "mode": "lines",
         "type": "scatter",
         "x": [
          9585,
          9585,
          9600,
          9600
         ],
         "xaxis": "x",
         "y": [
          0,
          0.23110537119042485,
          0.23110537119042485,
          0.1150010441344362
         ],
         "yaxis": "y"
        },
        {
         "hoverinfo": "text",
         "marker": {
          "color": "rgb(133,20,75)"
         },
         "mode": "lines",
         "type": "scatter",
         "x": [
          9615,
          9615,
          9625,
          9625
         ],
         "xaxis": "x",
         "y": [
          0,
          0.3259661138015954,
          0.3259661138015954,
          0
         ],
         "yaxis": "y"
        },
        {
         "hoverinfo": "text",
         "marker": {
          "color": "rgb(133,20,75)"
         },
         "mode": "lines",
         "type": "scatter",
         "x": [
          9655,
          9655,
          9665,
          9665
         ],
         "xaxis": "x",
         "y": [
          0,
          0.005469887026869881,
          0.005469887026869881,
          0
         ],
         "yaxis": "y"
        },
        {
         "hoverinfo": "text",
         "marker": {
          "color": "rgb(133,20,75)"
         },
         "mode": "lines",
         "type": "scatter",
         "x": [
          9645,
          9645,
          9660,
          9660
         ],
         "xaxis": "x",
         "y": [
          0,
          0.13516788480015776,
          0.13516788480015776,
          0.005469887026869881
         ],
         "yaxis": "y"
        },
        {
         "hoverinfo": "text",
         "marker": {
          "color": "rgb(133,20,75)"
         },
         "mode": "lines",
         "type": "scatter",
         "x": [
          9635,
          9635,
          9652.5,
          9652.5
         ],
         "xaxis": "x",
         "y": [
          0,
          0.3402918443288884,
          0.3402918443288884,
          0.13516788480015776
         ],
         "yaxis": "y"
        },
        {
         "hoverinfo": "text",
         "marker": {
          "color": "rgb(133,20,75)"
         },
         "mode": "lines",
         "type": "scatter",
         "x": [
          9620,
          9620,
          9643.75,
          9643.75
         ],
         "xaxis": "x",
         "y": [
          0.3259661138015954,
          0.6191034504214621,
          0.6191034504214621,
          0.3402918443288884
         ],
         "yaxis": "y"
        },
        {
         "hoverinfo": "text",
         "marker": {
          "color": "rgb(133,20,75)"
         },
         "mode": "lines",
         "type": "scatter",
         "x": [
          9592.5,
          9592.5,
          9631.875,
          9631.875
         ],
         "xaxis": "x",
         "y": [
          0.23110537119042485,
          1.0011518034262028,
          1.0011518034262028,
          0.6191034504214621
         ],
         "yaxis": "y"
        },
        {
         "hoverinfo": "text",
         "marker": {
          "color": "rgb(133,20,75)"
         },
         "mode": "lines",
         "type": "scatter",
         "x": [
          9560,
          9560,
          9612.1875,
          9612.1875
         ],
         "xaxis": "x",
         "y": [
          0.9540429939434326,
          1.450834701932482,
          1.450834701932482,
          1.0011518034262028
         ],
         "yaxis": "y"
        },
        {
         "hoverinfo": "text",
         "marker": {
          "color": "rgb(133,20,75)"
         },
         "mode": "lines",
         "type": "scatter",
         "x": [
          9530,
          9530,
          9586.09375,
          9586.09375
         ],
         "xaxis": "x",
         "y": [
          1.275880307432559,
          2.3252469887984493,
          2.3252469887984493,
          1.450834701932482
         ],
         "yaxis": "y"
        },
        {
         "hoverinfo": "text",
         "marker": {
          "color": "rgb(133,20,75)"
         },
         "mode": "lines",
         "type": "scatter",
         "x": [
          9480,
          9480,
          9558.046875,
          9558.046875
         ],
         "xaxis": "x",
         "y": [
          2.0810330659149896,
          3.4521353334296263,
          3.4521353334296263,
          2.3252469887984493
         ],
         "yaxis": "y"
        },
        {
         "hoverinfo": "text",
         "marker": {
          "color": "rgb(133,20,75)"
         },
         "mode": "lines",
         "type": "scatter",
         "x": [
          9685,
          9685,
          9695,
          9695
         ],
         "xaxis": "x",
         "y": [
          0,
          0.002232211807469826,
          0.002232211807469826,
          0
         ],
         "yaxis": "y"
        },
        {
         "hoverinfo": "text",
         "marker": {
          "color": "rgb(133,20,75)"
         },
         "mode": "lines",
         "type": "scatter",
         "x": [
          9675,
          9675,
          9690,
          9690
         ],
         "xaxis": "x",
         "y": [
          0,
          0.01015283030191126,
          0.01015283030191126,
          0.002232211807469826
         ],
         "yaxis": "y"
        },
        {
         "hoverinfo": "text",
         "marker": {
          "color": "rgb(133,20,75)"
         },
         "mode": "lines",
         "type": "scatter",
         "x": [
          9735,
          9735,
          9745,
          9745
         ],
         "xaxis": "x",
         "y": [
          0,
          0.005026787881225817,
          0.005026787881225817,
          0
         ],
         "yaxis": "y"
        },
        {
         "hoverinfo": "text",
         "marker": {
          "color": "rgb(133,20,75)"
         },
         "mode": "lines",
         "type": "scatter",
         "x": [
          9725,
          9725,
          9740,
          9740
         ],
         "xaxis": "x",
         "y": [
          0,
          0.009989374471078317,
          0.009989374471078317,
          0.005026787881225817
         ],
         "yaxis": "y"
        },
        {
         "hoverinfo": "text",
         "marker": {
          "color": "rgb(133,20,75)"
         },
         "mode": "lines",
         "type": "scatter",
         "x": [
          9715,
          9715,
          9732.5,
          9732.5
         ],
         "xaxis": "x",
         "y": [
          0,
          0.022631784891722444,
          0.022631784891722444,
          0.009989374471078317
         ],
         "yaxis": "y"
        },
        {
         "hoverinfo": "text",
         "marker": {
          "color": "rgb(133,20,75)"
         },
         "mode": "lines",
         "type": "scatter",
         "x": [
          9705,
          9705,
          9723.75,
          9723.75
         ],
         "xaxis": "x",
         "y": [
          0,
          0.06527223201198724,
          0.06527223201198724,
          0.022631784891722444
         ],
         "yaxis": "y"
        },
        {
         "hoverinfo": "text",
         "marker": {
          "color": "rgb(133,20,75)"
         },
         "mode": "lines",
         "type": "scatter",
         "x": [
          9682.5,
          9682.5,
          9714.375,
          9714.375
         ],
         "xaxis": "x",
         "y": [
          0.01015283030191126,
          3.6790833343245013,
          3.6790833343245013,
          0.06527223201198724
         ],
         "yaxis": "y"
        },
        {
         "hoverinfo": "text",
         "marker": {
          "color": "rgb(133,20,75)"
         },
         "mode": "lines",
         "type": "scatter",
         "x": [
          9519.0234375,
          9519.0234375,
          9698.4375,
          9698.4375
         ],
         "xaxis": "x",
         "y": [
          3.4521353334296263,
          5.1891191897667674,
          5.1891191897667674,
          3.6790833343245013
         ],
         "yaxis": "y"
        },
        {
         "hoverinfo": "text",
         "marker": {
          "color": "rgb(133,20,75)"
         },
         "mode": "lines",
         "type": "scatter",
         "x": [
          9765,
          9765,
          9775,
          9775
         ],
         "xaxis": "x",
         "y": [
          0,
          0.016955713685257324,
          0.016955713685257324,
          0
         ],
         "yaxis": "y"
        },
        {
         "hoverinfo": "text",
         "marker": {
          "color": "rgb(133,20,75)"
         },
         "mode": "lines",
         "type": "scatter",
         "x": [
          9755,
          9755,
          9770,
          9770
         ],
         "xaxis": "x",
         "y": [
          0,
          0.16519800934294476,
          0.16519800934294476,
          0.016955713685257324
         ],
         "yaxis": "y"
        },
        {
         "hoverinfo": "text",
         "marker": {
          "color": "rgb(133,20,75)"
         },
         "mode": "lines",
         "type": "scatter",
         "x": [
          9795,
          9795,
          9805,
          9805
         ],
         "xaxis": "x",
         "y": [
          0,
          0.032302764996960935,
          0.032302764996960935,
          0
         ],
         "yaxis": "y"
        },
        {
         "hoverinfo": "text",
         "marker": {
          "color": "rgb(133,20,75)"
         },
         "mode": "lines",
         "type": "scatter",
         "x": [
          9785,
          9785,
          9800,
          9800
         ],
         "xaxis": "x",
         "y": [
          0,
          0.3256536649844399,
          0.3256536649844399,
          0.032302764996960935
         ],
         "yaxis": "y"
        },
        {
         "hoverinfo": "text",
         "marker": {
          "color": "rgb(133,20,75)"
         },
         "mode": "lines",
         "type": "scatter",
         "x": [
          9762.5,
          9762.5,
          9792.5,
          9792.5
         ],
         "xaxis": "x",
         "y": [
          0.16519800934294476,
          2.6041918031300515,
          2.6041918031300515,
          0.3256536649844399
         ],
         "yaxis": "y"
        },
        {
         "hoverinfo": "text",
         "marker": {
          "color": "rgb(133,20,75)"
         },
         "mode": "lines",
         "type": "scatter",
         "x": [
          9815,
          9815,
          9825,
          9825
         ],
         "xaxis": "x",
         "y": [
          0,
          0.1486895586733383,
          0.1486895586733383,
          0
         ],
         "yaxis": "y"
        },
        {
         "hoverinfo": "text",
         "marker": {
          "color": "rgb(133,20,75)"
         },
         "mode": "lines",
         "type": "scatter",
         "x": [
          9835,
          9835,
          9845,
          9845
         ],
         "xaxis": "x",
         "y": [
          0,
          0.16113875235461142,
          0.16113875235461142,
          0
         ],
         "yaxis": "y"
        },
        {
         "hoverinfo": "text",
         "marker": {
          "color": "rgb(133,20,75)"
         },
         "mode": "lines",
         "type": "scatter",
         "x": [
          9820,
          9820,
          9840,
          9840
         ],
         "xaxis": "x",
         "y": [
          0.1486895586733383,
          1.9830457532049457,
          1.9830457532049457,
          0.16113875235461142
         ],
         "yaxis": "y"
        },
        {
         "hoverinfo": "text",
         "marker": {
          "color": "rgb(133,20,75)"
         },
         "mode": "lines",
         "type": "scatter",
         "x": [
          9855,
          9855,
          9865,
          9865
         ],
         "xaxis": "x",
         "y": [
          0,
          0.18998915296405203,
          0.18998915296405203,
          0
         ],
         "yaxis": "y"
        },
        {
         "hoverinfo": "text",
         "marker": {
          "color": "rgb(133,20,75)"
         },
         "mode": "lines",
         "type": "scatter",
         "x": [
          9885,
          9885,
          9895,
          9895
         ],
         "xaxis": "x",
         "y": [
          0,
          0.08664747826234911,
          0.08664747826234911,
          0
         ],
         "yaxis": "y"
        },
        {
         "hoverinfo": "text",
         "marker": {
          "color": "rgb(133,20,75)"
         },
         "mode": "lines",
         "type": "scatter",
         "x": [
          9875,
          9875,
          9890,
          9890
         ],
         "xaxis": "x",
         "y": [
          0,
          0.22761905620690312,
          0.22761905620690312,
          0.08664747826234911
         ],
         "yaxis": "y"
        },
        {
         "hoverinfo": "text",
         "marker": {
          "color": "rgb(133,20,75)"
         },
         "mode": "lines",
         "type": "scatter",
         "x": [
          9860,
          9860,
          9882.5,
          9882.5
         ],
         "xaxis": "x",
         "y": [
          0.18998915296405203,
          0.5032633333384916,
          0.5032633333384916,
          0.22761905620690312
         ],
         "yaxis": "y"
        },
        {
         "hoverinfo": "text",
         "marker": {
          "color": "rgb(133,20,75)"
         },
         "mode": "lines",
         "type": "scatter",
         "x": [
          9905,
          9905,
          9915,
          9915
         ],
         "xaxis": "x",
         "y": [
          0,
          0.6322964903215097,
          0.6322964903215097,
          0
         ],
         "yaxis": "y"
        },
        {
         "hoverinfo": "text",
         "marker": {
          "color": "rgb(133,20,75)"
         },
         "mode": "lines",
         "type": "scatter",
         "x": [
          9871.25,
          9871.25,
          9910,
          9910
         ],
         "xaxis": "x",
         "y": [
          0.5032633333384916,
          0.9837527215639099,
          0.9837527215639099,
          0.6322964903215097
         ],
         "yaxis": "y"
        },
        {
         "hoverinfo": "text",
         "marker": {
          "color": "rgb(133,20,75)"
         },
         "mode": "lines",
         "type": "scatter",
         "x": [
          9925,
          9925,
          9935,
          9935
         ],
         "xaxis": "x",
         "y": [
          0,
          0.2597931753126475,
          0.2597931753126475,
          0
         ],
         "yaxis": "y"
        },
        {
         "hoverinfo": "text",
         "marker": {
          "color": "rgb(133,20,75)"
         },
         "mode": "lines",
         "type": "scatter",
         "x": [
          9955,
          9955,
          9965,
          9965
         ],
         "xaxis": "x",
         "y": [
          0,
          0.2198016355657603,
          0.2198016355657603,
          0
         ],
         "yaxis": "y"
        },
        {
         "hoverinfo": "text",
         "marker": {
          "color": "rgb(133,20,75)"
         },
         "mode": "lines",
         "type": "scatter",
         "x": [
          9945,
          9945,
          9960,
          9960
         ],
         "xaxis": "x",
         "y": [
          0,
          0.4522459062780074,
          0.4522459062780074,
          0.2198016355657603
         ],
         "yaxis": "y"
        },
        {
         "hoverinfo": "text",
         "marker": {
          "color": "rgb(133,20,75)"
         },
         "mode": "lines",
         "type": "scatter",
         "x": [
          9985,
          9985,
          9995,
          9995
         ],
         "xaxis": "x",
         "y": [
          0,
          0.012444681043032153,
          0.012444681043032153,
          0
         ],
         "yaxis": "y"
        },
        {
         "hoverinfo": "text",
         "marker": {
          "color": "rgb(133,20,75)"
         },
         "mode": "lines",
         "type": "scatter",
         "x": [
          10005,
          10005,
          10015,
          10015
         ],
         "xaxis": "x",
         "y": [
          0,
          0.07816421678516698,
          0.07816421678516698,
          0
         ],
         "yaxis": "y"
        },
        {
         "hoverinfo": "text",
         "marker": {
          "color": "rgb(133,20,75)"
         },
         "mode": "lines",
         "type": "scatter",
         "x": [
          9990,
          9990,
          10010,
          10010
         ],
         "xaxis": "x",
         "y": [
          0.012444681043032153,
          0.22226657002955535,
          0.22226657002955535,
          0.07816421678516698
         ],
         "yaxis": "y"
        },
        {
         "hoverinfo": "text",
         "marker": {
          "color": "rgb(133,20,75)"
         },
         "mode": "lines",
         "type": "scatter",
         "x": [
          9975,
          9975,
          10000,
          10000
         ],
         "xaxis": "x",
         "y": [
          0,
          0.5104023526186023,
          0.5104023526186023,
          0.22226657002955535
         ],
         "yaxis": "y"
        },
        {
         "hoverinfo": "text",
         "marker": {
          "color": "rgb(133,20,75)"
         },
         "mode": "lines",
         "type": "scatter",
         "x": [
          9952.5,
          9952.5,
          9987.5,
          9987.5
         ],
         "xaxis": "x",
         "y": [
          0.4522459062780074,
          1.006735548614482,
          1.006735548614482,
          0.5104023526186023
         ],
         "yaxis": "y"
        },
        {
         "hoverinfo": "text",
         "marker": {
          "color": "rgb(133,20,75)"
         },
         "mode": "lines",
         "type": "scatter",
         "x": [
          9930,
          9930,
          9970,
          9970
         ],
         "xaxis": "x",
         "y": [
          0.2597931753126475,
          1.5069577119813442,
          1.5069577119813442,
          1.006735548614482
         ],
         "yaxis": "y"
        },
        {
         "hoverinfo": "text",
         "marker": {
          "color": "rgb(133,20,75)"
         },
         "mode": "lines",
         "type": "scatter",
         "x": [
          9890.625,
          9890.625,
          9950,
          9950
         ],
         "xaxis": "x",
         "y": [
          0.9837527215639099,
          2.7710613900986285,
          2.7710613900986285,
          1.5069577119813442
         ],
         "yaxis": "y"
        },
        {
         "hoverinfo": "text",
         "marker": {
          "color": "rgb(133,20,75)"
         },
         "mode": "lines",
         "type": "scatter",
         "x": [
          9830,
          9830,
          9920.3125,
          9920.3125
         ],
         "xaxis": "x",
         "y": [
          1.9830457532049457,
          3.401360107894478,
          3.401360107894478,
          2.7710613900986285
         ],
         "yaxis": "y"
        },
        {
         "hoverinfo": "text",
         "marker": {
          "color": "rgb(133,20,75)"
         },
         "mode": "lines",
         "type": "scatter",
         "x": [
          9777.5,
          9777.5,
          9875.15625,
          9875.15625
         ],
         "xaxis": "x",
         "y": [
          2.6041918031300515,
          5.50002395045863,
          5.50002395045863,
          3.401360107894478
         ],
         "yaxis": "y"
        },
        {
         "hoverinfo": "text",
         "marker": {
          "color": "rgb(133,20,75)"
         },
         "mode": "lines",
         "type": "scatter",
         "x": [
          9608.73046875,
          9608.73046875,
          9826.328125,
          9826.328125
         ],
         "xaxis": "x",
         "y": [
          5.1891191897667674,
          8.656224137859986,
          8.656224137859986,
          5.50002395045863
         ],
         "yaxis": "y"
        },
        {
         "hoverinfo": "text",
         "marker": {
          "color": "rgb(133,20,75)"
         },
         "mode": "lines",
         "type": "scatter",
         "x": [
          9333.59375,
          9333.59375,
          9717.529296875,
          9717.529296875
         ],
         "xaxis": "x",
         "y": [
          6.064846007601298,
          9.819733995541991,
          9.819733995541991,
          8.656224137859986
         ],
         "yaxis": "y"
        },
        {
         "hoverinfo": "text",
         "marker": {
          "color": "rgb(133,20,75)"
         },
         "mode": "lines",
         "type": "scatter",
         "x": [
          8877.28515625,
          8877.28515625,
          9525.5615234375,
          9525.5615234375
         ],
         "xaxis": "x",
         "y": [
          6.968164283835934,
          29.50272126356187,
          29.50272126356187,
          9.819733995541991
         ],
         "yaxis": "y"
        },
        {
         "hoverinfo": "text",
         "marker": {
          "color": "rgb(133,20,75)"
         },
         "mode": "lines",
         "type": "scatter",
         "x": [
          10025,
          10025,
          10035,
          10035
         ],
         "xaxis": "x",
         "y": [
          0,
          0.9337077607020424,
          0.9337077607020424,
          0
         ],
         "yaxis": "y"
        },
        {
         "hoverinfo": "text",
         "marker": {
          "color": "rgb(133,20,75)"
         },
         "mode": "lines",
         "type": "scatter",
         "x": [
          10045,
          10045,
          10055,
          10055
         ],
         "xaxis": "x",
         "y": [
          0,
          0.14591540263704406,
          0.14591540263704406,
          0
         ],
         "yaxis": "y"
        },
        {
         "hoverinfo": "text",
         "marker": {
          "color": "rgb(133,20,75)"
         },
         "mode": "lines",
         "type": "scatter",
         "x": [
          10075,
          10075,
          10085,
          10085
         ],
         "xaxis": "x",
         "y": [
          0,
          0.030475974905261494,
          0.030475974905261494,
          0
         ],
         "yaxis": "y"
        },
        {
         "hoverinfo": "text",
         "marker": {
          "color": "rgb(133,20,75)"
         },
         "mode": "lines",
         "type": "scatter",
         "x": [
          10065,
          10065,
          10080,
          10080
         ],
         "xaxis": "x",
         "y": [
          0,
          0.38692821454046805,
          0.38692821454046805,
          0.030475974905261494
         ],
         "yaxis": "y"
        },
        {
         "hoverinfo": "text",
         "marker": {
          "color": "rgb(133,20,75)"
         },
         "mode": "lines",
         "type": "scatter",
         "x": [
          10050,
          10050,
          10072.5,
          10072.5
         ],
         "xaxis": "x",
         "y": [
          0.14591540263704406,
          0.6337171398661633,
          0.6337171398661633,
          0.38692821454046805
         ],
         "yaxis": "y"
        },
        {
         "hoverinfo": "text",
         "marker": {
          "color": "rgb(133,20,75)"
         },
         "mode": "lines",
         "type": "scatter",
         "x": [
          10115,
          10115,
          10125,
          10125
         ],
         "xaxis": "x",
         "y": [
          0,
          0.16737680780692546,
          0.16737680780692546,
          0
         ],
         "yaxis": "y"
        },
        {
         "hoverinfo": "text",
         "marker": {
          "color": "rgb(133,20,75)"
         },
         "mode": "lines",
         "type": "scatter",
         "x": [
          10105,
          10105,
          10120,
          10120
         ],
         "xaxis": "x",
         "y": [
          0,
          0.3195322429594944,
          0.3195322429594944,
          0.16737680780692546
         ],
         "yaxis": "y"
        },
        {
         "hoverinfo": "text",
         "marker": {
          "color": "rgb(133,20,75)"
         },
         "mode": "lines",
         "type": "scatter",
         "x": [
          10095,
          10095,
          10112.5,
          10112.5
         ],
         "xaxis": "x",
         "y": [
          0,
          0.7531638883643659,
          0.7531638883643659,
          0.3195322429594944
         ],
         "yaxis": "y"
        },
        {
         "hoverinfo": "text",
         "marker": {
          "color": "rgb(133,20,75)"
         },
         "mode": "lines",
         "type": "scatter",
         "x": [
          10061.25,
          10061.25,
          10103.75,
          10103.75
         ],
         "xaxis": "x",
         "y": [
          0.6337171398661633,
          1.2363667992878877,
          1.2363667992878877,
          0.7531638883643659
         ],
         "yaxis": "y"
        },
        {
         "hoverinfo": "text",
         "marker": {
          "color": "rgb(133,20,75)"
         },
         "mode": "lines",
         "type": "scatter",
         "x": [
          10030,
          10030,
          10082.5,
          10082.5
         ],
         "xaxis": "x",
         "y": [
          0.9337077607020424,
          1.7241198868318948,
          1.7241198868318948,
          1.2363667992878877
         ],
         "yaxis": "y"
        },
        {
         "hoverinfo": "text",
         "marker": {
          "color": "rgb(133,20,75)"
         },
         "mode": "lines",
         "type": "scatter",
         "x": [
          10135,
          10135,
          10145,
          10145
         ],
         "xaxis": "x",
         "y": [
          0,
          0.01824503643330843,
          0.01824503643330843,
          0
         ],
         "yaxis": "y"
        },
        {
         "hoverinfo": "text",
         "marker": {
          "color": "rgb(133,20,75)"
         },
         "mode": "lines",
         "type": "scatter",
         "x": [
          10175,
          10175,
          10185,
          10185
         ],
         "xaxis": "x",
         "y": [
          0,
          0.0018532716454355217,
          0.0018532716454355217,
          0
         ],
         "yaxis": "y"
        },
        {
         "hoverinfo": "text",
         "marker": {
          "color": "rgb(133,20,75)"
         },
         "mode": "lines",
         "type": "scatter",
         "x": [
          10165,
          10165,
          10180,
          10180
         ],
         "xaxis": "x",
         "y": [
          0,
          0.017543337889847764,
          0.017543337889847764,
          0.0018532716454355217
         ],
         "yaxis": "y"
        },
        {
         "hoverinfo": "text",
         "marker": {
          "color": "rgb(133,20,75)"
         },
         "mode": "lines",
         "type": "scatter",
         "x": [
          10155,
          10155,
          10172.5,
          10172.5
         ],
         "xaxis": "x",
         "y": [
          0,
          0.041701991536750214,
          0.041701991536750214,
          0.017543337889847764
         ],
         "yaxis": "y"
        },
        {
         "hoverinfo": "text",
         "marker": {
          "color": "rgb(133,20,75)"
         },
         "mode": "lines",
         "type": "scatter",
         "x": [
          10140,
          10140,
          10163.75,
          10163.75
         ],
         "xaxis": "x",
         "y": [
          0.01824503643330843,
          2.924817443268589,
          2.924817443268589,
          0.041701991536750214
         ],
         "yaxis": "y"
        },
        {
         "hoverinfo": "text",
         "marker": {
          "color": "rgb(133,20,75)"
         },
         "mode": "lines",
         "type": "scatter",
         "x": [
          10056.25,
          10056.25,
          10151.875,
          10151.875
         ],
         "xaxis": "x",
         "y": [
          1.7241198868318948,
          3.507248121036303,
          3.507248121036303,
          2.924817443268589
         ],
         "yaxis": "y"
        },
        {
         "hoverinfo": "text",
         "marker": {
          "color": "rgb(133,20,75)"
         },
         "mode": "lines",
         "type": "scatter",
         "x": [
          10195,
          10195,
          10205,
          10205
         ],
         "xaxis": "x",
         "y": [
          0,
          0.12269242958968564,
          0.12269242958968564,
          0
         ],
         "yaxis": "y"
        },
        {
         "hoverinfo": "text",
         "marker": {
          "color": "rgb(133,20,75)"
         },
         "mode": "lines",
         "type": "scatter",
         "x": [
          10235,
          10235,
          10245,
          10245
         ],
         "xaxis": "x",
         "y": [
          0,
          0.06695939435362463,
          0.06695939435362463,
          0
         ],
         "yaxis": "y"
        },
        {
         "hoverinfo": "text",
         "marker": {
          "color": "rgb(133,20,75)"
         },
         "mode": "lines",
         "type": "scatter",
         "x": [
          10225,
          10225,
          10240,
          10240
         ],
         "xaxis": "x",
         "y": [
          0,
          0.1880304474601825,
          0.1880304474601825,
          0.06695939435362463
         ],
         "yaxis": "y"
        },
        {
         "hoverinfo": "text",
         "marker": {
          "color": "rgb(133,20,75)"
         },
         "mode": "lines",
         "type": "scatter",
         "x": [
          10215,
          10215,
          10232.5,
          10232.5
         ],
         "xaxis": "x",
         "y": [
          0,
          0.4697116607231778,
          0.4697116607231778,
          0.1880304474601825
         ],
         "yaxis": "y"
        },
        {
         "hoverinfo": "text",
         "marker": {
          "color": "rgb(133,20,75)"
         },
         "mode": "lines",
         "type": "scatter",
         "x": [
          10200,
          10200,
          10223.75,
          10223.75
         ],
         "xaxis": "x",
         "y": [
          0.12269242958968564,
          2.037901126288369,
          2.037901126288369,
          0.4697116607231778
         ],
         "yaxis": "y"
        },
        {
         "hoverinfo": "text",
         "marker": {
          "color": "rgb(133,20,75)"
         },
         "mode": "lines",
         "type": "scatter",
         "x": [
          10285,
          10285,
          10295,
          10295
         ],
         "xaxis": "x",
         "y": [
          0,
          0.05707584486172223,
          0.05707584486172223,
          0
         ],
         "yaxis": "y"
        },
        {
         "hoverinfo": "text",
         "marker": {
          "color": "rgb(133,20,75)"
         },
         "mode": "lines",
         "type": "scatter",
         "x": [
          10275,
          10275,
          10290,
          10290
         ],
         "xaxis": "x",
         "y": [
          0,
          0.1032937339781924,
          0.1032937339781924,
          0.05707584486172223
         ],
         "yaxis": "y"
        },
        {
         "hoverinfo": "text",
         "marker": {
          "color": "rgb(133,20,75)"
         },
         "mode": "lines",
         "type": "scatter",
         "x": [
          10315,
          10315,
          10325,
          10325
         ],
         "xaxis": "x",
         "y": [
          0,
          0.03776453021752324,
          0.03776453021752324,
          0
         ],
         "yaxis": "y"
        },
        {
         "hoverinfo": "text",
         "marker": {
          "color": "rgb(133,20,75)"
         },
         "mode": "lines",
         "type": "scatter",
         "x": [
          10305,
          10305,
          10320,
          10320
         ],
         "xaxis": "x",
         "y": [
          0,
          0.15836360470406455,
          0.15836360470406455,
          0.03776453021752324
         ],
         "yaxis": "y"
        },
        {
         "hoverinfo": "text",
         "marker": {
          "color": "rgb(133,20,75)"
         },
         "mode": "lines",
         "type": "scatter",
         "x": [
          10282.5,
          10282.5,
          10312.5,
          10312.5
         ],
         "xaxis": "x",
         "y": [
          0.1032937339781924,
          0.700826449696379,
          0.700826449696379,
          0.15836360470406455
         ],
         "yaxis": "y"
        },
        {
         "hoverinfo": "text",
         "marker": {
          "color": "rgb(133,20,75)"
         },
         "mode": "lines",
         "type": "scatter",
         "x": [
          10265,
          10265,
          10297.5,
          10297.5
         ],
         "xaxis": "x",
         "y": [
          0,
          1.420295820864036,
          1.420295820864036,
          0.700826449696379
         ],
         "yaxis": "y"
        },
        {
         "hoverinfo": "text",
         "marker": {
          "color": "rgb(133,20,75)"
         },
         "mode": "lines",
         "type": "scatter",
         "x": [
          10255,
          10255,
          10281.25,
          10281.25
         ],
         "xaxis": "x",
         "y": [
          0,
          1.5057615750908744,
          1.5057615750908744,
          1.420295820864036
         ],
         "yaxis": "y"
        },
        {
         "hoverinfo": "text",
         "marker": {
          "color": "rgb(133,20,75)"
         },
         "mode": "lines",
         "type": "scatter",
         "x": [
          10345,
          10345,
          10355,
          10355
         ],
         "xaxis": "x",
         "y": [
          0,
          0.1875139774479114,
          0.1875139774479114,
          0
         ],
         "yaxis": "y"
        },
        {
         "hoverinfo": "text",
         "marker": {
          "color": "rgb(133,20,75)"
         },
         "mode": "lines",
         "type": "scatter",
         "x": [
          10335,
          10335,
          10350,
          10350
         ],
         "xaxis": "x",
         "y": [
          0,
          0.7144276591241363,
          0.7144276591241363,
          0.1875139774479114
         ],
         "yaxis": "y"
        },
        {
         "hoverinfo": "text",
         "marker": {
          "color": "rgb(133,20,75)"
         },
         "mode": "lines",
         "type": "scatter",
         "x": [
          10365,
          10365,
          10375,
          10375
         ],
         "xaxis": "x",
         "y": [
          0,
          0.15103757136251217,
          0.15103757136251217,
          0
         ],
         "yaxis": "y"
        },
        {
         "hoverinfo": "text",
         "marker": {
          "color": "rgb(133,20,75)"
         },
         "mode": "lines",
         "type": "scatter",
         "x": [
          10395,
          10395,
          10405,
          10405
         ],
         "xaxis": "x",
         "y": [
          0,
          0.04491151848108578,
          0.04491151848108578,
          0
         ],
         "yaxis": "y"
        },
        {
         "hoverinfo": "text",
         "marker": {
          "color": "rgb(133,20,75)"
         },
         "mode": "lines",
         "type": "scatter",
         "x": [
          10385,
          10385,
          10400,
          10400
         ],
         "xaxis": "x",
         "y": [
          0,
          0.1665045982798799,
          0.1665045982798799,
          0.04491151848108578
         ],
         "yaxis": "y"
        },
        {
         "hoverinfo": "text",
         "marker": {
          "color": "rgb(133,20,75)"
         },
         "mode": "lines",
         "type": "scatter",
         "x": [
          10435,
          10435,
          10445,
          10445
         ],
         "xaxis": "x",
         "y": [
          0,
          0.15449227143309888,
          0.15449227143309888,
          0
         ],
         "yaxis": "y"
        },
        {
         "hoverinfo": "text",
         "marker": {
          "color": "rgb(133,20,75)"
         },
         "mode": "lines",
         "type": "scatter",
         "x": [
          10425,
          10425,
          10440,
          10440
         ],
         "xaxis": "x",
         "y": [
          0,
          0.3311300853358271,
          0.3311300853358271,
          0.15449227143309888
         ],
         "yaxis": "y"
        },
        {
         "hoverinfo": "text",
         "marker": {
          "color": "rgb(133,20,75)"
         },
         "mode": "lines",
         "type": "scatter",
         "x": [
          10415,
          10415,
          10432.5,
          10432.5
         ],
         "xaxis": "x",
         "y": [
          0,
          0.5952094639742608,
          0.5952094639742608,
          0.3311300853358271
         ],
         "yaxis": "y"
        },
        {
         "hoverinfo": "text",
         "marker": {
          "color": "rgb(133,20,75)"
         },
         "mode": "lines",
         "type": "scatter",
         "x": [
          10392.5,
          10392.5,
          10423.75,
          10423.75
         ],
         "xaxis": "x",
         "y": [
          0.1665045982798799,
          0.6760096928404852,
          0.6760096928404852,
          0.5952094639742608
         ],
         "yaxis": "y"
        },
        {
         "hoverinfo": "text",
         "marker": {
          "color": "rgb(133,20,75)"
         },
         "mode": "lines",
         "type": "scatter",
         "x": [
          10370,
          10370,
          10408.125,
          10408.125
         ],
         "xaxis": "x",
         "y": [
          0.15103757136251217,
          1.7418363523203677,
          1.7418363523203677,
          0.6760096928404852
         ],
         "yaxis": "y"
        },
        {
         "hoverinfo": "text",
         "marker": {
          "color": "rgb(133,20,75)"
         },
         "mode": "lines",
         "type": "scatter",
         "x": [
          10342.5,
          10342.5,
          10389.0625,
          10389.0625
         ],
         "xaxis": "x",
         "y": [
          0.7144276591241363,
          2.695860808324304,
          2.695860808324304,
          1.7418363523203677
         ],
         "yaxis": "y"
        },
        {
         "hoverinfo": "text",
         "marker": {
          "color": "rgb(133,20,75)"
         },
         "mode": "lines",
         "type": "scatter",
         "x": [
          10268.125,
          10268.125,
          10365.78125,
          10365.78125
         ],
         "xaxis": "x",
         "y": [
          1.5057615750908744,
          3.948285418390778,
          3.948285418390778,
          2.695860808324304
         ],
         "yaxis": "y"
        },
        {
         "hoverinfo": "text",
         "marker": {
          "color": "rgb(133,20,75)"
         },
         "mode": "lines",
         "type": "scatter",
         "x": [
          10211.875,
          10211.875,
          10316.953125,
          10316.953125
         ],
         "xaxis": "x",
         "y": [
          2.037901126288369,
          5.435827348922675,
          5.435827348922675,
          3.948285418390778
         ],
         "yaxis": "y"
        },
        {
         "hoverinfo": "text",
         "marker": {
          "color": "rgb(133,20,75)"
         },
         "mode": "lines",
         "type": "scatter",
         "x": [
          10104.0625,
          10104.0625,
          10264.4140625,
          10264.4140625
         ],
         "xaxis": "x",
         "y": [
          3.507248121036303,
          6.17667510491695,
          6.17667510491695,
          5.435827348922675
         ],
         "yaxis": "y"
        },
        {
         "hoverinfo": "text",
         "marker": {
          "color": "rgb(133,20,75)"
         },
         "mode": "lines",
         "type": "scatter",
         "x": [
          10475,
          10475,
          10485,
          10485
         ],
         "xaxis": "x",
         "y": [
          0,
          0.0009301058049551034,
          0.0009301058049551034,
          0
         ],
         "yaxis": "y"
        },
        {
         "hoverinfo": "text",
         "marker": {
          "color": "rgb(133,20,75)"
         },
         "mode": "lines",
         "type": "scatter",
         "x": [
          10465,
          10465,
          10480,
          10480
         ],
         "xaxis": "x",
         "y": [
          0,
          0.01603906794461337,
          0.01603906794461337,
          0.0009301058049551034
         ],
         "yaxis": "y"
        },
        {
         "hoverinfo": "text",
         "marker": {
          "color": "rgb(133,20,75)"
         },
         "mode": "lines",
         "type": "scatter",
         "x": [
          10455,
          10455,
          10472.5,
          10472.5
         ],
         "xaxis": "x",
         "y": [
          0,
          0.09414225174776059,
          0.09414225174776059,
          0.01603906794461337
         ],
         "yaxis": "y"
        },
        {
         "hoverinfo": "text",
         "marker": {
          "color": "rgb(133,20,75)"
         },
         "mode": "lines",
         "type": "scatter",
         "x": [
          10495,
          10495,
          10505,
          10505
         ],
         "xaxis": "x",
         "y": [
          0,
          0.12162893985714336,
          0.12162893985714336,
          0
         ],
         "yaxis": "y"
        },
        {
         "hoverinfo": "text",
         "marker": {
          "color": "rgb(133,20,75)"
         },
         "mode": "lines",
         "type": "scatter",
         "x": [
          10463.75,
          10463.75,
          10500,
          10500
         ],
         "xaxis": "x",
         "y": [
          0.09414225174776059,
          0.4580461680238372,
          0.4580461680238372,
          0.12162893985714336
         ],
         "yaxis": "y"
        },
        {
         "hoverinfo": "text",
         "marker": {
          "color": "rgb(133,20,75)"
         },
         "mode": "lines",
         "type": "scatter",
         "x": [
          10525,
          10525,
          10535,
          10535
         ],
         "xaxis": "x",
         "y": [
          0,
          0.021319426735111655,
          0.021319426735111655,
          0
         ],
         "yaxis": "y"
        },
        {
         "hoverinfo": "text",
         "marker": {
          "color": "rgb(133,20,75)"
         },
         "mode": "lines",
         "type": "scatter",
         "x": [
          10545,
          10545,
          10555,
          10555
         ],
         "xaxis": "x",
         "y": [
          0,
          0.03150836548020997,
          0.03150836548020997,
          0
         ],
         "yaxis": "y"
        },
        {
         "hoverinfo": "text",
         "marker": {
          "color": "rgb(133,20,75)"
         },
         "mode": "lines",
         "type": "scatter",
         "x": [
          10530,
          10530,
          10550,
          10550
         ],
         "xaxis": "x",
         "y": [
          0.021319426735111655,
          0.04862990471328141,
          0.04862990471328141,
          0.03150836548020997
         ],
         "yaxis": "y"
        },
        {
         "hoverinfo": "text",
         "marker": {
          "color": "rgb(133,20,75)"
         },
         "mode": "lines",
         "type": "scatter",
         "x": [
          10515,
          10515,
          10540,
          10540
         ],
         "xaxis": "x",
         "y": [
          0,
          0.16480682075389969,
          0.16480682075389969,
          0.04862990471328141
         ],
         "yaxis": "y"
        },
        {
         "hoverinfo": "text",
         "marker": {
          "color": "rgb(133,20,75)"
         },
         "mode": "lines",
         "type": "scatter",
         "x": [
          10565,
          10565,
          10575,
          10575
         ],
         "xaxis": "x",
         "y": [
          0,
          0.17005253469503487,
          0.17005253469503487,
          0
         ],
         "yaxis": "y"
        },
        {
         "hoverinfo": "text",
         "marker": {
          "color": "rgb(133,20,75)"
         },
         "mode": "lines",
         "type": "scatter",
         "x": [
          10527.5,
          10527.5,
          10570,
          10570
         ],
         "xaxis": "x",
         "y": [
          0.16480682075389969,
          0.6921722670665879,
          0.6921722670665879,
          0.17005253469503487
         ],
         "yaxis": "y"
        },
        {
         "hoverinfo": "text",
         "marker": {
          "color": "rgb(133,20,75)"
         },
         "mode": "lines",
         "type": "scatter",
         "x": [
          10481.875,
          10481.875,
          10548.75,
          10548.75
         ],
         "xaxis": "x",
         "y": [
          0.4580461680238372,
          3.6625329567726643,
          3.6625329567726643,
          0.6921722670665879
         ],
         "yaxis": "y"
        },
        {
         "hoverinfo": "text",
         "marker": {
          "color": "rgb(133,20,75)"
         },
         "mode": "lines",
         "type": "scatter",
         "x": [
          10595,
          10595,
          10605,
          10605
         ],
         "xaxis": "x",
         "y": [
          0,
          0,
          0,
          0
         ],
         "yaxis": "y"
        },
        {
         "hoverinfo": "text",
         "marker": {
          "color": "rgb(133,20,75)"
         },
         "mode": "lines",
         "type": "scatter",
         "x": [
          10585,
          10585,
          10600,
          10600
         ],
         "xaxis": "x",
         "y": [
          0,
          0,
          0,
          0
         ],
         "yaxis": "y"
        },
        {
         "hoverinfo": "text",
         "marker": {
          "color": "rgb(133,20,75)"
         },
         "mode": "lines",
         "type": "scatter",
         "x": [
          10635,
          10635,
          10645,
          10645
         ],
         "xaxis": "x",
         "y": [
          0,
          0.002073474172040335,
          0.002073474172040335,
          0
         ],
         "yaxis": "y"
        },
        {
         "hoverinfo": "text",
         "marker": {
          "color": "rgb(133,20,75)"
         },
         "mode": "lines",
         "type": "scatter",
         "x": [
          10655,
          10655,
          10665,
          10665
         ],
         "xaxis": "x",
         "y": [
          0,
          0.002211078014814411,
          0.002211078014814411,
          0
         ],
         "yaxis": "y"
        },
        {
         "hoverinfo": "text",
         "marker": {
          "color": "rgb(133,20,75)"
         },
         "mode": "lines",
         "type": "scatter",
         "x": [
          10640,
          10640,
          10660,
          10660
         ],
         "xaxis": "x",
         "y": [
          0.002073474172040335,
          0.005853896960992756,
          0.005853896960992756,
          0.002211078014814411
         ],
         "yaxis": "y"
        },
        {
         "hoverinfo": "text",
         "marker": {
          "color": "rgb(133,20,75)"
         },
         "mode": "lines",
         "type": "scatter",
         "x": [
          10625,
          10625,
          10650,
          10650
         ],
         "xaxis": "x",
         "y": [
          0,
          0.03927048518676568,
          0.03927048518676568,
          0.005853896960992756
         ],
         "yaxis": "y"
        },
        {
         "hoverinfo": "text",
         "marker": {
          "color": "rgb(133,20,75)"
         },
         "mode": "lines",
         "type": "scatter",
         "x": [
          10615,
          10615,
          10637.5,
          10637.5
         ],
         "xaxis": "x",
         "y": [
          0,
          0.07451765524672031,
          0.07451765524672031,
          0.03927048518676568
         ],
         "yaxis": "y"
        },
        {
         "hoverinfo": "text",
         "marker": {
          "color": "rgb(133,20,75)"
         },
         "mode": "lines",
         "type": "scatter",
         "x": [
          10592.5,
          10592.5,
          10626.25,
          10626.25
         ],
         "xaxis": "x",
         "y": [
          0,
          2.7275906052751138,
          2.7275906052751138,
          0.07451765524672031
         ],
         "yaxis": "y"
        },
        {
         "hoverinfo": "text",
         "marker": {
          "color": "rgb(133,20,75)"
         },
         "mode": "lines",
         "type": "scatter",
         "x": [
          10675,
          10675,
          10685,
          10685
         ],
         "xaxis": "x",
         "y": [
          0,
          0.12810324015541374,
          0.12810324015541374,
          0
         ],
         "yaxis": "y"
        },
        {
         "hoverinfo": "text",
         "marker": {
          "color": "rgb(133,20,75)"
         },
         "mode": "lines",
         "type": "scatter",
         "x": [
          10695,
          10695,
          10705,
          10705
         ],
         "xaxis": "x",
         "y": [
          0,
          0.28301884684085526,
          0.28301884684085526,
          0
         ],
         "yaxis": "y"
        },
        {
         "hoverinfo": "text",
         "marker": {
          "color": "rgb(133,20,75)"
         },
         "mode": "lines",
         "type": "scatter",
         "x": [
          10680,
          10680,
          10700,
          10700
         ],
         "xaxis": "x",
         "y": [
          0.12810324015541374,
          0.4346214876588606,
          0.4346214876588606,
          0.28301884684085526
         ],
         "yaxis": "y"
        },
        {
         "hoverinfo": "text",
         "marker": {
          "color": "rgb(133,20,75)"
         },
         "mode": "lines",
         "type": "scatter",
         "x": [
          10715,
          10715,
          10725,
          10725
         ],
         "xaxis": "x",
         "y": [
          0,
          0.122896822275098,
          0.122896822275098,
          0
         ],
         "yaxis": "y"
        },
        {
         "hoverinfo": "text",
         "marker": {
          "color": "rgb(133,20,75)"
         },
         "mode": "lines",
         "type": "scatter",
         "x": [
          10735,
          10735,
          10745,
          10745
         ],
         "xaxis": "x",
         "y": [
          0,
          0.2025799955281666,
          0.2025799955281666,
          0
         ],
         "yaxis": "y"
        },
        {
         "hoverinfo": "text",
         "marker": {
          "color": "rgb(133,20,75)"
         },
         "mode": "lines",
         "type": "scatter",
         "x": [
          10720,
          10720,
          10740,
          10740
         ],
         "xaxis": "x",
         "y": [
          0.122896822275098,
          0.5261979017900691,
          0.5261979017900691,
          0.2025799955281666
         ],
         "yaxis": "y"
        },
        {
         "hoverinfo": "text",
         "marker": {
          "color": "rgb(133,20,75)"
         },
         "mode": "lines",
         "type": "scatter",
         "x": [
          10690,
          10690,
          10730,
          10730
         ],
         "xaxis": "x",
         "y": [
          0.4346214876588606,
          0.7269248481039747,
          0.7269248481039747,
          0.5261979017900691
         ],
         "yaxis": "y"
        },
        {
         "hoverinfo": "text",
         "marker": {
          "color": "rgb(133,20,75)"
         },
         "mode": "lines",
         "type": "scatter",
         "x": [
          10755,
          10755,
          10765,
          10765
         ],
         "xaxis": "x",
         "y": [
          0,
          1.2403059300516897,
          1.2403059300516897,
          0
         ],
         "yaxis": "y"
        },
        {
         "hoverinfo": "text",
         "marker": {
          "color": "rgb(133,20,75)"
         },
         "mode": "lines",
         "type": "scatter",
         "x": [
          10710,
          10710,
          10760,
          10760
         ],
         "xaxis": "x",
         "y": [
          0.7269248481039747,
          1.4970932695108017,
          1.4970932695108017,
          1.2403059300516897
         ],
         "yaxis": "y"
        },
        {
         "hoverinfo": "text",
         "marker": {
          "color": "rgb(133,20,75)"
         },
         "mode": "lines",
         "type": "scatter",
         "x": [
          10775,
          10775,
          10785,
          10785
         ],
         "xaxis": "x",
         "y": [
          0,
          1.0404932326764589,
          1.0404932326764589,
          0
         ],
         "yaxis": "y"
        },
        {
         "hoverinfo": "text",
         "marker": {
          "color": "rgb(133,20,75)"
         },
         "mode": "lines",
         "type": "scatter",
         "x": [
          10815,
          10815,
          10825,
          10825
         ],
         "xaxis": "x",
         "y": [
          0,
          0.08396504224890833,
          0.08396504224890833,
          0
         ],
         "yaxis": "y"
        },
        {
         "hoverinfo": "text",
         "marker": {
          "color": "rgb(133,20,75)"
         },
         "mode": "lines",
         "type": "scatter",
         "x": [
          10835,
          10835,
          10845,
          10845
         ],
         "xaxis": "x",
         "y": [
          0,
          0.1745016241814065,
          0.1745016241814065,
          0
         ],
         "yaxis": "y"
        },
        {
         "hoverinfo": "text",
         "marker": {
          "color": "rgb(133,20,75)"
         },
         "mode": "lines",
         "type": "scatter",
         "x": [
          10820,
          10820,
          10840,
          10840
         ],
         "xaxis": "x",
         "y": [
          0.08396504224890833,
          0.3471394006129431,
          0.3471394006129431,
          0.1745016241814065
         ],
         "yaxis": "y"
        },
        {
         "hoverinfo": "text",
         "marker": {
          "color": "rgb(133,20,75)"
         },
         "mode": "lines",
         "type": "scatter",
         "x": [
          10805,
          10805,
          10830,
          10830
         ],
         "xaxis": "x",
         "y": [
          0,
          0.38967237350558254,
          0.38967237350558254,
          0.3471394006129431
         ],
         "yaxis": "y"
        },
        {
         "hoverinfo": "text",
         "marker": {
          "color": "rgb(133,20,75)"
         },
         "mode": "lines",
         "type": "scatter",
         "x": [
          10795,
          10795,
          10817.5,
          10817.5
         ],
         "xaxis": "x",
         "y": [
          0,
          1.1576020793064687,
          1.1576020793064687,
          0.38967237350558254
         ],
         "yaxis": "y"
        },
        {
         "hoverinfo": "text",
         "marker": {
          "color": "rgb(133,20,75)"
         },
         "mode": "lines",
         "type": "scatter",
         "x": [
          10780,
          10780,
          10806.25,
          10806.25
         ],
         "xaxis": "x",
         "y": [
          1.0404932326764589,
          1.8347620246273588,
          1.8347620246273588,
          1.1576020793064687
         ],
         "yaxis": "y"
        },
        {
         "hoverinfo": "text",
         "marker": {
          "color": "rgb(133,20,75)"
         },
         "mode": "lines",
         "type": "scatter",
         "x": [
          10735,
          10735,
          10793.125,
          10793.125
         ],
         "xaxis": "x",
         "y": [
          1.4970932695108017,
          2.7779969066737644,
          2.7779969066737644,
          1.8347620246273588
         ],
         "yaxis": "y"
        },
        {
         "hoverinfo": "text",
         "marker": {
          "color": "rgb(133,20,75)"
         },
         "mode": "lines",
         "type": "scatter",
         "x": [
          10875,
          10875,
          10885,
          10885
         ],
         "xaxis": "x",
         "y": [
          0,
          0.001435488942272422,
          0.001435488942272422,
          0
         ],
         "yaxis": "y"
        },
        {
         "hoverinfo": "text",
         "marker": {
          "color": "rgb(133,20,75)"
         },
         "mode": "lines",
         "type": "scatter",
         "x": [
          10865,
          10865,
          10880,
          10880
         ],
         "xaxis": "x",
         "y": [
          0,
          0.0032700129491977743,
          0.0032700129491977743,
          0.001435488942272422
         ],
         "yaxis": "y"
        },
        {
         "hoverinfo": "text",
         "marker": {
          "color": "rgb(133,20,75)"
         },
         "mode": "lines",
         "type": "scatter",
         "x": [
          10855,
          10855,
          10872.5,
          10872.5
         ],
         "xaxis": "x",
         "y": [
          0,
          0.006332051385476894,
          0.006332051385476894,
          0.0032700129491977743
         ],
         "yaxis": "y"
        },
        {
         "hoverinfo": "text",
         "marker": {
          "color": "rgb(133,20,75)"
         },
         "mode": "lines",
         "type": "scatter",
         "x": [
          10895,
          10895,
          10905,
          10905
         ],
         "xaxis": "x",
         "y": [
          0,
          0.012737584238828172,
          0.012737584238828172,
          0
         ],
         "yaxis": "y"
        },
        {
         "hoverinfo": "text",
         "marker": {
          "color": "rgb(133,20,75)"
         },
         "mode": "lines",
         "type": "scatter",
         "x": [
          10925,
          10925,
          10935,
          10935
         ],
         "xaxis": "x",
         "y": [
          0,
          0.005008470162594475,
          0.005008470162594475,
          0
         ],
         "yaxis": "y"
        },
        {
         "hoverinfo": "text",
         "marker": {
          "color": "rgb(133,20,75)"
         },
         "mode": "lines",
         "type": "scatter",
         "x": [
          10915,
          10915,
          10930,
          10930
         ],
         "xaxis": "x",
         "y": [
          0,
          0.0173323254395872,
          0.0173323254395872,
          0.005008470162594475
         ],
         "yaxis": "y"
        },
        {
         "hoverinfo": "text",
         "marker": {
          "color": "rgb(133,20,75)"
         },
         "mode": "lines",
         "type": "scatter",
         "x": [
          10900,
          10900,
          10922.5,
          10922.5
         ],
         "xaxis": "x",
         "y": [
          0.012737584238828172,
          1.6257530295848683,
          1.6257530295848683,
          0.0173323254395872
         ],
         "yaxis": "y"
        },
        {
         "hoverinfo": "text",
         "marker": {
          "color": "rgb(133,20,75)"
         },
         "mode": "lines",
         "type": "scatter",
         "x": [
          10863.75,
          10863.75,
          10911.25,
          10911.25
         ],
         "xaxis": "x",
         "y": [
          0.006332051385476894,
          3.495751689359373,
          3.495751689359373,
          1.6257530295848683
         ],
         "yaxis": "y"
        },
        {
         "hoverinfo": "text",
         "marker": {
          "color": "rgb(133,20,75)"
         },
         "mode": "lines",
         "type": "scatter",
         "x": [
          10764.0625,
          10764.0625,
          10887.5,
          10887.5
         ],
         "xaxis": "x",
         "y": [
          2.7779969066737644,
          4.576992141217261,
          4.576992141217261,
          3.495751689359373
         ],
         "yaxis": "y"
        },
        {
         "hoverinfo": "text",
         "marker": {
          "color": "rgb(133,20,75)"
         },
         "mode": "lines",
         "type": "scatter",
         "x": [
          10609.375,
          10609.375,
          10825.78125,
          10825.78125
         ],
         "xaxis": "x",
         "y": [
          2.7275906052751138,
          5.598184803424638,
          5.598184803424638,
          4.576992141217261
         ],
         "yaxis": "y"
        },
        {
         "hoverinfo": "text",
         "marker": {
          "color": "rgb(133,20,75)"
         },
         "mode": "lines",
         "type": "scatter",
         "x": [
          10515.3125,
          10515.3125,
          10717.578125,
          10717.578125
         ],
         "xaxis": "x",
         "y": [
          3.6625329567726643,
          6.709459220192974,
          6.709459220192974,
          5.598184803424638
         ],
         "yaxis": "y"
        },
        {
         "hoverinfo": "text",
         "marker": {
          "color": "rgb(133,20,75)"
         },
         "mode": "lines",
         "type": "scatter",
         "x": [
          10184.23828125,
          10184.23828125,
          10616.4453125,
          10616.4453125
         ],
         "xaxis": "x",
         "y": [
          6.17667510491695,
          21.6992839300572,
          21.6992839300572,
          6.709459220192974
         ],
         "yaxis": "y"
        },
        {
         "hoverinfo": "text",
         "marker": {
          "color": "rgb(133,20,75)"
         },
         "mode": "lines",
         "type": "scatter",
         "x": [
          10975,
          10975,
          10985,
          10985
         ],
         "xaxis": "x",
         "y": [
          0,
          0.0027701901388124898,
          0.0027701901388124898,
          0
         ],
         "yaxis": "y"
        },
        {
         "hoverinfo": "text",
         "marker": {
          "color": "rgb(133,20,75)"
         },
         "mode": "lines",
         "type": "scatter",
         "x": [
          10965,
          10965,
          10980,
          10980
         ],
         "xaxis": "x",
         "y": [
          0,
          0.028962932623302014,
          0.028962932623302014,
          0.0027701901388124898
         ],
         "yaxis": "y"
        },
        {
         "hoverinfo": "text",
         "marker": {
          "color": "rgb(133,20,75)"
         },
         "mode": "lines",
         "type": "scatter",
         "x": [
          10955,
          10955,
          10972.5,
          10972.5
         ],
         "xaxis": "x",
         "y": [
          0,
          0.08609567863427976,
          0.08609567863427976,
          0.028962932623302014
         ],
         "yaxis": "y"
        },
        {
         "hoverinfo": "text",
         "marker": {
          "color": "rgb(133,20,75)"
         },
         "mode": "lines",
         "type": "scatter",
         "x": [
          10945,
          10945,
          10963.75,
          10963.75
         ],
         "xaxis": "x",
         "y": [
          0,
          0.22646347877576614,
          0.22646347877576614,
          0.08609567863427976
         ],
         "yaxis": "y"
        },
        {
         "hoverinfo": "text",
         "marker": {
          "color": "rgb(133,20,75)"
         },
         "mode": "lines",
         "type": "scatter",
         "x": [
          11005,
          11005,
          11015,
          11015
         ],
         "xaxis": "x",
         "y": [
          0,
          0.11589904086086648,
          0.11589904086086648,
          0
         ],
         "yaxis": "y"
        },
        {
         "hoverinfo": "text",
         "marker": {
          "color": "rgb(133,20,75)"
         },
         "mode": "lines",
         "type": "scatter",
         "x": [
          10995,
          10995,
          11010,
          11010
         ],
         "xaxis": "x",
         "y": [
          0,
          0.2347521177007612,
          0.2347521177007612,
          0.11589904086086648
         ],
         "yaxis": "y"
        },
        {
         "hoverinfo": "text",
         "marker": {
          "color": "rgb(133,20,75)"
         },
         "mode": "lines",
         "type": "scatter",
         "x": [
          10954.375,
          10954.375,
          11002.5,
          11002.5
         ],
         "xaxis": "x",
         "y": [
          0.22646347877576614,
          2.7303721827196643,
          2.7303721827196643,
          0.2347521177007612
         ],
         "yaxis": "y"
        },
        {
         "hoverinfo": "text",
         "marker": {
          "color": "rgb(133,20,75)"
         },
         "mode": "lines",
         "type": "scatter",
         "x": [
          11045,
          11045,
          11055,
          11055
         ],
         "xaxis": "x",
         "y": [
          0,
          0.005564149214972729,
          0.005564149214972729,
          0
         ],
         "yaxis": "y"
        },
        {
         "hoverinfo": "text",
         "marker": {
          "color": "rgb(133,20,75)"
         },
         "mode": "lines",
         "type": "scatter",
         "x": [
          11035,
          11035,
          11050,
          11050
         ],
         "xaxis": "x",
         "y": [
          0,
          0.01418020012671301,
          0.01418020012671301,
          0.005564149214972729
         ],
         "yaxis": "y"
        },
        {
         "hoverinfo": "text",
         "marker": {
          "color": "rgb(133,20,75)"
         },
         "mode": "lines",
         "type": "scatter",
         "x": [
          11025,
          11025,
          11042.5,
          11042.5
         ],
         "xaxis": "x",
         "y": [
          0,
          0.03572513388533024,
          0.03572513388533024,
          0.01418020012671301
         ],
         "yaxis": "y"
        },
        {
         "hoverinfo": "text",
         "marker": {
          "color": "rgb(133,20,75)"
         },
         "mode": "lines",
         "type": "scatter",
         "x": [
          11065,
          11065,
          11075,
          11075
         ],
         "xaxis": "x",
         "y": [
          0,
          0.09719783514753881,
          0.09719783514753881,
          0
         ],
         "yaxis": "y"
        },
        {
         "hoverinfo": "text",
         "marker": {
          "color": "rgb(133,20,75)"
         },
         "mode": "lines",
         "type": "scatter",
         "x": [
          11095,
          11095,
          11105,
          11105
         ],
         "xaxis": "x",
         "y": [
          0,
          0.11628290177669774,
          0.11628290177669774,
          0
         ],
         "yaxis": "y"
        },
        {
         "hoverinfo": "text",
         "marker": {
          "color": "rgb(133,20,75)"
         },
         "mode": "lines",
         "type": "scatter",
         "x": [
          11085,
          11085,
          11100,
          11100
         ],
         "xaxis": "x",
         "y": [
          0,
          0.27065269771345424,
          0.27065269771345424,
          0.11628290177669774
         ],
         "yaxis": "y"
        },
        {
         "hoverinfo": "text",
         "marker": {
          "color": "rgb(133,20,75)"
         },
         "mode": "lines",
         "type": "scatter",
         "x": [
          11135,
          11135,
          11145,
          11145
         ],
         "xaxis": "x",
         "y": [
          0,
          0.19529767656690028,
          0.19529767656690028,
          0
         ],
         "yaxis": "y"
        },
        {
         "hoverinfo": "text",
         "marker": {
          "color": "rgb(133,20,75)"
         },
         "mode": "lines",
         "type": "scatter",
         "x": [
          11125,
          11125,
          11140,
          11140
         ],
         "xaxis": "x",
         "y": [
          0,
          0.32116445681594163,
          0.32116445681594163,
          0.19529767656690028
         ],
         "yaxis": "y"
        },
        {
         "hoverinfo": "text",
         "marker": {
          "color": "rgb(133,20,75)"
         },
         "mode": "lines",
         "type": "scatter",
         "x": [
          11115,
          11115,
          11132.5,
          11132.5
         ],
         "xaxis": "x",
         "y": [
          0,
          0.42726101553885315,
          0.42726101553885315,
          0.32116445681594163
         ],
         "yaxis": "y"
        },
        {
         "hoverinfo": "text",
         "marker": {
          "color": "rgb(133,20,75)"
         },
         "mode": "lines",
         "type": "scatter",
         "x": [
          11092.5,
          11092.5,
          11123.75,
          11123.75
         ],
         "xaxis": "x",
         "y": [
          0.27065269771345424,
          1.2168543522886273,
          1.2168543522886273,
          0.42726101553885315
         ],
         "yaxis": "y"
        },
        {
         "hoverinfo": "text",
         "marker": {
          "color": "rgb(133,20,75)"
         },
         "mode": "lines",
         "type": "scatter",
         "x": [
          11070,
          11070,
          11108.125,
          11108.125
         ],
         "xaxis": "x",
         "y": [
          0.09719783514753881,
          1.836748283399752,
          1.836748283399752,
          1.2168543522886273
         ],
         "yaxis": "y"
        },
        {
         "hoverinfo": "text",
         "marker": {
          "color": "rgb(133,20,75)"
         },
         "mode": "lines",
         "type": "scatter",
         "x": [
          11033.75,
          11033.75,
          11089.0625,
          11089.0625
         ],
         "xaxis": "x",
         "y": [
          0.03572513388533024,
          2.9389905070169084,
          2.9389905070169084,
          1.836748283399752
         ],
         "yaxis": "y"
        },
        {
         "hoverinfo": "text",
         "marker": {
          "color": "rgb(133,20,75)"
         },
         "mode": "lines",
         "type": "scatter",
         "x": [
          10978.4375,
          10978.4375,
          11061.40625,
          11061.40625
         ],
         "xaxis": "x",
         "y": [
          2.7303721827196643,
          4.550081563306988,
          4.550081563306988,
          2.9389905070169084
         ],
         "yaxis": "y"
        },
        {
         "hoverinfo": "text",
         "marker": {
          "color": "rgb(133,20,75)"
         },
         "mode": "lines",
         "type": "scatter",
         "x": [
          11155,
          11155,
          11165,
          11165
         ],
         "xaxis": "x",
         "y": [
          0,
          0.08664301857721075,
          0.08664301857721075,
          0
         ],
         "yaxis": "y"
        },
        {
         "hoverinfo": "text",
         "marker": {
          "color": "rgb(133,20,75)"
         },
         "mode": "lines",
         "type": "scatter",
         "x": [
          11185,
          11185,
          11195,
          11195
         ],
         "xaxis": "x",
         "y": [
          0,
          0.104294901296999,
          0.104294901296999,
          0
         ],
         "yaxis": "y"
        },
        {
         "hoverinfo": "text",
         "marker": {
          "color": "rgb(133,20,75)"
         },
         "mode": "lines",
         "type": "scatter",
         "x": [
          11175,
          11175,
          11190,
          11190
         ],
         "xaxis": "x",
         "y": [
          0,
          0.18460644898637507,
          0.18460644898637507,
          0.104294901296999
         ],
         "yaxis": "y"
        },
        {
         "hoverinfo": "text",
         "marker": {
          "color": "rgb(133,20,75)"
         },
         "mode": "lines",
         "type": "scatter",
         "x": [
          11160,
          11160,
          11182.5,
          11182.5
         ],
         "xaxis": "x",
         "y": [
          0.08664301857721075,
          0.44152054644571703,
          0.44152054644571703,
          0.18460644898637507
         ],
         "yaxis": "y"
        },
        {
         "hoverinfo": "text",
         "marker": {
          "color": "rgb(133,20,75)"
         },
         "mode": "lines",
         "type": "scatter",
         "x": [
          11205,
          11205,
          11215,
          11215
         ],
         "xaxis": "x",
         "y": [
          0,
          0.6032277076728804,
          0.6032277076728804,
          0
         ],
         "yaxis": "y"
        },
        {
         "hoverinfo": "text",
         "marker": {
          "color": "rgb(133,20,75)"
         },
         "mode": "lines",
         "type": "scatter",
         "x": [
          11171.25,
          11171.25,
          11210,
          11210
         ],
         "xaxis": "x",
         "y": [
          0.44152054644571703,
          1.0461646057219696,
          1.0461646057219696,
          0.6032277076728804
         ],
         "yaxis": "y"
        },
        {
         "hoverinfo": "text",
         "marker": {
          "color": "rgb(133,20,75)"
         },
         "mode": "lines",
         "type": "scatter",
         "x": [
          11225,
          11225,
          11235,
          11235
         ],
         "xaxis": "x",
         "y": [
          0,
          0.07691065722733657,
          0.07691065722733657,
          0
         ],
         "yaxis": "y"
        },
        {
         "hoverinfo": "text",
         "marker": {
          "color": "rgb(133,20,75)"
         },
         "mode": "lines",
         "type": "scatter",
         "x": [
          11255,
          11255,
          11265,
          11265
         ],
         "xaxis": "x",
         "y": [
          0,
          0.04117950830183182,
          0.04117950830183182,
          0
         ],
         "yaxis": "y"
        },
        {
         "hoverinfo": "text",
         "marker": {
          "color": "rgb(133,20,75)"
         },
         "mode": "lines",
         "type": "scatter",
         "x": [
          11245,
          11245,
          11260,
          11260
         ],
         "xaxis": "x",
         "y": [
          0,
          0.2151387620874113,
          0.2151387620874113,
          0.04117950830183182
         ],
         "yaxis": "y"
        },
        {
         "hoverinfo": "text",
         "marker": {
          "color": "rgb(133,20,75)"
         },
         "mode": "lines",
         "type": "scatter",
         "x": [
          11230,
          11230,
          11252.5,
          11252.5
         ],
         "xaxis": "x",
         "y": [
          0.07691065722733657,
          0.5917519537931346,
          0.5917519537931346,
          0.2151387620874113
         ],
         "yaxis": "y"
        },
        {
         "hoverinfo": "text",
         "marker": {
          "color": "rgb(133,20,75)"
         },
         "mode": "lines",
         "type": "scatter",
         "x": [
          11275,
          11275,
          11285,
          11285
         ],
         "xaxis": "x",
         "y": [
          0,
          0.007146406998389845,
          0.007146406998389845,
          0
         ],
         "yaxis": "y"
        },
        {
         "hoverinfo": "text",
         "marker": {
          "color": "rgb(133,20,75)"
         },
         "mode": "lines",
         "type": "scatter",
         "x": [
          11315,
          11315,
          11325,
          11325
         ],
         "xaxis": "x",
         "y": [
          0,
          0.0053556108869374005,
          0.0053556108869374005,
          0
         ],
         "yaxis": "y"
        },
        {
         "hoverinfo": "text",
         "marker": {
          "color": "rgb(133,20,75)"
         },
         "mode": "lines",
         "type": "scatter",
         "x": [
          11305,
          11305,
          11320,
          11320
         ],
         "xaxis": "x",
         "y": [
          0,
          0.4023706206142813,
          0.4023706206142813,
          0.0053556108869374005
         ],
         "yaxis": "y"
        },
        {
         "hoverinfo": "text",
         "marker": {
          "color": "rgb(133,20,75)"
         },
         "mode": "lines",
         "type": "scatter",
         "x": [
          11295,
          11295,
          11312.5,
          11312.5
         ],
         "xaxis": "x",
         "y": [
          0,
          0.800831555053721,
          0.800831555053721,
          0.4023706206142813
         ],
         "yaxis": "y"
        },
        {
         "hoverinfo": "text",
         "marker": {
          "color": "rgb(133,20,75)"
         },
         "mode": "lines",
         "type": "scatter",
         "x": [
          11355,
          11355,
          11365,
          11365
         ],
         "xaxis": "x",
         "y": [
          0,
          0.03083143528416387,
          0.03083143528416387,
          0
         ],
         "yaxis": "y"
        },
        {
         "hoverinfo": "text",
         "marker": {
          "color": "rgb(133,20,75)"
         },
         "mode": "lines",
         "type": "scatter",
         "x": [
          11345,
          11345,
          11360,
          11360
         ],
         "xaxis": "x",
         "y": [
          0,
          0.7490622455666206,
          0.7490622455666206,
          0.03083143528416387
         ],
         "yaxis": "y"
        },
        {
         "hoverinfo": "text",
         "marker": {
          "color": "rgb(133,20,75)"
         },
         "mode": "lines",
         "type": "scatter",
         "x": [
          11335,
          11335,
          11352.5,
          11352.5
         ],
         "xaxis": "x",
         "y": [
          0,
          1.3556700239920205,
          1.3556700239920205,
          0.7490622455666206
         ],
         "yaxis": "y"
        },
        {
         "hoverinfo": "text",
         "marker": {
          "color": "rgb(133,20,75)"
         },
         "mode": "lines",
         "type": "scatter",
         "x": [
          11303.75,
          11303.75,
          11343.75,
          11343.75
         ],
         "xaxis": "x",
         "y": [
          0.800831555053721,
          1.7470676677553902,
          1.7470676677553902,
          1.3556700239920205
         ],
         "yaxis": "y"
        },
        {
         "hoverinfo": "text",
         "marker": {
          "color": "rgb(133,20,75)"
         },
         "mode": "lines",
         "type": "scatter",
         "x": [
          11280,
          11280,
          11323.75,
          11323.75
         ],
         "xaxis": "x",
         "y": [
          0.007146406998389845,
          2.4895359671959403,
          2.4895359671959403,
          1.7470676677553902
         ],
         "yaxis": "y"
        },
        {
         "hoverinfo": "text",
         "marker": {
          "color": "rgb(133,20,75)"
         },
         "mode": "lines",
         "type": "scatter",
         "x": [
          11241.25,
          11241.25,
          11301.875,
          11301.875
         ],
         "xaxis": "x",
         "y": [
          0.5917519537931346,
          3.277315558393955,
          3.277315558393955,
          2.4895359671959403
         ],
         "yaxis": "y"
        },
        {
         "hoverinfo": "text",
         "marker": {
          "color": "rgb(133,20,75)"
         },
         "mode": "lines",
         "type": "scatter",
         "x": [
          11190.625,
          11190.625,
          11271.5625,
          11271.5625
         ],
         "xaxis": "x",
         "y": [
          1.0461646057219696,
          5.114838787394409,
          5.114838787394409,
          3.277315558393955
         ],
         "yaxis": "y"
        },
        {
         "hoverinfo": "text",
         "marker": {
          "color": "rgb(133,20,75)"
         },
         "mode": "lines",
         "type": "scatter",
         "x": [
          11019.921875,
          11019.921875,
          11231.09375,
          11231.09375
         ],
         "xaxis": "x",
         "y": [
          4.550081563306988,
          6.144925065622089,
          6.144925065622089,
          5.114838787394409
         ],
         "yaxis": "y"
        },
        {
         "hoverinfo": "text",
         "marker": {
          "color": "rgb(133,20,75)"
         },
         "mode": "lines",
         "type": "scatter",
         "x": [
          11385,
          11385,
          11395,
          11395
         ],
         "xaxis": "x",
         "y": [
          0,
          0.04007948930533048,
          0.04007948930533048,
          0
         ],
         "yaxis": "y"
        },
        {
         "hoverinfo": "text",
         "marker": {
          "color": "rgb(133,20,75)"
         },
         "mode": "lines",
         "type": "scatter",
         "x": [
          11375,
          11375,
          11390,
          11390
         ],
         "xaxis": "x",
         "y": [
          0,
          0.751842508222271,
          0.751842508222271,
          0.04007948930533048
         ],
         "yaxis": "y"
        },
        {
         "hoverinfo": "text",
         "marker": {
          "color": "rgb(133,20,75)"
         },
         "mode": "lines",
         "type": "scatter",
         "x": [
          11405,
          11405,
          11415,
          11415
         ],
         "xaxis": "x",
         "y": [
          0,
          0.7314134707717033,
          0.7314134707717033,
          0
         ],
         "yaxis": "y"
        },
        {
         "hoverinfo": "text",
         "marker": {
          "color": "rgb(133,20,75)"
         },
         "mode": "lines",
         "type": "scatter",
         "x": [
          11455,
          11455,
          11465,
          11465
         ],
         "xaxis": "x",
         "y": [
          0,
          0.00019104991165982412,
          0.00019104991165982412,
          0
         ],
         "yaxis": "y"
        },
        {
         "hoverinfo": "text",
         "marker": {
          "color": "rgb(133,20,75)"
         },
         "mode": "lines",
         "type": "scatter",
         "x": [
          11445,
          11445,
          11460,
          11460
         ],
         "xaxis": "x",
         "y": [
          0,
          0.35802629299211525,
          0.35802629299211525,
          0.00019104991165982412
         ],
         "yaxis": "y"
        },
        {
         "hoverinfo": "text",
         "marker": {
          "color": "rgb(133,20,75)"
         },
         "mode": "lines",
         "type": "scatter",
         "x": [
          11435,
          11435,
          11452.5,
          11452.5
         ],
         "xaxis": "x",
         "y": [
          0,
          0.7307716202211787,
          0.7307716202211787,
          0.35802629299211525
         ],
         "yaxis": "y"
        },
        {
         "hoverinfo": "text",
         "marker": {
          "color": "rgb(133,20,75)"
         },
         "mode": "lines",
         "type": "scatter",
         "x": [
          11425,
          11425,
          11443.75,
          11443.75
         ],
         "xaxis": "x",
         "y": [
          0,
          0.9780556832567141,
          0.9780556832567141,
          0.7307716202211787
         ],
         "yaxis": "y"
        },
        {
         "hoverinfo": "text",
         "marker": {
          "color": "rgb(133,20,75)"
         },
         "mode": "lines",
         "type": "scatter",
         "x": [
          11410,
          11410,
          11434.375,
          11434.375
         ],
         "xaxis": "x",
         "y": [
          0.7314134707717033,
          1.3509130290541345,
          1.3509130290541345,
          0.9780556832567141
         ],
         "yaxis": "y"
        },
        {
         "hoverinfo": "text",
         "marker": {
          "color": "rgb(133,20,75)"
         },
         "mode": "lines",
         "type": "scatter",
         "x": [
          11382.5,
          11382.5,
          11422.1875,
          11422.1875
         ],
         "xaxis": "x",
         "y": [
          0.751842508222271,
          2.1003382288069026,
          2.1003382288069026,
          1.3509130290541345
         ],
         "yaxis": "y"
        },
        {
         "hoverinfo": "text",
         "marker": {
          "color": "rgb(133,20,75)"
         },
         "mode": "lines",
         "type": "scatter",
         "x": [
          11485,
          11485,
          11495,
          11495
         ],
         "xaxis": "x",
         "y": [
          0,
          0.06582891601434207,
          0.06582891601434207,
          0
         ],
         "yaxis": "y"
        },
        {
         "hoverinfo": "text",
         "marker": {
          "color": "rgb(133,20,75)"
         },
         "mode": "lines",
         "type": "scatter",
         "x": [
          11475,
          11475,
          11490,
          11490
         ],
         "xaxis": "x",
         "y": [
          0,
          0.1950406315288924,
          0.1950406315288924,
          0.06582891601434207
         ],
         "yaxis": "y"
        },
        {
         "hoverinfo": "text",
         "marker": {
          "color": "rgb(133,20,75)"
         },
         "mode": "lines",
         "type": "scatter",
         "x": [
          11505,
          11505,
          11515,
          11515
         ],
         "xaxis": "x",
         "y": [
          0,
          0.009492584432213992,
          0.009492584432213992,
          0
         ],
         "yaxis": "y"
        },
        {
         "hoverinfo": "text",
         "marker": {
          "color": "rgb(133,20,75)"
         },
         "mode": "lines",
         "type": "scatter",
         "x": [
          11525,
          11525,
          11535,
          11535
         ],
         "xaxis": "x",
         "y": [
          0,
          0.08674283319502896,
          0.08674283319502896,
          0
         ],
         "yaxis": "y"
        },
        {
         "hoverinfo": "text",
         "marker": {
          "color": "rgb(133,20,75)"
         },
         "mode": "lines",
         "type": "scatter",
         "x": [
          11510,
          11510,
          11530,
          11530
         ],
         "xaxis": "x",
         "y": [
          0.009492584432213992,
          1.607974523962231,
          1.607974523962231,
          0.08674283319502896
         ],
         "yaxis": "y"
        },
        {
         "hoverinfo": "text",
         "marker": {
          "color": "rgb(133,20,75)"
         },
         "mode": "lines",
         "type": "scatter",
         "x": [
          11545,
          11545,
          11555,
          11555
         ],
         "xaxis": "x",
         "y": [
          0,
          0.06051005410871236,
          0.06051005410871236,
          0
         ],
         "yaxis": "y"
        },
        {
         "hoverinfo": "text",
         "marker": {
          "color": "rgb(133,20,75)"
         },
         "mode": "lines",
         "type": "scatter",
         "x": [
          11575,
          11575,
          11585,
          11585
         ],
         "xaxis": "x",
         "y": [
          0,
          0.03827350934009544,
          0.03827350934009544,
          0
         ],
         "yaxis": "y"
        },
        {
         "hoverinfo": "text",
         "marker": {
          "color": "rgb(133,20,75)"
         },
         "mode": "lines",
         "type": "scatter",
         "x": [
          11605,
          11605,
          11615,
          11615
         ],
         "xaxis": "x",
         "y": [
          0,
          0.10848922611072183,
          0.10848922611072183,
          0
         ],
         "yaxis": "y"
        },
        {
         "hoverinfo": "text",
         "marker": {
          "color": "rgb(133,20,75)"
         },
         "mode": "lines",
         "type": "scatter",
         "x": [
          11625,
          11625,
          11635,
          11635
         ],
         "xaxis": "x",
         "y": [
          0,
          0.07783532216582403,
          0.07783532216582403,
          0
         ],
         "yaxis": "y"
        },
        {
         "hoverinfo": "text",
         "marker": {
          "color": "rgb(133,20,75)"
         },
         "mode": "lines",
         "type": "scatter",
         "x": [
          11645,
          11645,
          11655,
          11655
         ],
         "xaxis": "x",
         "y": [
          0,
          0.12921898567535492,
          0.12921898567535492,
          0
         ],
         "yaxis": "y"
        },
        {
         "hoverinfo": "text",
         "marker": {
          "color": "rgb(133,20,75)"
         },
         "mode": "lines",
         "type": "scatter",
         "x": [
          11630,
          11630,
          11650,
          11650
         ],
         "xaxis": "x",
         "y": [
          0.07783532216582403,
          0.24801330002113853,
          0.24801330002113853,
          0.12921898567535492
         ],
         "yaxis": "y"
        },
        {
         "hoverinfo": "text",
         "marker": {
          "color": "rgb(133,20,75)"
         },
         "mode": "lines",
         "type": "scatter",
         "x": [
          11610,
          11610,
          11640,
          11640
         ],
         "xaxis": "x",
         "y": [
          0.10848922611072183,
          0.3174375145989431,
          0.3174375145989431,
          0.24801330002113853
         ],
         "yaxis": "y"
        },
        {
         "hoverinfo": "text",
         "marker": {
          "color": "rgb(133,20,75)"
         },
         "mode": "lines",
         "type": "scatter",
         "x": [
          11595,
          11595,
          11625,
          11625
         ],
         "xaxis": "x",
         "y": [
          0,
          0.5536845404426496,
          0.5536845404426496,
          0.3174375145989431
         ],
         "yaxis": "y"
        },
        {
         "hoverinfo": "text",
         "marker": {
          "color": "rgb(133,20,75)"
         },
         "mode": "lines",
         "type": "scatter",
         "x": [
          11580,
          11580,
          11610,
          11610
         ],
         "xaxis": "x",
         "y": [
          0.03827350934009544,
          0.8438805335129111,
          0.8438805335129111,
          0.5536845404426496
         ],
         "yaxis": "y"
        },
        {
         "hoverinfo": "text",
         "marker": {
          "color": "rgb(133,20,75)"
         },
         "mode": "lines",
         "type": "scatter",
         "x": [
          11565,
          11565,
          11595,
          11595
         ],
         "xaxis": "x",
         "y": [
          0,
          1.5507968317100964,
          1.5507968317100964,
          0.8438805335129111
         ],
         "yaxis": "y"
        },
        {
         "hoverinfo": "text",
         "marker": {
          "color": "rgb(133,20,75)"
         },
         "mode": "lines",
         "type": "scatter",
         "x": [
          11550,
          11550,
          11580,
          11580
         ],
         "xaxis": "x",
         "y": [
          0.06051005410871236,
          2.00498371662794,
          2.00498371662794,
          1.5507968317100964
         ],
         "yaxis": "y"
        },
        {
         "hoverinfo": "text",
         "marker": {
          "color": "rgb(133,20,75)"
         },
         "mode": "lines",
         "type": "scatter",
         "x": [
          11520,
          11520,
          11565,
          11565
         ],
         "xaxis": "x",
         "y": [
          1.607974523962231,
          3.1124219108814732,
          3.1124219108814732,
          2.00498371662794
         ],
         "yaxis": "y"
        },
        {
         "hoverinfo": "text",
         "marker": {
          "color": "rgb(133,20,75)"
         },
         "mode": "lines",
         "type": "scatter",
         "x": [
          11482.5,
          11482.5,
          11542.5,
          11542.5
         ],
         "xaxis": "x",
         "y": [
          0.1950406315288924,
          3.5202160395399287,
          3.5202160395399287,
          3.1124219108814732
         ],
         "yaxis": "y"
        },
        {
         "hoverinfo": "text",
         "marker": {
          "color": "rgb(133,20,75)"
         },
         "mode": "lines",
         "type": "scatter",
         "x": [
          11685,
          11685,
          11695,
          11695
         ],
         "xaxis": "x",
         "y": [
          0,
          0.001817553197285452,
          0.001817553197285452,
          0
         ],
         "yaxis": "y"
        },
        {
         "hoverinfo": "text",
         "marker": {
          "color": "rgb(133,20,75)"
         },
         "mode": "lines",
         "type": "scatter",
         "x": [
          11675,
          11675,
          11690,
          11690
         ],
         "xaxis": "x",
         "y": [
          0,
          0.05192291260147129,
          0.05192291260147129,
          0.001817553197285452
         ],
         "yaxis": "y"
        },
        {
         "hoverinfo": "text",
         "marker": {
          "color": "rgb(133,20,75)"
         },
         "mode": "lines",
         "type": "scatter",
         "x": [
          11665,
          11665,
          11682.5,
          11682.5
         ],
         "xaxis": "x",
         "y": [
          0,
          0.9691068846418526,
          0.9691068846418526,
          0.05192291260147129
         ],
         "yaxis": "y"
        },
        {
         "hoverinfo": "text",
         "marker": {
          "color": "rgb(133,20,75)"
         },
         "mode": "lines",
         "type": "scatter",
         "x": [
          11715,
          11715,
          11725,
          11725
         ],
         "xaxis": "x",
         "y": [
          0,
          0.00509464999606609,
          0.00509464999606609,
          0
         ],
         "yaxis": "y"
        },
        {
         "hoverinfo": "text",
         "marker": {
          "color": "rgb(133,20,75)"
         },
         "mode": "lines",
         "type": "scatter",
         "x": [
          11705,
          11705,
          11720,
          11720
         ],
         "xaxis": "x",
         "y": [
          0,
          0.13240791923873363,
          0.13240791923873363,
          0.00509464999606609
         ],
         "yaxis": "y"
        },
        {
         "hoverinfo": "text",
         "marker": {
          "color": "rgb(133,20,75)"
         },
         "mode": "lines",
         "type": "scatter",
         "x": [
          11755,
          11755,
          11765,
          11765
         ],
         "xaxis": "x",
         "y": [
          0,
          0.023511935134499742,
          0.023511935134499742,
          0
         ],
         "yaxis": "y"
        },
        {
         "hoverinfo": "text",
         "marker": {
          "color": "rgb(133,20,75)"
         },
         "mode": "lines",
         "type": "scatter",
         "x": [
          11745,
          11745,
          11760,
          11760
         ],
         "xaxis": "x",
         "y": [
          0,
          0.0864324549462573,
          0.0864324549462573,
          0.023511935134499742
         ],
         "yaxis": "y"
        },
        {
         "hoverinfo": "text",
         "marker": {
          "color": "rgb(133,20,75)"
         },
         "mode": "lines",
         "type": "scatter",
         "x": [
          11795,
          11795,
          11805,
          11805
         ],
         "xaxis": "x",
         "y": [
          0,
          0.026033268113206522,
          0.026033268113206522,
          0
         ],
         "yaxis": "y"
        },
        {
         "hoverinfo": "text",
         "marker": {
          "color": "rgb(133,20,75)"
         },
         "mode": "lines",
         "type": "scatter",
         "x": [
          11785,
          11785,
          11800,
          11800
         ],
         "xaxis": "x",
         "y": [
          0,
          0.039081155004356424,
          0.039081155004356424,
          0.026033268113206522
         ],
         "yaxis": "y"
        },
        {
         "hoverinfo": "text",
         "marker": {
          "color": "rgb(133,20,75)"
         },
         "mode": "lines",
         "type": "scatter",
         "x": [
          11775,
          11775,
          11792.5,
          11792.5
         ],
         "xaxis": "x",
         "y": [
          0,
          0.12455829389253122,
          0.12455829389253122,
          0.039081155004356424
         ],
         "yaxis": "y"
        },
        {
         "hoverinfo": "text",
         "marker": {
          "color": "rgb(133,20,75)"
         },
         "mode": "lines",
         "type": "scatter",
         "x": [
          11752.5,
          11752.5,
          11783.75,
          11783.75
         ],
         "xaxis": "x",
         "y": [
          0.0864324549462573,
          0.3930095933243649,
          0.3930095933243649,
          0.12455829389253122
         ],
         "yaxis": "y"
        },
        {
         "hoverinfo": "text",
         "marker": {
          "color": "rgb(133,20,75)"
         },
         "mode": "lines",
         "type": "scatter",
         "x": [
          11735,
          11735,
          11768.125,
          11768.125
         ],
         "xaxis": "x",
         "y": [
          0,
          1.1698879457225304,
          1.1698879457225304,
          0.3930095933243649
         ],
         "yaxis": "y"
        },
        {
         "hoverinfo": "text",
         "marker": {
          "color": "rgb(133,20,75)"
         },
         "mode": "lines",
         "type": "scatter",
         "x": [
          11712.5,
          11712.5,
          11751.5625,
          11751.5625
         ],
         "xaxis": "x",
         "y": [
          0.13240791923873363,
          2.0800210467635236,
          2.0800210467635236,
          1.1698879457225304
         ],
         "yaxis": "y"
        },
        {
         "hoverinfo": "text",
         "marker": {
          "color": "rgb(133,20,75)"
         },
         "mode": "lines",
         "type": "scatter",
         "x": [
          11673.75,
          11673.75,
          11732.03125,
          11732.03125
         ],
         "xaxis": "x",
         "y": [
          0.9691068846418526,
          2.9684159837738364,
          2.9684159837738364,
          2.0800210467635236
         ],
         "yaxis": "y"
        },
        {
         "hoverinfo": "text",
         "marker": {
          "color": "rgb(133,20,75)"
         },
         "mode": "lines",
         "type": "scatter",
         "x": [
          11825,
          11825,
          11835,
          11835
         ],
         "xaxis": "x",
         "y": [
          0,
          0.017996492539723623,
          0.017996492539723623,
          0
         ],
         "yaxis": "y"
        },
        {
         "hoverinfo": "text",
         "marker": {
          "color": "rgb(133,20,75)"
         },
         "mode": "lines",
         "type": "scatter",
         "x": [
          11815,
          11815,
          11830,
          11830
         ],
         "xaxis": "x",
         "y": [
          0,
          0.05476445442199568,
          0.05476445442199568,
          0.017996492539723623
         ],
         "yaxis": "y"
        },
        {
         "hoverinfo": "text",
         "marker": {
          "color": "rgb(133,20,75)"
         },
         "mode": "lines",
         "type": "scatter",
         "x": [
          11845,
          11845,
          11855,
          11855
         ],
         "xaxis": "x",
         "y": [
          0,
          0.060818454448592796,
          0.060818454448592796,
          0
         ],
         "yaxis": "y"
        },
        {
         "hoverinfo": "text",
         "marker": {
          "color": "rgb(133,20,75)"
         },
         "mode": "lines",
         "type": "scatter",
         "x": [
          11822.5,
          11822.5,
          11850,
          11850
         ],
         "xaxis": "x",
         "y": [
          0.05476445442199568,
          0.5476817443670661,
          0.5476817443670661,
          0.060818454448592796
         ],
         "yaxis": "y"
        },
        {
         "hoverinfo": "text",
         "marker": {
          "color": "rgb(133,20,75)"
         },
         "mode": "lines",
         "type": "scatter",
         "x": [
          11865,
          11865,
          11875,
          11875
         ],
         "xaxis": "x",
         "y": [
          0,
          0.1772387429834635,
          0.1772387429834635,
          0
         ],
         "yaxis": "y"
        },
        {
         "hoverinfo": "text",
         "marker": {
          "color": "rgb(133,20,75)"
         },
         "mode": "lines",
         "type": "scatter",
         "x": [
          11895,
          11895,
          11905,
          11905
         ],
         "xaxis": "x",
         "y": [
          0,
          0.03636058383552415,
          0.03636058383552415,
          0
         ],
         "yaxis": "y"
        },
        {
         "hoverinfo": "text",
         "marker": {
          "color": "rgb(133,20,75)"
         },
         "mode": "lines",
         "type": "scatter",
         "x": [
          11885,
          11885,
          11900,
          11900
         ],
         "xaxis": "x",
         "y": [
          0,
          0.41938604368085836,
          0.41938604368085836,
          0.03636058383552415
         ],
         "yaxis": "y"
        },
        {
         "hoverinfo": "text",
         "marker": {
          "color": "rgb(133,20,75)"
         },
         "mode": "lines",
         "type": "scatter",
         "x": [
          11870,
          11870,
          11892.5,
          11892.5
         ],
         "xaxis": "x",
         "y": [
          0.1772387429834635,
          1.995656311432758,
          1.995656311432758,
          0.41938604368085836
         ],
         "yaxis": "y"
        },
        {
         "hoverinfo": "text",
         "marker": {
          "color": "rgb(133,20,75)"
         },
         "mode": "lines",
         "type": "scatter",
         "x": [
          11836.25,
          11836.25,
          11881.25,
          11881.25
         ],
         "xaxis": "x",
         "y": [
          0.5476817443670661,
          3.382482356675433,
          3.382482356675433,
          1.995656311432758
         ],
         "yaxis": "y"
        },
        {
         "hoverinfo": "text",
         "marker": {
          "color": "rgb(133,20,75)"
         },
         "mode": "lines",
         "type": "scatter",
         "x": [
          11702.890625,
          11702.890625,
          11858.75,
          11858.75
         ],
         "xaxis": "x",
         "y": [
          2.9684159837738364,
          5.88536968182304,
          5.88536968182304,
          3.382482356675433
         ],
         "yaxis": "y"
        },
        {
         "hoverinfo": "text",
         "marker": {
          "color": "rgb(133,20,75)"
         },
         "mode": "lines",
         "type": "scatter",
         "x": [
          11512.5,
          11512.5,
          11780.8203125,
          11780.8203125
         ],
         "xaxis": "x",
         "y": [
          3.5202160395399287,
          6.308803675038659,
          6.308803675038659,
          5.88536968182304
         ],
         "yaxis": "y"
        },
        {
         "hoverinfo": "text",
         "marker": {
          "color": "rgb(133,20,75)"
         },
         "mode": "lines",
         "type": "scatter",
         "x": [
          11402.34375,
          11402.34375,
          11646.66015625,
          11646.66015625
         ],
         "xaxis": "x",
         "y": [
          2.1003382288069026,
          13.185735398201695,
          13.185735398201695,
          6.308803675038659
         ],
         "yaxis": "y"
        },
        {
         "hoverinfo": "text",
         "marker": {
          "color": "rgb(133,20,75)"
         },
         "mode": "lines",
         "type": "scatter",
         "x": [
          11125.5078125,
          11125.5078125,
          11524.501953125,
          11524.501953125
         ],
         "xaxis": "x",
         "y": [
          6.144925065622089,
          21.96475458599072,
          21.96475458599072,
          13.185735398201695
         ],
         "yaxis": "y"
        },
        {
         "hoverinfo": "text",
         "marker": {
          "color": "rgb(133,20,75)"
         },
         "mode": "lines",
         "type": "scatter",
         "x": [
          10400.341796875,
          10400.341796875,
          11325.0048828125,
          11325.0048828125
         ],
         "xaxis": "x",
         "y": [
          21.6992839300572,
          31.369466390957168,
          31.369466390957168,
          21.96475458599072
         ],
         "yaxis": "y"
        },
        {
         "hoverinfo": "text",
         "marker": {
          "color": "rgb(133,20,75)"
         },
         "mode": "lines",
         "type": "scatter",
         "x": [
          9201.42333984375,
          9201.42333984375,
          10862.67333984375,
          10862.67333984375
         ],
         "xaxis": "x",
         "y": [
          29.50272126356187,
          50.644461138753954,
          50.644461138753954,
          31.369466390957168
         ],
         "yaxis": "y"
        },
        {
         "hoverinfo": "text",
         "marker": {
          "color": "rgb(133,20,75)"
         },
         "mode": "lines",
         "type": "scatter",
         "x": [
          8085.7470703125,
          8085.7470703125,
          10032.04833984375,
          10032.04833984375
         ],
         "xaxis": "x",
         "y": [
          14.256983471163165,
          58.57903888982368,
          58.57903888982368,
          50.644461138753954
         ],
         "yaxis": "y"
        },
        {
         "hoverinfo": "text",
         "marker": {
          "color": "rgb(0,116,217)"
         },
         "mode": "lines",
         "type": "scatter",
         "x": [
          6893.09326171875,
          6893.09326171875,
          9058.897705078125,
          9058.897705078125
         ],
         "xaxis": "x",
         "y": [
          18.2168242097796,
          83.10183813640839,
          83.10183813640839,
          58.57903888982368
         ],
         "yaxis": "y"
        },
        {
         "hoverinfo": "text",
         "marker": {
          "color": "rgb(0,116,217)"
         },
         "mode": "lines",
         "type": "scatter",
         "x": [
          2702.5091552734375,
          2702.5091552734375,
          7975.9954833984375,
          7975.9954833984375
         ],
         "xaxis": "x",
         "y": [
          77.80817760032878,
          95.05958608381093,
          95.05958608381093,
          83.10183813640839
         ],
         "yaxis": "y"
        }
       ],
       "layout": {
        "autosize": false,
        "height": null,
        "hovermode": "closest",
        "showlegend": false,
        "template": {
         "data": {
          "bar": [
           {
            "error_x": {
             "color": "#2a3f5f"
            },
            "error_y": {
             "color": "#2a3f5f"
            },
            "marker": {
             "line": {
              "color": "#E5ECF6",
              "width": 0.5
             },
             "pattern": {
              "fillmode": "overlay",
              "size": 10,
              "solidity": 0.2
             }
            },
            "type": "bar"
           }
          ],
          "barpolar": [
           {
            "marker": {
             "line": {
              "color": "#E5ECF6",
              "width": 0.5
             },
             "pattern": {
              "fillmode": "overlay",
              "size": 10,
              "solidity": 0.2
             }
            },
            "type": "barpolar"
           }
          ],
          "carpet": [
           {
            "aaxis": {
             "endlinecolor": "#2a3f5f",
             "gridcolor": "white",
             "linecolor": "white",
             "minorgridcolor": "white",
             "startlinecolor": "#2a3f5f"
            },
            "baxis": {
             "endlinecolor": "#2a3f5f",
             "gridcolor": "white",
             "linecolor": "white",
             "minorgridcolor": "white",
             "startlinecolor": "#2a3f5f"
            },
            "type": "carpet"
           }
          ],
          "choropleth": [
           {
            "colorbar": {
             "outlinewidth": 0,
             "ticks": ""
            },
            "type": "choropleth"
           }
          ],
          "contour": [
           {
            "colorbar": {
             "outlinewidth": 0,
             "ticks": ""
            },
            "colorscale": [
             [
              0,
              "#0d0887"
             ],
             [
              0.1111111111111111,
              "#46039f"
             ],
             [
              0.2222222222222222,
              "#7201a8"
             ],
             [
              0.3333333333333333,
              "#9c179e"
             ],
             [
              0.4444444444444444,
              "#bd3786"
             ],
             [
              0.5555555555555556,
              "#d8576b"
             ],
             [
              0.6666666666666666,
              "#ed7953"
             ],
             [
              0.7777777777777778,
              "#fb9f3a"
             ],
             [
              0.8888888888888888,
              "#fdca26"
             ],
             [
              1,
              "#f0f921"
             ]
            ],
            "type": "contour"
           }
          ],
          "contourcarpet": [
           {
            "colorbar": {
             "outlinewidth": 0,
             "ticks": ""
            },
            "type": "contourcarpet"
           }
          ],
          "heatmap": [
           {
            "colorbar": {
             "outlinewidth": 0,
             "ticks": ""
            },
            "colorscale": [
             [
              0,
              "#0d0887"
             ],
             [
              0.1111111111111111,
              "#46039f"
             ],
             [
              0.2222222222222222,
              "#7201a8"
             ],
             [
              0.3333333333333333,
              "#9c179e"
             ],
             [
              0.4444444444444444,
              "#bd3786"
             ],
             [
              0.5555555555555556,
              "#d8576b"
             ],
             [
              0.6666666666666666,
              "#ed7953"
             ],
             [
              0.7777777777777778,
              "#fb9f3a"
             ],
             [
              0.8888888888888888,
              "#fdca26"
             ],
             [
              1,
              "#f0f921"
             ]
            ],
            "type": "heatmap"
           }
          ],
          "heatmapgl": [
           {
            "colorbar": {
             "outlinewidth": 0,
             "ticks": ""
            },
            "colorscale": [
             [
              0,
              "#0d0887"
             ],
             [
              0.1111111111111111,
              "#46039f"
             ],
             [
              0.2222222222222222,
              "#7201a8"
             ],
             [
              0.3333333333333333,
              "#9c179e"
             ],
             [
              0.4444444444444444,
              "#bd3786"
             ],
             [
              0.5555555555555556,
              "#d8576b"
             ],
             [
              0.6666666666666666,
              "#ed7953"
             ],
             [
              0.7777777777777778,
              "#fb9f3a"
             ],
             [
              0.8888888888888888,
              "#fdca26"
             ],
             [
              1,
              "#f0f921"
             ]
            ],
            "type": "heatmapgl"
           }
          ],
          "histogram": [
           {
            "marker": {
             "pattern": {
              "fillmode": "overlay",
              "size": 10,
              "solidity": 0.2
             }
            },
            "type": "histogram"
           }
          ],
          "histogram2d": [
           {
            "colorbar": {
             "outlinewidth": 0,
             "ticks": ""
            },
            "colorscale": [
             [
              0,
              "#0d0887"
             ],
             [
              0.1111111111111111,
              "#46039f"
             ],
             [
              0.2222222222222222,
              "#7201a8"
             ],
             [
              0.3333333333333333,
              "#9c179e"
             ],
             [
              0.4444444444444444,
              "#bd3786"
             ],
             [
              0.5555555555555556,
              "#d8576b"
             ],
             [
              0.6666666666666666,
              "#ed7953"
             ],
             [
              0.7777777777777778,
              "#fb9f3a"
             ],
             [
              0.8888888888888888,
              "#fdca26"
             ],
             [
              1,
              "#f0f921"
             ]
            ],
            "type": "histogram2d"
           }
          ],
          "histogram2dcontour": [
           {
            "colorbar": {
             "outlinewidth": 0,
             "ticks": ""
            },
            "colorscale": [
             [
              0,
              "#0d0887"
             ],
             [
              0.1111111111111111,
              "#46039f"
             ],
             [
              0.2222222222222222,
              "#7201a8"
             ],
             [
              0.3333333333333333,
              "#9c179e"
             ],
             [
              0.4444444444444444,
              "#bd3786"
             ],
             [
              0.5555555555555556,
              "#d8576b"
             ],
             [
              0.6666666666666666,
              "#ed7953"
             ],
             [
              0.7777777777777778,
              "#fb9f3a"
             ],
             [
              0.8888888888888888,
              "#fdca26"
             ],
             [
              1,
              "#f0f921"
             ]
            ],
            "type": "histogram2dcontour"
           }
          ],
          "mesh3d": [
           {
            "colorbar": {
             "outlinewidth": 0,
             "ticks": ""
            },
            "type": "mesh3d"
           }
          ],
          "parcoords": [
           {
            "line": {
             "colorbar": {
              "outlinewidth": 0,
              "ticks": ""
             }
            },
            "type": "parcoords"
           }
          ],
          "pie": [
           {
            "automargin": true,
            "type": "pie"
           }
          ],
          "scatter": [
           {
            "fillpattern": {
             "fillmode": "overlay",
             "size": 10,
             "solidity": 0.2
            },
            "type": "scatter"
           }
          ],
          "scatter3d": [
           {
            "line": {
             "colorbar": {
              "outlinewidth": 0,
              "ticks": ""
             }
            },
            "marker": {
             "colorbar": {
              "outlinewidth": 0,
              "ticks": ""
             }
            },
            "type": "scatter3d"
           }
          ],
          "scattercarpet": [
           {
            "marker": {
             "colorbar": {
              "outlinewidth": 0,
              "ticks": ""
             }
            },
            "type": "scattercarpet"
           }
          ],
          "scattergeo": [
           {
            "marker": {
             "colorbar": {
              "outlinewidth": 0,
              "ticks": ""
             }
            },
            "type": "scattergeo"
           }
          ],
          "scattergl": [
           {
            "marker": {
             "colorbar": {
              "outlinewidth": 0,
              "ticks": ""
             }
            },
            "type": "scattergl"
           }
          ],
          "scattermapbox": [
           {
            "marker": {
             "colorbar": {
              "outlinewidth": 0,
              "ticks": ""
             }
            },
            "type": "scattermapbox"
           }
          ],
          "scatterpolar": [
           {
            "marker": {
             "colorbar": {
              "outlinewidth": 0,
              "ticks": ""
             }
            },
            "type": "scatterpolar"
           }
          ],
          "scatterpolargl": [
           {
            "marker": {
             "colorbar": {
              "outlinewidth": 0,
              "ticks": ""
             }
            },
            "type": "scatterpolargl"
           }
          ],
          "scatterternary": [
           {
            "marker": {
             "colorbar": {
              "outlinewidth": 0,
              "ticks": ""
             }
            },
            "type": "scatterternary"
           }
          ],
          "surface": [
           {
            "colorbar": {
             "outlinewidth": 0,
             "ticks": ""
            },
            "colorscale": [
             [
              0,
              "#0d0887"
             ],
             [
              0.1111111111111111,
              "#46039f"
             ],
             [
              0.2222222222222222,
              "#7201a8"
             ],
             [
              0.3333333333333333,
              "#9c179e"
             ],
             [
              0.4444444444444444,
              "#bd3786"
             ],
             [
              0.5555555555555556,
              "#d8576b"
             ],
             [
              0.6666666666666666,
              "#ed7953"
             ],
             [
              0.7777777777777778,
              "#fb9f3a"
             ],
             [
              0.8888888888888888,
              "#fdca26"
             ],
             [
              1,
              "#f0f921"
             ]
            ],
            "type": "surface"
           }
          ],
          "table": [
           {
            "cells": {
             "fill": {
              "color": "#EBF0F8"
             },
             "line": {
              "color": "white"
             }
            },
            "header": {
             "fill": {
              "color": "#C8D4E3"
             },
             "line": {
              "color": "white"
             }
            },
            "type": "table"
           }
          ]
         },
         "layout": {
          "annotationdefaults": {
           "arrowcolor": "#2a3f5f",
           "arrowhead": 0,
           "arrowwidth": 1
          },
          "autotypenumbers": "strict",
          "coloraxis": {
           "colorbar": {
            "outlinewidth": 0,
            "ticks": ""
           }
          },
          "colorscale": {
           "diverging": [
            [
             0,
             "#8e0152"
            ],
            [
             0.1,
             "#c51b7d"
            ],
            [
             0.2,
             "#de77ae"
            ],
            [
             0.3,
             "#f1b6da"
            ],
            [
             0.4,
             "#fde0ef"
            ],
            [
             0.5,
             "#f7f7f7"
            ],
            [
             0.6,
             "#e6f5d0"
            ],
            [
             0.7,
             "#b8e186"
            ],
            [
             0.8,
             "#7fbc41"
            ],
            [
             0.9,
             "#4d9221"
            ],
            [
             1,
             "#276419"
            ]
           ],
           "sequential": [
            [
             0,
             "#0d0887"
            ],
            [
             0.1111111111111111,
             "#46039f"
            ],
            [
             0.2222222222222222,
             "#7201a8"
            ],
            [
             0.3333333333333333,
             "#9c179e"
            ],
            [
             0.4444444444444444,
             "#bd3786"
            ],
            [
             0.5555555555555556,
             "#d8576b"
            ],
            [
             0.6666666666666666,
             "#ed7953"
            ],
            [
             0.7777777777777778,
             "#fb9f3a"
            ],
            [
             0.8888888888888888,
             "#fdca26"
            ],
            [
             1,
             "#f0f921"
            ]
           ],
           "sequentialminus": [
            [
             0,
             "#0d0887"
            ],
            [
             0.1111111111111111,
             "#46039f"
            ],
            [
             0.2222222222222222,
             "#7201a8"
            ],
            [
             0.3333333333333333,
             "#9c179e"
            ],
            [
             0.4444444444444444,
             "#bd3786"
            ],
            [
             0.5555555555555556,
             "#d8576b"
            ],
            [
             0.6666666666666666,
             "#ed7953"
            ],
            [
             0.7777777777777778,
             "#fb9f3a"
            ],
            [
             0.8888888888888888,
             "#fdca26"
            ],
            [
             1,
             "#f0f921"
            ]
           ]
          },
          "colorway": [
           "#636efa",
           "#EF553B",
           "#00cc96",
           "#ab63fa",
           "#FFA15A",
           "#19d3f3",
           "#FF6692",
           "#B6E880",
           "#FF97FF",
           "#FECB52"
          ],
          "font": {
           "color": "#2a3f5f"
          },
          "geo": {
           "bgcolor": "white",
           "lakecolor": "white",
           "landcolor": "#E5ECF6",
           "showlakes": true,
           "showland": true,
           "subunitcolor": "white"
          },
          "hoverlabel": {
           "align": "left"
          },
          "hovermode": "closest",
          "mapbox": {
           "style": "light"
          },
          "paper_bgcolor": "white",
          "plot_bgcolor": "#E5ECF6",
          "polar": {
           "angularaxis": {
            "gridcolor": "white",
            "linecolor": "white",
            "ticks": ""
           },
           "bgcolor": "#E5ECF6",
           "radialaxis": {
            "gridcolor": "white",
            "linecolor": "white",
            "ticks": ""
           }
          },
          "scene": {
           "xaxis": {
            "backgroundcolor": "#E5ECF6",
            "gridcolor": "white",
            "gridwidth": 2,
            "linecolor": "white",
            "showbackground": true,
            "ticks": "",
            "zerolinecolor": "white"
           },
           "yaxis": {
            "backgroundcolor": "#E5ECF6",
            "gridcolor": "white",
            "gridwidth": 2,
            "linecolor": "white",
            "showbackground": true,
            "ticks": "",
            "zerolinecolor": "white"
           },
           "zaxis": {
            "backgroundcolor": "#E5ECF6",
            "gridcolor": "white",
            "gridwidth": 2,
            "linecolor": "white",
            "showbackground": true,
            "ticks": "",
            "zerolinecolor": "white"
           }
          },
          "shapedefaults": {
           "line": {
            "color": "#2a3f5f"
           }
          },
          "ternary": {
           "aaxis": {
            "gridcolor": "white",
            "linecolor": "white",
            "ticks": ""
           },
           "baxis": {
            "gridcolor": "white",
            "linecolor": "white",
            "ticks": ""
           },
           "bgcolor": "#E5ECF6",
           "caxis": {
            "gridcolor": "white",
            "linecolor": "white",
            "ticks": ""
           }
          },
          "title": {
           "x": 0.05
          },
          "xaxis": {
           "automargin": true,
           "gridcolor": "white",
           "linecolor": "white",
           "ticks": "",
           "title": {
            "standoff": 15
           },
           "zerolinecolor": "white",
           "zerolinewidth": 2
          },
          "yaxis": {
           "automargin": true,
           "gridcolor": "white",
           "linecolor": "white",
           "ticks": "",
           "title": {
            "standoff": 15
           },
           "zerolinecolor": "white",
           "zerolinewidth": 2
          }
         }
        },
        "width": null,
        "xaxis": {
         "mirror": "allticks",
         "rangemode": "tozero",
         "showgrid": false,
         "showline": true,
         "showticklabels": true,
         "tickmode": "array",
         "ticks": "outside",
         "ticktext": [
          "chien-pao",
          "sneasel",
          "weavile",
          "scraggy",
          "scrafty",
          "inkay",
          "malamar",
          "houndour",
          "chi-yu",
          "houndoom",
          "houndoom-mega",
          "maschiff",
          "poochyena",
          "nickit",
          "meowth-alolan",
          "purrloin",
          "persian-alolan",
          "liepard",
          "mightyena",
          "zorua",
          "thievul",
          "umbreon",
          "darkrai",
          "mabosstiff",
          "absol-mega",
          "absol",
          "zoroark",
          "impidimp",
          "morgrem",
          "grimmsnarl",
          "rattata-alolan",
          "zigzagoon-galarian",
          "obstagoon",
          "raticate-alolan",
          "linoone-galarian",
          "vullaby",
          "iron-jugulis",
          "moltres-galarian",
          "yveltal",
          "honchkrow",
          "murkrow",
          "mandibuzz",
          "zarude",
          "wo-chien",
          "qwilfish-hisuian",
          "overqwil",
          "pawniard",
          "bisharp",
          "kingambit",
          "guzzlord",
          "hydreigon",
          "deino",
          "zweilous",
          "ting-lu",
          "sableye",
          "sableye-mega",
          "enamorus-incarnate",
          "enamorus-therian",
          "togetic",
          "togekiss",
          "tinkatink",
          "tinkatuff",
          "zacian-crowned",
          "tinkaton",
          "swirlix",
          "snubbull",
          "fidough",
          "spritzee",
          "togepi",
          "flabebe",
          "milcery",
          "clefairy",
          "cleffa",
          "iron-valiant",
          "xerneas",
          "zacian-hero",
          "scream-tail",
          "floette",
          "aromatisse",
          "slurpuff",
          "granbull",
          "dachsbun",
          "sylveon",
          "clefable",
          "florges",
          "comfey",
          "alcremie",
          "drifloon",
          "drifblim",
          "oricorio-sensu",
          "phantump",
          "pumpkaboo-super",
          "pumpkaboo-large",
          "pumpkaboo-average",
          "pumpkaboo-small",
          "dhelmise",
          "gourgeist-large",
          "gourgeist-average",
          "gourgeist-small",
          "trevenant",
          "gourgeist-super",
          "mimikyu",
          "flutter-mane",
          "gastly",
          "haunter",
          "gengar",
          "gengar-mega",
          "giratina-altered",
          "giratina-origin",
          "sandygast",
          "palossand",
          "litwick",
          "lampent",
          "chandelure",
          "spiritomb",
          "dusknoir",
          "dusclops",
          "cofagrigus",
          "corsola-galarian",
          "houndstone",
          "shuppet",
          "duskull",
          "yamask",
          "sinistea",
          "greavard",
          "gimmighoul-chest",
          "misdreavus",
          "gimmighoul-roaming",
          "cursola",
          "mismagius",
          "polteageist",
          "spectrier",
          "banette",
          "banette-mega",
          "toxel",
          "toxtricity-amped",
          "toxtricity-low-key",
          "raichu-alolan",
          "elekid",
          "manectric-mega",
          "jolteon",
          "boltund",
          "electrode",
          "zebstrika",
          "magnemite",
          "togedemaru",
          "magneton",
          "magnezone",
          "ampharos-mega",
          "dracozolt",
          "miraidon",
          "sandy-shocks",
          "zeraora",
          "regieleki",
          "electivire",
          "raikou",
          "xurkitree",
          "rotom-frost",
          "arctozolt",
          "rotom-heat",
          "pawmo",
          "pawmot",
          "dedenne",
          "tapu-koko",
          "helioptile",
          "heliolisk",
          "flaaffy",
          "luxio",
          "eelektrik",
          "pincurchin",
          "rotom",
          "rotom-wash",
          "raichu",
          "electabuzz",
          "manectric",
          "ampharos",
          "luxray",
          "eelektross",
          "bellibolt",
          "emolga",
          "wattrel",
          "zapdos",
          "thundurus-incarnate",
          "thundurus-therian",
          "kilowattrel",
          "rotom-fan",
          "oricorio-pom-pom",
          "voltorb-hisuian",
          "electrode-hisuian",
          "rotom-mow",
          "morpeko-full-belly",
          "morpeko-hangry",
          "tynamo",
          "mareep",
          "tadbulb",
          "pichu",
          "pawmi",
          "shinx",
          "yamper",
          "pikachu",
          "plusle",
          "minun",
          "pachirisu",
          "pikachu-lets-go",
          "electrike",
          "voltorb",
          "blitzle",
          "natu",
          "woobat",
          "xatu",
          "swoobat",
          "oricorio-pau",
          "sigilyph",
          "braviary-hisuian",
          "articuno-galarian",
          "lugia",
          "celebi",
          "calyrex",
          "solgaleo",
          "necrozma-dusk-mane",
          "victini",
          "deoxys-defense",
          "mew",
          "uxie",
          "mesprit",
          "azelf",
          "cresselia",
          "wobbuffet",
          "cosmog",
          "rapidash-galarian",
          "mr-mime",
          "tapu-lele",
          "hatterene",
          "gardevoir",
          "gardevoir-mega",
          "ralts",
          "kirlia",
          "mime-jr",
          "mewtwo-mega-x",
          "gallade",
          "gallade-mega",
          "necrozma-ultra",
          "mewtwo-mega-y",
          "deoxys-speed",
          "mewtwo",
          "deoxys-normal",
          "deoxys-attack",
          "indeedee-male",
          "indeedee-female",
          "necrozma-dawn-wings",
          "lunala",
          "hoopa-confined",
          "calyrex-shadow-rider",
          "hoopa-unbound",
          "cosmoem",
          "calyrex-ice-rider",
          "chingling",
          "unown",
          "espurr",
          "wynaut",
          "drowzee",
          "slowpoke-galarian",
          "munna",
          "spoink",
          "solosis",
          "gothita",
          "elgyem",
          "hatenna",
          "abra",
          "ponyta-galarian",
          "flittle",
          "chimecho",
          "reuniclus",
          "musharna",
          "meowstic-male",
          "meowstic-female",
          "espathra",
          "hypno",
          "grumpig",
          "alakazam",
          "alakazam-mega",
          "espeon",
          "gothitelle",
          "kadabra",
          "necrozma",
          "duosion",
          "hattrem",
          "gothorita",
          "beheeyem",
          "rufflet",
          "doduo",
          "taillow",
          "swablu",
          "hoothoot",
          "pidove",
          "fletchling",
          "pidgey",
          "starly",
          "spearow",
          "pikipek",
          "squawkabilly-green",
          "squawkabilly-white",
          "squawkabilly-blue",
          "squawkabilly-yellow",
          "staravia",
          "trumbeak",
          "pidgeotto",
          "tranquill",
          "unfezant",
          "staraptor",
          "toucannon",
          "dodrio",
          "farfetchd",
          "braviary",
          "pidgeot",
          "pidgeot-mega",
          "swellow",
          "chatot",
          "fearow",
          "noctowl",
          "wigglytuff",
          "audino-mega",
          "jigglypuff",
          "igglybuff",
          "azurill",
          "tandemaus",
          "buneary",
          "glameow",
          "watchog",
          "spinda",
          "wooloo",
          "lillipup",
          "minccino",
          "rattata",
          "meowth",
          "zigzagoon",
          "bunnelby",
          "skitty",
          "patrat",
          "whismur",
          "slakoth",
          "skwovet",
          "bidoof",
          "lechonk",
          "sentret",
          "yungoos",
          "farigiraf",
          "girafarig",
          "meloetta-aria",
          "oranguru",
          "wyrdeer",
          "drampa",
          "snorlax",
          "regigigas",
          "silvally",
          "arceus",
          "type-null",
          "slaking",
          "bouffalant",
          "oinkologne-male",
          "oinkologne-female",
          "ursaring",
          "lickilicky",
          "porygon",
          "lickitung",
          "munchlax",
          "stantler",
          "stoutland",
          "tauros",
          "miltank",
          "kangaskhan",
          "kangaskhan-mega",
          "komala",
          "porygon2",
          "porygon-z",
          "exploud",
          "dudunsparce-two-segment",
          "dudunsparce-three-segment",
          "deerling",
          "sawsbuck",
          "stufful",
          "meloetta-pirouette",
          "lopunny-mega",
          "bewear",
          "aipom",
          "eevee",
          "eevee-lets-go",
          "smeargle",
          "greedent",
          "chansey",
          "blissey",
          "zorua-hisuian",
          "zoroark-hisuian",
          "persian",
          "furret",
          "linoone",
          "zangoose",
          "delcatty",
          "purugly",
          "ambipom",
          "lopunny",
          "ditto",
          "castform",
          "cinccino",
          "maushold-family4",
          "maushold-family3",
          "raticate",
          "vigoroth",
          "dubwool",
          "bibarel",
          "diggersby",
          "happiny",
          "teddiursa",
          "dunsparce",
          "kecleon",
          "audino",
          "loudred",
          "gumshoos",
          "herdier",
          "furfrou",
          "weedle",
          "spinarak",
          "venipede",
          "kakuna",
          "venonat",
          "beedrill",
          "dustox",
          "beedrill-mega",
          "scolipede",
          "whirlipede",
          "venomoth",
          "ariados",
          "joltik",
          "charjabug",
          "galvantula",
          "vikavolt",
          "crustle",
          "kleavor",
          "shuckle",
          "dwebble",
          "golisopod",
          "surskit",
          "wimpod",
          "durant",
          "wormadam-trash",
          "escavalier",
          "genesect",
          "forretress",
          "scizor",
          "scizor-mega",
          "buzzwole",
          "heracross",
          "heracross-mega",
          "pheromosa",
          "slither-wing",
          "dottler",
          "orbeetle",
          "rabsca",
          "ledyba",
          "combee",
          "yanma",
          "ledian",
          "ninjask",
          "scyther",
          "pinsir-mega",
          "yanmega",
          "mothim",
          "vespiquen",
          "masquerain",
          "beautifly",
          "butterfree",
          "vivillon",
          "cutiefly",
          "ribombee",
          "paras",
          "sewaddle",
          "swadloon",
          "parasect",
          "wormadam-plant",
          "leavanny",
          "silcoon",
          "cascoon",
          "metapod",
          "spewpa",
          "rellor",
          "pineco",
          "shelmet",
          "kricketot",
          "wurmple",
          "tarountula",
          "blipbug",
          "caterpie",
          "scatterbug",
          "grubbin",
          "nymble",
          "karrablast",
          "burmy-plant",
          "burmy-sandy",
          "burmy-trash",
          "spidops",
          "volbeat",
          "illumise",
          "shedinja",
          "lokix",
          "accelgor",
          "pinsir",
          "kricketune",
          "larvesta",
          "volcarona",
          "nincada",
          "wormadam-sandy",
          "yamask-galarian",
          "golett",
          "golurk",
          "runerigus",
          "rhyperior",
          "rhyhorn",
          "rhydon",
          "groudon-primal",
          "ursaluna",
          "groudon",
          "mudsdale",
          "hippowdon",
          "great-tusk",
          "landorus-incarnate",
          "landorus-therian",
          "gligar",
          "gliscor",
          "diglett-alolan",
          "iron-treads",
          "stunfisk-galarian",
          "dugtrio-alolan",
          "excadrill",
          "stunfisk",
          "toedscool",
          "toedscruel",
          "donphan",
          "dugtrio",
          "sandslash",
          "marowak",
          "sandaconda",
          "cubone",
          "diglett",
          "silicobra",
          "sandshrew",
          "trapinch",
          "drilbur",
          "mudbray",
          "phanpy",
          "hippopotas",
          "vibrava",
          "flygon",
          "baltoy",
          "claydol",
          "sandile",
          "krokorok",
          "krookodile",
          "glimmet",
          "nihilego",
          "glimmora",
          "lileep",
          "cradily",
          "anorith",
          "armaldo",
          "amaura",
          "aurorus",
          "binacle",
          "omanyte",
          "omastar",
          "barbaracle",
          "kabuto",
          "kabutops",
          "nosepass",
          "rockruff",
          "rockruff-own-tempo",
          "rolycoly",
          "bonsly",
          "roggenrola",
          "nacli",
          "geodude-alolan",
          "graveler-alolan",
          "golem-alolan",
          "iron-thorns",
          "minior-core",
          "archen",
          "archeops",
          "minior-meteor",
          "aerodactyl",
          "aerodactyl-mega",
          "shieldon",
          "bastiodon",
          "probopass",
          "stakataka",
          "tyrunt",
          "tyrantrum",
          "carkol",
          "coalossal",
          "terrakion",
          "stonjourner",
          "garganacl",
          "regirock",
          "gigalith",
          "boldore",
          "naclstack",
          "sudowoodo",
          "klawf",
          "rampardos",
          "cranidos",
          "lycanroc-midnight",
          "lycanroc-midday",
          "lycanroc-dusk",
          "geodude",
          "pupitar",
          "golem",
          "onix",
          "graveler",
          "larvitar",
          "carbink",
          "diancie",
          "diancie-mega",
          "tyranitar",
          "tyranitar-mega",
          "lunatone",
          "solrock",
          "tirtouga",
          "carracosta",
          "drednaw",
          "corsola",
          "relicanth",
          "wooper",
          "barboach",
          "palpitoad",
          "swampert-mega",
          "swampert",
          "seismitoad",
          "marshtomp",
          "gastrodon",
          "quagsire",
          "whiscash",
          "alomomola",
          "palafin-zero",
          "manaphy",
          "inteleon",
          "politoed",
          "vaporeon",
          "phione",
          "barraskewda",
          "wugtrio",
          "basculin-white-striped",
          "basculin-red-striped",
          "basculin-blue-striped",
          "simipour",
          "drizzile",
          "floatzel",
          "frogadier",
          "seadra",
          "lumineon",
          "seaking",
          "croconaw",
          "castform-rainy",
          "dewott",
          "quaxwell",
          "pyukumuku",
          "kingler",
          "wishiwashi-school",
          "brionne",
          "wartortle",
          "prinplup",
          "huntail",
          "octillery",
          "gorebyss",
          "poliwhirl",
          "wishiwashi-solo",
          "froakie",
          "sobble",
          "oshawott",
          "quaxly",
          "clawitzer",
          "totodile",
          "mudkip",
          "squirtle",
          "piplup",
          "popplio",
          "keldeo-ordinary",
          "keldeo-resolute",
          "poliwrath",
          "quaquaval",
          "lapras",
          "arctovish",
          "dewgong",
          "cloyster",
          "kingdra",
          "dracovish",
          "palkia",
          "palkia-origin",
          "wailord",
          "kyogre",
          "kyogre-primal",
          "milotic",
          "suicune",
          "dondozo",
          "empoleon",
          "samurott",
          "blastoise-mega",
          "blastoise",
          "feraligatr",
          "golduck",
          "palafin-hero",
          "frillish",
          "jellicent",
          "basculegion-male",
          "basculegion-female",
          "slowpoke",
          "slowbro-mega",
          "starmie",
          "veluza",
          "slowking",
          "slowbro",
          "bruxish",
          "gyarados-mega",
          "greninja-ash",
          "samurott-hisuian",
          "greninja",
          "sharpedo",
          "sharpedo-mega",
          "carvanha",
          "crawdaunt",
          "marill",
          "azumarill",
          "primarina",
          "tapu-fini",
          "wingull",
          "ducklett",
          "pelipper",
          "swanna",
          "mantyke",
          "gyarados",
          "mantine",
          "lotad",
          "lombre",
          "ludicolo",
          "seel",
          "finizen",
          "luvdisc",
          "buizel",
          "staryu",
          "remoraid",
          "magikarp",
          "feebas",
          "wiglett",
          "poliwag",
          "tympole",
          "goldeen",
          "arrokuda",
          "horsea",
          "chewtle",
          "krabby",
          "shellder",
          "corphish",
          "psyduck",
          "finneon",
          "panpour",
          "shellos",
          "clamperl",
          "clauncher",
          "wailmer",
          "tentacool",
          "tentacruel",
          "qwilfish",
          "chinchou",
          "lanturn",
          "dewpider",
          "araquanid",
          "foongus",
          "budew",
          "oddish",
          "bellsprout",
          "venusaur",
          "venusaur-mega",
          "roserade",
          "vileplume",
          "victreebel",
          "roselia",
          "gloom",
          "weepinbell",
          "bulbasaur",
          "ivysaur",
          "amoonguss",
          "carnivine",
          "steenee",
          "sunkern",
          "seedot",
          "bounsweet",
          "cherubi",
          "petilil",
          "shroomish",
          "gossifleur",
          "maractus",
          "pansage",
          "skiddo",
          "cacnea",
          "fomantis",
          "capsakid",
          "smoliv",
          "dolliv",
          "arboliva",
          "bramblin",
          "decidueye",
          "brambleghast",
          "rowlet",
          "dartrix",
          "jumpluff",
          "shaymin-sky",
          "hoppip",
          "skiploom",
          "tropius",
          "ferroseed",
          "ferrothorn",
          "kartana",
          "applin",
          "cottonee",
          "morelull",
          "tapu-bulu",
          "whimsicott",
          "shiinotic",
          "snover",
          "abomasnow",
          "abomasnow-mega",
          "exeggcute",
          "exeggutor",
          "breloom",
          "lilligant-hisuian",
          "virizion",
          "chesnaught",
          "decidueye-hisuian",
          "torterra",
          "gogoat",
          "grotle",
          "tangrowth",
          "nuzleaf",
          "cacturne",
          "shiftry",
          "meowscarada",
          "brute-bonnet",
          "exeggutor-alolan",
          "sceptile-mega",
          "flapple",
          "appletun",
          "tangela",
          "turtwig",
          "chespin",
          "chikorita",
          "snivy",
          "grookey",
          "sprigatito",
          "grovyle",
          "simisage",
          "eldegoss",
          "cherrim",
          "lilligant",
          "sunflora",
          "treecko",
          "scovillain",
          "leafeon",
          "quilladin",
          "lurantis",
          "servine",
          "floragato",
          "bayleef",
          "thwackey",
          "shaymin-land",
          "bellossom",
          "sceptile",
          "meganium",
          "rillaboom",
          "serperior",
          "tsareena",
          "meditite",
          "medicham",
          "medicham-mega",
          "zapdos-galarian",
          "hawlucha",
          "zamazenta-crowned",
          "lucario",
          "lucario-mega",
          "crabominable",
          "marshadow",
          "annihilape",
          "sneasel-hisuian",
          "sneasler",
          "iron-hands",
          "koraidon",
          "pangoro",
          "urshifu-single-strike",
          "tauros-paldean-blaze",
          "tauros-paldean-aqua",
          "urshifu-rapid-strike",
          "makuhita",
          "machop",
          "timburr",
          "pancham",
          "crabrawler",
          "mienfoo",
          "mankey",
          "clobbopus",
          "tyrogue",
          "riolu",
          "hariyama",
          "machoke",
          "gurdurr",
          "throh",
          "conkeldurr",
          "passimian",
          "zamazenta-hero",
          "sirfetchd",
          "machamp",
          "tauros-paldean-combat",
          "hitmonlee",
          "hitmonchan",
          "hitmontop",
          "sawk",
          "falinks",
          "farfetchd-galarian",
          "grapploct",
          "kubfu",
          "primeape",
          "mienshao",
          "fletchinder",
          "talonflame",
          "oricorio-baile",
          "ho-oh",
          "moltres",
          "charizard",
          "charizard-mega-y",
          "charizard-mega-x",
          "turtonator",
          "pignite",
          "combusken",
          "monferno",
          "emboar",
          "blaziken-mega",
          "blaziken",
          "infernape",
          "rapidash",
          "arcanine",
          "darmanitan-standard",
          "torkoal",
          "heatmor",
          "crocalor",
          "volcanion",
          "entei",
          "heatran",
          "incineroar",
          "iron-moth",
          "typhlosion",
          "magmortar",
          "flareon",
          "cinderace",
          "ninetales",
          "castform-sunny",
          "raboot",
          "magmar",
          "torracat",
          "simisear",
          "braixen",
          "charmeleon",
          "quilava",
          "darmanitan-zen",
          "delphox",
          "armarouge",
          "skeledirge",
          "blacephalon",
          "ceruledge",
          "marowak-alolan",
          "typhlosion-hisuian",
          "growlithe-hisuian",
          "arcanine-hisuian",
          "magcargo",
          "numel",
          "camerupt",
          "camerupt-mega",
          "sizzlipede",
          "centiskorch",
          "litleo",
          "pyroar",
          "growlithe",
          "ponyta",
          "slugma",
          "vulpix",
          "pansear",
          "darumaka",
          "charcadet",
          "tepig",
          "fuecoco",
          "magby",
          "litten",
          "scorbunny",
          "torchic",
          "charmander",
          "cyndaquil",
          "chimchar",
          "fennekin",
          "ninetales-alolan",
          "froslass",
          "regice",
          "cryogonal",
          "darmanitan-galarian-standard",
          "eiscue-ice",
          "eiscue-noice",
          "vanillish",
          "vanilluxe",
          "castform-snowy",
          "glaceon",
          "articuno",
          "delibird",
          "smoochum",
          "jynx",
          "mr-mime-galarian",
          "mr-rime",
          "sandshrew-alolan",
          "sandslash-alolan",
          "spheal",
          "sealeo",
          "walrein",
          "iron-bundle",
          "darmanitan-galarian-zen",
          "avalugg-hisuian",
          "avalugg",
          "glastrier",
          "cetitan",
          "glalie-mega",
          "glalie",
          "beartic",
          "swinub",
          "piloswine",
          "mamoswine",
          "snom",
          "frosmoth",
          "vanillite",
          "vulpix-alolan",
          "snorunt",
          "bergmite",
          "cubchoo",
          "darumaka-galarian",
          "cetoddle",
          "baxcalibur",
          "kyurem-black",
          "kyurem",
          "kyurem-white",
          "frigibax",
          "arctibax",
          "gible",
          "garchomp",
          "garchomp-mega",
          "gabite",
          "zygarde-10",
          "zygarde-50",
          "zygarde-complete",
          "tatsugiri-stretchy",
          "tatsugiri-curly",
          "tatsugiri-droopy",
          "rayquaza-mega",
          "altaria",
          "dragonite",
          "rayquaza",
          "salamence",
          "salamence-mega",
          "axew",
          "jangmo-o",
          "bagon",
          "fraxure",
          "dragonair",
          "sliggoo",
          "dratini",
          "goomy",
          "altaria-mega",
          "cyclizar",
          "zekrom",
          "roaring-moon",
          "reshiram",
          "regidrago",
          "shelgon",
          "druddigon",
          "haxorus",
          "goodra",
          "latios-mega",
          "latias",
          "latias-mega",
          "latios",
          "hakamo-o",
          "kommo-o",
          "dreepy",
          "drakloak",
          "dragapult",
          "honedge",
          "doublade",
          "aegislash-shield",
          "aegislash-blade",
          "gholdengo",
          "aron",
          "lairon",
          "aggron",
          "magearna",
          "klefki",
          "mawile",
          "mawile-mega",
          "varoom",
          "revavroom",
          "meowth-galarian",
          "klink",
          "cufant",
          "perrserker",
          "meltan",
          "klang",
          "klinklang",
          "metagross",
          "metagross-mega",
          "metang",
          "beldum",
          "bronzong",
          "jirachi",
          "bronzor",
          "sliggoo-hisuian",
          "duraludon",
          "goodra-hisuian",
          "dialga",
          "dialga-origin",
          "steelix",
          "steelix-mega",
          "cobalion",
          "registeel",
          "aggron-mega",
          "orthworm",
          "skarmory",
          "celesteela",
          "melmetal",
          "copperajah",
          "rookidee",
          "noibat",
          "noivern",
          "cramorant",
          "bombirdier",
          "corviknight",
          "flamigo",
          "corvisquire",
          "tornadus-incarnate",
          "tornadus-therian",
          "eternatus",
          "dragalge",
          "naganadel",
          "slowbro-galarian",
          "slowking-galarian",
          "croagunk",
          "toxicroak",
          "salandit",
          "salazzle",
          "weezing-galarian",
          "nidorina",
          "nidorino",
          "poipole",
          "swalot",
          "garbodor",
          "arbok",
          "seviper",
          "muk",
          "weezing",
          "wooper-paldean",
          "clodsire",
          "nidoqueen",
          "nidoking",
          "toxapex",
          "skrelp",
          "mareanie",
          "skorupi",
          "koffing",
          "grimer",
          "trubbish",
          "gulpin",
          "ekans",
          "nidoran-f",
          "nidoran-m",
          "drapion",
          "muk-alolan",
          "skuntank",
          "grimer-alolan",
          "stunky",
          "shroodle",
          "grafaiai",
          "zubat",
          "golbat",
          "crobat"
         ],
         "tickvals": [
          5,
          15,
          25,
          35,
          45,
          55,
          65,
          75,
          85,
          95,
          105,
          115,
          125,
          135,
          145,
          155,
          165,
          175,
          185,
          195,
          205,
          215,
          225,
          235,
          245,
          255,
          265,
          275,
          285,
          295,
          305,
          315,
          325,
          335,
          345,
          355,
          365,
          375,
          385,
          395,
          405,
          415,
          425,
          435,
          445,
          455,
          465,
          475,
          485,
          495,
          505,
          515,
          525,
          535,
          545,
          555,
          565,
          575,
          585,
          595,
          605,
          615,
          625,
          635,
          645,
          655,
          665,
          675,
          685,
          695,
          705,
          715,
          725,
          735,
          745,
          755,
          765,
          775,
          785,
          795,
          805,
          815,
          825,
          835,
          845,
          855,
          865,
          875,
          885,
          895,
          905,
          915,
          925,
          935,
          945,
          955,
          965,
          975,
          985,
          995,
          1005,
          1015,
          1025,
          1035,
          1045,
          1055,
          1065,
          1075,
          1085,
          1095,
          1105,
          1115,
          1125,
          1135,
          1145,
          1155,
          1165,
          1175,
          1185,
          1195,
          1205,
          1215,
          1225,
          1235,
          1245,
          1255,
          1265,
          1275,
          1285,
          1295,
          1305,
          1315,
          1325,
          1335,
          1345,
          1355,
          1365,
          1375,
          1385,
          1395,
          1405,
          1415,
          1425,
          1435,
          1445,
          1455,
          1465,
          1475,
          1485,
          1495,
          1505,
          1515,
          1525,
          1535,
          1545,
          1555,
          1565,
          1575,
          1585,
          1595,
          1605,
          1615,
          1625,
          1635,
          1645,
          1655,
          1665,
          1675,
          1685,
          1695,
          1705,
          1715,
          1725,
          1735,
          1745,
          1755,
          1765,
          1775,
          1785,
          1795,
          1805,
          1815,
          1825,
          1835,
          1845,
          1855,
          1865,
          1875,
          1885,
          1895,
          1905,
          1915,
          1925,
          1935,
          1945,
          1955,
          1965,
          1975,
          1985,
          1995,
          2005,
          2015,
          2025,
          2035,
          2045,
          2055,
          2065,
          2075,
          2085,
          2095,
          2105,
          2115,
          2125,
          2135,
          2145,
          2155,
          2165,
          2175,
          2185,
          2195,
          2205,
          2215,
          2225,
          2235,
          2245,
          2255,
          2265,
          2275,
          2285,
          2295,
          2305,
          2315,
          2325,
          2335,
          2345,
          2355,
          2365,
          2375,
          2385,
          2395,
          2405,
          2415,
          2425,
          2435,
          2445,
          2455,
          2465,
          2475,
          2485,
          2495,
          2505,
          2515,
          2525,
          2535,
          2545,
          2555,
          2565,
          2575,
          2585,
          2595,
          2605,
          2615,
          2625,
          2635,
          2645,
          2655,
          2665,
          2675,
          2685,
          2695,
          2705,
          2715,
          2725,
          2735,
          2745,
          2755,
          2765,
          2775,
          2785,
          2795,
          2805,
          2815,
          2825,
          2835,
          2845,
          2855,
          2865,
          2875,
          2885,
          2895,
          2905,
          2915,
          2925,
          2935,
          2945,
          2955,
          2965,
          2975,
          2985,
          2995,
          3005,
          3015,
          3025,
          3035,
          3045,
          3055,
          3065,
          3075,
          3085,
          3095,
          3105,
          3115,
          3125,
          3135,
          3145,
          3155,
          3165,
          3175,
          3185,
          3195,
          3205,
          3215,
          3225,
          3235,
          3245,
          3255,
          3265,
          3275,
          3285,
          3295,
          3305,
          3315,
          3325,
          3335,
          3345,
          3355,
          3365,
          3375,
          3385,
          3395,
          3405,
          3415,
          3425,
          3435,
          3445,
          3455,
          3465,
          3475,
          3485,
          3495,
          3505,
          3515,
          3525,
          3535,
          3545,
          3555,
          3565,
          3575,
          3585,
          3595,
          3605,
          3615,
          3625,
          3635,
          3645,
          3655,
          3665,
          3675,
          3685,
          3695,
          3705,
          3715,
          3725,
          3735,
          3745,
          3755,
          3765,
          3775,
          3785,
          3795,
          3805,
          3815,
          3825,
          3835,
          3845,
          3855,
          3865,
          3875,
          3885,
          3895,
          3905,
          3915,
          3925,
          3935,
          3945,
          3955,
          3965,
          3975,
          3985,
          3995,
          4005,
          4015,
          4025,
          4035,
          4045,
          4055,
          4065,
          4075,
          4085,
          4095,
          4105,
          4115,
          4125,
          4135,
          4145,
          4155,
          4165,
          4175,
          4185,
          4195,
          4205,
          4215,
          4225,
          4235,
          4245,
          4255,
          4265,
          4275,
          4285,
          4295,
          4305,
          4315,
          4325,
          4335,
          4345,
          4355,
          4365,
          4375,
          4385,
          4395,
          4405,
          4415,
          4425,
          4435,
          4445,
          4455,
          4465,
          4475,
          4485,
          4495,
          4505,
          4515,
          4525,
          4535,
          4545,
          4555,
          4565,
          4575,
          4585,
          4595,
          4605,
          4615,
          4625,
          4635,
          4645,
          4655,
          4665,
          4675,
          4685,
          4695,
          4705,
          4715,
          4725,
          4735,
          4745,
          4755,
          4765,
          4775,
          4785,
          4795,
          4805,
          4815,
          4825,
          4835,
          4845,
          4855,
          4865,
          4875,
          4885,
          4895,
          4905,
          4915,
          4925,
          4935,
          4945,
          4955,
          4965,
          4975,
          4985,
          4995,
          5005,
          5015,
          5025,
          5035,
          5045,
          5055,
          5065,
          5075,
          5085,
          5095,
          5105,
          5115,
          5125,
          5135,
          5145,
          5155,
          5165,
          5175,
          5185,
          5195,
          5205,
          5215,
          5225,
          5235,
          5245,
          5255,
          5265,
          5275,
          5285,
          5295,
          5305,
          5315,
          5325,
          5335,
          5345,
          5355,
          5365,
          5375,
          5385,
          5395,
          5405,
          5415,
          5425,
          5435,
          5445,
          5455,
          5465,
          5475,
          5485,
          5495,
          5505,
          5515,
          5525,
          5535,
          5545,
          5555,
          5565,
          5575,
          5585,
          5595,
          5605,
          5615,
          5625,
          5635,
          5645,
          5655,
          5665,
          5675,
          5685,
          5695,
          5705,
          5715,
          5725,
          5735,
          5745,
          5755,
          5765,
          5775,
          5785,
          5795,
          5805,
          5815,
          5825,
          5835,
          5845,
          5855,
          5865,
          5875,
          5885,
          5895,
          5905,
          5915,
          5925,
          5935,
          5945,
          5955,
          5965,
          5975,
          5985,
          5995,
          6005,
          6015,
          6025,
          6035,
          6045,
          6055,
          6065,
          6075,
          6085,
          6095,
          6105,
          6115,
          6125,
          6135,
          6145,
          6155,
          6165,
          6175,
          6185,
          6195,
          6205,
          6215,
          6225,
          6235,
          6245,
          6255,
          6265,
          6275,
          6285,
          6295,
          6305,
          6315,
          6325,
          6335,
          6345,
          6355,
          6365,
          6375,
          6385,
          6395,
          6405,
          6415,
          6425,
          6435,
          6445,
          6455,
          6465,
          6475,
          6485,
          6495,
          6505,
          6515,
          6525,
          6535,
          6545,
          6555,
          6565,
          6575,
          6585,
          6595,
          6605,
          6615,
          6625,
          6635,
          6645,
          6655,
          6665,
          6675,
          6685,
          6695,
          6705,
          6715,
          6725,
          6735,
          6745,
          6755,
          6765,
          6775,
          6785,
          6795,
          6805,
          6815,
          6825,
          6835,
          6845,
          6855,
          6865,
          6875,
          6885,
          6895,
          6905,
          6915,
          6925,
          6935,
          6945,
          6955,
          6965,
          6975,
          6985,
          6995,
          7005,
          7015,
          7025,
          7035,
          7045,
          7055,
          7065,
          7075,
          7085,
          7095,
          7105,
          7115,
          7125,
          7135,
          7145,
          7155,
          7165,
          7175,
          7185,
          7195,
          7205,
          7215,
          7225,
          7235,
          7245,
          7255,
          7265,
          7275,
          7285,
          7295,
          7305,
          7315,
          7325,
          7335,
          7345,
          7355,
          7365,
          7375,
          7385,
          7395,
          7405,
          7415,
          7425,
          7435,
          7445,
          7455,
          7465,
          7475,
          7485,
          7495,
          7505,
          7515,
          7525,
          7535,
          7545,
          7555,
          7565,
          7575,
          7585,
          7595,
          7605,
          7615,
          7625,
          7635,
          7645,
          7655,
          7665,
          7675,
          7685,
          7695,
          7705,
          7715,
          7725,
          7735,
          7745,
          7755,
          7765,
          7775,
          7785,
          7795,
          7805,
          7815,
          7825,
          7835,
          7845,
          7855,
          7865,
          7875,
          7885,
          7895,
          7905,
          7915,
          7925,
          7935,
          7945,
          7955,
          7965,
          7975,
          7985,
          7995,
          8005,
          8015,
          8025,
          8035,
          8045,
          8055,
          8065,
          8075,
          8085,
          8095,
          8105,
          8115,
          8125,
          8135,
          8145,
          8155,
          8165,
          8175,
          8185,
          8195,
          8205,
          8215,
          8225,
          8235,
          8245,
          8255,
          8265,
          8275,
          8285,
          8295,
          8305,
          8315,
          8325,
          8335,
          8345,
          8355,
          8365,
          8375,
          8385,
          8395,
          8405,
          8415,
          8425,
          8435,
          8445,
          8455,
          8465,
          8475,
          8485,
          8495,
          8505,
          8515,
          8525,
          8535,
          8545,
          8555,
          8565,
          8575,
          8585,
          8595,
          8605,
          8615,
          8625,
          8635,
          8645,
          8655,
          8665,
          8675,
          8685,
          8695,
          8705,
          8715,
          8725,
          8735,
          8745,
          8755,
          8765,
          8775,
          8785,
          8795,
          8805,
          8815,
          8825,
          8835,
          8845,
          8855,
          8865,
          8875,
          8885,
          8895,
          8905,
          8915,
          8925,
          8935,
          8945,
          8955,
          8965,
          8975,
          8985,
          8995,
          9005,
          9015,
          9025,
          9035,
          9045,
          9055,
          9065,
          9075,
          9085,
          9095,
          9105,
          9115,
          9125,
          9135,
          9145,
          9155,
          9165,
          9175,
          9185,
          9195,
          9205,
          9215,
          9225,
          9235,
          9245,
          9255,
          9265,
          9275,
          9285,
          9295,
          9305,
          9315,
          9325,
          9335,
          9345,
          9355,
          9365,
          9375,
          9385,
          9395,
          9405,
          9415,
          9425,
          9435,
          9445,
          9455,
          9465,
          9475,
          9485,
          9495,
          9505,
          9515,
          9525,
          9535,
          9545,
          9555,
          9565,
          9575,
          9585,
          9595,
          9605,
          9615,
          9625,
          9635,
          9645,
          9655,
          9665,
          9675,
          9685,
          9695,
          9705,
          9715,
          9725,
          9735,
          9745,
          9755,
          9765,
          9775,
          9785,
          9795,
          9805,
          9815,
          9825,
          9835,
          9845,
          9855,
          9865,
          9875,
          9885,
          9895,
          9905,
          9915,
          9925,
          9935,
          9945,
          9955,
          9965,
          9975,
          9985,
          9995,
          10005,
          10015,
          10025,
          10035,
          10045,
          10055,
          10065,
          10075,
          10085,
          10095,
          10105,
          10115,
          10125,
          10135,
          10145,
          10155,
          10165,
          10175,
          10185,
          10195,
          10205,
          10215,
          10225,
          10235,
          10245,
          10255,
          10265,
          10275,
          10285,
          10295,
          10305,
          10315,
          10325,
          10335,
          10345,
          10355,
          10365,
          10375,
          10385,
          10395,
          10405,
          10415,
          10425,
          10435,
          10445,
          10455,
          10465,
          10475,
          10485,
          10495,
          10505,
          10515,
          10525,
          10535,
          10545,
          10555,
          10565,
          10575,
          10585,
          10595,
          10605,
          10615,
          10625,
          10635,
          10645,
          10655,
          10665,
          10675,
          10685,
          10695,
          10705,
          10715,
          10725,
          10735,
          10745,
          10755,
          10765,
          10775,
          10785,
          10795,
          10805,
          10815,
          10825,
          10835,
          10845,
          10855,
          10865,
          10875,
          10885,
          10895,
          10905,
          10915,
          10925,
          10935,
          10945,
          10955,
          10965,
          10975,
          10985,
          10995,
          11005,
          11015,
          11025,
          11035,
          11045,
          11055,
          11065,
          11075,
          11085,
          11095,
          11105,
          11115,
          11125,
          11135,
          11145,
          11155,
          11165,
          11175,
          11185,
          11195,
          11205,
          11215,
          11225,
          11235,
          11245,
          11255,
          11265,
          11275,
          11285,
          11295,
          11305,
          11315,
          11325,
          11335,
          11345,
          11355,
          11365,
          11375,
          11385,
          11395,
          11405,
          11415,
          11425,
          11435,
          11445,
          11455,
          11465,
          11475,
          11485,
          11495,
          11505,
          11515,
          11525,
          11535,
          11545,
          11555,
          11565,
          11575,
          11585,
          11595,
          11605,
          11615,
          11625,
          11635,
          11645,
          11655,
          11665,
          11675,
          11685,
          11695,
          11705,
          11715,
          11725,
          11735,
          11745,
          11755,
          11765,
          11775,
          11785,
          11795,
          11805,
          11815,
          11825,
          11835,
          11845,
          11855,
          11865,
          11875,
          11885,
          11895,
          11905
         ],
         "type": "linear",
         "zeroline": false
        },
        "yaxis": {
         "mirror": "allticks",
         "rangemode": "tozero",
         "showgrid": false,
         "showline": true,
         "showticklabels": true,
         "ticks": "outside",
         "type": "linear",
         "zeroline": false
        }
       }
      }
     },
     "metadata": {},
     "output_type": "display_data"
    }
   ],
   "source": [
    "from sklearn.manifold import TSNE\n",
    "import plotly.figure_factory as ff\n",
    "\n",
    "tsne = TSNE()\n",
    "score = pd.DataFrame(tsne.fit_transform(df_final),\n",
    "                        index=df_final.index,\n",
    "                        columns=tsne.get_feature_names_out())\n",
    "\n",
    "score = score.merge(df_raw, left_index=True,\n",
    "                    right_index=True, how=\"left\")\n",
    "\n",
    "ff.create_dendrogram(score[[\"tsne0\", \"tsne1\"]], labels=score.index).show()"
   ]
  }
 ],
 "metadata": {
  "kernelspec": {
   "display_name": "base",
   "language": "python",
   "name": "python3"
  },
  "language_info": {
   "codemirror_mode": {
    "name": "ipython",
    "version": 3
   },
   "file_extension": ".py",
   "mimetype": "text/x-python",
   "name": "python",
   "nbconvert_exporter": "python",
   "pygments_lexer": "ipython3",
   "version": "3.12.7"
  }
 },
 "nbformat": 4,
 "nbformat_minor": 2
}
